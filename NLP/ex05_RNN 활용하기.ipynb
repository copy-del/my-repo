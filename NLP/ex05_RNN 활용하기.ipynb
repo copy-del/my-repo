{
 "cells": [
  {
   "cell_type": "code",
   "execution_count": 1,
   "metadata": {
    "colab": {
     "base_uri": "https://localhost:8080/"
    },
    "executionInfo": {
     "elapsed": 10210,
     "status": "ok",
     "timestamp": 1750656718180,
     "user": {
      "displayName": "사본",
      "userId": "00690333374817726342"
     },
     "user_tz": -540
    },
    "id": "RCm68nwDLoKh",
    "outputId": "9b73b2a5-da2b-4e98-d525-63a41b346b67"
   },
   "outputs": [
    {
     "name": "stdout",
     "output_type": "stream",
     "text": [
      "Drive already mounted at /content/drive; to attempt to forcibly remount, call drive.mount(\"/content/drive\", force_remount=True).\n"
     ]
    }
   ],
   "source": [
    "from google.colab import drive\n",
    "drive.mount('/content/drive')"
   ]
  },
  {
   "cell_type": "code",
   "execution_count": 2,
   "metadata": {
    "colab": {
     "base_uri": "https://localhost:8080/"
    },
    "executionInfo": {
     "elapsed": 650,
     "status": "ok",
     "timestamp": 1750656718829,
     "user": {
      "displayName": "사본",
      "userId": "00690333374817726342"
     },
     "user_tz": -540
    },
    "id": "_SFEHPfLL77R",
    "outputId": "40eae3ee-736a-4d2e-9e91-b7988f367610"
   },
   "outputs": [
    {
     "name": "stdout",
     "output_type": "stream",
     "text": [
      "/content/drive/MyDrive/Colab Notebooks/SW엔지니어\n"
     ]
    }
   ],
   "source": [
    "%cd /content/drive/MyDrive/Colab Notebooks/SW엔지니어"
   ]
  },
  {
   "cell_type": "code",
   "execution_count": null,
   "metadata": {
    "id": "v6wOjA6mL9-Z"
   },
   "outputs": [],
   "source": []
  },
  {
   "cell_type": "code",
   "execution_count": null,
   "metadata": {
    "id": "CmgHat3QNlfJ"
   },
   "outputs": [],
   "source": []
  },
  {
   "cell_type": "markdown",
   "metadata": {
    "id": "3etLnTWROGo1"
   },
   "source": [
    "#### RNN 활용하기 : 네이버 영화 리뷰 데이터 감성분석\n"
   ]
  },
  {
   "cell_type": "markdown",
   "metadata": {
    "id": "AIzHafXaL-Dh"
   },
   "source": [
    "word 단위로 학습하기\n",
    "- 데이터 로딩\n",
    "- 결측치 제거\n",
    "- 문제, 답 분리"
   ]
  },
  {
   "cell_type": "code",
   "execution_count": null,
   "metadata": {
    "id": "UoajlOJXL-Fe"
   },
   "outputs": [],
   "source": [
    "# 데이터 로딩\n",
    "import pandas as pd\n",
    "train_df = pd.read_csv('./data/ratings_train.txt', delimiter ='\\t')\n",
    "test_df = pd.read_csv('./data/ratings_test.txt', delimiter ='\\t')"
   ]
  },
  {
   "cell_type": "code",
   "execution_count": null,
   "metadata": {
    "colab": {
     "base_uri": "https://localhost:8080/"
    },
    "executionInfo": {
     "elapsed": 53,
     "status": "ok",
     "timestamp": 1750396878133,
     "user": {
      "displayName": "사본",
      "userId": "00690333374817726342"
     },
     "user_tz": -540
    },
    "id": "RY8HcKJ4L-Ho",
    "outputId": "89b52247-3f35-49ea-8ab8-aaf63b19d59e"
   },
   "outputs": [
    {
     "name": "stdout",
     "output_type": "stream",
     "text": [
      "<class 'pandas.core.frame.DataFrame'>\n",
      "RangeIndex: 171075 entries, 0 to 171074\n",
      "Data columns (total 3 columns):\n",
      " #   Column    Non-Null Count   Dtype  \n",
      "---  ------    --------------   -----  \n",
      " 0   id        171075 non-null  object \n",
      " 1   document  171069 non-null  object \n",
      " 2   label     171074 non-null  float64\n",
      "dtypes: float64(1), object(2)\n",
      "memory usage: 3.9+ MB\n"
     ]
    }
   ],
   "source": [
    "train_df.info()"
   ]
  },
  {
   "cell_type": "code",
   "execution_count": null,
   "metadata": {
    "colab": {
     "base_uri": "https://localhost:8080/"
    },
    "executionInfo": {
     "elapsed": 26,
     "status": "ok",
     "timestamp": 1750396878159,
     "user": {
      "displayName": "사본",
      "userId": "00690333374817726342"
     },
     "user_tz": -540
    },
    "id": "in-cD3S1L-KG",
    "outputId": "0b47d090-8402-4309-b870-457c886d2ecb"
   },
   "outputs": [
    {
     "name": "stdout",
     "output_type": "stream",
     "text": [
      "<class 'pandas.core.frame.DataFrame'>\n",
      "RangeIndex: 50000 entries, 0 to 49999\n",
      "Data columns (total 3 columns):\n",
      " #   Column    Non-Null Count  Dtype \n",
      "---  ------    --------------  ----- \n",
      " 0   id        50000 non-null  int64 \n",
      " 1   document  49997 non-null  object\n",
      " 2   label     50000 non-null  int64 \n",
      "dtypes: int64(2), object(1)\n",
      "memory usage: 1.1+ MB\n"
     ]
    }
   ],
   "source": [
    "test_df.info()"
   ]
  },
  {
   "cell_type": "code",
   "execution_count": null,
   "metadata": {
    "id": "q97EhlMcL-L3"
   },
   "outputs": [],
   "source": [
    "# 결측치 제거\n",
    "train_df.dropna(inplace=True)\n",
    "test_df.dropna(inplace=True)"
   ]
  },
  {
   "cell_type": "code",
   "execution_count": null,
   "metadata": {
    "colab": {
     "base_uri": "https://localhost:8080/"
    },
    "executionInfo": {
     "elapsed": 70,
     "status": "ok",
     "timestamp": 1750396878300,
     "user": {
      "displayName": "사본",
      "userId": "00690333374817726342"
     },
     "user_tz": -540
    },
    "id": "X1MXVsKHL-OC",
    "outputId": "4450767c-3679-48ee-8b9f-e6a6fb6dd613"
   },
   "outputs": [
    {
     "name": "stdout",
     "output_type": "stream",
     "text": [
      "<class 'pandas.core.frame.DataFrame'>\n",
      "Index: 171068 entries, 0 to 171074\n",
      "Data columns (total 3 columns):\n",
      " #   Column    Non-Null Count   Dtype  \n",
      "---  ------    --------------   -----  \n",
      " 0   id        171068 non-null  object \n",
      " 1   document  171068 non-null  object \n",
      " 2   label     171068 non-null  float64\n",
      "dtypes: float64(1), object(2)\n",
      "memory usage: 5.2+ MB\n"
     ]
    }
   ],
   "source": [
    "train_df.info()"
   ]
  },
  {
   "cell_type": "code",
   "execution_count": null,
   "metadata": {
    "colab": {
     "base_uri": "https://localhost:8080/"
    },
    "executionInfo": {
     "elapsed": 75,
     "status": "ok",
     "timestamp": 1750396878377,
     "user": {
      "displayName": "사본",
      "userId": "00690333374817726342"
     },
     "user_tz": -540
    },
    "id": "mibLGKvbL-P_",
    "outputId": "05953e0f-c69b-4dc3-e9b4-fd279448ba6e"
   },
   "outputs": [
    {
     "name": "stdout",
     "output_type": "stream",
     "text": [
      "<class 'pandas.core.frame.DataFrame'>\n",
      "Index: 49997 entries, 0 to 49999\n",
      "Data columns (total 3 columns):\n",
      " #   Column    Non-Null Count  Dtype \n",
      "---  ------    --------------  ----- \n",
      " 0   id        49997 non-null  int64 \n",
      " 1   document  49997 non-null  object\n",
      " 2   label     49997 non-null  int64 \n",
      "dtypes: int64(2), object(1)\n",
      "memory usage: 1.5+ MB\n"
     ]
    }
   ],
   "source": [
    "test_df.info()"
   ]
  },
  {
   "cell_type": "markdown",
   "metadata": {
    "id": "LuDq7LTxL-SK"
   },
   "source": [
    "#### 학습을 위한 추가 전처리\n",
    "- 특수문자 제거\n",
    "- 불용어 제거\n",
    "- 형태소 분리 (어간 추출 + 정규화)\n",
    "- 인코딩 (라벨인코딩 방식 활용) + 길이(순환 횟수) 맞추기"
   ]
  },
  {
   "cell_type": "code",
   "execution_count": 51,
   "metadata": {
    "executionInfo": {
     "elapsed": 50,
     "status": "ok",
     "timestamp": 1750655550487,
     "user": {
      "displayName": "사본",
      "userId": "00690333374817726342"
     },
     "user_tz": -540
    },
    "id": "niPvYTL0L-UT"
   },
   "outputs": [],
   "source": [
    "import re"
   ]
  },
  {
   "cell_type": "code",
   "execution_count": null,
   "metadata": {
    "id": "-6fUG7WUL-WZ"
   },
   "outputs": [],
   "source": [
    "# 특수문자 제거를 위한 정규표현식 패턴 설정\n",
    "pattern = re.compile(r'[^a-zA-Z0-9가-힇\\s\\.\\?\\!]')\n",
    "# ^a-zA-Z0-9가-힇\\s\\.\\?\\! : ^모든. a-Z 알파뱃(대,소문자). 가-힇 한글. \\s 공백 문자(스페이스, 탭, 줄바꿈 등. \\.\\?\\! 자주쓰는 특수문자)"
   ]
  },
  {
   "cell_type": "code",
   "execution_count": null,
   "metadata": {
    "id": "mlS5lBrdL-YS"
   },
   "outputs": [],
   "source": [
    "example_review = \"오늘 영화 Review 평점은 10점 만점에 9.7!! 너무 재밌습니다 😎😂👍 #꿀잼영화 #감동\""
   ]
  },
  {
   "cell_type": "code",
   "execution_count": null,
   "metadata": {
    "colab": {
     "base_uri": "https://localhost:8080/",
     "height": 35
    },
    "executionInfo": {
     "elapsed": 20,
     "status": "ok",
     "timestamp": 1750396878423,
     "user": {
      "displayName": "사본",
      "userId": "00690333374817726342"
     },
     "user_tz": -540
    },
    "id": "fmQESQ4gL-aG",
    "outputId": "7ce30f33-90b3-4c17-c39f-9010d3aec233"
   },
   "outputs": [
    {
     "data": {
      "application/vnd.google.colaboratory.intrinsic+json": {
       "type": "string"
      },
      "text/plain": [
       "'오늘 영화 Review 평점은 10점 만점에 9.7!! 너무 재밌습니다  꿀잼영화 감동'"
      ]
     },
     "execution_count": 13,
     "metadata": {},
     "output_type": "execute_result"
    }
   ],
   "source": [
    "# re.sub : (정규 표현식, 문자열, 바꿀 대상 문자열) > 문자열 치환 함수\n",
    "re.sub(pattern, \"\", example_review)"
   ]
  },
  {
   "cell_type": "code",
   "execution_count": null,
   "metadata": {
    "colab": {
     "base_uri": "https://localhost:8080/"
    },
    "collapsed": true,
    "executionInfo": {
     "elapsed": 18889,
     "status": "ok",
     "timestamp": 1750396897313,
     "user": {
      "displayName": "사본",
      "userId": "00690333374817726342"
     },
     "user_tz": -540
    },
    "id": "_YoC3cb-L-cf",
    "outputId": "c0873846-68c9-4b94-acfe-c72d3287837c"
   },
   "outputs": [
    {
     "name": "stdout",
     "output_type": "stream",
     "text": [
      "\u001b[2K     \u001b[90m━━━━━━━━━━━━━━━━━━━━━━━━━━━━━━━━━━━━━━━━\u001b[0m \u001b[32m35.5/35.5 MB\u001b[0m \u001b[31m19.7 MB/s\u001b[0m eta \u001b[36m0:00:00\u001b[0m\n",
      "\u001b[?25h  Preparing metadata (setup.py) ... \u001b[?25l\u001b[?25hdone\n",
      "\u001b[2K   \u001b[90m━━━━━━━━━━━━━━━━━━━━━━━━━━━━━━━━━━━━━━━━\u001b[0m \u001b[32m19.4/19.4 MB\u001b[0m \u001b[31m8.7 MB/s\u001b[0m eta \u001b[36m0:00:00\u001b[0m\n",
      "\u001b[2K   \u001b[90m━━━━━━━━━━━━━━━━━━━━━━━━━━━━━━━━━━━━━━━━\u001b[0m \u001b[32m7.6/7.6 MB\u001b[0m \u001b[31m48.0 MB/s\u001b[0m eta \u001b[36m0:00:00\u001b[0m\n",
      "\u001b[2K   \u001b[90m━━━━━━━━━━━━━━━━━━━━━━━━━━━━━━━━━━━━━━━━\u001b[0m \u001b[32m494.1/494.1 kB\u001b[0m \u001b[31m28.7 MB/s\u001b[0m eta \u001b[36m0:00:00\u001b[0m\n",
      "\u001b[?25h  Building wheel for kiwipiepy_model (setup.py) ... \u001b[?25l\u001b[?25hdone\n"
     ]
    }
   ],
   "source": [
    "!pip -q install konlpy kiwipiepy"
   ]
  },
  {
   "cell_type": "code",
   "execution_count": 52,
   "metadata": {
    "colab": {
     "base_uri": "https://localhost:8080/",
     "height": 347
    },
    "executionInfo": {
     "elapsed": 140,
     "status": "error",
     "timestamp": 1750655555875,
     "user": {
      "displayName": "사본",
      "userId": "00690333374817726342"
     },
     "user_tz": -540
    },
    "id": "LA0QfUc-VGl4",
    "outputId": "e31eb07d-3aaf-4941-b122-8138f6770896"
   },
   "outputs": [
    {
     "ename": "ModuleNotFoundError",
     "evalue": "No module named 'kiwipiepy'",
     "output_type": "error",
     "traceback": [
      "\u001b[0;31m---------------------------------------------------------------------------\u001b[0m",
      "\u001b[0;31mModuleNotFoundError\u001b[0m                       Traceback (most recent call last)",
      "\u001b[0;32m/tmp/ipython-input-52-1784775649.py\u001b[0m in \u001b[0;36m<cell line: 0>\u001b[0;34m()\u001b[0m\n\u001b[0;32m----> 1\u001b[0;31m \u001b[0;32mfrom\u001b[0m \u001b[0mkiwipiepy\u001b[0m\u001b[0;34m.\u001b[0m\u001b[0mutils\u001b[0m \u001b[0;32mimport\u001b[0m \u001b[0mStopwords\u001b[0m\u001b[0;34m\u001b[0m\u001b[0;34m\u001b[0m\u001b[0m\n\u001b[0m\u001b[1;32m      2\u001b[0m \u001b[0;31m# 불용어 : 자주 등장하지만 분석에 큰 의미가 없는 단어들\u001b[0m\u001b[0;34m\u001b[0m\u001b[0;34m\u001b[0m\u001b[0m\n",
      "\u001b[0;31mModuleNotFoundError\u001b[0m: No module named 'kiwipiepy'",
      "",
      "\u001b[0;31m---------------------------------------------------------------------------\u001b[0;32m\nNOTE: If your import is failing due to a missing package, you can\nmanually install dependencies using either !pip or !apt.\n\nTo view examples of installing some common dependencies, click the\n\"Open Examples\" button below.\n\u001b[0;31m---------------------------------------------------------------------------\u001b[0m\n"
     ]
    }
   ],
   "source": [
    "from kiwipiepy.utils import Stopwords\n",
    "# 불용어 : 자주 등장하지만 분석에 큰 의미가 없는 단어들"
   ]
  },
  {
   "cell_type": "code",
   "execution_count": null,
   "metadata": {
    "id": "9iSE6AX1VGpI"
   },
   "outputs": [],
   "source": [
    "stopwords = Stopwords()"
   ]
  },
  {
   "cell_type": "code",
   "execution_count": null,
   "metadata": {
    "colab": {
     "base_uri": "https://localhost:8080/"
    },
    "executionInfo": {
     "elapsed": 11,
     "status": "ok",
     "timestamp": 1750396897532,
     "user": {
      "displayName": "사본",
      "userId": "00690333374817726342"
     },
     "user_tz": -540
    },
    "id": "IduYHp4vVGr2",
    "outputId": "4d47912e-de54-4d27-832b-f392be79733a"
   },
   "outputs": [
    {
     "name": "stdout",
     "output_type": "stream",
     "text": [
      "{('성', 'XSN'), ('와', 'JKB'), ('는', 'JX'), ('며', 'EC'), ('을', 'JKO'), ('도', 'JX'), ('ᆯ', 'ETM'), ('과', 'JKB'), ('말', 'NNG'), ('으로', 'JKB'), ('나', 'NP'), ('한', 'MM'), ('ᆫ다', 'EF'), ('ᆫ', 'ETM'), ('그', 'NP'), ('은', 'JX'), ('있', 'VX'), ('사람', 'NNG'), ('겠', 'EP'), ('이', 'JKC'), ('것', 'NNB'), ('이', 'JKS'), ('때문', 'NNB'), ('있', 'VV'), ('그', 'MM'), ('되', 'XSV'), ('때', 'NNG'), ('없', 'VA'), ('화', 'XSN'), ('이', 'NP'), ('하', 'XSV'), ('어', 'EC'), ('면', 'EC'), ('어서', 'EC'), ('던', 'ETM'), ('다', 'EF'), ('같', 'VA'), ('ᆫ', 'JX'), ('다는', 'ETM'), ('보', 'VV'), ('명', 'NNB'), ('지', 'VX'), ('되', 'VV'), ('가', 'JKS'), ('하', 'VX'), ('위하', 'VV'), ('받', 'VV'), ('일', 'NNB'), ('지', 'EC'), ('월', 'NNB'), ('하', 'VV'), ('어', 'EF'), ('아니', 'VCN'), ('와', 'JC'), ('수', 'NNB'), ('의', 'JKG'), ('지역', 'NNG'), ('따르', 'VV'), ('고', 'JKQ'), ('부터', 'JX'), ('과', 'JC'), ('년', 'NNB'), ('하', 'XSA'), ('통하', 'VV'), ('만', 'JX'), ('에서', 'JKB'), ('이', 'MM'), ('까지', 'JX'), ('지만', 'EC'), ('등', 'NNB'), ('제', 'XPN'), ('이', 'VCP'), ('더', 'MAG'), ('를', 'JKO'), ('주', 'VX'), ('다고', 'EC'), ('들', 'XSN'), ('적', 'XSN'), ('일', 'NNG'), ('에', 'JKB'), ('중', 'NNB'), ('라는', 'ETM'), ('대하', 'VV'), ('고', 'EC'), ('우리', 'NP'), ('는', 'ETM'), ('게', 'EC'), ('않', 'VX'), ('기', 'ETN'), ('었', 'EP'), ('다', 'EC'), ('면서', 'EC'), ('원', 'NNB'), ('로', 'JKB'), ('라', 'EC'), ('을', 'ETM'), ('만', 'NR'), ('어야', 'EC'), ('에게', 'JKB'), ('은', 'ETM')}\n"
     ]
    }
   ],
   "source": [
    "# 불용어 사전 확인\n",
    "print(stopwords.stopwords)"
   ]
  },
  {
   "cell_type": "code",
   "execution_count": null,
   "metadata": {
    "id": "OKB8EYE-VGug"
   },
   "outputs": [],
   "source": [
    "stopwords_list = [word for word, tag in stopwords.stopwords]\n",
    "\n",
    "# stopwords_list = []\n",
    "# for word, tag in stopwords.stopwords:\n",
    "#  stopwords_list.append(word)"
   ]
  },
  {
   "cell_type": "code",
   "execution_count": null,
   "metadata": {
    "colab": {
     "base_uri": "https://localhost:8080/"
    },
    "executionInfo": {
     "elapsed": 14,
     "status": "ok",
     "timestamp": 1750396897555,
     "user": {
      "displayName": "사본",
      "userId": "00690333374817726342"
     },
     "user_tz": -540
    },
    "id": "qWF4HLuyVGw7",
    "outputId": "5d033331-ea3f-4976-c43d-56c13478ca1c"
   },
   "outputs": [
    {
     "name": "stdout",
     "output_type": "stream",
     "text": [
      "['성', '와', '는', '며', '을', '도', 'ᆯ', '과', '말', '으로', '나', '한', 'ᆫ다', 'ᆫ', '그', '은', '있', '사람', '겠', '이', '것', '이', '때문', '있', '그', '되', '때', '없', '화', '이', '하', '어', '면', '어서', '던', '다', '같', 'ᆫ', '다는', '보', '명', '지', '되', '가', '하', '위하', '받', '일', '지', '월', '하', '어', '아니', '와', '수', '의', '지역', '따르', '고', '부터', '과', '년', '하', '통하', '만', '에서', '이', '까지', '지만', '등', '제', '이', '더', '를', '주', '다고', '들', '적', '일', '에', '중', '라는', '대하', '고', '우리', '는', '게', '않', '기', '었', '다', '면서', '원', '로', '라', '을', '만', '어야', '에게', '은']\n"
     ]
    }
   ],
   "source": [
    "print(stopwords_list)"
   ]
  },
  {
   "cell_type": "code",
   "execution_count": 53,
   "metadata": {
    "colab": {
     "base_uri": "https://localhost:8080/",
     "height": 329
    },
    "executionInfo": {
     "elapsed": 49,
     "status": "error",
     "timestamp": 1750655566577,
     "user": {
      "displayName": "사본",
      "userId": "00690333374817726342"
     },
     "user_tz": -540
    },
    "id": "EwEjI-0xVGzM",
    "outputId": "8d21afca-5509-46d1-c5ab-c160332b41c9"
   },
   "outputs": [
    {
     "ename": "ModuleNotFoundError",
     "evalue": "No module named 'konlpy'",
     "output_type": "error",
     "traceback": [
      "\u001b[0;31m---------------------------------------------------------------------------\u001b[0m",
      "\u001b[0;31mModuleNotFoundError\u001b[0m                       Traceback (most recent call last)",
      "\u001b[0;32m/tmp/ipython-input-53-3423978084.py\u001b[0m in \u001b[0;36m<cell line: 0>\u001b[0;34m()\u001b[0m\n\u001b[0;32m----> 1\u001b[0;31m \u001b[0;32mfrom\u001b[0m \u001b[0mkonlpy\u001b[0m\u001b[0;34m.\u001b[0m\u001b[0mtag\u001b[0m \u001b[0;32mimport\u001b[0m \u001b[0mOkt\u001b[0m\u001b[0;34m\u001b[0m\u001b[0;34m\u001b[0m\u001b[0m\n\u001b[0m",
      "\u001b[0;31mModuleNotFoundError\u001b[0m: No module named 'konlpy'",
      "",
      "\u001b[0;31m---------------------------------------------------------------------------\u001b[0;32m\nNOTE: If your import is failing due to a missing package, you can\nmanually install dependencies using either !pip or !apt.\n\nTo view examples of installing some common dependencies, click the\n\"Open Examples\" button below.\n\u001b[0;31m---------------------------------------------------------------------------\u001b[0m\n"
     ]
    }
   ],
   "source": [
    "from konlpy.tag import Okt"
   ]
  },
  {
   "cell_type": "code",
   "execution_count": null,
   "metadata": {
    "id": "Z0xK1CXkVG1f"
   },
   "outputs": [],
   "source": [
    "okt = Okt()"
   ]
  },
  {
   "cell_type": "code",
   "execution_count": null,
   "metadata": {
    "colab": {
     "base_uri": "https://localhost:8080/"
    },
    "executionInfo": {
     "elapsed": 10877,
     "status": "ok",
     "timestamp": 1750397093646,
     "user": {
      "displayName": "사본",
      "userId": "00690333374817726342"
     },
     "user_tz": -540
    },
    "id": "4PallEasyCLv",
    "outputId": "5a221167-01bf-431b-90a5-0129b5eb4f6f"
   },
   "outputs": [
    {
     "data": {
      "text/plain": [
       "[('예시', 'Noun'),\n",
       " ('문장', 'Noun'),\n",
       " (':', 'Punctuation'),\n",
       " ('점심식사', 'Noun'),\n",
       " ('맛있다', 'Adjective'),\n",
       " ('하다', 'Verb'),\n",
       " ('?', 'Punctuation')]"
      ]
     },
     "execution_count": 23,
     "metadata": {},
     "output_type": "execute_result"
    }
   ],
   "source": [
    "# 품사 태깅(pos tagging) 예시\n",
    "temp = okt.pos(\n",
    "    '예시 문장 : 점심식사 맛있게 하셨습니까?',\n",
    "    stem = True,    # 어간 추출 (먹었다, 먹었음, 먹었어요 - > '먹다')\n",
    "    norm = True     # 정규화 (입력 문장을 표준화 된 형태소로 변환하거나 비표준표현 삭제)\n",
    ")\n",
    "temp"
   ]
  },
  {
   "cell_type": "code",
   "execution_count": null,
   "metadata": {
    "colab": {
     "base_uri": "https://localhost:8080/"
    },
    "executionInfo": {
     "elapsed": 27,
     "status": "ok",
     "timestamp": 1750397196786,
     "user": {
      "displayName": "사본",
      "userId": "00690333374817726342"
     },
     "user_tz": -540
    },
    "id": "Gh0zsOWayCO8",
    "outputId": "7fcc8307-cc0c-47a7-b176-87ea6110e818"
   },
   "outputs": [
    {
     "data": {
      "text/plain": [
       "{'Adjective': '형용사',\n",
       " 'Adverb': '부사',\n",
       " 'Alpha': '알파벳',\n",
       " 'Conjunction': '접속사',\n",
       " 'Determiner': '관형사',\n",
       " 'Eomi': '어미',\n",
       " 'Exclamation': '감탄사',\n",
       " 'Foreign': '외국어, 한자 및 기타기호',\n",
       " 'Hashtag': '트위터 해쉬태그',\n",
       " 'Josa': '조사',\n",
       " 'KoreanParticle': '(ex: ㅋㅋ)',\n",
       " 'Noun': '명사',\n",
       " 'Number': '숫자',\n",
       " 'PreEomi': '선어말어미',\n",
       " 'Punctuation': '구두점',\n",
       " 'ScreenName': '트위터 아이디',\n",
       " 'Suffix': '접미사',\n",
       " 'Unknown': '미등록어',\n",
       " 'Verb': '동사'}"
      ]
     },
     "execution_count": 24,
     "metadata": {},
     "output_type": "execute_result"
    }
   ],
   "source": [
    "okt.tagset"
   ]
  },
  {
   "cell_type": "code",
   "execution_count": null,
   "metadata": {
    "id": "3NzGcx-tyCR0"
   },
   "outputs": [],
   "source": [
    "# 전처리 함수 정의\n",
    "def preprocess_text(text):\n",
    "  # 1. 특수문자 제거, 소문자 변환, 양끝 공백 제거\n",
    "  text = re.sub(pattern,\"\",text).lower().strip()\n",
    "\n",
    "  # 2. 형태소 분석 (어간 추출+정규화)\n",
    "  pos_tags = okt.pos(text, stem=True, norm=True)\n",
    "\n",
    "  # 3. 명사, 형용사, 동사만 남기고 kiwi Stopwords에 있는 불용어는 필터링\n",
    "  tokens = [\n",
    "      word for word, tag in pos_tags\n",
    "      if tag in ['Noun', 'Verb', 'Adjective'] and word not in stopwords_list\n",
    "  ]\n",
    "  return \" \".join(tokens) # 공백으로 이어서 문자열로 반환"
   ]
  },
  {
   "cell_type": "code",
   "execution_count": null,
   "metadata": {
    "id": "VIhL1alhyCUt"
   },
   "outputs": [],
   "source": [
    "from tqdm.auto import tqdm"
   ]
  },
  {
   "cell_type": "code",
   "execution_count": null,
   "metadata": {
    "id": "cJiMMtcNyCXR"
   },
   "outputs": [],
   "source": [
    "tqdm.pandas()"
   ]
  },
  {
   "cell_type": "code",
   "execution_count": null,
   "metadata": {
    "colab": {
     "base_uri": "https://localhost:8080/",
     "height": 81,
     "referenced_widgets": [
      "3e7befdd7629437aaf6fae9b250ae136",
      "a8d6cc116de442079f83deb81e247264",
      "8106ba493c664e288a7793d49e02e066",
      "30260793173c4eb0aad6bba5cf95957f",
      "68d7d7f233aa4b81b3365e2f506ec052",
      "5965ee805fb345299a384adc423c39f5",
      "63f6c29441d549bf83f4571bd015f626",
      "5a1722abff0f4f809c74f6e73d2759c8",
      "332149c559514b208eb6d581d0633762",
      "92666871548a4b278cca3f3a73ee4b4b",
      "a556279f4e5b43918073bb10d5e31c35",
      "fc6453df247e4538b9977b3726123dfc",
      "1d03c5817d904c92ab063573b5053091",
      "861c5ba3d6ba4a0f82924b0e20d3c085",
      "3a61341a0a6b44a78d645d9dd14294a5",
      "f0d66aa06ddc4e7fb98e928427c7960d",
      "32e893c9a85146f2b08599b38b3ff2ed",
      "aa3b164579cb4ee48b20eb1376fce88b",
      "96ebb7836d164c4b95b017dc516b6247",
      "5526aa35b71745098c90370731d6d1dd",
      "10e28d88f1d24bd3a14afc0bb56a6fa5",
      "a7a0968345bb4859b53079ee7534ea65"
     ]
    },
    "executionInfo": {
     "elapsed": 1217022,
     "status": "ok",
     "timestamp": 1750400814848,
     "user": {
      "displayName": "사본",
      "userId": "00690333374817726342"
     },
     "user_tz": -540
    },
    "id": "rBnwHRInyCaH",
    "outputId": "59a6545a-bddc-484a-d0ce-a75460e8fbfa"
   },
   "outputs": [
    {
     "data": {
      "application/vnd.jupyter.widget-view+json": {
       "model_id": "3e7befdd7629437aaf6fae9b250ae136",
       "version_major": 2,
       "version_minor": 0
      },
      "text/plain": [
       "  0%|          | 0/171068 [00:00<?, ?it/s]"
      ]
     },
     "metadata": {},
     "output_type": "display_data"
    },
    {
     "data": {
      "application/vnd.jupyter.widget-view+json": {
       "model_id": "fc6453df247e4538b9977b3726123dfc",
       "version_major": 2,
       "version_minor": 0
      },
      "text/plain": [
       "  0%|          | 0/49997 [00:00<?, ?it/s]"
      ]
     },
     "metadata": {},
     "output_type": "display_data"
    }
   ],
   "source": [
    "X_train_clean = train_df['document'].progress_apply(preprocess_text)\n",
    "X_test_clean = test_df['document'].progress_apply(preprocess_text)"
   ]
  },
  {
   "cell_type": "code",
   "execution_count": null,
   "metadata": {
    "colab": {
     "base_uri": "https://localhost:8080/"
    },
    "executionInfo": {
     "elapsed": 16,
     "status": "ok",
     "timestamp": 1750401210141,
     "user": {
      "displayName": "사본",
      "userId": "00690333374817726342"
     },
     "user_tz": -540
    },
    "id": "Kc73B-iyVG35",
    "outputId": "c9d7e011-a634-4336-9efd-2fcbea64cc04"
   },
   "outputs": [
    {
     "data": {
      "text/plain": [
       "((171068,), (49997,))"
      ]
     },
     "execution_count": 40,
     "metadata": {},
     "output_type": "execute_result"
    }
   ],
   "source": [
    "X_train_clean.shape, X_test_clean.shape"
   ]
  },
  {
   "cell_type": "code",
   "execution_count": null,
   "metadata": {
    "colab": {
     "base_uri": "https://localhost:8080/",
     "height": 241
    },
    "executionInfo": {
     "elapsed": 75,
     "status": "ok",
     "timestamp": 1750400935663,
     "user": {
      "displayName": "사본",
      "userId": "00690333374817726342"
     },
     "user_tz": -540
    },
    "id": "qa5YSlRyBouB",
    "outputId": "b0ab6095-0560-49c8-933c-aa29e2b07835"
   },
   "outputs": [
    {
     "data": {
      "text/html": [
       "<div>\n",
       "<style scoped>\n",
       "    .dataframe tbody tr th:only-of-type {\n",
       "        vertical-align: middle;\n",
       "    }\n",
       "\n",
       "    .dataframe tbody tr th {\n",
       "        vertical-align: top;\n",
       "    }\n",
       "\n",
       "    .dataframe thead th {\n",
       "        text-align: right;\n",
       "    }\n",
       "</style>\n",
       "<table border=\"1\" class=\"dataframe\">\n",
       "  <thead>\n",
       "    <tr style=\"text-align: right;\">\n",
       "      <th></th>\n",
       "      <th>document</th>\n",
       "    </tr>\n",
       "  </thead>\n",
       "  <tbody>\n",
       "    <tr>\n",
       "      <th>0</th>\n",
       "      <td>더빙 진짜 짜증나다 목소리</td>\n",
       "    </tr>\n",
       "    <tr>\n",
       "      <th>1</th>\n",
       "      <td>흠 포스터 보고 초딩 영화 줄 오버 연기 가볍다 않다</td>\n",
       "    </tr>\n",
       "    <tr>\n",
       "      <th>2</th>\n",
       "      <td>무재 밓었 다그 래서 보다 추천</td>\n",
       "    </tr>\n",
       "    <tr>\n",
       "      <th>3</th>\n",
       "      <td>교도소 이야기 구먼 솔직 재미 없다 평점 조정</td>\n",
       "    </tr>\n",
       "    <tr>\n",
       "      <th>4</th>\n",
       "      <td>몬페 익살스럽다 연기 돋보이다 영화 스파이더맨 늙다 보이다 하다 커스틴 던스트 이쁘...</td>\n",
       "    </tr>\n",
       "  </tbody>\n",
       "</table>\n",
       "</div><br><label><b>dtype:</b> object</label>"
      ],
      "text/plain": [
       "0                                       더빙 진짜 짜증나다 목소리\n",
       "1                        흠 포스터 보고 초딩 영화 줄 오버 연기 가볍다 않다\n",
       "2                                    무재 밓었 다그 래서 보다 추천\n",
       "3                            교도소 이야기 구먼 솔직 재미 없다 평점 조정\n",
       "4    몬페 익살스럽다 연기 돋보이다 영화 스파이더맨 늙다 보이다 하다 커스틴 던스트 이쁘...\n",
       "Name: document, dtype: object"
      ]
     },
     "execution_count": 38,
     "metadata": {},
     "output_type": "execute_result"
    }
   ],
   "source": [
    "X_train_clean.head()"
   ]
  },
  {
   "cell_type": "code",
   "execution_count": null,
   "metadata": {
    "id": "if71Wp6UVG6Y"
   },
   "outputs": [],
   "source": [
    "# label 분리\n",
    "y_train = train_df['label']\n",
    "y_test = test_df['label']"
   ]
  },
  {
   "cell_type": "markdown",
   "metadata": {
    "id": "rR_hnYPOVG8r"
   },
   "source": [
    "### 전처리 완료된 데이터 저장"
   ]
  },
  {
   "cell_type": "code",
   "execution_count": 3,
   "metadata": {
    "executionInfo": {
     "elapsed": 1,
     "status": "ok",
     "timestamp": 1750656729339,
     "user": {
      "displayName": "사본",
      "userId": "00690333374817726342"
     },
     "user_tz": -540
    },
    "id": "jQnlvdIRVG_R"
   },
   "outputs": [],
   "source": [
    "import pickle"
   ]
  },
  {
   "cell_type": "code",
   "execution_count": null,
   "metadata": {
    "id": "sYbrSURfVHBx"
   },
   "outputs": [],
   "source": [
    "# 저장\n",
    "with open('./data/X_train_morphs.pkl', 'wb') as f:\n",
    "  pickle.dump(X_train_clean, f)\n",
    "with open('./data/X_test_morphs.pkl', 'wb') as f:\n",
    "  pickle.dump(X_test_clean, f)\n",
    "\n",
    "with open('./data/y_train.pkl', 'wb') as f:\n",
    "  pickle.dump(y_train, f)\n",
    "with open('./data/y_test.pkl', 'wb') as f:\n",
    "  pickle.dump(y_test, f)"
   ]
  },
  {
   "cell_type": "markdown",
   "metadata": {
    "id": "R3HlFJp7VHEP"
   },
   "source": [
    "#### 데이터 불러오기"
   ]
  },
  {
   "cell_type": "code",
   "execution_count": 4,
   "metadata": {
    "executionInfo": {
     "elapsed": 3311,
     "status": "ok",
     "timestamp": 1750656735080,
     "user": {
      "displayName": "사본",
      "userId": "00690333374817726342"
     },
     "user_tz": -540
    },
    "id": "skLKd9bFVHG4"
   },
   "outputs": [],
   "source": [
    "# 로딩\n",
    "with open('./data/X_train_morphs.pkl', 'rb') as f:\n",
    "  X_train_clean = pickle.load(f)\n",
    "with open('./data/X_test_morphs.pkl', 'rb') as f:\n",
    "  X_test_clean = pickle.load(f)\n",
    "\n",
    "with open('./data/y_train.pkl', 'rb') as f:\n",
    "  y_train = pickle.load(f)\n",
    "with open('./data/y_test.pkl', 'rb') as f:\n",
    "  y_test = pickle.load(f)"
   ]
  },
  {
   "cell_type": "markdown",
   "metadata": {
    "id": "t4uEH8yjVHJi"
   },
   "source": [
    "#### 시퀀스 변환 준비\n",
    "- 토큰화 : 문장을 특정 기준에 맞춰 쪼개는 것\n",
    "  - 글자단위, 단어단위(띄어쓰기), 형태소단위(명사,형용사,동사 등)\n",
    "- 수치화 : 잘라진 토큰을 일정 기준(알고리즘)에 맞춰 숫자로 변경하는 것\n",
    "- 빈도인코딩, 원핫인코딩, 라벨인코딩, BOW, Tf-idf 등"
   ]
  },
  {
   "cell_type": "code",
   "execution_count": 5,
   "metadata": {
    "executionInfo": {
     "elapsed": 3001,
     "status": "ok",
     "timestamp": 1750656742909,
     "user": {
      "displayName": "사본",
      "userId": "00690333374817726342"
     },
     "user_tz": -540
    },
    "id": "sjCVAZMgVHMW"
   },
   "outputs": [],
   "source": [
    "from tensorflow.keras.layers import TextVectorization\n",
    "# 텍스트 데이터를 토큰화, 수치화로 모델학습용 데이터로 변경하는 클래스"
   ]
  },
  {
   "cell_type": "code",
   "execution_count": 6,
   "metadata": {
    "executionInfo": {
     "elapsed": 51,
     "status": "ok",
     "timestamp": 1750656752132,
     "user": {
      "displayName": "사본",
      "userId": "00690333374817726342"
     },
     "user_tz": -540
    },
    "id": "uvCh8X4xD4Jb"
   },
   "outputs": [],
   "source": [
    "tv = TextVectorization(\n",
    "    # 사전에서 사용할 최대 단어 수 설정\n",
    "    max_tokens = 5000,\n",
    "\n",
    "    # 텍스트를 어떻게 변환할지 지정하는 옵션\n",
    "    output_mode='int', # 텍스트를 정수 인덱스로 변환하여 각 단어에 해당하는 정수 출력\n",
    "\n",
    "    # 텍스트 데이터를 표준화하는 방식 지정 (텍스트가 일관된 형식으로 정리됨)\n",
    "    standardize ='lower_and_strip_punctuation', # 소문자 변환, 구두점 제거 default 값\n",
    "\n",
    "    # 출력되는 정수 시퀀스 최대 길이 고정. (짧으면 패딩(0)으로 채움, 길면 자름)\n",
    "    output_sequence_length=10\n",
    ")"
   ]
  },
  {
   "cell_type": "code",
   "execution_count": 7,
   "metadata": {
    "executionInfo": {
     "elapsed": 662,
     "status": "ok",
     "timestamp": 1750656754130,
     "user": {
      "displayName": "사본",
      "userId": "00690333374817726342"
     },
     "user_tz": -540
    },
    "id": "TUVZK4XfD4HI"
   },
   "outputs": [],
   "source": [
    "# 훈련데이터 기반으로 전처리, 토큰화, 단어사전 구축\n",
    "tv.adapt(X_train_clean)"
   ]
  },
  {
   "cell_type": "code",
   "execution_count": 30,
   "metadata": {
    "colab": {
     "base_uri": "https://localhost:8080/"
    },
    "executionInfo": {
     "elapsed": 18,
     "status": "ok",
     "timestamp": 1750649076586,
     "user": {
      "displayName": "사본",
      "userId": "00690333374817726342"
     },
     "user_tz": -540
    },
    "id": "s0jpEx3jG3JS",
    "outputId": "587ddb03-ad92-4beb-83d3-308e98995573"
   },
   "outputs": [
    {
     "data": {
      "text/plain": [
       "5000"
      ]
     },
     "execution_count": 30,
     "metadata": {},
     "output_type": "execute_result"
    }
   ],
   "source": [
    "# 단어사전의 수 확인 max_tokens = 5000\n",
    "tv.vocabulary_size()"
   ]
  },
  {
   "cell_type": "code",
   "execution_count": 31,
   "metadata": {
    "colab": {
     "base_uri": "https://localhost:8080/"
    },
    "executionInfo": {
     "elapsed": 57,
     "status": "ok",
     "timestamp": 1750649076867,
     "user": {
      "displayName": "사본",
      "userId": "00690333374817726342"
     },
     "user_tz": -540
    },
    "id": "YDxuWzlrG3MJ",
    "outputId": "2adf639f-77fd-4253-ff37-4ed2e5d5a473"
   },
   "outputs": [
    {
     "name": "stdout",
     "output_type": "stream",
     "text": [
      "['', '[UNK]', '영화', '하다', '보다', '없다', '있다', '좋다', '재밌다', '정말', '되다', '같다', '진짜', '이다', '점', '아니다', '않다', '만들다', '나오다', '연기', '평점', '최고', '왜', '스토리', '생각', '드라마', '감동', '보고', '아깝다', '이렇다', '내', '배우', '재미있다', '거', '감독', '들다', '뭐', '내용', '재미', '그냥', '주다', '좀', '재미없다', '자다', '지루하다', '쓰레기', '시간', '가다', '모르다', '그렇다', '싶다', '작품', '사랑', '알다', '다시', '하나', '오다', '볼', '마지막', '완전', '처음', '정도', '많다', '장면', '주인공', '액션', '차다', '안되다', '최악', '나다', '지금', '별로', '돈', '이야기', '걸', '임', '연출', '넘다', '느낌', '개', '끝', '듯', '좋아하다', '명작', '역시', '받다', '남다', '이해', '괜찮다', '안', '이영화', '버리다', '느끼다', '또', '여자', '먹다', '아름답다', '편', '난', '해주다', '꼭', '기억', '보기', '결말', '마음', '어떻다', '인생', '아쉽다', '소재', '뻔하다', '애', '끄다', '못', '보여주다', '어리다', '수준', '무섭다', '재다', '맞다', '한번', '반전', '현실', '가장', '매력', '웃기다', '전개', '되어다', '한국', '가슴', '남자', '끝나다', '말다', '낮다', '알', '높다', '슬프다', '죽다', '유치하다', '음악', '멋지다', '아이', '원작', '저', '줄', '늘다', '눈물', '크다', '쓰다', '무슨', '추천', '인간', '함', '내다', '살다', '야하다', '속', '눈', '자체', '번', '찍다', '허다', '솔직', '짜증나다', '보이다', '캐릭터', '대한', '움', '코미디', '뭔가', '대박', '돼다', '이쁘다', '전혀', '연기력', '미치다', '이상', '지다', '여운', '기대', '건지다', '공감', '별', '영상', '굿', '기대하다', '개봉', '시리즈', '모습', '모두', '중간', '아주', '일본', '부분', '귀엽다', '전', '치다', '제목', '가족', '계속', '감', '요', '보지', '시키다', '뿐', '진심', '믿다', '내내', '실망', '급', '다른', '후', '기분', '표현', '몰입', '무엇', '위', '작가', '떨어지다', '이제', '스릴러', '웃다', '대단하다', '빠지다', '공포', '요즘', '개인', '잔잔하다', '점도', '잼', '용', '긴장감', '조금', '애니', '특', '모든', '노래', '삶', '대사', '알바', '제대로', '건', '분', '시작', '극장', '울다', '이유', '욕', '점수', '짱', '이상하다', '짜다', '막장', '나름', '예쁘다', '깊다', '차라리', '노잼', '제일', '절대', '해보다', '느껴지다', '어설프다', '영화로', '당시', '친구', '놈', '잇다', '빼다', '류', '위해', '따뜻하다', '세상', '의미', '대다', '미국', '공포영화', '앞', '도대체', '찾다', '훌륭하다', '그리다', '웃음', '설정', '물', '다르다', '생각나다', '수작', '써다', '죽이다', '초반', '출연', '뭘', '가지', '우리나라', '사실', '필요없다', '답답하다', '지루함', '추억', '남', '놓다', '싫다', '아프다', '멋있다', '장난', '한국영', '소리', '기다', '관객', '해', '팬', '따다', '더럽다', '신선하다', '시나리오', '분위기', '시대', '준', '나쁘다', '어이없다', '잊다', '최고다', '영화관', '졸작', '감정', '자신', '살', '엔딩', '오늘', '엄마', '접', '안타깝다', '스럽다', '제발', '봄', '부족하다', '캐스팅', '평가', '얼마나', '인상', '포스터', '애니메이션', '배우다', '문제', '어색하다', '코믹', '정신', '라면', '더빙', '몰입도', '음', '서다', '낫다', '킬링타임', '망하다', '비다', '대해', '배경', '맘', '티비', '쓸다', '두다', '유쾌하다', '적다', '질', '얘기', '진부하다', '스릴', '머리', '뒤', '개연', '살리다', '데', '나가다', '즐겁다', '놀라다', '만화', '충격', '책', '기도', '갈수록', '읽다', '매우', '웃기', '전쟁', '머', '옛날', '얼굴', '구성', '어울리다', '영화인', '후회', '이후', '예술', '장르', '어디', '이름', '꽤', '행복하다', '들이다', '집중', '집', '존나', '완벽하다', '강추', '멀다', '주연', '새롭다', '언제', '글', '다큐', '누구', '시즌', '상황', '날', '건가', '짜증', '그것', '생기다', '후반', '억지', '씬', '다운', '역사', '누가', '걸작', '비', '예전', '두', '궁금하다', '여기', '불쌍하다', '약간', '밉다', '자기', '소름', '그대로', '발연기', '해도', '진', '잔인하다', '비디오', '인물', '시절', '부', '실화', '방송', '니', '작', '드리다', '만점', '사회', '한마디', '순수하다', '대체', '따르다', '필요하다', '어렵다', '쉬다', '소설', '비교', '다음', '네이버', '비슷하다', '자', '로맨스', '간만', '초딩', '아들', '만나다', '코', '판', '여배우', '꿈', '떠나다', '남기다', '전체', '감성', '여주', '나이', '편이', '타다', '잡다', '사랑스럽다', '순간', '당하다', '삼류', '심하다', '성룡', '바로', '교훈', '혼자', '감사하다', '이르다', '돌리다', '터지다', '목소리', '주제', '존재', '풀다', '바라다', '굳다', '막', '돋다', '당신', '안보', '낭비', '거의', '너', '진정하다', '엄청나다', '뻔', '독특하다', '가볍다', '지나다', '나라', '질질', '뜨다', '몇번', '화려하다', '줄거리', '의도', '망치다', '좀비', '성하다', '담다', '죽', '넣다', '갑자기', '판타지', '상당', '점주', '맞추다', '딸', '흥미롭다', '피', '전부', '평론가', '이번', '재', '만하', '실제', '아버지', '넘치다', '한편', '맛', '시청률', '어른', '신', '상영', '땜', '필요', '평', '바', '각본', '그녀', '곳', '화면', '기다리다', '제작', '답', '극장판', '간다', '억지스럽다', '밑', '만들어지다', '관람', '이하', '이기다', '중국', '일단', '보내다', '가치', '선', '볼때', '란', '똥', '세계', '항상', '스타일', '달다', '성우', '굉장', '영', '세', '충분', '요소', '부르다', '바꾸다', '드', '그때', '흥행', '오글거리다', '둘', '너무하다', '들어가다', '갖다', '발', '역', '선택', '복수', '거기', '편집', '점점', '올리다', '더욱', '불편하다', '가보다', '흐르다', '평범하다', '듣다', '걸리다', '진행', '중반', '아빠', '잠', '우연', '구', '거지', '전형', '완성', '초', '수가', '멜로', '참고', '짧다', '화이팅', '잃다', '역대', '돋보이다', '걸다', '끼다', '허무하다', '상미', '동안', '어이', '때리다', '과거', '프랑스', '예상', '설명', '불륜', '병맛', '메다', '개그', '흥미진진', '키', '엉망', '비추다', '가지다', '똑같다', '꿀잼', '그게', '사건', '거리', '갈다', '지겹다', '마르다', '또한', '훈훈하다', '중요하다', '술', '무조건', '탄탄하다', '척', '찾아보다', '즐기다', '미화', '몸', '티', '죽음', '울', '싸우다', '몇', '원래', '소중하다', '무', '댓글', '그래픽', '화보', '취향', '식상하다', '자극', '노력', '감상', '흥미', '닿다', '역겹다', '새끼', '배', '손', '뛰어나다', '화가', '헐다', '길다', '학교', '자꾸', '리', '관', '액션영화', '마무리', '한심하다', '보이', '터', '예고편', '뭐라다', '아저씨', '속편', '묻다', '억지로', '결혼', '나르다', '흠', '도저', '현재', '산', '전설', '심리', '바보', '연기자', '틀다', '잘만', '게임', '참신하다', '아무', '봣', '땐', '기억나다', '식', '미안하다', '법', '표정', '잊혀지다', '다가', '관계', '타임', '최근', '상상', '귀신', '유치', '열', '다행', '천재', '괜', '철학', '아쉬움', '링', '다루다', '다니다', '강하다', '흘리다', '짐', '빠져들다', '불다', '대작', '그닥', '회', '드럽다', '나서다', '총', '마', '전편', '대한민국', '프로그램', '촬영', '짓', '조연', '오', '여', '메세지', '겁나다', '젠', '무비', '진지하다', '개다', '프로', '유머', '스타', '사라지다', '묘사', '망작', '동화', '쩔다', '졸라', '존', '먼저', '돌아가다', '길', '특유', '전달', '역할', '실망하다', '씨', '소녀', '끌다', '그림', '전작', '살아가다', '환상', '런가', '경찰', '서로', '마치', '등장', '인정', '약하다', '바뀌다', '미래', '멍청하다', '나중', '가능하다', '햇', '노출', '효과', '황당하다', '지루', '다만', '작다', '살인', '통해', '청춘', '저런', '용도', '예산', '깔다', '희망', '잘생기다', '바람', '리메이크', '행동', '정', '깊이', '입', '빌리다', '덥다', '확실', '겠다', '착하다', '졸리다', '모', '군대', '주의', '노', '반개', '단순하다', '외', '관심', '상상력', '제작비', '유명하다', '안나', '손발', '지나치다', '생애', '부족', '반', '케이블', '범인', '위대하다', '영웅', '밤', '던지다', '형님', '평생', '인하다', '쏘다', '능력', '심', '얻다', '시도', '스케일', '미소', '다소', '네', '기세', '과정', '신기하다', '메시지', '태어나다', '얼', '가끔', '카메라', '체', '설레다', '생', '대안', '낚', '결론', '슬픔', '빠르다', '강', '젊다', '대충', '채널', '찌다', '스', '늙다', '한계', '여전', '여성', '산만하다', '광고', '고민', '온', '동생', '방', '독립영화', '단', '이면', '변하다', '박수', '고맙다', '참다', '차', '보시', '거지같다', '흔하다', '졸다', '원하다', '시청자', '적당하다', '치', '줌', '잘못', '자연', '용이', '시', '분명', '자막', '어린이', '발견', '멋', '괴물', '지난', '유', '다시다', '희다', '커플', '울리다', '사다', '막다', '리얼', '굳이', '안다', '덕분', '감탄', '흐름', '포장', '추다', '짱짱', '지르다', '연애', '인', '심심하다', '범죄', '대의', '고생', '하루', '폭력', '아침', '사이', '벗다', '개판', '진정', '진실', '시선', '성인', '개도', '표', '젤', '암', '쓰래', '사극', '정서', '혹시', '지키다', '주기', '살짝', '빨', '리뷰', '로맨틱', '랄', '떠오르다', '달', '간', '인기', '몸매', '로서', '남녀', '조폭', '악역', '뛰다', '더하다', '첨', '우정', '열심', '어제', '소름끼치다', '깔끔하다', '표절', '포기', '퀄리티', '왠만하다', '뜻', '끼리', '끝내다', '챙기다', '접다', '일상', '오락', '어찌', '문화', '게이', '싸다', '단순', '과연', '짓다', '순', '수도', '상처', '크게', '우울하다', '난해하다', '홍콩', '코드', '쩐다', '정치', '이연걸', '싫어하다', '다큐멘터리', '해피엔딩', '세다', '북한', '핵', '용서', '불가', '병', '무겁다', '막판', '기대다', '충분하다', '유일하다', '성도', '말로', '느와르', '눈물나다', '꾸다', '감명', '일어나다', '웬만하다', '소장', '뮤지컬', '나머지', '기술', '감다', '홍보', '지도', '영환', '뜬금', '내리다', '끌', '국민', '빛', '보아', '공부', '펑펑', '죄', '이기', '볼거리', '별루', '첫', '올해', '연', '섹스', '노답', '보라', '만큼', '담기다', '형편', '안좋다', '반성', '눈빛', '희생', '이어지다', '기본', '그다지', '행복', '싸움', '비주', '무협', '등장인물', '들어오다', '의문', '본방', '뭐임', '남편', '입장', '아픔', '색다르다', '불', '호러', '하하', '춤', '찡하다', '자식', '싸구려', '가면', '차이', '자유', '일이', '열정', '실감', '불쾌하다', '무시', '디즈니', '늘', '몰다', '게다가', '특별하다', '촌스럽다', '종교', '좀더', '아이돌', '반복', '긴장', '기적', '채우다', '제로', '오그라들다', '악', '시사회', '빡치다', '부끄럽다', '러닝', '대가', '숨다', '발전', '방금', '따위', '대화', '닮다', '놓치다', '인지', '아줌마', '떼다', '늦다', '결과', '진리', '악당', '실패', '빛나다', '불구', '동물', '느리다', '글쎄', '해내다', '아련하다', '비극', '는걸', '쫌', '여행', '질리', '지구', '존경', '이루다', '연예인', '벌써', '돌다', '날다', '흘러가다', '화나다', '해석', '분노', '단지', '토', '전문가', '으리', '외국', '왕', '씁쓸하다', '본인', '깨다', '강렬하다', '한국인', '창', '이제야', '실력', '밥', '형', '팀', '쵝오', '적당', '라인', '깨닫다', '풋풋하다', '로봇', '헐리우드', '그린', '청소년', '이끌다', '새', '베스트', '만족', '금', '그거', '과장', '처럼', '짠하다', '외모', '오버', '스스로', '새벽', '뽑다', '주기도', '어머니', '방식', '대표', '달라', '꼴', '필름', '시트콤', '선생님', '방법', '미드', '맡다', '따라가다', '기르다', '갈등', '평이', '짝', '줍다', '좋아지다', '와우', '어로', '전개도', '은근', '쇼', '섬세하다', '무언가', '돌아오다', '담', '낳다', '헐리웃', '애기', '숨', '소소하다', '맥', '푹', '짝퉁', '이나', '에피소드', '심장', '레전드', '극치', '국내', '통쾌하다', '입다', '이미지', '오래되다', '연속', '세기', '봣는데', '누군가', '김기덕', '굿굿', '최', '주말', '이정', '의리', '올라가다', '오브', '없어지다', '명품', '듬', '견자단', '가깝다', '조절', '로만', '깎다', '형사', '조잡하다', '심각하다', '섹시하다', '비판', '라이', '편의', '편견', '찝찝하다', '시각', '레알', '확', '조합', '이자', '부모', '날리다', '검색', '쩌', '사수', '라지', '도전', '포인트', '테러', '캐리', '밋밋하다', '미모', '망', '때우다', '단연', '끼', '훨', '초등학생', '신고', '신경', '무척', '경험', '향', '트', '자살', '신분', '시시하다', '생활', '묘', '마이클', '더불다', '낭비하다', '가요', '한참', '학생', '지우다', '양심', '기자', '해결', '영혼', '얘', '상업', '바라보다', '달달', '꽝', '관점', '유발', '아내', '시원하다', '사기', '마이너스', '대부분', '개뿔', '학년', '카', '주변', '약', '솔직하다', '성장', '로써', '돌아보다', '도안', '개성', '코난', '카리스마', '쪽', '젠장', '전반', '적임', '연결', '러브', '다가오다', '허세', '위로', '영어', '신나다', '설마', '뭉클하다', '무지', '겨우', '풍경', '정체', '빨다', '밝다', '고양이', '겁니다', '형제', '특이하다', '투', '칼', '일품', '오르다', '악마', '스트레스', '쉬', '변화', '만족하다', '로그인', '개막', '개념', '가득하다', '케', '이란', '옆', '등등', '기준', '할머니', '조', '점준', '자연스럽다', '응원', '외계인', '영원하다', '명성', '덜', '놀랍다', '거슬리다', '피해자', '맨', '편도', '특수', '줄다', '정의', '정신병', '싸이코', '상', '민망하다', '남아', '끌리다', '공짜', '직접', '성공하다', '나타나다', '가수', '하나로', '크리스마스', '최강', '초등학교', '적절하다', '장', '잠들다', '이도', '오빠', '아마', '썩다', '세번', '변태', '벗어나다', '놀래다', '기회', '교육', '고통', '투자', '최초', '처', '얼마', '야동', '신다', '바다', '만해', '뛰어넘다', '흑인', '포르노', '틈', '주성치', '언니', '아무렇다', '세월', '부모님', '말아먹다', '만들기', '내면', '잠깐', '이보', '의식', '우주', '어린시절', '압권', '안습', '선물', '빵점', '반하다', '모으다', '린', '고르다', '의하다', '영원', '아예', '사진', '붙이다', '본적', '배역', '무술', '만남', '겨', '확실하다', '홍콩영화', '탓', '추하다', '참으로', '자리', '이용', '에로영화', '베', '박', '땅', '드물다', '다양하다', '기법', '국가', '결정', '확인', '저러다', '이상은', '의심', '셈', '상태', '살아나다', '뿐이다', '빈', '부럽다', '냄새', '내생', '깜짝', '호구', '캐', '보고오다', '대중', '달리다', '넘어가다', '거나', '감흥', '효', '타고', '채', '진하다', '우려', '시청', '수고', '드림', '낮추다', '케릭', '스크린', '삭제', '비현실적', '복잡하다', '방영', '리즈', '들어서다', '덕', '단어', '끝내주다', '거짓말', '감안', '폐지', '패러디', '파', '짜지다', '조작', '전쟁영화', '예능', '영화계', '영국', '번은', '모자라다', '멈추다', '막장드라마', '놀다', '껏', '기만', '값', '패', '자르다', '욕망', '앉다', '숨기다', '색감', '루', '꼬마', '갠', '가족영화', '여러', '신의', '생생하다', '미가', '달리', '넌', '근래', '공포물', '용기', '씹다', '심오하다', '목', '뜨겁다', '깨우다', '갑', '가득', '편하다', '짜임새', '재난영화', '애쓰다', '몇몇', '깨', '기독교', '갖추다', '화끈하다', '타', '지나가다', '시기', '부부', '려고', '데리', '녀', '관련', '감각', '제외', '잔뜩', '작위', '인지도', '아역', '아래', '성은', '성격', '설득', '비밀', '동시', '넘어서다', '그립다', '풍자', '키우다', '장가', '워', '운명', '여러분', '업다', '신파', '승리', '세련되다', '보통', '목적', '명화', '뇌', '기발하다', '골', '결코', '하자', '포스', '잔', '여태', '아동', '빈약하다', '고전', '겪다', '피다', '탈', '탄생', '치밀하다', '점줌', '자주', '여러가지', '매다', '군', '후속작', '할아버지', '팔이', '톰', '첫사랑', '전율', '잖다', '완벽', '예', '애가', '브루스', '물이', '매니아', '마이', '라이언', '틀리다', '소년', '블록버스터', '붙다', '명의', '한숨', '탑', '중심', '장국영', '열연', '연인', '앞뒤', '아이디어', '시점', '새다', '사고', '빵빵', '배경음악', '반갑다', '낫', '낚였다', '감정이입', '틴', '심지어', '수많다', '무서움', '모험', '마냥', '김', '철', '요리', '옷', '았', '시끄럽다', '선동', '바르다', '목숨', '금보', '합', '최대', '아', '꿈꾸다', '여자친구', '어쩜', '심형래', '사상', '무료', '로코', '둘째', '대본', '담배', '넘기다', '꽃', '가정', '틀', '통', '주제가', '저리', '잡고', '욕심', '안감', '레이', '딱이다', '디', '대통령', '늘어지다', '꼬', '구리', '곡', '추리', '집착', '여기다', '어둡다', '아기', '버전', '끊다', '하지원', '절정', '의상', '움직이다', '삼', '모양', '따름', '두번째', '낚시', '귀', '호', '찾기', '조카', '정작', '임팩트', '일부러', '빵', '베다', '마리', '린다', '된거', '대신', '당황', '끔찍하다', '괴롭다', '화의', '플롯', '펴다', '컨셉', '충실하다', '천국', '제니퍼', '여친', '여름', '성공', '물다', '디워', '끼우다', '구나', '교과서', '헤어지다', '쥐다', '중독', '졸리', '의사', '앤', '보구', '누나', '공간', '공', '고등학교', '캬', '종영', '제임스', '정보', '잠시', '자고', '야구', '보이지', '벌다', '마약', '들리다', '나은', '곱다', '해리포터', '하늘', '파괴', '정이', '이전', '슈퍼', '색', '사투리', '블랙', '드러나다', '그만하다', '거장', '터미네이터', '착각', '지치다', '조니뎁', '잡', '인내심', '여자애', '손색', '사운드', '뱀파이어', '배트맨', '박진', '박다', '거부', '현대', '하정우', '클레멘타인', '쥐', '전투', '일본인', '이소룡', '어디가', '속이다', '살인마', '부작', '발상', '반드시', '반대', '메이드', '메', '만드', '로버트', '떨다', '돼지', '논리', '하품', '키드', '주지', '유덕화', '영화제', '영화감독', '부리다', '무기', '류작', '동성애', '내놓다', '나누다', '감사', '하이', '탈출', '참나', '지경', '주윤발', '인도', '웃', '운', '어처구니', '실수', '만화책', '나레이션', '그동안', '홍상수', '평균', '찬', '중학교', '제이슨', '재능', '의지', '연극', '어쩌', '선정', '배신', '민폐', '만약', '마음속', '동영상', '극단', '겁', '진수', '준비', '졸', '음식', '섞다', '빵터지다', '분명하다', '분량', '부실하다', '배다', '바탕', '명대사', '길이', '과학', '고딩', '포', '조화', '역량', '쓸데없다', '신인', '센스', '매일', '매', '기존', '폭발', '추', '찌질하다', '잭', '재미나', '인터넷', '울면', '우뢰매', '영향', '아놀드', '아끼다', '명복', '폴', '팔', '틀어주다', '코메디', '체적', '차원', '자동차', '역사상', '성의', '사용', '무대', '루즈', '론', '겨울', '거품', '각색', '컴퓨터', '친', '인형', '이군', '베리', '무한', '만이', '레', '도무지', '데뷔', '던데', '다세포', '누르다', '논', '난리', '고프다', '흥', '환경', '필', '판단', '절', '응', '유지', '웬', '압도', '손가락', '션', '상관없다', '도움', '다리', '니콜', '녹다', '내일', '글자', '화일', '한국판', '인류', '왜곡', '옴', '영화사', '여인', '에이', '어우러지다', '어색', '슴', '분장', '리지', '단체', '네티즌', '남성', '극복', '할리우드', '쿡', '출신', '최소한', '최소', '최고봉', '어거지', '아치', '아만다', '상실', '비중', '보신', '말투', '꺼지다', '겉멋', '하니', '편안하다', '케빈', '짜이다', '조용하다', '정우성', '전하', '윌리스', '웰', '용다', '여신', '알아보다', '아아', '실패하다', '베드', '만세', '때매', '듭니', '도데', '당연하다', '걱정', '강력', '화란', '혐오', '하라', '컷', '어쩌면', '스티븐', '샘', '부족함', '발음', '미스', '매끄럽다', '리가', '따분하다', '동심', '끝내', '김치', '게뭐', '황당', '평소', '처절하다', '이병헌', '유럽', '요새', '애절하다', '수입', '송강호', '섞이다', '블랙코미디', '부정', '별하나', '범죄자', '배급사', '매미', '러시아', '단점', '늘리다', '널', '난잡하다', '곧', '계기', '겉', '거치다', '푸다', '파리', '파다', '키스', '치유', '축구', '차갑다', '지리다', '정상', '자세', '잉', '임창정', '일주일', '이해도', '이만', '신하균', '성적', '및', '무너지다', '몽환', '명불허전', '만화영화', '리얼리티', '류승범', '등록', '대결', '게스트', '개콘', '흡입', '호기심', '피해', '판이', '토나오다', '킬링', '콩', '지나', '오프닝', '얼다', '속지', '상징', '부활', '부인', '모로', '담백하다', '깡패', '중딩', '절제', '일반', '옳다', '액션씬', '심다', '싫어지다', '쉽다', '소화', '서도', '사', '미녀', '무게', '망가지다', '라스트', '듣기', '동네', '노인', '각자', '가리다', '이루어지다', '알파', '쓸쓸하다', '실험', '백인', '미도', '무리', '무난', '무간도', '명연기', '매번', '대사도', '달콤하다', '년전', '깨알', '군인', '경우', '가능성', '후회되다', '향수', '파격', '튀다', '쭉', '직업', '절망', '장애인', '알려지다', '삶다', '비행기', '본능', '베일', '배꼽', '드네', '높이다', '끼치다', '그대', '굉장하다', '계시다', '객관', '가야', '흉내', '향연', '한순간', '하나님', '포드', '처리', '징그럽다', '정리', '재난', '잔혹하다', '원숭이', '욕먹다', '엽기', '염', '애초', '소개', '선수', '선사', '빨갱이', '보임', '박중훈', '드니', '덩어리', '닥', '호불호', '타란티노', '켜다', '캐릭', '중년', '존스', '예측', '서부', '상어', '빠', '밀', '두운', '녀석', '화장실', '혁명', '포함', '커서', '질리다', '정부', '아이유', '수록', '서울', '버튼', '박보영', '모이다', '명장', '맛있다', '많아지다', '딸리다', '낭만', '계', '갈리다', '흔들다', '한효주', '한가지', '지옥', '지식', '졸업', '저지르다', '일으키다', '의외', '의심스럽다', '우선', '올레', '애매하다', '빠순이', '버', '밀려오다', '뭣', '리도', '디테일', '도시', '데이', '놀란', '과대', '고독', '겹', '개그맨', '회사', '풀리다', '풀', '탁월하다', '케미', '초월', '짬뽕', '제작자', '잔인함', '외롭다', '연습', '스포', '순위', '소통', '선생', '생명', '방해', '받아들이다', '믿음', '망치', '독일', '다해', '능', '김수현', '공유', '견디다', '가나', '치노', '짜릿하다', '장점', '왕조현', '어지럽다', '쏟다', '싱겁다', '심사', '살이', '비쥬', '본질', '보나', '변신', '미스테리', '미스캐스팅', '무어', '못자다', '멜로영화', '떠올리다', '대부', '답답', '달라지다', '단편', '다시금', '나타내다', '그럴듯하다', '광구', '고뇌', '호흡', '칭찬', '추가', '최후', '찬양', '차승원', '차리다', '중학생', '이지', '이안', '이별', '쌍', '스릴러물', '섹시', '상대', '뺏다', '비호감', '비록', '부로', '멍', '리암', '도둑', '교회', '강동원', '흑백', '혼란', '해봤다', '픽사', '클래식', '크레딧', '찍', '이따', '우드', '억울하다', '아오이', '쓴다', '식이', '스타워즈', '순수', '부탁', '반영', '밖', '바치다', '바닥', '미스터리', '로맨틱코미디', '땀', '도중', '뎅', '대박나다', '님', '김혜수', '기괴하다', '굿굿굿', '강간', '가짜', '허무', '피아노', '케이', '출연자', '찾아가다', '지지', '죄송하다', '일반인', '유아', '위트', '워낙', '열자', '애인', '애니매이션', '암울하다', '스파이더맨', '스텝', '슈퍼맨', '수면제', '성형', '상큼', '뿌리다', '부산', '범', '떨어뜨리다', '뒤죽박죽', '도르다', '년도', '낼', '끊기다', '국산', '공룡', '가하다', '형식', '한지', '트리', '찌르다', '찌', '짜내다', '전성기', '장진', '잃어버리다', '일지', '일부', '이드', '위험하다', '우린', '아무나', '아누', '소', '세대', '세계관', '상식', '사이코', '빌다', '별거', '밀다', '머릿속', '만화가', '마누라', '레옹', '떡밥', '떄', '돌', '데리다', '능가', '눕다', '남친', '나루토', '구분', '고증', '고인', '검사', '갓', '한석규', '하얗다', '페이크', '택시', '커버', '추격', '조지', '조선', '장애', '옥', '연관', '언어', '승부', '세트', '벌어지다', '버티다', '방황', '민족', '말씀', '담담하다', '급하다', '극적', '행', '티나', '짱짱맨', '징', '주가', '절로', '절대로', '재앙', '인권', '위주', '원조', '아마추어', '싸하다', '시종일관', '슨', '손예진', '상이', '사과', '리기', '렉', '떡', '디카프리오', '들어주다', '드러내다', '두렵다', '당장', '닥치고', '다녀오다', '누님', '납득', '꼽', '김희선', '걷다', '흔들리다', '환자', '폭풍', '특집', '테이큰', '킬러', '치료', '춤추다', '쯤', '중국영화', '재치', '잘나가다', '작화', '예수', '영활', '연상', '역작', '없애다', '부자연스럽다', '볼라', '박하다', '도와주다', '다치다', '너희', '낮', '꼬이다', '권상우', '권력', '국어', '구조', '화질', '즐거움', '예고', '여지', '엔딩크레딧', '엄정화', '어차피', '애틋하다', '시골', '스필버그', '스포츠', '섬', '색채', '산다', '발랄하다', '반응', '미학', '문득', '문', '무의미하다', '메이', '만난', '로빈', '도망가다', '난후', '나무', '꿀', '귀찮다', '광기', '고문', '가까이', '회상', '화하다', '화판', '폼', '클라라', '크리스찬', '중후', '옮기다', '올려주다', '어쨌든', '반도', '마찬가지', '로움', '러셀', '떨리다', '두고두고', '돌려주다', '다른사람', '니콜라스', '남자배우', '난무', '나로', '기획', '광', '고등학생', '개똥', '가라', '흠잡다', '해지', '해오다', '콜린', '질문', '지내다', '정확하다', '정점', '전문', '인도영화', '올라오다', '애정', '애잔하다', '애로', '알바생', '안기다', '아기자기하다', '쏘우', '신화', '시험', '소품', '성과', '설', '복선', '밝혀지다', '뎀', '대역', '늑대', '눈치', '깜놀', '국', '관리', '공주', '거짓', '가르치다', '킹', '크리스', '창피하다', '진창', '주관', '전지현', '인식', '이의', '의견', '영구', '영광', '에바', '아우', '아담', '신부', '설경구', '살때', '부다', '목사', '맺다', '맙시', '람보', '내보내다', '납치', '남고', '기타', '기전', '공연', '간지', '해외', '클라스', '침', '층', '찬사', '집단', '전라도', '적나라하다', '익숙하다', '유령', '우롱', '오해', '에드워드', '어째', '어딘가', '아바타', '스펙', '스키', '섬뜩하다', '상당하다', '살인자', '부담', '본격', '밟다', '띄다', '떠들다', '뒤늦다', '데이빗', '덤', '노튼', '까맣다', '기사', '극본', '권', '관대하다', '고해', '거북하다', '홀로', '혹', '합치다', '하고프다', '평화', '톤', '타인', '출발', '천사', '찾아오다', '찬란하다', '짙다', '직', '주위', '제시카', '잘알다', '인연', '유쾌', '유치원', '유익하다', '원피스', '외면', '외로움', '외국인', '여전하다', '에드', '압', '안해', '안성기', '아이언맨', '싸이코패스', '신세계', '빨갛다', '비참하다', '붉다', '볼일', '방향', '박찬욱', '미장센', '먹기', '말리다', '로버츠', '로드', '도라에몽', '대학', '당', '나머진', '끈', '고작', '거임', '후기', '화중', '픽션', '펼치다', '태국', '채다', '참여', '집다', '지대', '졸잼', '재방송', '장소', '작전', '오직', '여유', '양', '쓰이다', '시체', '스콧', '수위', '소지섭', '비싸다', '불과하다', '불가능하다', '백배', '반감', '무식하다', '모욕', '멘탈', '막상', '대상', '넹', '내려가다', '기쁘다', '그치다', '곤', '고어', '고도', '경악', '격', '거듭', '개발', '감추다', '흔적', '팝콘', '테', '최민식', '최민수', '쯧쯧', '쪽팔리다', '짱구', '줄리아', '조차', '조명', '재수없다', '유혹', '오지', '영웅본색', '어수선하다', '신민아', '습', '성장하다', '성유리', '생기', '사람과', '벗기다', '번역', '미달', '묵직하다', '무리다', '뒤지다', '동감', '대고', '누', '김명민', '극', '구석', '겨울왕국', '피디', '투성이', '출현', '추구', '차태현', '차별', '지켜보다', '주온', '조승우', '정선', '젊은이', '전도연', '재료', '잘나다', '일찍', '이정재', '이은주', '유행', '왕자', '온갖', '안쓰럽다', '쎄다', '시장', '스킵', '서서', '색깔', '불쌍', '베이', '멀리', '마블', '마디', '따스하다', '덮다', '다이하드', '끝판', '금지', '극혐', '구역', '강요', '강아지', '감기', '가관', '가게', '호감', '향기', '한국어', '피곤하다', '트랜스포머', '타이틀', '추악하다', '첩보', '주행', '주네', '저급하다', '재방', '자본', '이스트', '왕가위', '열다', '엑스맨', '애국심', '실', '신데렐라', '시간대', '송승헌', '부드럽다', '만족스럽다', '마르', '러브스토리', '래야', '락', '디테', '댄스', '대학생', '닫다', '뉴스', '농담', '노골', '내세', '난국', '구혜선', '구만', '관람객', '감옥', '간직', '환장하다', '학창시절', '파워', '커피', '칠하다', '차분하다', '차마', '지인', '지배', '종합', '종', '잭슨', '재주', '잠자다', '자랑', '월드', '완젼', '열리다', '업', '어떠하다', '씨발', '실상', '신세경', '스피드', '스파이', '셋', '새록새록', '삼가다', '배속', '묻히다', '모독', '마다', '라스', '동양', '더욱더', '깨달음', '김태희', '긴박', '군더더기', '구경', '과도', '각각', '가기', '함부로', '할배', '학살', '하드', '특징', '톰크루즈', '커녕', '칸', '충', '청년', '진영화', '지저분하다', '지브리', '지극', '정화', '적극', '장동건', '장난감', '임청하', '이외', '이민기', '음향', '원표', '완죤', '연주', '엉터리', '엉뚱하다', '어정쩡하다', '손꼽다', '서양', '사장', '벌리다', '벌', '버그', '모순', '모방', '마녀', '로망', '따지다', '디젤', '드래곤볼', '답지', '다운로드', '다니엘', '국제', '구멍', '구려', '공식', '고치다', '고스', '개꿀잼', '감수성', '간간', '획', '헛웃음', '행위', '폰', '파라', '틀림없다', '태양', '카메론', '주인', '제왕', '정확', '정석', '전해지다', '임신', '유의', '유우', '운동', '열광하다', '에로물', '양반', '신선', '신념', '스페인', '살기', '불필요하다', '보고서', '먼지', '맥스', '레이첼', '랩', '단역', '노랗다', '남자라면', '낙', '꺼내다', '김민종', '김구라', '그려지다', '구원', '공허하다', '곰', '경의', '경계', '격투', '각', '가안', '흑역사', '흉내내', '한정', '하디', '프리', '퍼스', '칠', '촌', '집안', '주먹', '조정', '정당화', '절반', '전기', '재현', '잔잔', '자격', '이탈리아', '오인혜', '역다', '에러', '알리다', '아카데미', '송지효', '솔', '성찰', '서정', '새삼', '삐', '뽕짝', '본성', '보스', '미션', '무적', '말르다', '마틴', '마을', '마법', '런닝맨', '뚝뚝', '독립', '덜덜', '다크나이트', '남지', '기용', '공중파', '걸이', '황정민', '환타지', '호강', '헛', '한텐', '펼쳐지다', '치면', '츠', '최하', '쫓다', '지독하다', '지고', '정통', '절절', '절묘하다', '전화', '전사', '저렇다', '자라다', '이형', '이웃', '유지태', '유리', '위원', '요약', '오페라', '오우삼', '여왕', '아프리카', '아이러니', '썩', '송혜교', '생존', '상관', '사무라이', '불안하다', '부자', '부디', '민', '모야', '모성애', '멤버', '대전', '눈요기', '내기', '낯', '나와라', '기승', '구도', '공원', '강조', '희망이', '활약', '호텔', '포켓몬', '토니', '토끼', '초점', '초기', '째다', '지네', '죽지', '주옥', '전투씬', '저번', '장나라', '작렬', '인터뷰', '이연희', '이범수', '윤아', '원주율', '웅장', '울음', '와중', '오유', '오로라', '엿보다', '쏟아지다', '선율', '서프라이즈', '사나이', '볼걸', '밧다', '박평', '밀리다', '미국인', '무색', '롱', '디지다', '드림웍스', '두려움', '덴젤', '대비', '단편영화', '남매', '나니', '꼬맹이', '궁', '고자', '휴먼', '호화', '혀', '팔다', '크루즈', '컬트', '카피', '쩜', '진작', '증말', '쥬라기', '줄리', '준영', '종일', '제작사', '젖다', '저주', '자아', '일수', '인척', '인종차별', '읍', '위원회', '울림', '우왕', '외화', '역활', '에릭', '어중간하다', '앞서', '안남', '신비', '신도', '스텝업', '스탈', '성함', '생략', '뽕', '뻥', '블루', '벽', '법정', '배드', '반지', '미이라', '메인', '마마', '레드', '독', '도로', '더니', '대가리', '녹화', '노예', '꼽는', '김강우', '기록', '그로', '구성은', '곁', '강제', '흥분', '흐지부지', '활동', '혹평', '해안가', '한글', '하나요', '품', '평론', '퀴어', '쿨하다', '짓거리', '짐승', '지적', '주상욱', '종류', '존내', '젊음', '전환', '전락', '적절', '장혁', '장치', '장근석', '임수정', '이완', '이예', '우익', '예술가', '엽문', '엉엉', '아시', '서방', '사기꾼', '비치', '부여', '별다르다', '미안', '미국영화', '물건', '모티브', '명확하다', '머피', '망설이다', '만듬', '덜하다', '다크', '님들', '냉정하다', '남발', '나빠지다', '꾸미다', '깨끗하다', '글쎄요', '교수', '광팬', '게리', '가식', '활용', '허무맹랑', '행크스', '펭귄', '패턴', '타령', '쿠', '코스프레', '침묵', '취급', '쫒다', '증거', '졸음', '조악하다', '자의', '자위', '자본주의', '임권택', '일요일', '이동욱', '은퇴', '유루', '위기', '원인', '외치다', '와이프', '오타쿠', '예수님', '여기저기', '어의', '안함', '심정', '세우다', '성숙하다', '상치', '빼놓다', '바쁘다', '뮤직비디오', '먹음', '루이스', '로마', '뜯다', '똑바로', '땡', '도하', '대감', '닷', '느슨하다', '높이', '남아돌다', '날로', '극찬', '고수', '고로', '강지환', '흐뭇하다', '홧팅', '헷갈리다', '허구', '해피', '피터', '풍부하다', '퍼즐', '파이팅', '파악', '태우다', '천만', '지금껏', '증명', '정사', '접근', '일리', '이혼', '이성재', '이나영', '이구', '의학', '율', '웹툰', '워커', '왓', '어처구니없다', '아가', '슬래셔', '섭외', '샤를', '뿌리', '뼈', '비롯', '불면증', '불만', '복', '미야자키', '물의', '모호하다', '명도', '멍하다', '맷', '리스', '땡기다', '따라오다', '들보', '동료', '대로', '노무', '나나', '깝', '기독교인', '긍정', '국적', '구역질', '과잉', '걸치다', '거만', '가해자', '훔치다', '홍', '호소', '하이킥', '피트', '파고들다', '최선', '체험', '찢다', '집어넣다', '직원', '증', '줄이다', '주원', '존중', '조조', '전세계', '재탕', '일도', '인디아나', '양동근', '쓰러지다', '시스', '시민', '시리다', '순진하다', '사망', '빼', '불후', '봉', '벅차다', '버스', '미키', '무리수', '묘미', '몫', '몇개', '매트릭스', '등급', '드립', '동호', '닉', '뉴욕', '눈뜨다', '낚였', '깨지다', '기간', '구리다', '곱씹다', '고발', '경이', '거대하다', '강시', '가져오다', '가사', '가미', '휴가', '환불', '홍금보', '혹성탈출', '헐크', '품다', '패션', '파이다', '파워레인저', '태도', '클리셰', '커지다', '책임', '차지', '차이다', '중국인', '죽여주다', '족', '자유롭다', '자매', '자랑스럽다', '일베충', '일드', '워싱턴', '용감하다', '엠마', '어르다', '양조위', '압박', '아시아', '쌈', '실사', '수애', '선하다', '브래드피트', '부가', '발레', '박신양', '미묘하다', '미루다', '마케팅', '마루', '록키', '땜시', '두근거리다', '동아리', '도입', '대만', '노동자', '과감', '고요', '거울', '강력하다', '간첩', '간단하다', '가르다', '가능', '해적', '트릭', '투표', '크로우', '측면', '추락', '최저', '총알', '지원', '존잼', '전적', '전이', '저희', '저렴하다', '저녁', '저기', '이승기', '유아인', '용두사미', '욤', '여정', '엘', '엑소시스트', '엉덩이', '어마어마하다', '앞서다', '쌓이다', '실컷', '식스센스', '수다', '성경', '서스펜스', '사라', '빅뱅', '비유', '비슷', '불법', '볼껄', '밴드', '배려', '물씬', '무지하다', '면도', '매혹', '리브', '로우', '려', '따윈', '닼', '나약하다', '꺼리다', '그땐', '고찰', '계획', '검다', '가을', '후속', '활', '현대인', '한예슬', '학원', '폭', '튀어나오다', '테론', '태', '찬란', '찜찜하다', '진짜진짜', '주체', '정재영', '접함', '저절로', '잡지', '잘쓰다', '작년', '일생', '이준기', '이념', '우아하다', '우리네', '예매', '역쉬', '에이리언', '쓰기', '실소', '시스템', '승', '숲', '소문', '사연', '분석', '부재', '보물', '발생', '박사', '미인', '미리', '물어보다', '무도', '몰락', '멘붕', '멍청이', '망상', '리즈시절', '레오', '도통', '다기', '노말', '넓다', '내러티브', '나발', '끊임없다', '기쁨', '구라', '공존', '고질라', '격전', '개잼', '감당', '가시', '가슴속', '가버리다', '황홀하다', '황비홍', '확신', '홍진호', '호러물', '허니', '필수', '피라냐', '토마스', '탕웨이', '큐브', '콘서트', '켄', '컨저링', '충무로', '충만', '초능력', '진보', '지상', '즐', '즉', '줄리엣', '제시', '자료', '인터스텔라', '은은하다', '욕구', '완', '온몸', '영감', '에너지', '어보', '어느새다', '앵글', '알맹이', '신현준', '설레임', '살아오다', '사귀다', '빚', '비난', '불리다', '병원', '미군', '뭡', '물리다', '무니', '명곡', '만날', '리스트', '로렌스', '되돌아보다', '대도', '뇌리', '노리다', '날아가다', '나이트', '기어', '금요일', '그러하다', '구르다', '곳곳', '건드리다', '가치관', '흥겹다', '흡사하다', '훈남', '황제', '화해', '화만', '형성', '현빈', '하차', '파일', '크리스토퍼', '콤비', '케이트', '치기', '철저하다', '채플린', '질투', '질린다', '주의자', '재회', '잘살다', '자제', '익다', '유명', '원빈', '용가리', '옹박', '오류', '역사왜곡', '여동생', '에일리언', '에리', '어딨다', '애도', '알차다', '악평', '악의', '아역배우', '쓰레기통', '실종', '신비롭다', '신들리다', '시청율', '습작', '스캔들', '수치', '서우', '사막', '사다코', '비명', '불친절하다', '뵈다', '박해일', '문근영', '몬스터', '르', '루크', '롯데', '로그', '디자인', '듣보잡', '덕후', '꾹', '긴박하다', '기리', '긋다', '근거', '극한', '권하다', '광주', '공효진', '고백', '거뭐', '강호동', '강혜정', '가난하다', '후유증', '효민', '허탈하다', '해리슨', '피우다', '통쾌', '크리스틴', '창작', '찰리', '진화', '진구', '지진희', '지존', '지니다', '주목', '조직', '조인성', '제법', '절실', '적응', '저예산영화', '저급', '잠수함', '자비', '임용', '일대기', '이종석', '유도', '우월', '우디', '예의', '연장', '연령', '엄', '언론', '언급', '어지간하다', '안질리다', '안녕', '아리다', '심해', '신기', '슈스케', '수사', '소박하다', '서기', '샤론스톤', '생생', '상투', '상의', '북', '부탁드리다', '법칙', '버금', '미로', '무려', '매년', '말기', '막스', '리오', '로보캅', '레이싱', '라마', '데스', '대형', '다문화', '김하늘', '김선아', '김남길', '글구', '귀요미', '귀가', '경쾌하다', '거창하다', '개미', '훈련', '후지', '화평', '화답', '호러영화', '현장', '헤', '플레이', '풍기다', '페이지', '통수', '주지훈', '주어지다', '종이', '전통', '전의', '적도', '장군', '잣', '작정', '일베', '인종', '윤계상', '위안', '완전하다', '엇어', '어울림', '어깨', '암살', '실존', '시사', '시르다', '승화', '속도', '서극', '삼다', '사소하다', '사서', '불러일으키다', '보석', '발휘', '미술', '문성우', '멜깁슨', '멀쩡하다', '맑은', '마크', '마인드', '리들리', '런닝타임', '딱좋다', '따라서', '디스', '독백', '데이먼', '높아지다', '놀이', '넋', '까먹다', '기차', '교차', '공개', '고현정', '간의', '가문', '가막', '회장', '황', '혼', '헤어', '핸드폰', '해대', '함정', '한장', '프레디', '프레데터', '표본', '토이스토리', '턱', '클루니', '침대', '출연료', '초심', '짐작', '진자', '진솔하다', '주장', '주민', '조선족', '전국', '재기', '장편', '장쯔이', '작업', '이상형', '이러하다', '유오성', '욬', '요구', '옹', '어려움', '어둠', '악인', '싹', '슈렉', '선전', '사로자다', '봣음', '봣다', '병사', '바이러스', '무작정', '모델', '리언', '독창', '대책', '다음주', '내겐', '낯선', '나오니', '나열', '꼴리다', '껄', '깜찍하다', '급전', '교감', '괴수', '고소영', '결과물', '걸레', '건물', '가운데', '흘러나오다', '휴머니즘', '혼나다', '허준', '핵심', '한몫', '평타', '편지', '통틀어', '털다', '큐', '콧물', '치밀다', '채민서', '찌푸리다', '쬐다', '질주', '직장', '좌파', '조재현', '정신차리다', '정신건강', '정돈', '자아내다', '자빠지다', '자마자', '인내', '이슈', '이순신', '이브', '이민정', '육체', '웨슬리', '옹호', '오토바이', '어우', '어벤져스', '어물', '앓이', '안티', '안목', '악몽', '쏙', '쌍욕', '스톤', '수정', '솜씨', '소외', '설치다', '사춘기', '뺨', '브로디', '브래드', '부러', '보장', '벨', '버젼', '백미', '미니', '몰래', '마초', '마구', '린치', '레인', '떄문', '뒤통수', '데이트', '더보', '대치', '대략', '다한', '금방', '그만두다', '궁금증', '구해', '고향', '게왜', '갑갑하다', '각인', '훼손', '호평', '허전하다', '한지민', '하필', '평범', '판치다', '투자자', '통한', '통일', '탕', '탈락', '타입', '클린트', '쾌감', '친절하다', '치명', '치가', '최진실', '찔리다', '진의', '진부', '지성', '즘', '줄알', '좆', '조각', '제공', '정적', '자녀', '인셉션', '음모', '은지', '유작', '유역비', '유승준', '오줌', '여진구', '여야', '여실', '어째서', '어메이징', '안듬', '아담샌들러', '시원', '스티브', '스치다', '수술', '세라', '선배', '서양인', '사의', '비급', '블', '부담스럽다', '볼땐', '보호', '보영', '변호사', '방이', '발톱', '받치다', '반의', '미흡하다', '미개하다', '몬', '멸망', '먹이다', '말리', '로드무비', '띄우다', '뜸', '똑똑하다', '동의', '동기', '독도', '도아', '도망', '도감', '댓글알바', '대변', '다수', '다가가다', '놀람', '남자친구', '낚임', '나비', '까메오', '거중', '거도', '개독', '갑작스럽다', '희한하다', '흐', '휘', '후의', '황금', '현상', '합리화', '한쪽', '한일', '패기', '타짜', '케로로', '카드', '치열하다', '취미', '초적', '초라하다', '천녀유혼', '창조', '쪽바리', '직전', '중구', '준수', '주제곡', '정유미', '작살', '인증', '이선균', '이분', '의존', '유해진', '우마', '와이어', '여자도', '엑스트라', '얽다', '얼른', '양산', '아이리스', '아리', '쓰리다', '실체', '신파극', '신앙', '스트립', '소유', '사전', '사랑과전쟁', '비정상', '봣던', '변명', '발암', '므', '문학', '문제점', '목표', '모리', '매튜', '맑다', '마피아', '따오다', '듯이', '드래곤', '드라마틱하다', '도박', '데미무어', '덧', '대리', '다그', '닌자', '낭', '난방', '나인', '나뉘다', '끊어지다', '김수로', '기부', '기묘하다', '근본', '구매', '관객수', '과제', '공리', '고려', '경제', '경기', '건강하다', '각성', '가위', '희극', '형태', '헛소리', '행운', '해리', '해달라다', '한수', '한니발', '하여튼', '하나경', '퍼지다', '판타스틱', '퉤', '탐욕', '탁', '크리', '퀄', '코스트', '캐서린', '치중', '치우다', '치르다', '처참하다', '참신', '진지', '진실되다', '진국', '지상파', '중이', '주신', '좁다', '제적', '제인', '제레미', '장만옥', '잘맞다', '자하', '자신감', '일일', '인피니트', '이남', '위성', '우베', '오디션', '예정', '여우', '여명', '어필', '얄팍하다', '알리', '안고', '안경', '아키라', '신은경', '신뢰', '시보', '시바', '시간여행', '스탤론', '수습', '수년', '서인국', '삼촌', '사례', '빈틈', '빅', '불가능', '부수', '부대', '본받다', '별개', '배슬기', '배두나', '박살', '민주주의', '미만', '뮤직', '무장', '멋대로', '맛깔나다', '마련', '마땅하다', '똥폼', '때메', '두서', '도덕', '뎁', '대구', '단계', '노무현', '내주다', '내공', '난감하다', '나소', '끝장', '김래원', '권선', '괴', '관계자', '공격', '고래', '결합', '검', '건달', '감독판', '흐흐', '허각', '해학', '해설', '한시', '한국말', '하루하루', '폭파', '페미니즘', '팬심', '패닝', '튀기다', '토미', '토르', '테스트', '털리다', '타이밍', '큰일', '카타르', '축', '최대한', '쳐다보다', '책임감', '지속', '지능', '중세', '주시', '좌절', '조커', '조심하다', '제이', '정답', '정글', '잼남', '장인', '잔혹', '자존심', '자전거', '자가', '잉여', '일본애니', '일방', '인공', '이치', '이준', '이수근', '의아', '은희', '유행어', '유이', '윌스미스', '위치', '우울증', '용하다', '외우다', '와나', '오싹하다', '오리', '연민', '여고괴담', '엇음', '엄태웅', '어줍다', '아르', '쓰나미', '써주다', '싸이', '심은하', '쉣', '순정', '수업', '소수', '소방관', '성향', '서툴다', '삼국지', '산드라', '사르다', '뽀로로', '빠져나오다', '브리', '브라이언', '붕괴', '불꽃', '부의', '부각', '봉태규', '보상', '벌레', '번만', '바비', '미우다', '미남', '무능하다', '못지않다', '메리', '맛보다', '막히다', '로맨스영화', '런닝', '랍시고', '뚫다', '된장', '돌이', '당당하다', '뉴', '눈부시다', '농락', '나열하다', '나아지다', '나아가다', '기계', '그림자', '그룹', '균형', '구림', '괜찬', '관성', '고통스럽다', '고집', '고릴라', '계단', '결제', '거여', '거대', '감싸다', '가가', '획기', '화장', '현', '피하', '피어스', '프로젝트', '평이하다', '팬티', '팔마', '판타지영화', '틀어놓다', '특성', '테이크', '키스신', '클래스', '침몰', '칠이', '친일파', '치콕', '지하철', '지리', '좌좀', '좌빨', '조롱', '정신병원', '정권', '전파', '장담', '잡아먹다', '인칭', '이내', '윽', '요원', '옴니버스', '오점', '오우', '영화배우', '여고생', '엠비씨', '엑소', '에혀', '어쨋', '어유', '앤딩', '액', '압축', '암시', '아웃', '아메리칸', '아날로그', '쏠쏠하다', '신동엽', '스틸', '스콜', '속상하다', '세명', '선입견', '서사시', '서민', '생일', '사납다', '삘', '불멸', '부조리', '부류', '보석같다', '별반', '박스오피스', '미스터', '미성년', '뮤', '물고기', '묵다', '띠', '된장녀', '동참', '돌아다니다', '도배', '대학교', '닭', '단막극', '늘어놓다', '농구', '논란', '내지', '남겨지다', '난이', '난생', '괴작', '걸음', '가왜', '후보', '화신', '홈', '학대', '피터팬', '피노키오', '포근하다', '평정', '퍼펙트', '퇴보하다', '통찰', '테러리스트', '태권도', '타이타닉', '킬', '퀸', '쿠바', '취하', '축하', '최지우', '초콜릿', '철저', '창문', '찌들다', '징악', '진도', '지워지다', '종종', '조디', '조건', '제도', '정성', '장진영', '장사', '장미', '잘리다', '인사', '인디언', '이중', '이제껏', '이자벨', '이겠다', '유명배우', '웨이', '움직임', '용의', '욕설', '요가', '왕따', '영화음악', '영호', '연락', '엮', '어긋나다', '양키', '약속', '안주', '악플', '아일랜드', '시킴', '스타뎀', '숭고하다', '손오공', '세지', '세월호', '성장기', '서태지', '서세원', '서바이벌', '상속', '삼천포', '사형', '사오다', '부리', '보수', '보삼', '보드', '벌이다', '발차기', '반면', '박히다', '바램', '미션임파서블', '물질', '무표정', '몸부림', '모드', '모니터', '모건', '명예', '명량', '메릴', '맞서다', '망신', '만인', '마주', '마스터피스', '롭', '로라', '로나', '라이트', '뚜렷하다', '때론', '드릅', '되새기다', '동원', '데려가다', '데드', '답습', '닳다', '달려가다', '단조롭다', '닦다', '느', '냥', '남한', '나대다', '김창완', '김승우', '기운', '금은', '극도', '구지성', '관찰', '공각기동대', '가상하다', '가도', '훌륭', '회복', '헌터', '해운대', '하든', '퍼', '파헤치다', '파멸', '트와일라잇', '투모로우', '통속', '타락하다', '케이스', '치우치다', '치닫다', '충족', '추잡하다', '최강희', '청', '천하', '참혹하다', '차인표', '짝사랑', '진출', '지망', '지껄이다', '중요성', '조치', '조잡', '점임', '전투기', '저능', '잡탕', '자칫', '자질', '자시다', '자세하다', '인간미', '이틀', '이상우', '이민호', '이문식', '윤리', '유준상', '윌리엄스', '원스', '요란하다', '외로', '왤다', '올드보이', '오래오래', '오늘날', '오기', '오그', '영하', '얹다', '약자', '앜', '안정', '시망', '스토리텔링', '스칼렛', '숨쉬다', '소가', '성질', '살해', '사토시', '사이코패스', '사가', '비노', '블루레이', '붙잡다', '붕', '봣습니', '보더', '보너스', '범죄영화', '반쪽', '박신혜', '밍밍', '미련', '모처럼', '모자', '멕', '매치', '맡기다', '맞먹다', '마스터', '마모루', '류승룡', '루시', '로사', '라이토', '라며', '드라큐라', '두루', '동정', '동성애자', '데스노트', '대판', '대면', '대립', '대니', '대기업', '당대', '단말', '다듬다', '니미', '느끼하다', '남동생', '나른하다', '꾸밈', '깨우치다', '김주혁', '기절', '기반', '굿바이', '군데', '공기', '고정', '고루', '고기', '고고', '경지', '경쟁', '거참', '개봉관', '같잖다', '감우성', '흠뻑', '흑형', '회의', '화제', '화이', '헤헤', '허영', '해안', '해드리다', '핫', '필립', '피로', '프리드', '푸른', '폭탄', '평작', '파티', '파치노', '파이', '타잔', '클럽', '컬', '출동', '첩보물', '참내', '쩔어요', '징징대다', '질감', '진주', '증오', '주진모', '죄책감', '조여정', '전후', '전범', '저건', '재생', '장백지', '장동민', '자라', '입가', '이프', '이정현', '이정진', '이서', '이미연', '을해', '윤시윤', '유승호', '위안부', '원한', '원제', '우울', '외다', '완결', '여군', '에반게리온', '얼음', '얕다', '야쿠자', '알고싶다', '안젤리나', '안달', '안녕하다', '쌍벽', '쌍둥이', '슬슬', '스포일러', '스틱', '스크림', '스무살', '스며들다', '스님', '수단', '숀', '쇼킹', '송중기', '석', '서커스', '샤말란', '상승', '사정', '비우다', '비용', '비둘기', '블록', '브금', '불우', '복귀', '변질', '범벅', '방울', '박현지', '박한별', '박정희', '박자', '박영화', '민영화', '물들다', '물결', '묶다', '무책임하다', '무성영화', '무방', '모자이크', '모자라', '모니카', '며칠', '멘트', '맥주', '매드', '말장난', '만원', '마이크', '마동석', '리치', '리얼리즘', '떼', '디비디', '두뇌', '동화책', '돌이키다', '도망치다', '덤덤하다', '더러워지다', '당췌', '다나', '눈물샘', '놀', '넼', '날림', '낚였어', '나무라다', '끝없다', '꼴다', '김정은', '긴급', '금발', '극영화', '그이', '그릇', '귀하다', '궁금', '국뽕', '구지']\n"
     ]
    }
   ],
   "source": [
    "# 단어 토큰 확인\n",
    "print(tv.get_vocabulary())\n",
    "# UNK : unknown 토큰. 단어사전에 등록되지 않은 단어를 표현하는 토큰"
   ]
  },
  {
   "cell_type": "code",
   "execution_count": 8,
   "metadata": {
    "executionInfo": {
     "elapsed": 1654,
     "status": "ok",
     "timestamp": 1750656757902,
     "user": {
      "displayName": "사본",
      "userId": "00690333374817726342"
     },
     "user_tz": -540
    },
    "id": "29uUSKBhG3O3"
   },
   "outputs": [],
   "source": [
    "# 학습 데이터를 벡터화하여 정수 시퀀스로 변환\n",
    "X_train_vec = tv(X_train_clean)"
   ]
  },
  {
   "cell_type": "code",
   "execution_count": 17,
   "metadata": {
    "colab": {
     "base_uri": "https://localhost:8080/"
    },
    "executionInfo": {
     "elapsed": 48,
     "status": "ok",
     "timestamp": 1750641258597,
     "user": {
      "displayName": "사본",
      "userId": "00690333374817726342"
     },
     "user_tz": -540
    },
    "id": "ASlbA98TG3Re",
    "outputId": "b5f5f96e-1c7f-4ca4-b4be-5d348bbdaf61"
   },
   "outputs": [
    {
     "data": {
      "text/plain": [
       "TensorShape([171068, 10])"
      ]
     },
     "execution_count": 17,
     "metadata": {},
     "output_type": "execute_result"
    }
   ],
   "source": [
    "X_train_vec.shape\n",
    "\n",
    "# 전체 데이터 개수, 시퀀스 길이.순환 횟수(time step)"
   ]
  },
  {
   "cell_type": "code",
   "execution_count": 18,
   "metadata": {
    "colab": {
     "base_uri": "https://localhost:8080/",
     "height": 35
    },
    "executionInfo": {
     "elapsed": 43,
     "status": "ok",
     "timestamp": 1750641260783,
     "user": {
      "displayName": "사본",
      "userId": "00690333374817726342"
     },
     "user_tz": -540
    },
    "id": "LrYtwaE-OEzv",
    "outputId": "9b6f1feb-5cfd-4104-8f7f-fe71637940c5"
   },
   "outputs": [
    {
     "data": {
      "application/vnd.google.colaboratory.intrinsic+json": {
       "type": "string"
      },
      "text/plain": [
       "'더빙 진짜 짜증나다 목소리'"
      ]
     },
     "execution_count": 18,
     "metadata": {},
     "output_type": "execute_result"
    }
   ],
   "source": [
    "X_train_clean[0]\n",
    "# 더빙, 진짜, 짜증나다, 목소리 4개의 토큰"
   ]
  },
  {
   "cell_type": "code",
   "execution_count": 19,
   "metadata": {
    "colab": {
     "base_uri": "https://localhost:8080/"
    },
    "executionInfo": {
     "elapsed": 14,
     "status": "ok",
     "timestamp": 1750641260933,
     "user": {
      "displayName": "사본",
      "userId": "00690333374817726342"
     },
     "user_tz": -540
    },
    "id": "k1SB9PO1G3Ua",
    "outputId": "e72748d5-432f-4061-eed4-c6534a5ba0d0"
   },
   "outputs": [
    {
     "data": {
      "text/plain": [
       "<tf.Tensor: shape=(10,), dtype=int64, numpy=array([348,  12, 162, 496,   0,   0,   0,   0,   0,   0])>"
      ]
     },
     "execution_count": 19,
     "metadata": {},
     "output_type": "execute_result"
    }
   ],
   "source": [
    "X_train_vec[0]\n",
    "# 토큰마다의 시퀀스 번호. 더빙 : 348, 진짜 : 12, 짜증나다 : 162, 목소리 : 496, 나머지 시퀀스 : 0 으로 지정."
   ]
  },
  {
   "cell_type": "code",
   "execution_count": 9,
   "metadata": {
    "colab": {
     "base_uri": "https://localhost:8080/"
    },
    "executionInfo": {
     "elapsed": 130,
     "status": "ok",
     "timestamp": 1750656760188,
     "user": {
      "displayName": "사본",
      "userId": "00690333374817726342"
     },
     "user_tz": -540
    },
    "id": "7ETeIY0CG3XN",
    "outputId": "4580e939-4999-4968-dcc7-93d9b995bc48"
   },
   "outputs": [
    {
     "data": {
      "text/plain": [
       "TensorShape([49997, 10])"
      ]
     },
     "execution_count": 9,
     "metadata": {},
     "output_type": "execute_result"
    }
   ],
   "source": [
    "# test 데이터 변경\n",
    "X_test_vec = tv(X_test_clean)\n",
    "X_test_vec.shape"
   ]
  },
  {
   "cell_type": "code",
   "execution_count": 10,
   "metadata": {
    "executionInfo": {
     "elapsed": 2,
     "status": "ok",
     "timestamp": 1750656760540,
     "user": {
      "displayName": "사본",
      "userId": "00690333374817726342"
     },
     "user_tz": -540
    },
    "id": "cy0Jym_NP9ox"
   },
   "outputs": [],
   "source": [
    "import numpy as np"
   ]
  },
  {
   "cell_type": "code",
   "execution_count": 11,
   "metadata": {
    "executionInfo": {
     "elapsed": 2,
     "status": "ok",
     "timestamp": 1750656761840,
     "user": {
      "displayName": "사본",
      "userId": "00690333374817726342"
     },
     "user_tz": -540
    },
    "id": "-SM1f_uAG3bk"
   },
   "outputs": [],
   "source": [
    "# 입력 데이터의 shape를 3차원으로 만들어주기. (171068, 10, 1)로 변환 후 학습 필요\n",
    "X_train_vec = np.expand_dims(X_train_vec, axis=-1) # -1 : 마지막 축(axis)에 새로운 차원 추가\n",
    "X_test_vec = np.expand_dims(X_test_vec, axis=-1)"
   ]
  },
  {
   "cell_type": "code",
   "execution_count": null,
   "metadata": {
    "colab": {
     "base_uri": "https://localhost:8080/"
    },
    "executionInfo": {
     "elapsed": 12,
     "status": "ok",
     "timestamp": 1750404765956,
     "user": {
      "displayName": "사본",
      "userId": "00690333374817726342"
     },
     "user_tz": -540
    },
    "id": "An20gFSRD4En",
    "outputId": "1a5951b2-096c-4b8a-f927-f3729203e19c"
   },
   "outputs": [
    {
     "data": {
      "text/plain": [
       "((171068, 10, 1), (49997, 10, 1))"
      ]
     },
     "execution_count": 60,
     "metadata": {},
     "output_type": "execute_result"
    }
   ],
   "source": [
    "# 최종 모양 확인\n",
    "X_train_vec.shape,X_test_vec.shape\n",
    "# 약 17만개의 리뷰 데이터, 10개의 시퀀스 길이(순환 횟수), 벡터는 1개의 특성(정수 인덱스)"
   ]
  },
  {
   "cell_type": "markdown",
   "metadata": {
    "id": "Eul19bsJD4CI"
   },
   "source": [
    "### 학습\n",
    "1. 모델 구조 정의\n",
    "2. 학습방법 설정\n",
    "3. 학습\n",
    "4. 예측"
   ]
  },
  {
   "cell_type": "code",
   "execution_count": 12,
   "metadata": {
    "executionInfo": {
     "elapsed": 18,
     "status": "ok",
     "timestamp": 1750656770386,
     "user": {
      "displayName": "사본",
      "userId": "00690333374817726342"
     },
     "user_tz": -540
    },
    "id": "2MyWPLXwD39T"
   },
   "outputs": [],
   "source": [
    "from tensorflow.keras.models import Sequential\n",
    "from tensorflow.keras.layers import SimpleRNN, Dense, InputLayer"
   ]
  },
  {
   "cell_type": "code",
   "execution_count": null,
   "metadata": {
    "colab": {
     "base_uri": "https://localhost:8080/"
    },
    "collapsed": true,
    "executionInfo": {
     "elapsed": 336337,
     "status": "ok",
     "timestamp": 1750406072836,
     "user": {
      "displayName": "사본",
      "userId": "00690333374817726342"
     },
     "user_tz": -540
    },
    "id": "UFdhOG2ZD3va",
    "outputId": "d4049b7f-d22b-41ab-951e-33f0749108b9"
   },
   "outputs": [
    {
     "name": "stdout",
     "output_type": "stream",
     "text": [
      "Epoch 1/40\n",
      "\u001b[1m1070/1070\u001b[0m \u001b[32m━━━━━━━━━━━━━━━━━━━━\u001b[0m\u001b[37m\u001b[0m \u001b[1m8s\u001b[0m 6ms/step - accuracy: 0.5229 - loss: 0.6936 - val_accuracy: 0.5279 - val_loss: 0.6869\n",
      "Epoch 2/40\n",
      "\u001b[1m1070/1070\u001b[0m \u001b[32m━━━━━━━━━━━━━━━━━━━━\u001b[0m\u001b[37m\u001b[0m \u001b[1m10s\u001b[0m 6ms/step - accuracy: 0.5372 - loss: 0.6851 - val_accuracy: 0.5375 - val_loss: 0.6844\n",
      "Epoch 3/40\n",
      "\u001b[1m1070/1070\u001b[0m \u001b[32m━━━━━━━━━━━━━━━━━━━━\u001b[0m\u001b[37m\u001b[0m \u001b[1m8s\u001b[0m 7ms/step - accuracy: 0.5359 - loss: 0.6825 - val_accuracy: 0.5379 - val_loss: 0.6838\n",
      "Epoch 4/40\n",
      "\u001b[1m1070/1070\u001b[0m \u001b[32m━━━━━━━━━━━━━━━━━━━━\u001b[0m\u001b[37m\u001b[0m \u001b[1m9s\u001b[0m 6ms/step - accuracy: 0.5407 - loss: 0.6798 - val_accuracy: 0.5440 - val_loss: 0.6795\n",
      "Epoch 5/40\n",
      "\u001b[1m1070/1070\u001b[0m \u001b[32m━━━━━━━━━━━━━━━━━━━━\u001b[0m\u001b[37m\u001b[0m \u001b[1m7s\u001b[0m 7ms/step - accuracy: 0.5410 - loss: 0.6772 - val_accuracy: 0.5408 - val_loss: 0.6754\n",
      "Epoch 6/40\n",
      "\u001b[1m1070/1070\u001b[0m \u001b[32m━━━━━━━━━━━━━━━━━━━━\u001b[0m\u001b[37m\u001b[0m \u001b[1m10s\u001b[0m 6ms/step - accuracy: 0.5453 - loss: 0.6735 - val_accuracy: 0.5435 - val_loss: 0.6715\n",
      "Epoch 7/40\n",
      "\u001b[1m1070/1070\u001b[0m \u001b[32m━━━━━━━━━━━━━━━━━━━━\u001b[0m\u001b[37m\u001b[0m \u001b[1m10s\u001b[0m 6ms/step - accuracy: 0.5436 - loss: 0.6724 - val_accuracy: 0.5479 - val_loss: 0.6720\n",
      "Epoch 8/40\n",
      "\u001b[1m1070/1070\u001b[0m \u001b[32m━━━━━━━━━━━━━━━━━━━━\u001b[0m\u001b[37m\u001b[0m \u001b[1m11s\u001b[0m 6ms/step - accuracy: 0.5487 - loss: 0.6714 - val_accuracy: 0.5454 - val_loss: 0.6701\n",
      "Epoch 9/40\n",
      "\u001b[1m1070/1070\u001b[0m \u001b[32m━━━━━━━━━━━━━━━━━━━━\u001b[0m\u001b[37m\u001b[0m \u001b[1m10s\u001b[0m 6ms/step - accuracy: 0.5473 - loss: 0.6694 - val_accuracy: 0.5439 - val_loss: 0.6696\n",
      "Epoch 10/40\n",
      "\u001b[1m1070/1070\u001b[0m \u001b[32m━━━━━━━━━━━━━━━━━━━━\u001b[0m\u001b[37m\u001b[0m \u001b[1m11s\u001b[0m 7ms/step - accuracy: 0.5492 - loss: 0.6685 - val_accuracy: 0.5395 - val_loss: 0.6708\n",
      "Epoch 11/40\n",
      "\u001b[1m1070/1070\u001b[0m \u001b[32m━━━━━━━━━━━━━━━━━━━━\u001b[0m\u001b[37m\u001b[0m \u001b[1m6s\u001b[0m 6ms/step - accuracy: 0.5513 - loss: 0.6680 - val_accuracy: 0.5434 - val_loss: 0.6720\n",
      "Epoch 12/40\n",
      "\u001b[1m1070/1070\u001b[0m \u001b[32m━━━━━━━━━━━━━━━━━━━━\u001b[0m\u001b[37m\u001b[0m \u001b[1m10s\u001b[0m 5ms/step - accuracy: 0.5482 - loss: 0.6678 - val_accuracy: 0.5480 - val_loss: 0.6700\n",
      "Epoch 13/40\n",
      "\u001b[1m1070/1070\u001b[0m \u001b[32m━━━━━━━━━━━━━━━━━━━━\u001b[0m\u001b[37m\u001b[0m \u001b[1m6s\u001b[0m 6ms/step - accuracy: 0.5509 - loss: 0.6666 - val_accuracy: 0.5535 - val_loss: 0.6651\n",
      "Epoch 14/40\n",
      "\u001b[1m1070/1070\u001b[0m \u001b[32m━━━━━━━━━━━━━━━━━━━━\u001b[0m\u001b[37m\u001b[0m \u001b[1m10s\u001b[0m 6ms/step - accuracy: 0.5504 - loss: 0.6659 - val_accuracy: 0.5481 - val_loss: 0.6653\n",
      "Epoch 15/40\n",
      "\u001b[1m1070/1070\u001b[0m \u001b[32m━━━━━━━━━━━━━━━━━━━━\u001b[0m\u001b[37m\u001b[0m \u001b[1m8s\u001b[0m 7ms/step - accuracy: 0.5544 - loss: 0.6660 - val_accuracy: 0.5527 - val_loss: 0.6648\n",
      "Epoch 16/40\n",
      "\u001b[1m1070/1070\u001b[0m \u001b[32m━━━━━━━━━━━━━━━━━━━━\u001b[0m\u001b[37m\u001b[0m \u001b[1m6s\u001b[0m 6ms/step - accuracy: 0.5533 - loss: 0.6648 - val_accuracy: 0.5539 - val_loss: 0.6655\n",
      "Epoch 17/40\n",
      "\u001b[1m1070/1070\u001b[0m \u001b[32m━━━━━━━━━━━━━━━━━━━━\u001b[0m\u001b[37m\u001b[0m \u001b[1m8s\u001b[0m 7ms/step - accuracy: 0.5542 - loss: 0.6642 - val_accuracy: 0.5544 - val_loss: 0.6661\n",
      "Epoch 18/40\n",
      "\u001b[1m1070/1070\u001b[0m \u001b[32m━━━━━━━━━━━━━━━━━━━━\u001b[0m\u001b[37m\u001b[0m \u001b[1m8s\u001b[0m 5ms/step - accuracy: 0.5539 - loss: 0.6642 - val_accuracy: 0.5569 - val_loss: 0.6643\n",
      "Epoch 19/40\n",
      "\u001b[1m1070/1070\u001b[0m \u001b[32m━━━━━━━━━━━━━━━━━━━━\u001b[0m\u001b[37m\u001b[0m \u001b[1m11s\u001b[0m 6ms/step - accuracy: 0.5549 - loss: 0.6641 - val_accuracy: 0.5500 - val_loss: 0.6650\n",
      "Epoch 20/40\n",
      "\u001b[1m1070/1070\u001b[0m \u001b[32m━━━━━━━━━━━━━━━━━━━━\u001b[0m\u001b[37m\u001b[0m \u001b[1m10s\u001b[0m 5ms/step - accuracy: 0.5536 - loss: 0.6649 - val_accuracy: 0.5501 - val_loss: 0.6656\n",
      "Epoch 21/40\n",
      "\u001b[1m1070/1070\u001b[0m \u001b[32m━━━━━━━━━━━━━━━━━━━━\u001b[0m\u001b[37m\u001b[0m \u001b[1m6s\u001b[0m 6ms/step - accuracy: 0.5544 - loss: 0.6633 - val_accuracy: 0.5523 - val_loss: 0.6656\n",
      "Epoch 22/40\n",
      "\u001b[1m1070/1070\u001b[0m \u001b[32m━━━━━━━━━━━━━━━━━━━━\u001b[0m\u001b[37m\u001b[0m \u001b[1m10s\u001b[0m 5ms/step - accuracy: 0.5540 - loss: 0.6639 - val_accuracy: 0.5597 - val_loss: 0.6633\n",
      "Epoch 23/40\n",
      "\u001b[1m1070/1070\u001b[0m \u001b[32m━━━━━━━━━━━━━━━━━━━━\u001b[0m\u001b[37m\u001b[0m \u001b[1m8s\u001b[0m 7ms/step - accuracy: 0.5621 - loss: 0.6614 - val_accuracy: 0.5605 - val_loss: 0.6614\n",
      "Epoch 24/40\n",
      "\u001b[1m1070/1070\u001b[0m \u001b[32m━━━━━━━━━━━━━━━━━━━━\u001b[0m\u001b[37m\u001b[0m \u001b[1m8s\u001b[0m 5ms/step - accuracy: 0.5617 - loss: 0.6602 - val_accuracy: 0.5659 - val_loss: 0.6598\n",
      "Epoch 25/40\n",
      "\u001b[1m1070/1070\u001b[0m \u001b[32m━━━━━━━━━━━━━━━━━━━━\u001b[0m\u001b[37m\u001b[0m \u001b[1m10s\u001b[0m 5ms/step - accuracy: 0.5629 - loss: 0.6596 - val_accuracy: 0.5479 - val_loss: 0.6633\n",
      "Epoch 26/40\n",
      "\u001b[1m1070/1070\u001b[0m \u001b[32m━━━━━━━━━━━━━━━━━━━━\u001b[0m\u001b[37m\u001b[0m \u001b[1m8s\u001b[0m 7ms/step - accuracy: 0.5540 - loss: 0.6624 - val_accuracy: 0.5607 - val_loss: 0.6611\n",
      "Epoch 27/40\n",
      "\u001b[1m1070/1070\u001b[0m \u001b[32m━━━━━━━━━━━━━━━━━━━━\u001b[0m\u001b[37m\u001b[0m \u001b[1m5s\u001b[0m 5ms/step - accuracy: 0.5604 - loss: 0.6598 - val_accuracy: 0.5597 - val_loss: 0.6615\n",
      "Epoch 28/40\n",
      "\u001b[1m1070/1070\u001b[0m \u001b[32m━━━━━━━━━━━━━━━━━━━━\u001b[0m\u001b[37m\u001b[0m \u001b[1m7s\u001b[0m 7ms/step - accuracy: 0.5599 - loss: 0.6596 - val_accuracy: 0.5612 - val_loss: 0.6598\n",
      "Epoch 29/40\n",
      "\u001b[1m1070/1070\u001b[0m \u001b[32m━━━━━━━━━━━━━━━━━━━━\u001b[0m\u001b[37m\u001b[0m \u001b[1m6s\u001b[0m 5ms/step - accuracy: 0.5620 - loss: 0.6591 - val_accuracy: 0.5615 - val_loss: 0.6587\n",
      "Epoch 30/40\n",
      "\u001b[1m1070/1070\u001b[0m \u001b[32m━━━━━━━━━━━━━━━━━━━━\u001b[0m\u001b[37m\u001b[0m \u001b[1m6s\u001b[0m 6ms/step - accuracy: 0.5608 - loss: 0.6569 - val_accuracy: 0.5623 - val_loss: 0.6583\n",
      "Epoch 31/40\n",
      "\u001b[1m1070/1070\u001b[0m \u001b[32m━━━━━━━━━━━━━━━━━━━━\u001b[0m\u001b[37m\u001b[0m \u001b[1m9s\u001b[0m 5ms/step - accuracy: 0.5607 - loss: 0.6581 - val_accuracy: 0.5635 - val_loss: 0.6565\n",
      "Epoch 32/40\n",
      "\u001b[1m1070/1070\u001b[0m \u001b[32m━━━━━━━━━━━━━━━━━━━━\u001b[0m\u001b[37m\u001b[0m \u001b[1m11s\u001b[0m 6ms/step - accuracy: 0.5592 - loss: 0.6575 - val_accuracy: 0.5552 - val_loss: 0.6632\n",
      "Epoch 33/40\n",
      "\u001b[1m1070/1070\u001b[0m \u001b[32m━━━━━━━━━━━━━━━━━━━━\u001b[0m\u001b[37m\u001b[0m \u001b[1m11s\u001b[0m 7ms/step - accuracy: 0.5572 - loss: 0.6616 - val_accuracy: 0.5687 - val_loss: 0.6625\n",
      "Epoch 34/40\n",
      "\u001b[1m1070/1070\u001b[0m \u001b[32m━━━━━━━━━━━━━━━━━━━━\u001b[0m\u001b[37m\u001b[0m \u001b[1m6s\u001b[0m 5ms/step - accuracy: 0.5615 - loss: 0.6606 - val_accuracy: 0.5606 - val_loss: 0.6604\n",
      "Epoch 35/40\n",
      "\u001b[1m1070/1070\u001b[0m \u001b[32m━━━━━━━━━━━━━━━━━━━━\u001b[0m\u001b[37m\u001b[0m \u001b[1m8s\u001b[0m 7ms/step - accuracy: 0.5621 - loss: 0.6582 - val_accuracy: 0.5718 - val_loss: 0.6575\n",
      "Epoch 36/40\n",
      "\u001b[1m1070/1070\u001b[0m \u001b[32m━━━━━━━━━━━━━━━━━━━━\u001b[0m\u001b[37m\u001b[0m \u001b[1m10s\u001b[0m 7ms/step - accuracy: 0.5646 - loss: 0.6577 - val_accuracy: 0.5656 - val_loss: 0.6567\n",
      "Epoch 37/40\n",
      "\u001b[1m1070/1070\u001b[0m \u001b[32m━━━━━━━━━━━━━━━━━━━━\u001b[0m\u001b[37m\u001b[0m \u001b[1m6s\u001b[0m 5ms/step - accuracy: 0.5632 - loss: 0.6565 - val_accuracy: 0.5621 - val_loss: 0.6573\n",
      "Epoch 38/40\n",
      "\u001b[1m1070/1070\u001b[0m \u001b[32m━━━━━━━━━━━━━━━━━━━━\u001b[0m\u001b[37m\u001b[0m \u001b[1m12s\u001b[0m 7ms/step - accuracy: 0.5659 - loss: 0.6560 - val_accuracy: 0.5656 - val_loss: 0.6577\n",
      "Epoch 39/40\n",
      "\u001b[1m1070/1070\u001b[0m \u001b[32m━━━━━━━━━━━━━━━━━━━━\u001b[0m\u001b[37m\u001b[0m \u001b[1m6s\u001b[0m 6ms/step - accuracy: 0.5667 - loss: 0.6538 - val_accuracy: 0.5689 - val_loss: 0.6562\n",
      "Epoch 40/40\n",
      "\u001b[1m1070/1070\u001b[0m \u001b[32m━━━━━━━━━━━━━━━━━━━━\u001b[0m\u001b[37m\u001b[0m \u001b[1m7s\u001b[0m 7ms/step - accuracy: 0.5707 - loss: 0.6554 - val_accuracy: 0.5641 - val_loss: 0.6591\n"
     ]
    }
   ],
   "source": [
    "# 1. 모델 구조 정의\n",
    "model = Sequential()\n",
    "\n",
    "model.add(InputLayer(shape=(10,1))) # 입력층\n",
    "model.add(SimpleRNN(units=64)) # 중간층\n",
    "model.add(Dense(units=1, activation='sigmoid')) # 출력층. 이진분류(긍/부정)\n",
    "\n",
    "# 2. 학습 방법 설정\n",
    "model.compile(loss='binary_crossentropy',\n",
    "              optimizer = 'Adam',\n",
    "              metrics = ['accuracy'])\n",
    "\n",
    "# 3. 모델 학습\n",
    "his = model.fit(X_train_vec, y_train,\n",
    "                epochs = 40,\n",
    "                batch_size = 128,\n",
    "                validation_split = 0.2)"
   ]
  },
  {
   "cell_type": "code",
   "execution_count": 64,
   "metadata": {
    "colab": {
     "base_uri": "https://localhost:8080/",
     "height": 237
    },
    "collapsed": true,
    "executionInfo": {
     "elapsed": 38,
     "status": "error",
     "timestamp": 1750655632944,
     "user": {
      "displayName": "사본",
      "userId": "00690333374817726342"
     },
     "user_tz": -540
    },
    "id": "MnXJ7V4IVHPS",
    "outputId": "ab660aec-1fb6-4cc4-b0de-b86e1a54959c"
   },
   "outputs": [
    {
     "ename": "NameError",
     "evalue": "name 'his' is not defined",
     "output_type": "error",
     "traceback": [
      "\u001b[0;31m---------------------------------------------------------------------------\u001b[0m",
      "\u001b[0;31mNameError\u001b[0m                                 Traceback (most recent call last)",
      "\u001b[0;32m/tmp/ipython-input-64-2638979512.py\u001b[0m in \u001b[0;36m<cell line: 0>\u001b[0;34m()\u001b[0m\n\u001b[1;32m      2\u001b[0m \u001b[0;32mimport\u001b[0m \u001b[0mmatplotlib\u001b[0m\u001b[0;34m.\u001b[0m\u001b[0mpyplot\u001b[0m \u001b[0;32mas\u001b[0m \u001b[0mplt\u001b[0m\u001b[0;34m\u001b[0m\u001b[0;34m\u001b[0m\u001b[0m\n\u001b[1;32m      3\u001b[0m \u001b[0mplt\u001b[0m\u001b[0;34m.\u001b[0m\u001b[0mfigure\u001b[0m\u001b[0;34m(\u001b[0m\u001b[0mfigsize\u001b[0m\u001b[0;34m=\u001b[0m\u001b[0;34m(\u001b[0m\u001b[0;36m12\u001b[0m\u001b[0;34m,\u001b[0m\u001b[0;36m4\u001b[0m\u001b[0;34m)\u001b[0m\u001b[0;34m)\u001b[0m\u001b[0;34m\u001b[0m\u001b[0;34m\u001b[0m\u001b[0m\n\u001b[0;32m----> 4\u001b[0;31m \u001b[0mplt\u001b[0m\u001b[0;34m.\u001b[0m\u001b[0mplot\u001b[0m\u001b[0;34m(\u001b[0m\u001b[0mhis\u001b[0m\u001b[0;34m.\u001b[0m\u001b[0mhistory\u001b[0m\u001b[0;34m[\u001b[0m\u001b[0;34m'accuracy'\u001b[0m\u001b[0;34m]\u001b[0m\u001b[0;34m,\u001b[0m \u001b[0mlabel\u001b[0m\u001b[0;34m=\u001b[0m\u001b[0;34m'train_acc'\u001b[0m\u001b[0;34m)\u001b[0m\u001b[0;34m\u001b[0m\u001b[0;34m\u001b[0m\u001b[0m\n\u001b[0m\u001b[1;32m      5\u001b[0m \u001b[0mplt\u001b[0m\u001b[0;34m.\u001b[0m\u001b[0mplot\u001b[0m\u001b[0;34m(\u001b[0m\u001b[0mhis\u001b[0m\u001b[0;34m.\u001b[0m\u001b[0mhistory\u001b[0m\u001b[0;34m[\u001b[0m\u001b[0;34m'val_accuracy'\u001b[0m\u001b[0;34m]\u001b[0m\u001b[0;34m,\u001b[0m \u001b[0mlabel\u001b[0m\u001b[0;34m=\u001b[0m\u001b[0;34m'val_acc'\u001b[0m\u001b[0;34m)\u001b[0m\u001b[0;34m\u001b[0m\u001b[0;34m\u001b[0m\u001b[0m\n\u001b[1;32m      6\u001b[0m \u001b[0mplt\u001b[0m\u001b[0;34m.\u001b[0m\u001b[0mlegend\u001b[0m\u001b[0;34m(\u001b[0m\u001b[0;34m)\u001b[0m\u001b[0;34m\u001b[0m\u001b[0;34m\u001b[0m\u001b[0m\n",
      "\u001b[0;31mNameError\u001b[0m: name 'his' is not defined"
     ]
    },
    {
     "data": {
      "text/plain": [
       "<Figure size 1200x400 with 0 Axes>"
      ]
     },
     "metadata": {},
     "output_type": "display_data"
    }
   ],
   "source": [
    "# 학습 결과 시각화\n",
    "import matplotlib.pyplot as plt\n",
    "plt.figure(figsize=(12,4))\n",
    "plt.plot(his.history['accuracy'], label='train_acc')\n",
    "plt.plot(his.history['val_accuracy'], label='val_acc')\n",
    "plt.legend()\n",
    "plt.show()"
   ]
  },
  {
   "cell_type": "code",
   "execution_count": null,
   "metadata": {
    "colab": {
     "base_uri": "https://localhost:8080/"
    },
    "executionInfo": {
     "elapsed": 5182,
     "status": "ok",
     "timestamp": 1750407056174,
     "user": {
      "displayName": "사본",
      "userId": "00690333374817726342"
     },
     "user_tz": -540
    },
    "id": "wyjXRwakVHSK",
    "outputId": "1e16b2be-2f2b-4b2f-98ff-9f353e1c4b78"
   },
   "outputs": [
    {
     "name": "stdout",
     "output_type": "stream",
     "text": [
      "\u001b[1m1563/1563\u001b[0m \u001b[32m━━━━━━━━━━━━━━━━━━━━\u001b[0m\u001b[37m\u001b[0m \u001b[1m3s\u001b[0m 2ms/step\n"
     ]
    }
   ],
   "source": [
    "pred = model.predict(X_test_vec)"
   ]
  },
  {
   "cell_type": "code",
   "execution_count": null,
   "metadata": {
    "colab": {
     "base_uri": "https://localhost:8080/"
    },
    "executionInfo": {
     "elapsed": 14,
     "status": "ok",
     "timestamp": 1750407070548,
     "user": {
      "displayName": "사본",
      "userId": "00690333374817726342"
     },
     "user_tz": -540
    },
    "id": "RFl-xKqJVHVF",
    "outputId": "219e252e-b4f5-4e5e-e59a-d5cb9ec0e56c"
   },
   "outputs": [
    {
     "data": {
      "text/plain": [
       "array([[0.43445054],\n",
       "       [0.4051934 ],\n",
       "       [0.41858596],\n",
       "       ...,\n",
       "       [0.42880237],\n",
       "       [0.5506896 ],\n",
       "       [0.6759807 ]], dtype=float32)"
      ]
     },
     "execution_count": 68,
     "metadata": {},
     "output_type": "execute_result"
    }
   ],
   "source": [
    "pred"
   ]
  },
  {
   "cell_type": "code",
   "execution_count": null,
   "metadata": {
    "colab": {
     "base_uri": "https://localhost:8080/"
    },
    "executionInfo": {
     "elapsed": 48,
     "status": "ok",
     "timestamp": 1750407172429,
     "user": {
      "displayName": "사본",
      "userId": "00690333374817726342"
     },
     "user_tz": -540
    },
    "id": "Ylq8oyIgVHX4",
    "outputId": "8bff6a84-c044-4a59-eba8-27c28df90ebd"
   },
   "outputs": [
    {
     "data": {
      "text/plain": [
       "array([[0],\n",
       "       [0],\n",
       "       [0],\n",
       "       ...,\n",
       "       [0],\n",
       "       [1],\n",
       "       [1]])"
      ]
     },
     "execution_count": 70,
     "metadata": {},
     "output_type": "execute_result"
    }
   ],
   "source": [
    "# 이진분류(sigmoid) -> 0.5를 기준으로 클래스 나누기\n",
    "pred_cls = (pred > 0.5).astype('int')\n",
    "pred_cls"
   ]
  },
  {
   "cell_type": "code",
   "execution_count": null,
   "metadata": {
    "id": "21f7kGMUaAaY"
   },
   "outputs": [],
   "source": [
    "y_test_sample = y_test.copy() # y_test의 복사본을 변수 sample로 만듦"
   ]
  },
  {
   "cell_type": "code",
   "execution_count": null,
   "metadata": {
    "id": "0j6yqI4OaElp"
   },
   "outputs": [],
   "source": [
    "y_test_sample = pd.DataFrame(y_test_sample) # 2차원 df로 만듦"
   ]
  },
  {
   "cell_type": "code",
   "execution_count": null,
   "metadata": {
    "id": "3uxMR8E7VHav"
   },
   "outputs": [],
   "source": [
    "y_test_sample['rnn_pred_cls'] = pred_cls # 'rnn_pred_cls' 컬럼 추가"
   ]
  },
  {
   "cell_type": "code",
   "execution_count": null,
   "metadata": {
    "colab": {
     "base_uri": "https://localhost:8080/",
     "height": 423
    },
    "executionInfo": {
     "elapsed": 42,
     "status": "ok",
     "timestamp": 1750407365162,
     "user": {
      "displayName": "사본",
      "userId": "00690333374817726342"
     },
     "user_tz": -540
    },
    "id": "3xgfdHRHVHdk",
    "outputId": "1c67d8cc-d770-403a-e191-d09537713cea"
   },
   "outputs": [
    {
     "data": {
      "application/vnd.google.colaboratory.intrinsic+json": {
       "summary": "{\n  \"name\": \"y_test_sample\",\n  \"rows\": 49997,\n  \"fields\": [\n    {\n      \"column\": \"label\",\n      \"properties\": {\n        \"dtype\": \"number\",\n        \"std\": 0,\n        \"min\": 0,\n        \"max\": 1,\n        \"num_unique_values\": 2,\n        \"samples\": [\n          0,\n          1\n        ],\n        \"semantic_type\": \"\",\n        \"description\": \"\"\n      }\n    },\n    {\n      \"column\": \"rnn_pred_cls\",\n      \"properties\": {\n        \"dtype\": \"number\",\n        \"std\": 0,\n        \"min\": 0,\n        \"max\": 1,\n        \"num_unique_values\": 2,\n        \"samples\": [\n          1,\n          0\n        ],\n        \"semantic_type\": \"\",\n        \"description\": \"\"\n      }\n    }\n  ]\n}",
       "type": "dataframe",
       "variable_name": "y_test_sample"
      },
      "text/html": [
       "\n",
       "  <div id=\"df-54a68e33-3b61-434c-9d6a-fc796a4b79f5\" class=\"colab-df-container\">\n",
       "    <div>\n",
       "<style scoped>\n",
       "    .dataframe tbody tr th:only-of-type {\n",
       "        vertical-align: middle;\n",
       "    }\n",
       "\n",
       "    .dataframe tbody tr th {\n",
       "        vertical-align: top;\n",
       "    }\n",
       "\n",
       "    .dataframe thead th {\n",
       "        text-align: right;\n",
       "    }\n",
       "</style>\n",
       "<table border=\"1\" class=\"dataframe\">\n",
       "  <thead>\n",
       "    <tr style=\"text-align: right;\">\n",
       "      <th></th>\n",
       "      <th>label</th>\n",
       "      <th>rnn_pred_cls</th>\n",
       "    </tr>\n",
       "  </thead>\n",
       "  <tbody>\n",
       "    <tr>\n",
       "      <th>0</th>\n",
       "      <td>1</td>\n",
       "      <td>0</td>\n",
       "    </tr>\n",
       "    <tr>\n",
       "      <th>1</th>\n",
       "      <td>0</td>\n",
       "      <td>0</td>\n",
       "    </tr>\n",
       "    <tr>\n",
       "      <th>2</th>\n",
       "      <td>0</td>\n",
       "      <td>0</td>\n",
       "    </tr>\n",
       "    <tr>\n",
       "      <th>3</th>\n",
       "      <td>0</td>\n",
       "      <td>0</td>\n",
       "    </tr>\n",
       "    <tr>\n",
       "      <th>4</th>\n",
       "      <td>0</td>\n",
       "      <td>0</td>\n",
       "    </tr>\n",
       "    <tr>\n",
       "      <th>...</th>\n",
       "      <td>...</td>\n",
       "      <td>...</td>\n",
       "    </tr>\n",
       "    <tr>\n",
       "      <th>49995</th>\n",
       "      <td>1</td>\n",
       "      <td>0</td>\n",
       "    </tr>\n",
       "    <tr>\n",
       "      <th>49996</th>\n",
       "      <td>0</td>\n",
       "      <td>1</td>\n",
       "    </tr>\n",
       "    <tr>\n",
       "      <th>49997</th>\n",
       "      <td>0</td>\n",
       "      <td>0</td>\n",
       "    </tr>\n",
       "    <tr>\n",
       "      <th>49998</th>\n",
       "      <td>0</td>\n",
       "      <td>1</td>\n",
       "    </tr>\n",
       "    <tr>\n",
       "      <th>49999</th>\n",
       "      <td>0</td>\n",
       "      <td>1</td>\n",
       "    </tr>\n",
       "  </tbody>\n",
       "</table>\n",
       "<p>49997 rows × 2 columns</p>\n",
       "</div>\n",
       "    <div class=\"colab-df-buttons\">\n",
       "\n",
       "  <div class=\"colab-df-container\">\n",
       "    <button class=\"colab-df-convert\" onclick=\"convertToInteractive('df-54a68e33-3b61-434c-9d6a-fc796a4b79f5')\"\n",
       "            title=\"Convert this dataframe to an interactive table.\"\n",
       "            style=\"display:none;\">\n",
       "\n",
       "  <svg xmlns=\"http://www.w3.org/2000/svg\" height=\"24px\" viewBox=\"0 -960 960 960\">\n",
       "    <path d=\"M120-120v-720h720v720H120Zm60-500h600v-160H180v160Zm220 220h160v-160H400v160Zm0 220h160v-160H400v160ZM180-400h160v-160H180v160Zm440 0h160v-160H620v160ZM180-180h160v-160H180v160Zm440 0h160v-160H620v160Z\"/>\n",
       "  </svg>\n",
       "    </button>\n",
       "\n",
       "  <style>\n",
       "    .colab-df-container {\n",
       "      display:flex;\n",
       "      gap: 12px;\n",
       "    }\n",
       "\n",
       "    .colab-df-convert {\n",
       "      background-color: #E8F0FE;\n",
       "      border: none;\n",
       "      border-radius: 50%;\n",
       "      cursor: pointer;\n",
       "      display: none;\n",
       "      fill: #1967D2;\n",
       "      height: 32px;\n",
       "      padding: 0 0 0 0;\n",
       "      width: 32px;\n",
       "    }\n",
       "\n",
       "    .colab-df-convert:hover {\n",
       "      background-color: #E2EBFA;\n",
       "      box-shadow: 0px 1px 2px rgba(60, 64, 67, 0.3), 0px 1px 3px 1px rgba(60, 64, 67, 0.15);\n",
       "      fill: #174EA6;\n",
       "    }\n",
       "\n",
       "    .colab-df-buttons div {\n",
       "      margin-bottom: 4px;\n",
       "    }\n",
       "\n",
       "    [theme=dark] .colab-df-convert {\n",
       "      background-color: #3B4455;\n",
       "      fill: #D2E3FC;\n",
       "    }\n",
       "\n",
       "    [theme=dark] .colab-df-convert:hover {\n",
       "      background-color: #434B5C;\n",
       "      box-shadow: 0px 1px 3px 1px rgba(0, 0, 0, 0.15);\n",
       "      filter: drop-shadow(0px 1px 2px rgba(0, 0, 0, 0.3));\n",
       "      fill: #FFFFFF;\n",
       "    }\n",
       "  </style>\n",
       "\n",
       "    <script>\n",
       "      const buttonEl =\n",
       "        document.querySelector('#df-54a68e33-3b61-434c-9d6a-fc796a4b79f5 button.colab-df-convert');\n",
       "      buttonEl.style.display =\n",
       "        google.colab.kernel.accessAllowed ? 'block' : 'none';\n",
       "\n",
       "      async function convertToInteractive(key) {\n",
       "        const element = document.querySelector('#df-54a68e33-3b61-434c-9d6a-fc796a4b79f5');\n",
       "        const dataTable =\n",
       "          await google.colab.kernel.invokeFunction('convertToInteractive',\n",
       "                                                    [key], {});\n",
       "        if (!dataTable) return;\n",
       "\n",
       "        const docLinkHtml = 'Like what you see? Visit the ' +\n",
       "          '<a target=\"_blank\" href=https://colab.research.google.com/notebooks/data_table.ipynb>data table notebook</a>'\n",
       "          + ' to learn more about interactive tables.';\n",
       "        element.innerHTML = '';\n",
       "        dataTable['output_type'] = 'display_data';\n",
       "        await google.colab.output.renderOutput(dataTable, element);\n",
       "        const docLink = document.createElement('div');\n",
       "        docLink.innerHTML = docLinkHtml;\n",
       "        element.appendChild(docLink);\n",
       "      }\n",
       "    </script>\n",
       "  </div>\n",
       "\n",
       "\n",
       "    <div id=\"df-57be5441-55c2-471d-b307-95c9aa84838c\">\n",
       "      <button class=\"colab-df-quickchart\" onclick=\"quickchart('df-57be5441-55c2-471d-b307-95c9aa84838c')\"\n",
       "                title=\"Suggest charts\"\n",
       "                style=\"display:none;\">\n",
       "\n",
       "<svg xmlns=\"http://www.w3.org/2000/svg\" height=\"24px\"viewBox=\"0 0 24 24\"\n",
       "     width=\"24px\">\n",
       "    <g>\n",
       "        <path d=\"M19 3H5c-1.1 0-2 .9-2 2v14c0 1.1.9 2 2 2h14c1.1 0 2-.9 2-2V5c0-1.1-.9-2-2-2zM9 17H7v-7h2v7zm4 0h-2V7h2v10zm4 0h-2v-4h2v4z\"/>\n",
       "    </g>\n",
       "</svg>\n",
       "      </button>\n",
       "\n",
       "<style>\n",
       "  .colab-df-quickchart {\n",
       "      --bg-color: #E8F0FE;\n",
       "      --fill-color: #1967D2;\n",
       "      --hover-bg-color: #E2EBFA;\n",
       "      --hover-fill-color: #174EA6;\n",
       "      --disabled-fill-color: #AAA;\n",
       "      --disabled-bg-color: #DDD;\n",
       "  }\n",
       "\n",
       "  [theme=dark] .colab-df-quickchart {\n",
       "      --bg-color: #3B4455;\n",
       "      --fill-color: #D2E3FC;\n",
       "      --hover-bg-color: #434B5C;\n",
       "      --hover-fill-color: #FFFFFF;\n",
       "      --disabled-bg-color: #3B4455;\n",
       "      --disabled-fill-color: #666;\n",
       "  }\n",
       "\n",
       "  .colab-df-quickchart {\n",
       "    background-color: var(--bg-color);\n",
       "    border: none;\n",
       "    border-radius: 50%;\n",
       "    cursor: pointer;\n",
       "    display: none;\n",
       "    fill: var(--fill-color);\n",
       "    height: 32px;\n",
       "    padding: 0;\n",
       "    width: 32px;\n",
       "  }\n",
       "\n",
       "  .colab-df-quickchart:hover {\n",
       "    background-color: var(--hover-bg-color);\n",
       "    box-shadow: 0 1px 2px rgba(60, 64, 67, 0.3), 0 1px 3px 1px rgba(60, 64, 67, 0.15);\n",
       "    fill: var(--button-hover-fill-color);\n",
       "  }\n",
       "\n",
       "  .colab-df-quickchart-complete:disabled,\n",
       "  .colab-df-quickchart-complete:disabled:hover {\n",
       "    background-color: var(--disabled-bg-color);\n",
       "    fill: var(--disabled-fill-color);\n",
       "    box-shadow: none;\n",
       "  }\n",
       "\n",
       "  .colab-df-spinner {\n",
       "    border: 2px solid var(--fill-color);\n",
       "    border-color: transparent;\n",
       "    border-bottom-color: var(--fill-color);\n",
       "    animation:\n",
       "      spin 1s steps(1) infinite;\n",
       "  }\n",
       "\n",
       "  @keyframes spin {\n",
       "    0% {\n",
       "      border-color: transparent;\n",
       "      border-bottom-color: var(--fill-color);\n",
       "      border-left-color: var(--fill-color);\n",
       "    }\n",
       "    20% {\n",
       "      border-color: transparent;\n",
       "      border-left-color: var(--fill-color);\n",
       "      border-top-color: var(--fill-color);\n",
       "    }\n",
       "    30% {\n",
       "      border-color: transparent;\n",
       "      border-left-color: var(--fill-color);\n",
       "      border-top-color: var(--fill-color);\n",
       "      border-right-color: var(--fill-color);\n",
       "    }\n",
       "    40% {\n",
       "      border-color: transparent;\n",
       "      border-right-color: var(--fill-color);\n",
       "      border-top-color: var(--fill-color);\n",
       "    }\n",
       "    60% {\n",
       "      border-color: transparent;\n",
       "      border-right-color: var(--fill-color);\n",
       "    }\n",
       "    80% {\n",
       "      border-color: transparent;\n",
       "      border-right-color: var(--fill-color);\n",
       "      border-bottom-color: var(--fill-color);\n",
       "    }\n",
       "    90% {\n",
       "      border-color: transparent;\n",
       "      border-bottom-color: var(--fill-color);\n",
       "    }\n",
       "  }\n",
       "</style>\n",
       "\n",
       "      <script>\n",
       "        async function quickchart(key) {\n",
       "          const quickchartButtonEl =\n",
       "            document.querySelector('#' + key + ' button');\n",
       "          quickchartButtonEl.disabled = true;  // To prevent multiple clicks.\n",
       "          quickchartButtonEl.classList.add('colab-df-spinner');\n",
       "          try {\n",
       "            const charts = await google.colab.kernel.invokeFunction(\n",
       "                'suggestCharts', [key], {});\n",
       "          } catch (error) {\n",
       "            console.error('Error during call to suggestCharts:', error);\n",
       "          }\n",
       "          quickchartButtonEl.classList.remove('colab-df-spinner');\n",
       "          quickchartButtonEl.classList.add('colab-df-quickchart-complete');\n",
       "        }\n",
       "        (() => {\n",
       "          let quickchartButtonEl =\n",
       "            document.querySelector('#df-57be5441-55c2-471d-b307-95c9aa84838c button');\n",
       "          quickchartButtonEl.style.display =\n",
       "            google.colab.kernel.accessAllowed ? 'block' : 'none';\n",
       "        })();\n",
       "      </script>\n",
       "    </div>\n",
       "\n",
       "  <div id=\"id_31331286-1891-47db-98f0-8bac1b714f22\">\n",
       "    <style>\n",
       "      .colab-df-generate {\n",
       "        background-color: #E8F0FE;\n",
       "        border: none;\n",
       "        border-radius: 50%;\n",
       "        cursor: pointer;\n",
       "        display: none;\n",
       "        fill: #1967D2;\n",
       "        height: 32px;\n",
       "        padding: 0 0 0 0;\n",
       "        width: 32px;\n",
       "      }\n",
       "\n",
       "      .colab-df-generate:hover {\n",
       "        background-color: #E2EBFA;\n",
       "        box-shadow: 0px 1px 2px rgba(60, 64, 67, 0.3), 0px 1px 3px 1px rgba(60, 64, 67, 0.15);\n",
       "        fill: #174EA6;\n",
       "      }\n",
       "\n",
       "      [theme=dark] .colab-df-generate {\n",
       "        background-color: #3B4455;\n",
       "        fill: #D2E3FC;\n",
       "      }\n",
       "\n",
       "      [theme=dark] .colab-df-generate:hover {\n",
       "        background-color: #434B5C;\n",
       "        box-shadow: 0px 1px 3px 1px rgba(0, 0, 0, 0.15);\n",
       "        filter: drop-shadow(0px 1px 2px rgba(0, 0, 0, 0.3));\n",
       "        fill: #FFFFFF;\n",
       "      }\n",
       "    </style>\n",
       "    <button class=\"colab-df-generate\" onclick=\"generateWithVariable('y_test_sample')\"\n",
       "            title=\"Generate code using this dataframe.\"\n",
       "            style=\"display:none;\">\n",
       "\n",
       "  <svg xmlns=\"http://www.w3.org/2000/svg\" height=\"24px\"viewBox=\"0 0 24 24\"\n",
       "       width=\"24px\">\n",
       "    <path d=\"M7,19H8.4L18.45,9,17,7.55,7,17.6ZM5,21V16.75L18.45,3.32a2,2,0,0,1,2.83,0l1.4,1.43a1.91,1.91,0,0,1,.58,1.4,1.91,1.91,0,0,1-.58,1.4L9.25,21ZM18.45,9,17,7.55Zm-12,3A5.31,5.31,0,0,0,4.9,8.1,5.31,5.31,0,0,0,1,6.5,5.31,5.31,0,0,0,4.9,4.9,5.31,5.31,0,0,0,6.5,1,5.31,5.31,0,0,0,8.1,4.9,5.31,5.31,0,0,0,12,6.5,5.46,5.46,0,0,0,6.5,12Z\"/>\n",
       "  </svg>\n",
       "    </button>\n",
       "    <script>\n",
       "      (() => {\n",
       "      const buttonEl =\n",
       "        document.querySelector('#id_31331286-1891-47db-98f0-8bac1b714f22 button.colab-df-generate');\n",
       "      buttonEl.style.display =\n",
       "        google.colab.kernel.accessAllowed ? 'block' : 'none';\n",
       "\n",
       "      buttonEl.onclick = () => {\n",
       "        google.colab.notebook.generateWithVariable('y_test_sample');\n",
       "      }\n",
       "      })();\n",
       "    </script>\n",
       "  </div>\n",
       "\n",
       "    </div>\n",
       "  </div>\n"
      ],
      "text/plain": [
       "       label  rnn_pred_cls\n",
       "0          1             0\n",
       "1          0             0\n",
       "2          0             0\n",
       "3          0             0\n",
       "4          0             0\n",
       "...      ...           ...\n",
       "49995      1             0\n",
       "49996      0             1\n",
       "49997      0             0\n",
       "49998      0             1\n",
       "49999      0             1\n",
       "\n",
       "[49997 rows x 2 columns]"
      ]
     },
     "execution_count": 75,
     "metadata": {},
     "output_type": "execute_result"
    }
   ],
   "source": [
    "y_test_sample # 실제답, rnn이 예측한 클래스 값 비교"
   ]
  },
  {
   "cell_type": "code",
   "execution_count": null,
   "metadata": {
    "colab": {
     "base_uri": "https://localhost:8080/"
    },
    "executionInfo": {
     "elapsed": 4585,
     "status": "ok",
     "timestamp": 1750407474455,
     "user": {
      "displayName": "사본",
      "userId": "00690333374817726342"
     },
     "user_tz": -540
    },
    "id": "gUaexDgrVHgW",
    "outputId": "3c1246a3-55aa-4489-b210-5adb5785e6d8"
   },
   "outputs": [
    {
     "name": "stdout",
     "output_type": "stream",
     "text": [
      "\u001b[1m1563/1563\u001b[0m \u001b[32m━━━━━━━━━━━━━━━━━━━━\u001b[0m\u001b[37m\u001b[0m \u001b[1m5s\u001b[0m 3ms/step - accuracy: 0.5560 - loss: 0.6617\n"
     ]
    },
    {
     "data": {
      "text/plain": [
       "[0.6625497341156006, 0.5554733276367188]"
      ]
     },
     "execution_count": 76,
     "metadata": {},
     "output_type": "execute_result"
    }
   ],
   "source": [
    "# 모델 전체 평가. X_test, y_test 기준\n",
    "model.evaluate(X_test_vec, y_test)\n",
    "# 학습 데이터 정확도 66%, 테스트 데이터 정확도 55%"
   ]
  },
  {
   "cell_type": "markdown",
   "metadata": {
    "id": "HnuNBUWIVHjL"
   },
   "source": [
    "### SimpleRNN(바닐라RNN)의 경우 긴 시퀀스를 가진 데이터를 효과적으로 학습하기 어려움\n",
    "- 순환횟수(시퀀스)가 길어질수록, 초반에 입력된 단어의 기억데이터가 소실되는 기울기 소실 현상이 발생함.\n",
    "- 문장 구성 시 초반 단어가 후반 예측에 영향을 주는 경우, 바닐라RNN이 학습하기 어려움"
   ]
  },
  {
   "cell_type": "markdown",
   "metadata": {
    "id": "XNxm-LgScOLh"
   },
   "source": [
    "# 06-23"
   ]
  },
  {
   "cell_type": "markdown",
   "metadata": {
    "id": "n8wnqg6EOQMG"
   },
   "source": [
    "# LSTM (Long Short Term Memory)\n",
    "- 장기기억과 단기기억을 관리하는 계산이 추가된 RNN 모델\n",
    "- 기존 RNN 구조에서 메모리 셀(Cell)이라는 개념이 추가됨\n",
    "- 가중치를 통해 중요한 기억은 오래, 그렇지 않으면 줄여서 관리\n",
    "- Forget, Input, Output 게이트를 사용함"
   ]
  },
  {
   "cell_type": "code",
   "execution_count": 65,
   "metadata": {
    "executionInfo": {
     "elapsed": 10,
     "status": "ok",
     "timestamp": 1750655652685,
     "user": {
      "displayName": "사본",
      "userId": "00690333374817726342"
     },
     "user_tz": -540
    },
    "id": "jgRvgmxmOkaa"
   },
   "outputs": [],
   "source": [
    "from tensorflow.keras.layers import LSTM"
   ]
  },
  {
   "cell_type": "markdown",
   "metadata": {
    "id": "qVde63qVVFZC"
   },
   "source": [
    "# LSTM 모델링"
   ]
  },
  {
   "cell_type": "code",
   "execution_count": 11,
   "metadata": {
    "executionInfo": {
     "elapsed": 70,
     "status": "ok",
     "timestamp": 1750641141281,
     "user": {
      "displayName": "사본",
      "userId": "00690333374817726342"
     },
     "user_tz": -540
    },
    "id": "ouMvvkxDVHlf"
   },
   "outputs": [],
   "source": [
    "# 모델 설계\n",
    "lstm_model = Sequential()\n",
    "lstm_model.add(InputLayer(shape=(10,1)))\n",
    "lstm_model.add(LSTM(units=64))\n",
    "lstm_model.add(Dense(units=1, activation='sigmoid'))\n",
    "\n",
    "# 모델 학습 및 평가방법 설정\n",
    "lstm_model.compile(\n",
    "    loss='binary_crossentropy',\n",
    "    optimizer='Adam',\n",
    "    metrics=['accuracy']\n",
    ")"
   ]
  },
  {
   "cell_type": "code",
   "execution_count": 21,
   "metadata": {
    "colab": {
     "base_uri": "https://localhost:8080/"
    },
    "collapsed": true,
    "executionInfo": {
     "elapsed": 788614,
     "status": "ok",
     "timestamp": 1750642078526,
     "user": {
      "displayName": "사본",
      "userId": "00690333374817726342"
     },
     "user_tz": -540
    },
    "id": "Ke0P6AkUV-UG",
    "outputId": "01153540-8f40-4302-e75f-beb7a02dc294"
   },
   "outputs": [
    {
     "name": "stdout",
     "output_type": "stream",
     "text": [
      "Epoch 1/40\n",
      "\u001b[1m1070/1070\u001b[0m \u001b[32m━━━━━━━━━━━━━━━━━━━━\u001b[0m\u001b[37m\u001b[0m \u001b[1m19s\u001b[0m 16ms/step - accuracy: 0.5460 - loss: 0.6847 - val_accuracy: 0.5597 - val_loss: 0.6776\n",
      "Epoch 2/40\n",
      "\u001b[1m1070/1070\u001b[0m \u001b[32m━━━━━━━━━━━━━━━━━━━━\u001b[0m\u001b[37m\u001b[0m \u001b[1m23s\u001b[0m 19ms/step - accuracy: 0.5664 - loss: 0.6760 - val_accuracy: 0.5741 - val_loss: 0.6709\n",
      "Epoch 3/40\n",
      "\u001b[1m1070/1070\u001b[0m \u001b[32m━━━━━━━━━━━━━━━━━━━━\u001b[0m\u001b[37m\u001b[0m \u001b[1m18s\u001b[0m 17ms/step - accuracy: 0.5754 - loss: 0.6709 - val_accuracy: 0.5775 - val_loss: 0.6657\n",
      "Epoch 4/40\n",
      "\u001b[1m1070/1070\u001b[0m \u001b[32m━━━━━━━━━━━━━━━━━━━━\u001b[0m\u001b[37m\u001b[0m \u001b[1m18s\u001b[0m 17ms/step - accuracy: 0.5786 - loss: 0.6662 - val_accuracy: 0.5760 - val_loss: 0.6641\n",
      "Epoch 5/40\n",
      "\u001b[1m1070/1070\u001b[0m \u001b[32m━━━━━━━━━━━━━━━━━━━━\u001b[0m\u001b[37m\u001b[0m \u001b[1m19s\u001b[0m 17ms/step - accuracy: 0.5766 - loss: 0.6650 - val_accuracy: 0.5813 - val_loss: 0.6634\n",
      "Epoch 6/40\n",
      "\u001b[1m1070/1070\u001b[0m \u001b[32m━━━━━━━━━━━━━━━━━━━━\u001b[0m\u001b[37m\u001b[0m \u001b[1m19s\u001b[0m 16ms/step - accuracy: 0.5823 - loss: 0.6622 - val_accuracy: 0.5853 - val_loss: 0.6661\n",
      "Epoch 7/40\n",
      "\u001b[1m1070/1070\u001b[0m \u001b[32m━━━━━━━━━━━━━━━━━━━━\u001b[0m\u001b[37m\u001b[0m \u001b[1m18s\u001b[0m 16ms/step - accuracy: 0.5837 - loss: 0.6611 - val_accuracy: 0.5815 - val_loss: 0.6613\n",
      "Epoch 8/40\n",
      "\u001b[1m1070/1070\u001b[0m \u001b[32m━━━━━━━━━━━━━━━━━━━━\u001b[0m\u001b[37m\u001b[0m \u001b[1m17s\u001b[0m 16ms/step - accuracy: 0.5886 - loss: 0.6585 - val_accuracy: 0.5912 - val_loss: 0.6566\n",
      "Epoch 9/40\n",
      "\u001b[1m1070/1070\u001b[0m \u001b[32m━━━━━━━━━━━━━━━━━━━━\u001b[0m\u001b[37m\u001b[0m \u001b[1m18s\u001b[0m 17ms/step - accuracy: 0.5880 - loss: 0.6552 - val_accuracy: 0.5930 - val_loss: 0.6547\n",
      "Epoch 10/40\n",
      "\u001b[1m1070/1070\u001b[0m \u001b[32m━━━━━━━━━━━━━━━━━━━━\u001b[0m\u001b[37m\u001b[0m \u001b[1m21s\u001b[0m 17ms/step - accuracy: 0.5911 - loss: 0.6548 - val_accuracy: 0.5927 - val_loss: 0.6542\n",
      "Epoch 11/40\n",
      "\u001b[1m1070/1070\u001b[0m \u001b[32m━━━━━━━━━━━━━━━━━━━━\u001b[0m\u001b[37m\u001b[0m \u001b[1m18s\u001b[0m 16ms/step - accuracy: 0.5935 - loss: 0.6510 - val_accuracy: 0.5903 - val_loss: 0.6513\n",
      "Epoch 12/40\n",
      "\u001b[1m1070/1070\u001b[0m \u001b[32m━━━━━━━━━━━━━━━━━━━━\u001b[0m\u001b[37m\u001b[0m \u001b[1m20s\u001b[0m 16ms/step - accuracy: 0.5979 - loss: 0.6487 - val_accuracy: 0.5953 - val_loss: 0.6493\n",
      "Epoch 13/40\n",
      "\u001b[1m1070/1070\u001b[0m \u001b[32m━━━━━━━━━━━━━━━━━━━━\u001b[0m\u001b[37m\u001b[0m \u001b[1m21s\u001b[0m 20ms/step - accuracy: 0.5976 - loss: 0.6485 - val_accuracy: 0.5970 - val_loss: 0.6497\n",
      "Epoch 14/40\n",
      "\u001b[1m1070/1070\u001b[0m \u001b[32m━━━━━━━━━━━━━━━━━━━━\u001b[0m\u001b[37m\u001b[0m \u001b[1m39s\u001b[0m 18ms/step - accuracy: 0.6013 - loss: 0.6455 - val_accuracy: 0.5981 - val_loss: 0.6454\n",
      "Epoch 15/40\n",
      "\u001b[1m1070/1070\u001b[0m \u001b[32m━━━━━━━━━━━━━━━━━━━━\u001b[0m\u001b[37m\u001b[0m \u001b[1m17s\u001b[0m 16ms/step - accuracy: 0.6027 - loss: 0.6445 - val_accuracy: 0.5926 - val_loss: 0.6502\n",
      "Epoch 16/40\n",
      "\u001b[1m1070/1070\u001b[0m \u001b[32m━━━━━━━━━━━━━━━━━━━━\u001b[0m\u001b[37m\u001b[0m \u001b[1m21s\u001b[0m 16ms/step - accuracy: 0.6052 - loss: 0.6427 - val_accuracy: 0.6041 - val_loss: 0.6427\n",
      "Epoch 17/40\n",
      "\u001b[1m1070/1070\u001b[0m \u001b[32m━━━━━━━━━━━━━━━━━━━━\u001b[0m\u001b[37m\u001b[0m \u001b[1m18s\u001b[0m 17ms/step - accuracy: 0.6068 - loss: 0.6414 - val_accuracy: 0.6029 - val_loss: 0.6432\n",
      "Epoch 18/40\n",
      "\u001b[1m1070/1070\u001b[0m \u001b[32m━━━━━━━━━━━━━━━━━━━━\u001b[0m\u001b[37m\u001b[0m \u001b[1m19s\u001b[0m 16ms/step - accuracy: 0.6052 - loss: 0.6399 - val_accuracy: 0.6014 - val_loss: 0.6434\n",
      "Epoch 19/40\n",
      "\u001b[1m1070/1070\u001b[0m \u001b[32m━━━━━━━━━━━━━━━━━━━━\u001b[0m\u001b[37m\u001b[0m \u001b[1m23s\u001b[0m 18ms/step - accuracy: 0.6070 - loss: 0.6402 - val_accuracy: 0.6060 - val_loss: 0.6377\n",
      "Epoch 20/40\n",
      "\u001b[1m1070/1070\u001b[0m \u001b[32m━━━━━━━━━━━━━━━━━━━━\u001b[0m\u001b[37m\u001b[0m \u001b[1m18s\u001b[0m 16ms/step - accuracy: 0.6100 - loss: 0.6365 - val_accuracy: 0.6069 - val_loss: 0.6386\n",
      "Epoch 21/40\n",
      "\u001b[1m1070/1070\u001b[0m \u001b[32m━━━━━━━━━━━━━━━━━━━━\u001b[0m\u001b[37m\u001b[0m \u001b[1m22s\u001b[0m 17ms/step - accuracy: 0.6097 - loss: 0.6365 - val_accuracy: 0.6102 - val_loss: 0.6373\n",
      "Epoch 22/40\n",
      "\u001b[1m1070/1070\u001b[0m \u001b[32m━━━━━━━━━━━━━━━━━━━━\u001b[0m\u001b[37m\u001b[0m \u001b[1m19s\u001b[0m 16ms/step - accuracy: 0.6089 - loss: 0.6372 - val_accuracy: 0.6079 - val_loss: 0.6389\n",
      "Epoch 23/40\n",
      "\u001b[1m1070/1070\u001b[0m \u001b[32m━━━━━━━━━━━━━━━━━━━━\u001b[0m\u001b[37m\u001b[0m \u001b[1m21s\u001b[0m 16ms/step - accuracy: 0.6101 - loss: 0.6364 - val_accuracy: 0.6108 - val_loss: 0.6370\n",
      "Epoch 24/40\n",
      "\u001b[1m1070/1070\u001b[0m \u001b[32m━━━━━━━━━━━━━━━━━━━━\u001b[0m\u001b[37m\u001b[0m \u001b[1m19s\u001b[0m 17ms/step - accuracy: 0.6147 - loss: 0.6326 - val_accuracy: 0.6108 - val_loss: 0.6356\n",
      "Epoch 25/40\n",
      "\u001b[1m1070/1070\u001b[0m \u001b[32m━━━━━━━━━━━━━━━━━━━━\u001b[0m\u001b[37m\u001b[0m \u001b[1m18s\u001b[0m 17ms/step - accuracy: 0.6151 - loss: 0.6304 - val_accuracy: 0.6115 - val_loss: 0.6364\n",
      "Epoch 26/40\n",
      "\u001b[1m1070/1070\u001b[0m \u001b[32m━━━━━━━━━━━━━━━━━━━━\u001b[0m\u001b[37m\u001b[0m \u001b[1m18s\u001b[0m 17ms/step - accuracy: 0.6140 - loss: 0.6318 - val_accuracy: 0.6154 - val_loss: 0.6306\n",
      "Epoch 27/40\n",
      "\u001b[1m1070/1070\u001b[0m \u001b[32m━━━━━━━━━━━━━━━━━━━━\u001b[0m\u001b[37m\u001b[0m \u001b[1m20s\u001b[0m 17ms/step - accuracy: 0.6175 - loss: 0.6293 - val_accuracy: 0.6180 - val_loss: 0.6292\n",
      "Epoch 28/40\n",
      "\u001b[1m1070/1070\u001b[0m \u001b[32m━━━━━━━━━━━━━━━━━━━━\u001b[0m\u001b[37m\u001b[0m \u001b[1m21s\u001b[0m 18ms/step - accuracy: 0.6188 - loss: 0.6280 - val_accuracy: 0.6134 - val_loss: 0.6323\n",
      "Epoch 29/40\n",
      "\u001b[1m1070/1070\u001b[0m \u001b[32m━━━━━━━━━━━━━━━━━━━━\u001b[0m\u001b[37m\u001b[0m \u001b[1m18s\u001b[0m 16ms/step - accuracy: 0.6184 - loss: 0.6279 - val_accuracy: 0.6162 - val_loss: 0.6310\n",
      "Epoch 30/40\n",
      "\u001b[1m1070/1070\u001b[0m \u001b[32m━━━━━━━━━━━━━━━━━━━━\u001b[0m\u001b[37m\u001b[0m \u001b[1m23s\u001b[0m 18ms/step - accuracy: 0.6204 - loss: 0.6258 - val_accuracy: 0.6184 - val_loss: 0.6303\n",
      "Epoch 31/40\n",
      "\u001b[1m1070/1070\u001b[0m \u001b[32m━━━━━━━━━━━━━━━━━━━━\u001b[0m\u001b[37m\u001b[0m \u001b[1m19s\u001b[0m 16ms/step - accuracy: 0.6240 - loss: 0.6240 - val_accuracy: 0.6205 - val_loss: 0.6277\n",
      "Epoch 32/40\n",
      "\u001b[1m1070/1070\u001b[0m \u001b[32m━━━━━━━━━━━━━━━━━━━━\u001b[0m\u001b[37m\u001b[0m \u001b[1m18s\u001b[0m 17ms/step - accuracy: 0.6192 - loss: 0.6265 - val_accuracy: 0.6173 - val_loss: 0.6304\n",
      "Epoch 33/40\n",
      "\u001b[1m1070/1070\u001b[0m \u001b[32m━━━━━━━━━━━━━━━━━━━━\u001b[0m\u001b[37m\u001b[0m \u001b[1m19s\u001b[0m 17ms/step - accuracy: 0.6198 - loss: 0.6246 - val_accuracy: 0.6142 - val_loss: 0.6332\n",
      "Epoch 34/40\n",
      "\u001b[1m1070/1070\u001b[0m \u001b[32m━━━━━━━━━━━━━━━━━━━━\u001b[0m\u001b[37m\u001b[0m \u001b[1m17s\u001b[0m 16ms/step - accuracy: 0.6212 - loss: 0.6257 - val_accuracy: 0.6156 - val_loss: 0.6338\n",
      "Epoch 35/40\n",
      "\u001b[1m1070/1070\u001b[0m \u001b[32m━━━━━━━━━━━━━━━━━━━━\u001b[0m\u001b[37m\u001b[0m \u001b[1m18s\u001b[0m 17ms/step - accuracy: 0.6215 - loss: 0.6230 - val_accuracy: 0.6228 - val_loss: 0.6248\n",
      "Epoch 36/40\n",
      "\u001b[1m1070/1070\u001b[0m \u001b[32m━━━━━━━━━━━━━━━━━━━━\u001b[0m\u001b[37m\u001b[0m \u001b[1m19s\u001b[0m 16ms/step - accuracy: 0.6231 - loss: 0.6223 - val_accuracy: 0.6219 - val_loss: 0.6263\n",
      "Epoch 37/40\n",
      "\u001b[1m1070/1070\u001b[0m \u001b[32m━━━━━━━━━━━━━━━━━━━━\u001b[0m\u001b[37m\u001b[0m \u001b[1m17s\u001b[0m 16ms/step - accuracy: 0.6228 - loss: 0.6223 - val_accuracy: 0.6208 - val_loss: 0.6252\n",
      "Epoch 38/40\n",
      "\u001b[1m1070/1070\u001b[0m \u001b[32m━━━━━━━━━━━━━━━━━━━━\u001b[0m\u001b[37m\u001b[0m \u001b[1m17s\u001b[0m 16ms/step - accuracy: 0.6269 - loss: 0.6212 - val_accuracy: 0.6225 - val_loss: 0.6237\n",
      "Epoch 39/40\n",
      "\u001b[1m1070/1070\u001b[0m \u001b[32m━━━━━━━━━━━━━━━━━━━━\u001b[0m\u001b[37m\u001b[0m \u001b[1m22s\u001b[0m 17ms/step - accuracy: 0.6291 - loss: 0.6201 - val_accuracy: 0.6237 - val_loss: 0.6234\n",
      "Epoch 40/40\n",
      "\u001b[1m1070/1070\u001b[0m \u001b[32m━━━━━━━━━━━━━━━━━━━━\u001b[0m\u001b[37m\u001b[0m \u001b[1m17s\u001b[0m 16ms/step - accuracy: 0.6278 - loss: 0.6172 - val_accuracy: 0.6249 - val_loss: 0.6242\n"
     ]
    }
   ],
   "source": [
    "# 모델 학습\n",
    "lstm_his = lstm_model.fit(X_train_vec, y_train,\n",
    "                          validation_split=0.2,\n",
    "                          epochs=40, batch_size=128)"
   ]
  },
  {
   "cell_type": "code",
   "execution_count": 22,
   "metadata": {
    "colab": {
     "base_uri": "https://localhost:8080/",
     "height": 368
    },
    "executionInfo": {
     "elapsed": 182,
     "status": "ok",
     "timestamp": 1750642172357,
     "user": {
      "displayName": "사본",
      "userId": "00690333374817726342"
     },
     "user_tz": -540
    },
    "id": "kJU76Dg0Win1",
    "outputId": "4ad61458-ecfd-4fa9-900e-7a1b3638cddc"
   },
   "outputs": [
    {
     "data": {
      "image/png": "[encoded data removed]",
      "text/plain": [
       "<Figure size 1200x400 with 1 Axes>"
      ]
     },
     "metadata": {},
     "output_type": "display_data"
    }
   ],
   "source": [
    "# 학습 결과 시각화\n",
    "import matplotlib.pyplot as plt\n",
    "plt.figure(figsize=(12,4))\n",
    "plt.plot(lstm_his.history['accuracy'], label='train_acc')\n",
    "plt.plot(lstm_his.history['val_accuracy'], label='val_acc')\n",
    "plt.legend()\n",
    "plt.show()"
   ]
  },
  {
   "cell_type": "markdown",
   "metadata": {
    "id": "wexfF9VFZ8CQ"
   },
   "source": [
    "# GRU (Gated Recurrent Unit)\n",
    "- LSTM의 복잡성을 줄인 순환 신경망(RNN)의 변형\n",
    "- Reset Gate, Update Gate 두 가지만 사용\n",
    "- 셀 상태(Cell state) 없이 은닉 상태(hidden state)하나만 관리"
   ]
  },
  {
   "cell_type": "markdown",
   "metadata": {
    "id": "MuWnK82MZ8H1"
   },
   "source": [
    "# GRU 모델링"
   ]
  },
  {
   "cell_type": "code",
   "execution_count": 66,
   "metadata": {
    "executionInfo": {
     "elapsed": 43,
     "status": "ok",
     "timestamp": 1750655655727,
     "user": {
      "displayName": "사본",
      "userId": "00690333374817726342"
     },
     "user_tz": -540
    },
    "id": "M7aJwHWdZ8M7"
   },
   "outputs": [],
   "source": [
    "from tensorflow.keras.layers import GRU"
   ]
  },
  {
   "cell_type": "code",
   "execution_count": 24,
   "metadata": {
    "executionInfo": {
     "elapsed": 62,
     "status": "ok",
     "timestamp": 1750643036361,
     "user": {
      "displayName": "사본",
      "userId": "00690333374817726342"
     },
     "user_tz": -540
    },
    "id": "N6LYLLKLZ8PK"
   },
   "outputs": [],
   "source": [
    "# 모델 설계\n",
    "gru_model = Sequential()\n",
    "gru_model.add(InputLayer(shape=(10,1)))\n",
    "gru_model.add(GRU(units=64))\n",
    "gru_model.add(Dense(units=1, activation='sigmoid'))\n",
    "\n",
    "# 모델 학습 및 평가방법 설정\n",
    "gru_model.compile(\n",
    "    loss='binary_crossentropy',\n",
    "    optimizer='Adam',\n",
    "    metrics=['accuracy']\n",
    ")"
   ]
  },
  {
   "cell_type": "code",
   "execution_count": 25,
   "metadata": {
    "colab": {
     "base_uri": "https://localhost:8080/"
    },
    "collapsed": true,
    "executionInfo": {
     "elapsed": 1280453,
     "status": "ok",
     "timestamp": 1750644318762,
     "user": {
      "displayName": "사본",
      "userId": "00690333374817726342"
     },
     "user_tz": -540
    },
    "id": "SvgNaQTDZ8Rl",
    "outputId": "c3eb6328-47c8-4629-bf5f-eff606488c5e"
   },
   "outputs": [
    {
     "name": "stdout",
     "output_type": "stream",
     "text": [
      "Epoch 1/40\n",
      "\u001b[1m1070/1070\u001b[0m \u001b[32m━━━━━━━━━━━━━━━━━━━━\u001b[0m\u001b[37m\u001b[0m \u001b[1m22s\u001b[0m 18ms/step - accuracy: 0.5437 - loss: 0.6856 - val_accuracy: 0.5592 - val_loss: 0.6773\n",
      "Epoch 2/40\n",
      "\u001b[1m1070/1070\u001b[0m \u001b[32m━━━━━━━━━━━━━━━━━━━━\u001b[0m\u001b[37m\u001b[0m \u001b[1m23s\u001b[0m 21ms/step - accuracy: 0.5624 - loss: 0.6769 - val_accuracy: 0.5686 - val_loss: 0.6723\n",
      "Epoch 3/40\n",
      "\u001b[1m1070/1070\u001b[0m \u001b[32m━━━━━━━━━━━━━━━━━━━━\u001b[0m\u001b[37m\u001b[0m \u001b[1m20s\u001b[0m 19ms/step - accuracy: 0.5720 - loss: 0.6702 - val_accuracy: 0.5711 - val_loss: 0.6688\n",
      "Epoch 4/40\n",
      "\u001b[1m1070/1070\u001b[0m \u001b[32m━━━━━━━━━━━━━━━━━━━━\u001b[0m\u001b[37m\u001b[0m \u001b[1m41s\u001b[0m 19ms/step - accuracy: 0.5732 - loss: 0.6670 - val_accuracy: 0.5794 - val_loss: 0.6696\n",
      "Epoch 5/40\n",
      "\u001b[1m1070/1070\u001b[0m \u001b[32m━━━━━━━━━━━━━━━━━━━━\u001b[0m\u001b[37m\u001b[0m \u001b[1m22s\u001b[0m 20ms/step - accuracy: 0.5800 - loss: 0.6645 - val_accuracy: 0.5765 - val_loss: 0.6642\n",
      "Epoch 6/40\n",
      "\u001b[1m1070/1070\u001b[0m \u001b[32m━━━━━━━━━━━━━━━━━━━━\u001b[0m\u001b[37m\u001b[0m \u001b[1m39s\u001b[0m 18ms/step - accuracy: 0.5777 - loss: 0.6627 - val_accuracy: 0.5825 - val_loss: 0.6602\n",
      "Epoch 7/40\n",
      "\u001b[1m1070/1070\u001b[0m \u001b[32m━━━━━━━━━━━━━━━━━━━━\u001b[0m\u001b[37m\u001b[0m \u001b[1m23s\u001b[0m 21ms/step - accuracy: 0.5844 - loss: 0.6596 - val_accuracy: 0.5814 - val_loss: 0.6592\n",
      "Epoch 8/40\n",
      "\u001b[1m1070/1070\u001b[0m \u001b[32m━━━━━━━━━━━━━━━━━━━━\u001b[0m\u001b[37m\u001b[0m \u001b[1m21s\u001b[0m 19ms/step - accuracy: 0.5908 - loss: 0.6549 - val_accuracy: 0.5773 - val_loss: 0.6620\n",
      "Epoch 9/40\n",
      "\u001b[1m1070/1070\u001b[0m \u001b[32m━━━━━━━━━━━━━━━━━━━━\u001b[0m\u001b[37m\u001b[0m \u001b[1m40s\u001b[0m 18ms/step - accuracy: 0.5952 - loss: 0.6527 - val_accuracy: 0.5947 - val_loss: 0.6514\n",
      "Epoch 10/40\n",
      "\u001b[1m1070/1070\u001b[0m \u001b[32m━━━━━━━━━━━━━━━━━━━━\u001b[0m\u001b[37m\u001b[0m \u001b[1m23s\u001b[0m 20ms/step - accuracy: 0.5961 - loss: 0.6510 - val_accuracy: 0.5920 - val_loss: 0.6551\n",
      "Epoch 11/40\n",
      "\u001b[1m1070/1070\u001b[0m \u001b[32m━━━━━━━━━━━━━━━━━━━━\u001b[0m\u001b[37m\u001b[0m \u001b[1m38s\u001b[0m 18ms/step - accuracy: 0.6004 - loss: 0.6473 - val_accuracy: 0.5958 - val_loss: 0.6518\n",
      "Epoch 12/40\n",
      "\u001b[1m1070/1070\u001b[0m \u001b[32m━━━━━━━━━━━━━━━━━━━━\u001b[0m\u001b[37m\u001b[0m \u001b[1m23s\u001b[0m 20ms/step - accuracy: 0.6030 - loss: 0.6467 - val_accuracy: 0.5986 - val_loss: 0.6486\n",
      "Epoch 13/40\n",
      "\u001b[1m1070/1070\u001b[0m \u001b[32m━━━━━━━━━━━━━━━━━━━━\u001b[0m\u001b[37m\u001b[0m \u001b[1m40s\u001b[0m 20ms/step - accuracy: 0.6022 - loss: 0.6452 - val_accuracy: 0.6042 - val_loss: 0.6444\n",
      "Epoch 14/40\n",
      "\u001b[1m1070/1070\u001b[0m \u001b[32m━━━━━━━━━━━━━━━━━━━━\u001b[0m\u001b[37m\u001b[0m \u001b[1m42s\u001b[0m 21ms/step - accuracy: 0.6051 - loss: 0.6421 - val_accuracy: 0.6025 - val_loss: 0.6435\n",
      "Epoch 15/40\n",
      "\u001b[1m1070/1070\u001b[0m \u001b[32m━━━━━━━━━━━━━━━━━━━━\u001b[0m\u001b[37m\u001b[0m \u001b[1m41s\u001b[0m 21ms/step - accuracy: 0.6045 - loss: 0.6425 - val_accuracy: 0.6047 - val_loss: 0.6438\n",
      "Epoch 16/40\n",
      "\u001b[1m1070/1070\u001b[0m \u001b[32m━━━━━━━━━━━━━━━━━━━━\u001b[0m\u001b[37m\u001b[0m \u001b[1m43s\u001b[0m 23ms/step - accuracy: 0.6103 - loss: 0.6398 - val_accuracy: 0.6046 - val_loss: 0.6469\n",
      "Epoch 17/40\n",
      "\u001b[1m1070/1070\u001b[0m \u001b[32m━━━━━━━━━━━━━━━━━━━━\u001b[0m\u001b[37m\u001b[0m \u001b[1m36s\u001b[0m 18ms/step - accuracy: 0.6087 - loss: 0.6384 - val_accuracy: 0.6122 - val_loss: 0.6376\n",
      "Epoch 18/40\n",
      "\u001b[1m1070/1070\u001b[0m \u001b[32m━━━━━━━━━━━━━━━━━━━━\u001b[0m\u001b[37m\u001b[0m \u001b[1m24s\u001b[0m 21ms/step - accuracy: 0.6122 - loss: 0.6360 - val_accuracy: 0.6095 - val_loss: 0.6408\n",
      "Epoch 19/40\n",
      "\u001b[1m1070/1070\u001b[0m \u001b[32m━━━━━━━━━━━━━━━━━━━━\u001b[0m\u001b[37m\u001b[0m \u001b[1m20s\u001b[0m 18ms/step - accuracy: 0.6144 - loss: 0.6356 - val_accuracy: 0.6136 - val_loss: 0.6378\n",
      "Epoch 20/40\n",
      "\u001b[1m1070/1070\u001b[0m \u001b[32m━━━━━━━━━━━━━━━━━━━━\u001b[0m\u001b[37m\u001b[0m \u001b[1m24s\u001b[0m 21ms/step - accuracy: 0.6178 - loss: 0.6332 - val_accuracy: 0.6143 - val_loss: 0.6361\n",
      "Epoch 21/40\n",
      "\u001b[1m1070/1070\u001b[0m \u001b[32m━━━━━━━━━━━━━━━━━━━━\u001b[0m\u001b[37m\u001b[0m \u001b[1m40s\u001b[0m 21ms/step - accuracy: 0.6168 - loss: 0.6334 - val_accuracy: 0.6152 - val_loss: 0.6348\n",
      "Epoch 22/40\n",
      "\u001b[1m1070/1070\u001b[0m \u001b[32m━━━━━━━━━━━━━━━━━━━━\u001b[0m\u001b[37m\u001b[0m \u001b[1m40s\u001b[0m 19ms/step - accuracy: 0.6185 - loss: 0.6317 - val_accuracy: 0.6207 - val_loss: 0.6341\n",
      "Epoch 23/40\n",
      "\u001b[1m1070/1070\u001b[0m \u001b[32m━━━━━━━━━━━━━━━━━━━━\u001b[0m\u001b[37m\u001b[0m \u001b[1m41s\u001b[0m 19ms/step - accuracy: 0.6203 - loss: 0.6304 - val_accuracy: 0.6212 - val_loss: 0.6319\n",
      "Epoch 24/40\n",
      "\u001b[1m1070/1070\u001b[0m \u001b[32m━━━━━━━━━━━━━━━━━━━━\u001b[0m\u001b[37m\u001b[0m \u001b[1m40s\u001b[0m 18ms/step - accuracy: 0.6222 - loss: 0.6290 - val_accuracy: 0.6211 - val_loss: 0.6312\n",
      "Epoch 25/40\n",
      "\u001b[1m1070/1070\u001b[0m \u001b[32m━━━━━━━━━━━━━━━━━━━━\u001b[0m\u001b[37m\u001b[0m \u001b[1m21s\u001b[0m 19ms/step - accuracy: 0.6221 - loss: 0.6267 - val_accuracy: 0.6208 - val_loss: 0.6315\n",
      "Epoch 26/40\n",
      "\u001b[1m1070/1070\u001b[0m \u001b[32m━━━━━━━━━━━━━━━━━━━━\u001b[0m\u001b[37m\u001b[0m \u001b[1m21s\u001b[0m 19ms/step - accuracy: 0.6263 - loss: 0.6259 - val_accuracy: 0.6195 - val_loss: 0.6306\n",
      "Epoch 27/40\n",
      "\u001b[1m1070/1070\u001b[0m \u001b[32m━━━━━━━━━━━━━━━━━━━━\u001b[0m\u001b[37m\u001b[0m \u001b[1m42s\u001b[0m 20ms/step - accuracy: 0.6284 - loss: 0.6243 - val_accuracy: 0.6181 - val_loss: 0.6322\n",
      "Epoch 28/40\n",
      "\u001b[1m1070/1070\u001b[0m \u001b[32m━━━━━━━━━━━━━━━━━━━━\u001b[0m\u001b[37m\u001b[0m \u001b[1m41s\u001b[0m 20ms/step - accuracy: 0.6274 - loss: 0.6238 - val_accuracy: 0.6158 - val_loss: 0.6339\n",
      "Epoch 29/40\n",
      "\u001b[1m1070/1070\u001b[0m \u001b[32m━━━━━━━━━━━━━━━━━━━━\u001b[0m\u001b[37m\u001b[0m \u001b[1m41s\u001b[0m 20ms/step - accuracy: 0.6263 - loss: 0.6229 - val_accuracy: 0.6251 - val_loss: 0.6259\n",
      "Epoch 30/40\n",
      "\u001b[1m1070/1070\u001b[0m \u001b[32m━━━━━━━━━━━━━━━━━━━━\u001b[0m\u001b[37m\u001b[0m \u001b[1m21s\u001b[0m 19ms/step - accuracy: 0.6280 - loss: 0.6229 - val_accuracy: 0.6269 - val_loss: 0.6302\n",
      "Epoch 31/40\n",
      "\u001b[1m1070/1070\u001b[0m \u001b[32m━━━━━━━━━━━━━━━━━━━━\u001b[0m\u001b[37m\u001b[0m \u001b[1m41s\u001b[0m 19ms/step - accuracy: 0.6285 - loss: 0.6218 - val_accuracy: 0.6296 - val_loss: 0.6235\n",
      "Epoch 32/40\n",
      "\u001b[1m1070/1070\u001b[0m \u001b[32m━━━━━━━━━━━━━━━━━━━━\u001b[0m\u001b[37m\u001b[0m \u001b[1m42s\u001b[0m 20ms/step - accuracy: 0.6316 - loss: 0.6195 - val_accuracy: 0.6295 - val_loss: 0.6225\n",
      "Epoch 33/40\n",
      "\u001b[1m1070/1070\u001b[0m \u001b[32m━━━━━━━━━━━━━━━━━━━━\u001b[0m\u001b[37m\u001b[0m \u001b[1m41s\u001b[0m 20ms/step - accuracy: 0.6317 - loss: 0.6186 - val_accuracy: 0.6316 - val_loss: 0.6230\n",
      "Epoch 34/40\n",
      "\u001b[1m1070/1070\u001b[0m \u001b[32m━━━━━━━━━━━━━━━━━━━━\u001b[0m\u001b[37m\u001b[0m \u001b[1m42s\u001b[0m 21ms/step - accuracy: 0.6325 - loss: 0.6187 - val_accuracy: 0.6320 - val_loss: 0.6237\n",
      "Epoch 35/40\n",
      "\u001b[1m1070/1070\u001b[0m \u001b[32m━━━━━━━━━━━━━━━━━━━━\u001b[0m\u001b[37m\u001b[0m \u001b[1m39s\u001b[0m 20ms/step - accuracy: 0.6338 - loss: 0.6176 - val_accuracy: 0.6333 - val_loss: 0.6200\n",
      "Epoch 36/40\n",
      "\u001b[1m1070/1070\u001b[0m \u001b[32m━━━━━━━━━━━━━━━━━━━━\u001b[0m\u001b[37m\u001b[0m \u001b[1m20s\u001b[0m 19ms/step - accuracy: 0.6349 - loss: 0.6157 - val_accuracy: 0.6319 - val_loss: 0.6199\n",
      "Epoch 37/40\n",
      "\u001b[1m1070/1070\u001b[0m \u001b[32m━━━━━━━━━━━━━━━━━━━━\u001b[0m\u001b[37m\u001b[0m \u001b[1m22s\u001b[0m 21ms/step - accuracy: 0.6388 - loss: 0.6146 - val_accuracy: 0.6336 - val_loss: 0.6185\n",
      "Epoch 38/40\n",
      "\u001b[1m1070/1070\u001b[0m \u001b[32m━━━━━━━━━━━━━━━━━━━━\u001b[0m\u001b[37m\u001b[0m \u001b[1m39s\u001b[0m 19ms/step - accuracy: 0.6378 - loss: 0.6141 - val_accuracy: 0.6348 - val_loss: 0.6187\n",
      "Epoch 39/40\n",
      "\u001b[1m1070/1070\u001b[0m \u001b[32m━━━━━━━━━━━━━━━━━━━━\u001b[0m\u001b[37m\u001b[0m \u001b[1m22s\u001b[0m 20ms/step - accuracy: 0.6410 - loss: 0.6130 - val_accuracy: 0.6302 - val_loss: 0.6225\n",
      "Epoch 40/40\n",
      "\u001b[1m1070/1070\u001b[0m \u001b[32m━━━━━━━━━━━━━━━━━━━━\u001b[0m\u001b[37m\u001b[0m \u001b[1m20s\u001b[0m 18ms/step - accuracy: 0.6378 - loss: 0.6144 - val_accuracy: 0.6332 - val_loss: 0.6196\n"
     ]
    }
   ],
   "source": [
    "# 모델 학습\n",
    "gru_his = gru_model.fit(X_train_vec, y_train,\n",
    "                          validation_split=0.2,\n",
    "                          epochs=40, batch_size=128)"
   ]
  },
  {
   "cell_type": "code",
   "execution_count": 26,
   "metadata": {
    "colab": {
     "base_uri": "https://localhost:8080/",
     "height": 368
    },
    "executionInfo": {
     "elapsed": 158,
     "status": "ok",
     "timestamp": 1750644319173,
     "user": {
      "displayName": "사본",
      "userId": "00690333374817726342"
     },
     "user_tz": -540
    },
    "id": "Vuh6PQwBZ8UK",
    "outputId": "445194e3-0814-4135-a365-51011380a1bb"
   },
   "outputs": [
    {
     "data": {
      "image/png": "[encoded data removed]",
      "text/plain": [
       "<Figure size 1200x400 with 1 Axes>"
      ]
     },
     "metadata": {},
     "output_type": "display_data"
    }
   ],
   "source": [
    "# 학습 결과 시각화\n",
    "import matplotlib.pyplot as plt\n",
    "plt.figure(figsize=(12,4))\n",
    "plt.plot(gru_his.history['accuracy'], label='train_acc')\n",
    "plt.plot(gru_his.history['val_accuracy'], label='val_acc')\n",
    "plt.legend()\n",
    "plt.show()"
   ]
  },
  {
   "cell_type": "markdown",
   "metadata": {
    "id": "RZwq6affZ8Wl"
   },
   "source": [
    "### 워드 임베딩\n",
    "- 인공지능 기반의 텍스트 마이닝, 자연어처리 모델링을 할 때 입력되는 데이터의 수치화가 필요\n",
    "- 현재 라벨 인코딩 기반의 수치화는 모델이 단어의 빈도 패턴을 학습하는 것과 비슷\n",
    "- 단어의 본질적인 의미를 파악할 수 있도록 수치화를 정교하게 해보자\n",
    "- 워드 임베딩 : 단어 > 벡터. 표현 방법, 단어를 밀집 표현으로 변환"
   ]
  },
  {
   "cell_type": "markdown",
   "metadata": {
    "id": "Ryd820gcZ8ZX"
   },
   "source": [
    "# word2vec 맛보기"
   ]
  },
  {
   "cell_type": "code",
   "execution_count": 3,
   "metadata": {
    "colab": {
     "base_uri": "https://localhost:8080/"
    },
    "executionInfo": {
     "elapsed": 20204,
     "status": "ok",
     "timestamp": 1750645868826,
     "user": {
      "displayName": "사본",
      "userId": "00690333374817726342"
     },
     "user_tz": -540
    },
    "id": "5CjUgJu2Z8cc",
    "outputId": "bec55369-0022-4b8d-b99e-529803a652a8"
   },
   "outputs": [
    {
     "name": "stdout",
     "output_type": "stream",
     "text": [
      "\u001b[2K     \u001b[90m━━━━━━━━━━━━━━━━━━━━━━━━━━━━━━━━━━━━━━━━\u001b[0m \u001b[32m61.0/61.0 kB\u001b[0m \u001b[31m4.3 MB/s\u001b[0m eta \u001b[36m0:00:00\u001b[0m\n",
      "\u001b[2K     \u001b[90m━━━━━━━━━━━━━━━━━━━━━━━━━━━━━━━━━━━━━━━━\u001b[0m \u001b[32m60.6/60.6 kB\u001b[0m \u001b[31m4.4 MB/s\u001b[0m eta \u001b[36m0:00:00\u001b[0m\n",
      "\u001b[2K   \u001b[90m━━━━━━━━━━━━━━━━━━━━━━━━━━━━━━━━━━━━━━━━\u001b[0m \u001b[32m26.7/26.7 MB\u001b[0m \u001b[31m67.2 MB/s\u001b[0m eta \u001b[36m0:00:00\u001b[0m\n",
      "\u001b[2K   \u001b[90m━━━━━━━━━━━━━━━━━━━━━━━━━━━━━━━━━━━━━━━━\u001b[0m \u001b[32m18.3/18.3 MB\u001b[0m \u001b[31m91.0 MB/s\u001b[0m eta \u001b[36m0:00:00\u001b[0m\n",
      "\u001b[2K   \u001b[90m━━━━━━━━━━━━━━━━━━━━━━━━━━━━━━━━━━━━━━━━\u001b[0m \u001b[32m38.6/38.6 MB\u001b[0m \u001b[31m16.3 MB/s\u001b[0m eta \u001b[36m0:00:00\u001b[0m\n",
      "\u001b[?25h\u001b[31mERROR: pip's dependency resolver does not currently take into account all the packages that are installed. This behaviour is the source of the following dependency conflicts.\n",
      "tsfresh 0.21.0 requires scipy>=1.14.0; python_version >= \"3.10\", but you have scipy 1.13.1 which is incompatible.\n",
      "thinc 8.3.6 requires numpy<3.0.0,>=2.0.0, but you have numpy 1.26.4 which is incompatible.\u001b[0m\u001b[31m\n",
      "\u001b[0m"
     ]
    }
   ],
   "source": [
    "!pip -q install -U gensim"
   ]
  },
  {
   "cell_type": "code",
   "execution_count": null,
   "metadata": {
    "id": "EIsT5raiZ8e5"
   },
   "outputs": [],
   "source": [
    "# gensim : 텍스트마이닝, NLP 분야에 유용한 패키지"
   ]
  },
  {
   "cell_type": "code",
   "execution_count": 67,
   "metadata": {
    "executionInfo": {
     "elapsed": 2,
     "status": "ok",
     "timestamp": 1750655662546,
     "user": {
      "displayName": "사본",
      "userId": "00690333374817726342"
     },
     "user_tz": -540
    },
    "id": "aejriaalZ8hu"
   },
   "outputs": [],
   "source": [
    "import gensim.downloader as api"
   ]
  },
  {
   "cell_type": "code",
   "execution_count": 3,
   "metadata": {
    "colab": {
     "base_uri": "https://localhost:8080/"
    },
    "collapsed": true,
    "executionInfo": {
     "elapsed": 278,
     "status": "ok",
     "timestamp": 1750646502896,
     "user": {
      "displayName": "사본",
      "userId": "00690333374817726342"
     },
     "user_tz": -540
    },
    "id": "Ie1otYcYqXVG",
    "outputId": "640c5f2f-e2b5-43c2-b8e4-f87d874eca45"
   },
   "outputs": [
    {
     "data": {
      "text/plain": [
       "{'corpora': {'semeval-2016-2017-task3-subtaskBC': {'num_records': -1,\n",
       "   'record_format': 'dict',\n",
       "   'file_size': 6344358,\n",
       "   'reader_code': 'https://github.com/RaRe-Technologies/gensim-data/releases/download/semeval-2016-2017-task3-subtaskB-eng/__init__.py',\n",
       "   'license': 'All files released for the task are free for general research use',\n",
       "   'fields': {'2016-train': ['...'],\n",
       "    '2016-dev': ['...'],\n",
       "    '2017-test': ['...'],\n",
       "    '2016-test': ['...']},\n",
       "   'description': 'SemEval 2016 / 2017 Task 3 Subtask B and C datasets contain train+development (317 original questions, 3,169 related questions, and 31,690 comments), and test datasets in English. The description of the tasks and the collected data is given in sections 3 and 4.1 of the task paper http://alt.qcri.org/semeval2016/task3/data/uploads/semeval2016-task3-report.pdf linked in section “Papers” of https://github.com/RaRe-Technologies/gensim-data/issues/18.',\n",
       "   'checksum': '701ea67acd82e75f95e1d8e62fb0ad29',\n",
       "   'file_name': 'semeval-2016-2017-task3-subtaskBC.gz',\n",
       "   'read_more': ['http://alt.qcri.org/semeval2017/task3/',\n",
       "    'http://alt.qcri.org/semeval2017/task3/data/uploads/semeval2017-task3.pdf',\n",
       "    'https://github.com/RaRe-Technologies/gensim-data/issues/18',\n",
       "    'https://github.com/Witiko/semeval-2016_2017-task3-subtaskB-english'],\n",
       "   'parts': 1},\n",
       "  'semeval-2016-2017-task3-subtaskA-unannotated': {'num_records': 189941,\n",
       "   'record_format': 'dict',\n",
       "   'file_size': 234373151,\n",
       "   'reader_code': 'https://github.com/RaRe-Technologies/gensim-data/releases/download/semeval-2016-2017-task3-subtaskA-unannotated-eng/__init__.py',\n",
       "   'license': 'These datasets are free for general research use.',\n",
       "   'fields': {'THREAD_SEQUENCE': '',\n",
       "    'RelQuestion': {'RELQ_CATEGORY': 'question category, according to the Qatar Living taxonomy',\n",
       "     'RELQ_DATE': 'date of posting',\n",
       "     'RELQ_ID': 'question indentifier',\n",
       "     'RELQ_USERID': 'identifier of the user asking the question',\n",
       "     'RELQ_USERNAME': 'name of the user asking the question',\n",
       "     'RelQBody': 'body of question',\n",
       "     'RelQSubject': 'subject of question'},\n",
       "    'RelComments': [{'RelCText': 'text of answer',\n",
       "      'RELC_USERID': 'identifier of the user posting the comment',\n",
       "      'RELC_ID': 'comment identifier',\n",
       "      'RELC_USERNAME': 'name of the user posting the comment',\n",
       "      'RELC_DATE': 'date of posting'}]},\n",
       "   'description': 'SemEval 2016 / 2017 Task 3 Subtask A unannotated dataset contains 189,941 questions and 1,894,456 comments in English collected from the Community Question Answering (CQA) web forum of Qatar Living. These can be used as a corpus for language modelling.',\n",
       "   'checksum': '2de0e2f2c4f91c66ae4fcf58d50ba816',\n",
       "   'file_name': 'semeval-2016-2017-task3-subtaskA-unannotated.gz',\n",
       "   'read_more': ['http://alt.qcri.org/semeval2016/task3/',\n",
       "    'http://alt.qcri.org/semeval2016/task3/data/uploads/semeval2016-task3-report.pdf',\n",
       "    'https://github.com/RaRe-Technologies/gensim-data/issues/18',\n",
       "    'https://github.com/Witiko/semeval-2016_2017-task3-subtaskA-unannotated-english'],\n",
       "   'parts': 1},\n",
       "  'patent-2017': {'num_records': 353197,\n",
       "   'record_format': 'dict',\n",
       "   'file_size': 3087262469,\n",
       "   'reader_code': 'https://github.com/RaRe-Technologies/gensim-data/releases/download/patent-2017/__init__.py',\n",
       "   'license': 'not found',\n",
       "   'description': \"Patent Grant Full Text. Contains the full text including tables, sequence data and 'in-line' mathematical expressions of each patent grant issued in 2017.\",\n",
       "   'checksum-0': '818501f0b9af62d3b88294d86d509f8f',\n",
       "   'checksum-1': '66c05635c1d3c7a19b4a335829d09ffa',\n",
       "   'file_name': 'patent-2017.gz',\n",
       "   'read_more': ['http://patents.reedtech.com/pgrbft.php'],\n",
       "   'parts': 2},\n",
       "  'quora-duplicate-questions': {'num_records': 404290,\n",
       "   'record_format': 'dict',\n",
       "   'file_size': 21684784,\n",
       "   'reader_code': 'https://github.com/RaRe-Technologies/gensim-data/releases/download/quora-duplicate-questions/__init__.py',\n",
       "   'license': 'probably https://www.quora.com/about/tos',\n",
       "   'fields': {'question1': 'the full text of each question',\n",
       "    'question2': 'the full text of each question',\n",
       "    'qid1': 'unique ids of each question',\n",
       "    'qid2': 'unique ids of each question',\n",
       "    'id': 'the id of a training set question pair',\n",
       "    'is_duplicate': 'the target variable, set to 1 if question1 and question2 have essentially the same meaning, and 0 otherwise'},\n",
       "   'description': 'Over 400,000 lines of potential question duplicate pairs. Each line contains IDs for each question in the pair, the full text for each question, and a binary value that indicates whether the line contains a duplicate pair or not.',\n",
       "   'checksum': 'd7cfa7fbc6e2ec71ab74c495586c6365',\n",
       "   'file_name': 'quora-duplicate-questions.gz',\n",
       "   'read_more': ['https://data.quora.com/First-Quora-Dataset-Release-Question-Pairs'],\n",
       "   'parts': 1},\n",
       "  'wiki-english-20171001': {'num_records': 4924894,\n",
       "   'record_format': 'dict',\n",
       "   'file_size': 6516051717,\n",
       "   'reader_code': 'https://github.com/RaRe-Technologies/gensim-data/releases/download/wiki-english-20171001/__init__.py',\n",
       "   'license': 'https://dumps.wikimedia.org/legal.html',\n",
       "   'fields': {'section_texts': 'list of body of sections',\n",
       "    'section_titles': 'list of titles of sections',\n",
       "    'title': 'Title of wiki article'},\n",
       "   'description': 'Extracted Wikipedia dump from October 2017. Produced by `python -m gensim.scripts.segment_wiki -f enwiki-20171001-pages-articles.xml.bz2 -o wiki-en.gz`',\n",
       "   'checksum-0': 'a7d7d7fd41ea7e2d7fa32ec1bb640d71',\n",
       "   'checksum-1': 'b2683e3356ffbca3b6c2dca6e9801f9f',\n",
       "   'checksum-2': 'c5cde2a9ae77b3c4ebce804f6df542c2',\n",
       "   'checksum-3': '00b71144ed5e3aeeb885de84f7452b81',\n",
       "   'file_name': 'wiki-english-20171001.gz',\n",
       "   'read_more': ['https://dumps.wikimedia.org/enwiki/20171001/'],\n",
       "   'parts': 4},\n",
       "  'text8': {'num_records': 1701,\n",
       "   'record_format': 'list of str (tokens)',\n",
       "   'file_size': 33182058,\n",
       "   'reader_code': 'https://github.com/RaRe-Technologies/gensim-data/releases/download/text8/__init__.py',\n",
       "   'license': 'not found',\n",
       "   'description': 'First 100,000,000 bytes of plain text from Wikipedia. Used for testing purposes; see wiki-english-* for proper full Wikipedia datasets.',\n",
       "   'checksum': '68799af40b6bda07dfa47a32612e5364',\n",
       "   'file_name': 'text8.gz',\n",
       "   'read_more': ['http://mattmahoney.net/dc/textdata.html'],\n",
       "   'parts': 1},\n",
       "  'fake-news': {'num_records': 12999,\n",
       "   'record_format': 'dict',\n",
       "   'file_size': 20102776,\n",
       "   'reader_code': 'https://github.com/RaRe-Technologies/gensim-data/releases/download/fake-news/__init__.py',\n",
       "   'license': 'https://creativecommons.org/publicdomain/zero/1.0/',\n",
       "   'fields': {'crawled': 'date the story was archived',\n",
       "    'ord_in_thread': '',\n",
       "    'published': 'date published',\n",
       "    'participants_count': 'number of participants',\n",
       "    'shares': 'number of Facebook shares',\n",
       "    'replies_count': 'number of replies',\n",
       "    'main_img_url': 'image from story',\n",
       "    'spam_score': 'data from webhose.io',\n",
       "    'uuid': 'unique identifier',\n",
       "    'language': 'data from webhose.io',\n",
       "    'title': 'title of story',\n",
       "    'country': 'data from webhose.io',\n",
       "    'domain_rank': 'data from webhose.io',\n",
       "    'author': 'author of story',\n",
       "    'comments': 'number of Facebook comments',\n",
       "    'site_url': 'site URL from BS detector',\n",
       "    'text': 'text of story',\n",
       "    'thread_title': '',\n",
       "    'type': 'type of website (label from BS detector)',\n",
       "    'likes': 'number of Facebook likes'},\n",
       "   'description': \"News dataset, contains text and metadata from 244 websites and represents 12,999 posts in total from a specific window of 30 days. The data was pulled using the webhose.io API, and because it's coming from their crawler, not all websites identified by their BS Detector are present in this dataset. Data sources that were missing a label were simply assigned a label of 'bs'. There are (ostensibly) no genuine, reliable, or trustworthy news sources represented in this dataset (so far), so don't trust anything you read.\",\n",
       "   'checksum': '5e64e942df13219465927f92dcefd5fe',\n",
       "   'file_name': 'fake-news.gz',\n",
       "   'read_more': ['https://www.kaggle.com/mrisdal/fake-news'],\n",
       "   'parts': 1},\n",
       "  '20-newsgroups': {'num_records': 18846,\n",
       "   'record_format': 'dict',\n",
       "   'file_size': 14483581,\n",
       "   'reader_code': 'https://github.com/RaRe-Technologies/gensim-data/releases/download/20-newsgroups/__init__.py',\n",
       "   'license': 'not found',\n",
       "   'fields': {'topic': 'name of topic (20 variant of possible values)',\n",
       "    'set': \"marker of original split (possible values 'train' and 'test')\",\n",
       "    'data': '',\n",
       "    'id': 'original id inferred from folder name'},\n",
       "   'description': 'The notorious collection of approximately 20,000 newsgroup posts, partitioned (nearly) evenly across 20 different newsgroups.',\n",
       "   'checksum': 'c92fd4f6640a86d5ba89eaad818a9891',\n",
       "   'file_name': '20-newsgroups.gz',\n",
       "   'read_more': ['http://qwone.com/~jason/20Newsgroups/'],\n",
       "   'parts': 1},\n",
       "  '__testing_matrix-synopsis': {'description': '[THIS IS ONLY FOR TESTING] Synopsis of the movie matrix.',\n",
       "   'checksum': '1767ac93a089b43899d54944b07d9dc5',\n",
       "   'file_name': '__testing_matrix-synopsis.gz',\n",
       "   'read_more': ['http://www.imdb.com/title/tt0133093/plotsummary?ref_=ttpl_pl_syn#synopsis'],\n",
       "   'parts': 1},\n",
       "  '__testing_multipart-matrix-synopsis': {'description': '[THIS IS ONLY FOR TESTING] Synopsis of the movie matrix.',\n",
       "   'checksum-0': 'c8b0c7d8cf562b1b632c262a173ac338',\n",
       "   'checksum-1': '5ff7fc6818e9a5d9bc1cf12c35ed8b96',\n",
       "   'checksum-2': '966db9d274d125beaac7987202076cba',\n",
       "   'file_name': '__testing_multipart-matrix-synopsis.gz',\n",
       "   'read_more': ['http://www.imdb.com/title/tt0133093/plotsummary?ref_=ttpl_pl_syn#synopsis'],\n",
       "   'parts': 3}},\n",
       " 'models': {'fasttext-wiki-news-subwords-300': {'num_records': 999999,\n",
       "   'file_size': 1005007116,\n",
       "   'base_dataset': 'Wikipedia 2017, UMBC webbase corpus and statmt.org news dataset (16B tokens)',\n",
       "   'reader_code': 'https://github.com/RaRe-Technologies/gensim-data/releases/download/fasttext-wiki-news-subwords-300/__init__.py',\n",
       "   'license': 'https://creativecommons.org/licenses/by-sa/3.0/',\n",
       "   'parameters': {'dimension': 300},\n",
       "   'description': '1 million word vectors trained on Wikipedia 2017, UMBC webbase corpus and statmt.org news dataset (16B tokens).',\n",
       "   'read_more': ['https://fasttext.cc/docs/en/english-vectors.html',\n",
       "    'https://arxiv.org/abs/1712.09405',\n",
       "    'https://arxiv.org/abs/1607.01759'],\n",
       "   'checksum': 'de2bb3a20c46ce65c9c131e1ad9a77af',\n",
       "   'file_name': 'fasttext-wiki-news-subwords-300.gz',\n",
       "   'parts': 1},\n",
       "  'conceptnet-numberbatch-17-06-300': {'num_records': 1917247,\n",
       "   'file_size': 1225497562,\n",
       "   'base_dataset': 'ConceptNet, word2vec, GloVe, and OpenSubtitles 2016',\n",
       "   'reader_code': 'https://github.com/RaRe-Technologies/gensim-data/releases/download/conceptnet-numberbatch-17-06-300/__init__.py',\n",
       "   'license': 'https://github.com/commonsense/conceptnet-numberbatch/blob/master/LICENSE.txt',\n",
       "   'parameters': {'dimension': 300},\n",
       "   'description': 'ConceptNet Numberbatch consists of state-of-the-art semantic vectors (also known as word embeddings) that can be used directly as a representation of word meanings or as a starting point for further machine learning. ConceptNet Numberbatch is part of the ConceptNet open data project. ConceptNet provides lots of ways to compute with word meanings, one of which is word embeddings. ConceptNet Numberbatch is a snapshot of just the word embeddings. It is built using an ensemble that combines data from ConceptNet, word2vec, GloVe, and OpenSubtitles 2016, using a variation on retrofitting.',\n",
       "   'read_more': ['http://aaai.org/ocs/index.php/AAAI/AAAI17/paper/view/14972',\n",
       "    'https://github.com/commonsense/conceptnet-numberbatch',\n",
       "    'http://conceptnet.io/'],\n",
       "   'checksum': 'fd642d457adcd0ea94da0cd21b150847',\n",
       "   'file_name': 'conceptnet-numberbatch-17-06-300.gz',\n",
       "   'parts': 1},\n",
       "  'word2vec-ruscorpora-300': {'num_records': 184973,\n",
       "   'file_size': 208427381,\n",
       "   'base_dataset': 'Russian National Corpus (about 250M words)',\n",
       "   'reader_code': 'https://github.com/RaRe-Technologies/gensim-data/releases/download/word2vec-ruscorpora-300/__init__.py',\n",
       "   'license': 'https://creativecommons.org/licenses/by/4.0/deed.en',\n",
       "   'parameters': {'dimension': 300, 'window_size': 10},\n",
       "   'description': 'Word2vec Continuous Skipgram vectors trained on full Russian National Corpus (about 250M words). The model contains 185K words.',\n",
       "   'preprocessing': 'The corpus was lemmatized and tagged with Universal PoS',\n",
       "   'read_more': ['https://www.academia.edu/24306935/WebVectors_a_Toolkit_for_Building_Web_Interfaces_for_Vector_Semantic_Models',\n",
       "    'http://rusvectores.org/en/',\n",
       "    'https://github.com/RaRe-Technologies/gensim-data/issues/3'],\n",
       "   'checksum': '9bdebdc8ae6d17d20839dd9b5af10bc4',\n",
       "   'file_name': 'word2vec-ruscorpora-300.gz',\n",
       "   'parts': 1},\n",
       "  'word2vec-google-news-300': {'num_records': 3000000,\n",
       "   'file_size': 1743563840,\n",
       "   'base_dataset': 'Google News (about 100 billion words)',\n",
       "   'reader_code': 'https://github.com/RaRe-Technologies/gensim-data/releases/download/word2vec-google-news-300/__init__.py',\n",
       "   'license': 'not found',\n",
       "   'parameters': {'dimension': 300},\n",
       "   'description': \"Pre-trained vectors trained on a part of the Google News dataset (about 100 billion words). The model contains 300-dimensional vectors for 3 million words and phrases. The phrases were obtained using a simple data-driven approach described in 'Distributed Representations of Words and Phrases and their Compositionality' (https://code.google.com/archive/p/word2vec/).\",\n",
       "   'read_more': ['https://code.google.com/archive/p/word2vec/',\n",
       "    'https://arxiv.org/abs/1301.3781',\n",
       "    'https://arxiv.org/abs/1310.4546',\n",
       "    'https://www.microsoft.com/en-us/research/publication/linguistic-regularities-in-continuous-space-word-representations/?from=http%3A%2F%2Fresearch.microsoft.com%2Fpubs%2F189726%2Frvecs.pdf'],\n",
       "   'checksum': 'a5e5354d40acb95f9ec66d5977d140ef',\n",
       "   'file_name': 'word2vec-google-news-300.gz',\n",
       "   'parts': 1},\n",
       "  'glove-wiki-gigaword-50': {'num_records': 400000,\n",
       "   'file_size': 69182535,\n",
       "   'base_dataset': 'Wikipedia 2014 + Gigaword 5 (6B tokens, uncased)',\n",
       "   'reader_code': 'https://github.com/RaRe-Technologies/gensim-data/releases/download/glove-wiki-gigaword-50/__init__.py',\n",
       "   'license': 'http://opendatacommons.org/licenses/pddl/',\n",
       "   'parameters': {'dimension': 50},\n",
       "   'description': 'Pre-trained vectors based on Wikipedia 2014 + Gigaword, 5.6B tokens, 400K vocab, uncased (https://nlp.stanford.edu/projects/glove/).',\n",
       "   'preprocessing': 'Converted to w2v format with `python -m gensim.scripts.glove2word2vec -i <fname> -o glove-wiki-gigaword-50.txt`.',\n",
       "   'read_more': ['https://nlp.stanford.edu/projects/glove/',\n",
       "    'https://nlp.stanford.edu/pubs/glove.pdf'],\n",
       "   'checksum': 'c289bc5d7f2f02c6dc9f2f9b67641813',\n",
       "   'file_name': 'glove-wiki-gigaword-50.gz',\n",
       "   'parts': 1},\n",
       "  'glove-wiki-gigaword-100': {'num_records': 400000,\n",
       "   'file_size': 134300434,\n",
       "   'base_dataset': 'Wikipedia 2014 + Gigaword 5 (6B tokens, uncased)',\n",
       "   'reader_code': 'https://github.com/RaRe-Technologies/gensim-data/releases/download/glove-wiki-gigaword-100/__init__.py',\n",
       "   'license': 'http://opendatacommons.org/licenses/pddl/',\n",
       "   'parameters': {'dimension': 100},\n",
       "   'description': 'Pre-trained vectors based on Wikipedia 2014 + Gigaword 5.6B tokens, 400K vocab, uncased (https://nlp.stanford.edu/projects/glove/).',\n",
       "   'preprocessing': 'Converted to w2v format with `python -m gensim.scripts.glove2word2vec -i <fname> -o glove-wiki-gigaword-100.txt`.',\n",
       "   'read_more': ['https://nlp.stanford.edu/projects/glove/',\n",
       "    'https://nlp.stanford.edu/pubs/glove.pdf'],\n",
       "   'checksum': '40ec481866001177b8cd4cb0df92924f',\n",
       "   'file_name': 'glove-wiki-gigaword-100.gz',\n",
       "   'parts': 1},\n",
       "  'glove-wiki-gigaword-200': {'num_records': 400000,\n",
       "   'file_size': 264336934,\n",
       "   'base_dataset': 'Wikipedia 2014 + Gigaword 5 (6B tokens, uncased)',\n",
       "   'reader_code': 'https://github.com/RaRe-Technologies/gensim-data/releases/download/glove-wiki-gigaword-200/__init__.py',\n",
       "   'license': 'http://opendatacommons.org/licenses/pddl/',\n",
       "   'parameters': {'dimension': 200},\n",
       "   'description': 'Pre-trained vectors based on Wikipedia 2014 + Gigaword, 5.6B tokens, 400K vocab, uncased (https://nlp.stanford.edu/projects/glove/).',\n",
       "   'preprocessing': 'Converted to w2v format with `python -m gensim.scripts.glove2word2vec -i <fname> -o glove-wiki-gigaword-200.txt`.',\n",
       "   'read_more': ['https://nlp.stanford.edu/projects/glove/',\n",
       "    'https://nlp.stanford.edu/pubs/glove.pdf'],\n",
       "   'checksum': '59652db361b7a87ee73834a6c391dfc1',\n",
       "   'file_name': 'glove-wiki-gigaword-200.gz',\n",
       "   'parts': 1},\n",
       "  'glove-wiki-gigaword-300': {'num_records': 400000,\n",
       "   'file_size': 394362229,\n",
       "   'base_dataset': 'Wikipedia 2014 + Gigaword 5 (6B tokens, uncased)',\n",
       "   'reader_code': 'https://github.com/RaRe-Technologies/gensim-data/releases/download/glove-wiki-gigaword-300/__init__.py',\n",
       "   'license': 'http://opendatacommons.org/licenses/pddl/',\n",
       "   'parameters': {'dimension': 300},\n",
       "   'description': 'Pre-trained vectors based on Wikipedia 2014 + Gigaword, 5.6B tokens, 400K vocab, uncased (https://nlp.stanford.edu/projects/glove/).',\n",
       "   'preprocessing': 'Converted to w2v format with `python -m gensim.scripts.glove2word2vec -i <fname> -o glove-wiki-gigaword-300.txt`.',\n",
       "   'read_more': ['https://nlp.stanford.edu/projects/glove/',\n",
       "    'https://nlp.stanford.edu/pubs/glove.pdf'],\n",
       "   'checksum': '29e9329ac2241937d55b852e8284e89b',\n",
       "   'file_name': 'glove-wiki-gigaword-300.gz',\n",
       "   'parts': 1},\n",
       "  'glove-twitter-25': {'num_records': 1193514,\n",
       "   'file_size': 109885004,\n",
       "   'base_dataset': 'Twitter (2B tweets, 27B tokens, 1.2M vocab, uncased)',\n",
       "   'reader_code': 'https://github.com/RaRe-Technologies/gensim-data/releases/download/glove-twitter-25/__init__.py',\n",
       "   'license': 'http://opendatacommons.org/licenses/pddl/',\n",
       "   'parameters': {'dimension': 25},\n",
       "   'description': 'Pre-trained vectors based on 2B tweets, 27B tokens, 1.2M vocab, uncased (https://nlp.stanford.edu/projects/glove/).',\n",
       "   'preprocessing': 'Converted to w2v format with `python -m gensim.scripts.glove2word2vec -i <fname> -o glove-twitter-25.txt`.',\n",
       "   'read_more': ['https://nlp.stanford.edu/projects/glove/',\n",
       "    'https://nlp.stanford.edu/pubs/glove.pdf'],\n",
       "   'checksum': '50db0211d7e7a2dcd362c6b774762793',\n",
       "   'file_name': 'glove-twitter-25.gz',\n",
       "   'parts': 1},\n",
       "  'glove-twitter-50': {'num_records': 1193514,\n",
       "   'file_size': 209216938,\n",
       "   'base_dataset': 'Twitter (2B tweets, 27B tokens, 1.2M vocab, uncased)',\n",
       "   'reader_code': 'https://github.com/RaRe-Technologies/gensim-data/releases/download/glove-twitter-50/__init__.py',\n",
       "   'license': 'http://opendatacommons.org/licenses/pddl/',\n",
       "   'parameters': {'dimension': 50},\n",
       "   'description': 'Pre-trained vectors based on 2B tweets, 27B tokens, 1.2M vocab, uncased (https://nlp.stanford.edu/projects/glove/)',\n",
       "   'preprocessing': 'Converted to w2v format with `python -m gensim.scripts.glove2word2vec -i <fname> -o glove-twitter-50.txt`.',\n",
       "   'read_more': ['https://nlp.stanford.edu/projects/glove/',\n",
       "    'https://nlp.stanford.edu/pubs/glove.pdf'],\n",
       "   'checksum': 'c168f18641f8c8a00fe30984c4799b2b',\n",
       "   'file_name': 'glove-twitter-50.gz',\n",
       "   'parts': 1},\n",
       "  'glove-twitter-100': {'num_records': 1193514,\n",
       "   'file_size': 405932991,\n",
       "   'base_dataset': 'Twitter (2B tweets, 27B tokens, 1.2M vocab, uncased)',\n",
       "   'reader_code': 'https://github.com/RaRe-Technologies/gensim-data/releases/download/glove-twitter-100/__init__.py',\n",
       "   'license': 'http://opendatacommons.org/licenses/pddl/',\n",
       "   'parameters': {'dimension': 100},\n",
       "   'description': 'Pre-trained vectors based on  2B tweets, 27B tokens, 1.2M vocab, uncased (https://nlp.stanford.edu/projects/glove/)',\n",
       "   'preprocessing': 'Converted to w2v format with `python -m gensim.scripts.glove2word2vec -i <fname> -o glove-twitter-100.txt`.',\n",
       "   'read_more': ['https://nlp.stanford.edu/projects/glove/',\n",
       "    'https://nlp.stanford.edu/pubs/glove.pdf'],\n",
       "   'checksum': 'b04f7bed38756d64cf55b58ce7e97b15',\n",
       "   'file_name': 'glove-twitter-100.gz',\n",
       "   'parts': 1},\n",
       "  'glove-twitter-200': {'num_records': 1193514,\n",
       "   'file_size': 795373100,\n",
       "   'base_dataset': 'Twitter (2B tweets, 27B tokens, 1.2M vocab, uncased)',\n",
       "   'reader_code': 'https://github.com/RaRe-Technologies/gensim-data/releases/download/glove-twitter-200/__init__.py',\n",
       "   'license': 'http://opendatacommons.org/licenses/pddl/',\n",
       "   'parameters': {'dimension': 200},\n",
       "   'description': 'Pre-trained vectors based on 2B tweets, 27B tokens, 1.2M vocab, uncased (https://nlp.stanford.edu/projects/glove/).',\n",
       "   'preprocessing': 'Converted to w2v format with `python -m gensim.scripts.glove2word2vec -i <fname> -o glove-twitter-200.txt`.',\n",
       "   'read_more': ['https://nlp.stanford.edu/projects/glove/',\n",
       "    'https://nlp.stanford.edu/pubs/glove.pdf'],\n",
       "   'checksum': 'e52e8392d1860b95d5308a525817d8f9',\n",
       "   'file_name': 'glove-twitter-200.gz',\n",
       "   'parts': 1},\n",
       "  '__testing_word2vec-matrix-synopsis': {'description': '[THIS IS ONLY FOR TESTING] Word vecrors of the movie matrix.',\n",
       "   'parameters': {'dimensions': 50},\n",
       "   'preprocessing': 'Converted to w2v using a preprocessed corpus. Converted to w2v format with `python3.5 -m gensim.models.word2vec -train <input_filename> -iter 50 -output <output_filename>`.',\n",
       "   'read_more': [],\n",
       "   'checksum': '534dcb8b56a360977a269b7bfc62d124',\n",
       "   'file_name': '__testing_word2vec-matrix-synopsis.gz',\n",
       "   'parts': 1}}}"
      ]
     },
     "execution_count": 3,
     "metadata": {},
     "output_type": "execute_result"
    }
   ],
   "source": [
    "api.info()"
   ]
  },
  {
   "cell_type": "code",
   "execution_count": 4,
   "metadata": {
    "colab": {
     "base_uri": "https://localhost:8080/"
    },
    "collapsed": true,
    "executionInfo": {
     "elapsed": 53,
     "status": "ok",
     "timestamp": 1750646563270,
     "user": {
      "displayName": "사본",
      "userId": "00690333374817726342"
     },
     "user_tz": -540
    },
    "id": "LjW14be9Z8kj",
    "outputId": "2cdbf4ec-c7ce-4c99-ef6f-55fb7ac2a144"
   },
   "outputs": [
    {
     "name": "stdout",
     "output_type": "stream",
     "text": [
      "__testing_word2vec-matrix-synopsis (-1 records: [THIS IS ONLY FOR TESTING] Word vecrors ...)\n",
      "conceptnet-numberbatch-17-06-300 (1917247 records: ConceptNet Numberbatch consists of state...)\n",
      "fasttext-wiki-news-subwords-300 (999999 records: 1 million word vectors trained on Wikipe...)\n",
      "glove-twitter-100 (1193514 records: Pre-trained vectors based on  2B tweets,...)\n",
      "glove-twitter-200 (1193514 records: Pre-trained vectors based on 2B tweets, ...)\n",
      "glove-twitter-25 (1193514 records: Pre-trained vectors based on 2B tweets, ...)\n",
      "glove-twitter-50 (1193514 records: Pre-trained vectors based on 2B tweets, ...)\n",
      "glove-wiki-gigaword-100 (400000 records: Pre-trained vectors based on Wikipedia 2...)\n",
      "glove-wiki-gigaword-200 (400000 records: Pre-trained vectors based on Wikipedia 2...)\n",
      "glove-wiki-gigaword-300 (400000 records: Pre-trained vectors based on Wikipedia 2...)\n",
      "glove-wiki-gigaword-50 (400000 records: Pre-trained vectors based on Wikipedia 2...)\n",
      "word2vec-google-news-300 (3000000 records: Pre-trained vectors trained on a part of...)\n",
      "word2vec-ruscorpora-300 (184973 records: Word2vec Continuous Skipgram vectors tra...)\n"
     ]
    }
   ],
   "source": [
    "# 사용 가능한 여러 모델 리스트 업\n",
    "for model_name, model_data in sorted(api.info()['models'].items()):\n",
    "  # num_records : 모델이 학습가능한 전체 단어 벡터 수\n",
    "  num_records = model_data.get('num_records', -1)\n",
    "  description = model_data['description'][:40] + '...'\n",
    "\n",
    "  print( f'{model_name} ({num_records} records: {description})')"
   ]
  },
  {
   "cell_type": "code",
   "execution_count": 5,
   "metadata": {
    "colab": {
     "base_uri": "https://localhost:8080/"
    },
    "executionInfo": {
     "elapsed": 319847,
     "status": "ok",
     "timestamp": 1750647072782,
     "user": {
      "displayName": "사본",
      "userId": "00690333374817726342"
     },
     "user_tz": -540
    },
    "id": "PL7pNuJ4Z8nm",
    "outputId": "96570a55-3cc6-4fc2-8c4d-d93e7ac78e81"
   },
   "outputs": [
    {
     "name": "stdout",
     "output_type": "stream",
     "text": [
      "[==================================================] 100.0% 1662.8/1662.8MB downloaded\n"
     ]
    }
   ],
   "source": [
    "# word2vec-google-news-300 로드\n",
    "model = api.load('word2vec-google-news-300')\n",
    "# 300만 개의 단어 벡터 포함, 각 단어는 300차원 벡터로 표현"
   ]
  },
  {
   "cell_type": "code",
   "execution_count": 6,
   "metadata": {
    "colab": {
     "base_uri": "https://localhost:8080/"
    },
    "executionInfo": {
     "elapsed": 9275,
     "status": "ok",
     "timestamp": 1750647997934,
     "user": {
      "displayName": "사본",
      "userId": "00690333374817726342"
     },
     "user_tz": -540
    },
    "id": "3XCzmqaAZ8qc",
    "outputId": "0ba01b82-7456-456c-bd73-2e17eb47ad0e"
   },
   "outputs": [
    {
     "data": {
      "text/plain": [
       "[('cats', 0.8099379539489746),\n",
       " ('dog', 0.760945737361908),\n",
       " ('kitten', 0.7464985251426697),\n",
       " ('feline', 0.7326234579086304),\n",
       " ('beagle', 0.7150582671165466),\n",
       " ('puppy', 0.7075453400611877),\n",
       " ('pup', 0.6934291124343872),\n",
       " ('pet', 0.6891531348228455),\n",
       " ('felines', 0.6755931973457336),\n",
       " ('chihuahua', 0.6709762215614319)]"
      ]
     },
     "execution_count": 6,
     "metadata": {},
     "output_type": "execute_result"
    }
   ],
   "source": [
    "# .most_similar() : 유사도를 계산하여 주어진 단어와 벡터 공간상 가장 가까운 단어들 나열\n",
    "# 기본 코사인 유사도 점수 (-1~1 사이의 값, 동일한 방향(유사)일수록 값은 1에 가까워짐)\n",
    "model.most_similar(\"cat\")"
   ]
  },
  {
   "cell_type": "code",
   "execution_count": 7,
   "metadata": {
    "colab": {
     "base_uri": "https://localhost:8080/"
    },
    "executionInfo": {
     "elapsed": 1293,
     "status": "ok",
     "timestamp": 1750648310579,
     "user": {
      "displayName": "사본",
      "userId": "00690333374817726342"
     },
     "user_tz": -540
    },
    "id": "9z19eMxCw9Td",
    "outputId": "78541246-a2d6-4cb4-9511-2b260724023d"
   },
   "outputs": [
    {
     "data": {
      "text/plain": [
       "[('mother', 1.025557279586792),\n",
       " ('daughter', 0.991381824016571),\n",
       " ('husband', 0.9660825729370117),\n",
       " ('eldest_daughter', 0.9520994424819946),\n",
       " ('sister', 0.9376709461212158),\n",
       " ('niece', 0.936501145362854),\n",
       " ('aunt', 0.9253349304199219),\n",
       " ('son', 0.9216511249542236),\n",
       " ('daughters', 0.9201593995094299),\n",
       " ('grandmother', 0.9164769649505615)]"
      ]
     },
     "execution_count": 7,
     "metadata": {},
     "output_type": "execute_result"
    }
   ],
   "source": [
    "# 두 벡터 사이의 유사성을 계산하는 함수\n",
    "model.most_similar_cosmul(positive=['father', 'woman'], negative='man')"
   ]
  },
  {
   "cell_type": "code",
   "execution_count": 13,
   "metadata": {
    "colab": {
     "base_uri": "https://localhost:8080/"
    },
    "executionInfo": {
     "elapsed": 1161,
     "status": "ok",
     "timestamp": 1750648662966,
     "user": {
      "displayName": "사본",
      "userId": "00690333374817726342"
     },
     "user_tz": -540
    },
    "id": "M6SAmC95Z8tD",
    "outputId": "1d7afb9d-43fd-4b94-fdee-e975dd93eb6f"
   },
   "outputs": [
    {
     "data": {
      "text/plain": [
       "[('tequila', 0.8992794156074524),\n",
       " ('mezcal', 0.8555493950843811),\n",
       " ('agave_tequila', 0.8524277806282043),\n",
       " ('Modelo_Especial', 0.836313784122467),\n",
       " ('pulque', 0.8301872611045837),\n",
       " ('mescal', 0.8242558240890503),\n",
       " ('distilled_liquor', 0.8173635601997375),\n",
       " ('Agavero', 0.8148321509361267),\n",
       " ('rum', 0.8130227327346802),\n",
       " ('michelada', 0.8111985325813293)]"
      ]
     },
     "execution_count": 13,
     "metadata": {},
     "output_type": "execute_result"
    }
   ],
   "source": [
    "model.most_similar_cosmul(positive=['soju', 'mexico'], negative='korea')"
   ]
  },
  {
   "cell_type": "code",
   "execution_count": null,
   "metadata": {
    "executionInfo": {
     "elapsed": 51,
     "status": "ok",
     "timestamp": 1750657460125,
     "user": {
      "displayName": "사본",
      "userId": "00690333374817726342"
     },
     "user_tz": -540
    },
    "id": "Vg46hhgtZ8vg"
   },
   "outputs": [],
   "source": [
    "from tensorflow.keras.layers import Embedding, LSTM, GRU\n",
    "import numpy as np\n",
    "import tensorflow as tf"
   ]
  },
  {
   "cell_type": "code",
   "execution_count": 36,
   "metadata": {
    "colab": {
     "base_uri": "https://localhost:8080/"
    },
    "executionInfo": {
     "elapsed": 4,
     "status": "ok",
     "timestamp": 1750649146722,
     "user": {
      "displayName": "사본",
      "userId": "00690333374817726342"
     },
     "user_tz": -540
    },
    "id": "rPWB2k-kZ8yW",
    "outputId": "3a750493-019a-408f-cbaf-9b24e3a1b8ba"
   },
   "outputs": [
    {
     "data": {
      "text/plain": [
       "(TensorShape([171068, 10]), TensorShape([49997, 10]))"
      ]
     },
     "execution_count": 36,
     "metadata": {},
     "output_type": "execute_result"
    }
   ],
   "source": [
    "X_train_vec.shape, X_test_vec.shape"
   ]
  },
  {
   "cell_type": "code",
   "execution_count": 21,
   "metadata": {
    "executionInfo": {
     "elapsed": 18,
     "status": "ok",
     "timestamp": 1750657462802,
     "user": {
      "displayName": "사본",
      "userId": "00690333374817726342"
     },
     "user_tz": -540
    },
    "id": "xUadtb11Z81D"
   },
   "outputs": [],
   "source": [
    "# 학습데이터(3차원)의 마짐가 차원 제거 > 2차원 변경\n",
    "X_train_vec = tf.reshape(X_train_vec, [171068, 10])\n",
    "X_test_vec = tf.reshape(X_test_vec, [49997, 10])"
   ]
  },
  {
   "cell_type": "code",
   "execution_count": 46,
   "metadata": {
    "executionInfo": {
     "elapsed": 30,
     "status": "ok",
     "timestamp": 1750650047707,
     "user": {
      "displayName": "사본",
      "userId": "00690333374817726342"
     },
     "user_tz": -540
    },
    "id": "qgYC0f3dZ87B"
   },
   "outputs": [],
   "source": [
    "# 모델 설계\n",
    "model_embedding = Sequential()\n",
    "model_embedding.add(Embedding(5000,50)) # 사용하는 단어 종류 수, 한 단어를 50개의 숫자로 표현 (50차원 벡터 변환)\n",
    "model_embedding.add(LSTM(128))\n",
    "model_embedding.add(Dense(1, activation='sigmoid'))\n",
    "\n",
    "# 모델 학습 및 평가방법 설정\n",
    "model_embedding.compile(\n",
    "    loss='binary_crossentropy',\n",
    "    optimizer='Adam',\n",
    "    metrics=['accuracy']\n",
    ")"
   ]
  },
  {
   "cell_type": "code",
   "execution_count": 47,
   "metadata": {
    "colab": {
     "base_uri": "https://localhost:8080/"
    },
    "collapsed": true,
    "executionInfo": {
     "elapsed": 1697424,
     "status": "ok",
     "timestamp": 1750651749154,
     "user": {
      "displayName": "사본",
      "userId": "00690333374817726342"
     },
     "user_tz": -540
    },
    "id": "Hx4nCEF7Z898",
    "outputId": "bd5a6423-923a-4f41-9ada-99372b8a498c"
   },
   "outputs": [
    {
     "name": "stdout",
     "output_type": "stream",
     "text": [
      "Epoch 1/40\n",
      "\u001b[1m1070/1070\u001b[0m \u001b[32m━━━━━━━━━━━━━━━━━━━━\u001b[0m\u001b[37m\u001b[0m \u001b[1m43s\u001b[0m 37ms/step - accuracy: 0.7550 - loss: 0.4800 - val_accuracy: 0.8234 - val_loss: 0.3867\n",
      "Epoch 2/40\n",
      "\u001b[1m1070/1070\u001b[0m \u001b[32m━━━━━━━━━━━━━━━━━━━━\u001b[0m\u001b[37m\u001b[0m \u001b[1m43s\u001b[0m 39ms/step - accuracy: 0.8245 - loss: 0.3841 - val_accuracy: 0.8327 - val_loss: 0.3669\n",
      "Epoch 3/40\n",
      "\u001b[1m1070/1070\u001b[0m \u001b[32m━━━━━━━━━━━━━━━━━━━━\u001b[0m\u001b[37m\u001b[0m \u001b[1m39s\u001b[0m 36ms/step - accuracy: 0.8351 - loss: 0.3612 - val_accuracy: 0.8404 - val_loss: 0.3515\n",
      "Epoch 4/40\n",
      "\u001b[1m1070/1070\u001b[0m \u001b[32m━━━━━━━━━━━━━━━━━━━━\u001b[0m\u001b[37m\u001b[0m \u001b[1m41s\u001b[0m 36ms/step - accuracy: 0.8438 - loss: 0.3410 - val_accuracy: 0.8471 - val_loss: 0.3414\n",
      "Epoch 5/40\n",
      "\u001b[1m1070/1070\u001b[0m \u001b[32m━━━━━━━━━━━━━━━━━━━━\u001b[0m\u001b[37m\u001b[0m \u001b[1m40s\u001b[0m 35ms/step - accuracy: 0.8543 - loss: 0.3240 - val_accuracy: 0.8524 - val_loss: 0.3377\n",
      "Epoch 6/40\n",
      "\u001b[1m1070/1070\u001b[0m \u001b[32m━━━━━━━━━━━━━━━━━━━━\u001b[0m\u001b[37m\u001b[0m \u001b[1m43s\u001b[0m 37ms/step - accuracy: 0.8638 - loss: 0.3051 - val_accuracy: 0.8580 - val_loss: 0.3265\n",
      "Epoch 7/40\n",
      "\u001b[1m1070/1070\u001b[0m \u001b[32m━━━━━━━━━━━━━━━━━━━━\u001b[0m\u001b[37m\u001b[0m \u001b[1m41s\u001b[0m 37ms/step - accuracy: 0.8747 - loss: 0.2835 - val_accuracy: 0.8629 - val_loss: 0.3194\n",
      "Epoch 8/40\n",
      "\u001b[1m1070/1070\u001b[0m \u001b[32m━━━━━━━━━━━━━━━━━━━━\u001b[0m\u001b[37m\u001b[0m \u001b[1m49s\u001b[0m 44ms/step - accuracy: 0.8842 - loss: 0.2647 - val_accuracy: 0.8674 - val_loss: 0.3207\n",
      "Epoch 9/40\n",
      "\u001b[1m1070/1070\u001b[0m \u001b[32m━━━━━━━━━━━━━━━━━━━━\u001b[0m\u001b[37m\u001b[0m \u001b[1m74s\u001b[0m 37ms/step - accuracy: 0.8884 - loss: 0.2515 - val_accuracy: 0.8695 - val_loss: 0.3221\n",
      "Epoch 10/40\n",
      "\u001b[1m1070/1070\u001b[0m \u001b[32m━━━━━━━━━━━━━━━━━━━━\u001b[0m\u001b[37m\u001b[0m \u001b[1m40s\u001b[0m 37ms/step - accuracy: 0.8980 - loss: 0.2329 - val_accuracy: 0.8720 - val_loss: 0.3263\n",
      "Epoch 11/40\n",
      "\u001b[1m1070/1070\u001b[0m \u001b[32m━━━━━━━━━━━━━━━━━━━━\u001b[0m\u001b[37m\u001b[0m \u001b[1m41s\u001b[0m 36ms/step - accuracy: 0.9037 - loss: 0.2194 - val_accuracy: 0.8761 - val_loss: 0.3326\n",
      "Epoch 12/40\n",
      "\u001b[1m1070/1070\u001b[0m \u001b[32m━━━━━━━━━━━━━━━━━━━━\u001b[0m\u001b[37m\u001b[0m \u001b[1m39s\u001b[0m 36ms/step - accuracy: 0.9115 - loss: 0.2049 - val_accuracy: 0.8765 - val_loss: 0.3476\n",
      "Epoch 13/40\n",
      "\u001b[1m1070/1070\u001b[0m \u001b[32m━━━━━━━━━━━━━━━━━━━━\u001b[0m\u001b[37m\u001b[0m \u001b[1m37s\u001b[0m 35ms/step - accuracy: 0.9170 - loss: 0.1908 - val_accuracy: 0.8764 - val_loss: 0.3623\n",
      "Epoch 14/40\n",
      "\u001b[1m1070/1070\u001b[0m \u001b[32m━━━━━━━━━━━━━━━━━━━━\u001b[0m\u001b[37m\u001b[0m \u001b[1m41s\u001b[0m 39ms/step - accuracy: 0.9200 - loss: 0.1830 - val_accuracy: 0.8816 - val_loss: 0.3624\n",
      "Epoch 15/40\n",
      "\u001b[1m1070/1070\u001b[0m \u001b[32m━━━━━━━━━━━━━━━━━━━━\u001b[0m\u001b[37m\u001b[0m \u001b[1m79s\u001b[0m 36ms/step - accuracy: 0.9262 - loss: 0.1697 - val_accuracy: 0.8829 - val_loss: 0.3782\n",
      "Epoch 16/40\n",
      "\u001b[1m1070/1070\u001b[0m \u001b[32m━━━━━━━━━━━━━━━━━━━━\u001b[0m\u001b[37m\u001b[0m \u001b[1m41s\u001b[0m 35ms/step - accuracy: 0.9305 - loss: 0.1612 - val_accuracy: 0.8854 - val_loss: 0.3999\n",
      "Epoch 17/40\n",
      "\u001b[1m1070/1070\u001b[0m \u001b[32m━━━━━━━━━━━━━━━━━━━━\u001b[0m\u001b[37m\u001b[0m \u001b[1m41s\u001b[0m 35ms/step - accuracy: 0.9338 - loss: 0.1500 - val_accuracy: 0.8884 - val_loss: 0.4110\n",
      "Epoch 18/40\n",
      "\u001b[1m1070/1070\u001b[0m \u001b[32m━━━━━━━━━━━━━━━━━━━━\u001b[0m\u001b[37m\u001b[0m \u001b[1m39s\u001b[0m 36ms/step - accuracy: 0.9384 - loss: 0.1421 - val_accuracy: 0.8904 - val_loss: 0.4117\n",
      "Epoch 19/40\n",
      "\u001b[1m1070/1070\u001b[0m \u001b[32m━━━━━━━━━━━━━━━━━━━━\u001b[0m\u001b[37m\u001b[0m \u001b[1m41s\u001b[0m 38ms/step - accuracy: 0.9414 - loss: 0.1324 - val_accuracy: 0.8889 - val_loss: 0.4257\n",
      "Epoch 20/40\n",
      "\u001b[1m1070/1070\u001b[0m \u001b[32m━━━━━━━━━━━━━━━━━━━━\u001b[0m\u001b[37m\u001b[0m \u001b[1m39s\u001b[0m 36ms/step - accuracy: 0.9446 - loss: 0.1267 - val_accuracy: 0.8917 - val_loss: 0.4452\n",
      "Epoch 21/40\n",
      "\u001b[1m1070/1070\u001b[0m \u001b[32m━━━━━━━━━━━━━━━━━━━━\u001b[0m\u001b[37m\u001b[0m \u001b[1m42s\u001b[0m 37ms/step - accuracy: 0.9460 - loss: 0.1232 - val_accuracy: 0.8926 - val_loss: 0.4745\n",
      "Epoch 22/40\n",
      "\u001b[1m1070/1070\u001b[0m \u001b[32m━━━━━━━━━━━━━━━━━━━━\u001b[0m\u001b[37m\u001b[0m \u001b[1m41s\u001b[0m 37ms/step - accuracy: 0.9483 - loss: 0.1161 - val_accuracy: 0.8945 - val_loss: 0.4819\n",
      "Epoch 23/40\n",
      "\u001b[1m1070/1070\u001b[0m \u001b[32m━━━━━━━━━━━━━━━━━━━━\u001b[0m\u001b[37m\u001b[0m \u001b[1m40s\u001b[0m 36ms/step - accuracy: 0.9508 - loss: 0.1110 - val_accuracy: 0.8950 - val_loss: 0.5125\n",
      "Epoch 24/40\n",
      "\u001b[1m1070/1070\u001b[0m \u001b[32m━━━━━━━━━━━━━━━━━━━━\u001b[0m\u001b[37m\u001b[0m \u001b[1m41s\u001b[0m 37ms/step - accuracy: 0.9520 - loss: 0.1075 - val_accuracy: 0.8958 - val_loss: 0.5165\n",
      "Epoch 25/40\n",
      "\u001b[1m1070/1070\u001b[0m \u001b[32m━━━━━━━━━━━━━━━━━━━━\u001b[0m\u001b[37m\u001b[0m \u001b[1m41s\u001b[0m 37ms/step - accuracy: 0.9556 - loss: 0.1009 - val_accuracy: 0.8962 - val_loss: 0.5274\n",
      "Epoch 26/40\n",
      "\u001b[1m1070/1070\u001b[0m \u001b[32m━━━━━━━━━━━━━━━━━━━━\u001b[0m\u001b[37m\u001b[0m \u001b[1m39s\u001b[0m 37ms/step - accuracy: 0.9549 - loss: 0.0984 - val_accuracy: 0.8960 - val_loss: 0.5414\n",
      "Epoch 27/40\n",
      "\u001b[1m1070/1070\u001b[0m \u001b[32m━━━━━━━━━━━━━━━━━━━━\u001b[0m\u001b[37m\u001b[0m \u001b[1m39s\u001b[0m 37ms/step - accuracy: 0.9572 - loss: 0.0948 - val_accuracy: 0.8984 - val_loss: 0.5271\n",
      "Epoch 28/40\n",
      "\u001b[1m1070/1070\u001b[0m \u001b[32m━━━━━━━━━━━━━━━━━━━━\u001b[0m\u001b[37m\u001b[0m \u001b[1m41s\u001b[0m 37ms/step - accuracy: 0.9593 - loss: 0.0893 - val_accuracy: 0.8977 - val_loss: 0.5699\n",
      "Epoch 29/40\n",
      "\u001b[1m1070/1070\u001b[0m \u001b[32m━━━━━━━━━━━━━━━━━━━━\u001b[0m\u001b[37m\u001b[0m \u001b[1m39s\u001b[0m 35ms/step - accuracy: 0.9603 - loss: 0.0877 - val_accuracy: 0.8988 - val_loss: 0.5294\n",
      "Epoch 30/40\n",
      "\u001b[1m1070/1070\u001b[0m \u001b[32m━━━━━━━━━━━━━━━━━━━━\u001b[0m\u001b[37m\u001b[0m \u001b[1m41s\u001b[0m 36ms/step - accuracy: 0.9621 - loss: 0.0833 - val_accuracy: 0.8999 - val_loss: 0.5592\n",
      "Epoch 31/40\n",
      "\u001b[1m1070/1070\u001b[0m \u001b[32m━━━━━━━━━━━━━━━━━━━━\u001b[0m\u001b[37m\u001b[0m \u001b[1m41s\u001b[0m 36ms/step - accuracy: 0.9633 - loss: 0.0801 - val_accuracy: 0.9023 - val_loss: 0.5988\n",
      "Epoch 32/40\n",
      "\u001b[1m1070/1070\u001b[0m \u001b[32m━━━━━━━━━━━━━━━━━━━━\u001b[0m\u001b[37m\u001b[0m \u001b[1m40s\u001b[0m 35ms/step - accuracy: 0.9632 - loss: 0.0789 - val_accuracy: 0.9015 - val_loss: 0.5994\n",
      "Epoch 33/40\n",
      "\u001b[1m1070/1070\u001b[0m \u001b[32m━━━━━━━━━━━━━━━━━━━━\u001b[0m\u001b[37m\u001b[0m \u001b[1m42s\u001b[0m 36ms/step - accuracy: 0.9643 - loss: 0.0756 - val_accuracy: 0.9021 - val_loss: 0.5876\n",
      "Epoch 34/40\n",
      "\u001b[1m1070/1070\u001b[0m \u001b[32m━━━━━━━━━━━━━━━━━━━━\u001b[0m\u001b[37m\u001b[0m \u001b[1m41s\u001b[0m 36ms/step - accuracy: 0.9658 - loss: 0.0736 - val_accuracy: 0.9022 - val_loss: 0.6151\n",
      "Epoch 35/40\n",
      "\u001b[1m1070/1070\u001b[0m \u001b[32m━━━━━━━━━━━━━━━━━━━━\u001b[0m\u001b[37m\u001b[0m \u001b[1m42s\u001b[0m 37ms/step - accuracy: 0.9675 - loss: 0.0697 - val_accuracy: 0.9018 - val_loss: 0.6191\n",
      "Epoch 36/40\n",
      "\u001b[1m1070/1070\u001b[0m \u001b[32m━━━━━━━━━━━━━━━━━━━━\u001b[0m\u001b[37m\u001b[0m \u001b[1m37s\u001b[0m 35ms/step - accuracy: 0.9678 - loss: 0.0676 - val_accuracy: 0.9017 - val_loss: 0.6183\n",
      "Epoch 37/40\n",
      "\u001b[1m1070/1070\u001b[0m \u001b[32m━━━━━━━━━━━━━━━━━━━━\u001b[0m\u001b[37m\u001b[0m \u001b[1m39s\u001b[0m 36ms/step - accuracy: 0.9695 - loss: 0.0648 - val_accuracy: 0.9029 - val_loss: 0.6310\n",
      "Epoch 38/40\n",
      "\u001b[1m1070/1070\u001b[0m \u001b[32m━━━━━━━━━━━━━━━━━━━━\u001b[0m\u001b[37m\u001b[0m \u001b[1m39s\u001b[0m 37ms/step - accuracy: 0.9700 - loss: 0.0642 - val_accuracy: 0.9029 - val_loss: 0.6455\n",
      "Epoch 39/40\n",
      "\u001b[1m1070/1070\u001b[0m \u001b[32m━━━━━━━━━━━━━━━━━━━━\u001b[0m\u001b[37m\u001b[0m \u001b[1m39s\u001b[0m 36ms/step - accuracy: 0.9713 - loss: 0.0609 - val_accuracy: 0.9025 - val_loss: 0.6508\n",
      "Epoch 40/40\n",
      "\u001b[1m1070/1070\u001b[0m \u001b[32m━━━━━━━━━━━━━━━━━━━━\u001b[0m\u001b[37m\u001b[0m \u001b[1m41s\u001b[0m 37ms/step - accuracy: 0.9712 - loss: 0.0607 - val_accuracy: 0.9037 - val_loss: 0.6713\n"
     ]
    }
   ],
   "source": [
    "# 모델 학습\n",
    "emb_his = model_embedding.fit(X_train_vec, y_train,\n",
    "                          validation_split=0.2,\n",
    "                          epochs=40, batch_size=128)"
   ]
  },
  {
   "cell_type": "code",
   "execution_count": 25,
   "metadata": {
    "colab": {
     "base_uri": "https://localhost:8080/",
     "height": 237
    },
    "executionInfo": {
     "elapsed": 24,
     "status": "error",
     "timestamp": 1750659014589,
     "user": {
      "displayName": "사본",
      "userId": "00690333374817726342"
     },
     "user_tz": -540
    },
    "id": "B_0P54peZ9A7",
    "outputId": "244dfa17-9c52-4679-f34b-70f45b4d8d81"
   },
   "outputs": [
    {
     "ename": "NameError",
     "evalue": "name 'emb_his' is not defined",
     "output_type": "error",
     "traceback": [
      "\u001b[0;31m---------------------------------------------------------------------------\u001b[0m",
      "\u001b[0;31mNameError\u001b[0m                                 Traceback (most recent call last)",
      "\u001b[0;32m/tmp/ipython-input-25-1953462322.py\u001b[0m in \u001b[0;36m<cell line: 0>\u001b[0;34m()\u001b[0m\n\u001b[1;32m      2\u001b[0m \u001b[0;32mimport\u001b[0m \u001b[0mmatplotlib\u001b[0m\u001b[0;34m.\u001b[0m\u001b[0mpyplot\u001b[0m \u001b[0;32mas\u001b[0m \u001b[0mplt\u001b[0m\u001b[0;34m\u001b[0m\u001b[0;34m\u001b[0m\u001b[0m\n\u001b[1;32m      3\u001b[0m \u001b[0mplt\u001b[0m\u001b[0;34m.\u001b[0m\u001b[0mfigure\u001b[0m\u001b[0;34m(\u001b[0m\u001b[0mfigsize\u001b[0m\u001b[0;34m=\u001b[0m\u001b[0;34m(\u001b[0m\u001b[0;36m12\u001b[0m\u001b[0;34m,\u001b[0m\u001b[0;36m4\u001b[0m\u001b[0;34m)\u001b[0m\u001b[0;34m)\u001b[0m\u001b[0;34m\u001b[0m\u001b[0;34m\u001b[0m\u001b[0m\n\u001b[0;32m----> 4\u001b[0;31m \u001b[0mplt\u001b[0m\u001b[0;34m.\u001b[0m\u001b[0mplot\u001b[0m\u001b[0;34m(\u001b[0m\u001b[0memb_his\u001b[0m\u001b[0;34m.\u001b[0m\u001b[0mhistory\u001b[0m\u001b[0;34m[\u001b[0m\u001b[0;34m'accuracy'\u001b[0m\u001b[0;34m]\u001b[0m\u001b[0;34m,\u001b[0m \u001b[0mlabel\u001b[0m\u001b[0;34m=\u001b[0m\u001b[0;34m'train_acc'\u001b[0m\u001b[0;34m)\u001b[0m\u001b[0;34m\u001b[0m\u001b[0;34m\u001b[0m\u001b[0m\n\u001b[0m\u001b[1;32m      5\u001b[0m \u001b[0mplt\u001b[0m\u001b[0;34m.\u001b[0m\u001b[0mplot\u001b[0m\u001b[0;34m(\u001b[0m\u001b[0memb_his\u001b[0m\u001b[0;34m.\u001b[0m\u001b[0mhistory\u001b[0m\u001b[0;34m[\u001b[0m\u001b[0;34m'val_accuracy'\u001b[0m\u001b[0;34m]\u001b[0m\u001b[0;34m,\u001b[0m \u001b[0mlabel\u001b[0m\u001b[0;34m=\u001b[0m\u001b[0;34m'val_acc'\u001b[0m\u001b[0;34m)\u001b[0m\u001b[0;34m\u001b[0m\u001b[0;34m\u001b[0m\u001b[0m\n\u001b[1;32m      6\u001b[0m \u001b[0mplt\u001b[0m\u001b[0;34m.\u001b[0m\u001b[0mlegend\u001b[0m\u001b[0;34m(\u001b[0m\u001b[0;34m)\u001b[0m\u001b[0;34m\u001b[0m\u001b[0;34m\u001b[0m\u001b[0m\n",
      "\u001b[0;31mNameError\u001b[0m: name 'emb_his' is not defined"
     ]
    },
    {
     "data": {
      "text/plain": [
       "<Figure size 1200x400 with 0 Axes>"
      ]
     },
     "metadata": {},
     "output_type": "display_data"
    }
   ],
   "source": [
    "# 학습 결과 시각화\n",
    "import matplotlib.pyplot as plt\n",
    "plt.figure(figsize=(12,4))\n",
    "plt.plot(emb_his.history['accuracy'], label='train_acc')\n",
    "plt.plot(emb_his.history['val_accuracy'], label='val_acc')\n",
    "plt.legend()\n",
    "plt.show()"
   ]
  },
  {
   "cell_type": "markdown",
   "metadata": {
    "id": "apYaXtyYSlFs"
   },
   "source": [
    "# RNN 계열 층 여러개 쌓기\n",
    "- RNN 계열 레이어는 기본적으로 다수입력 단일출력 구조\n",
    "- RNN 계열 레이어를 여러 층 쌓으려면 이전 레이어를 다수입력 다수출력 구조로 변경해야 함.\n",
    "- return_sequences = True 옵션 활용"
   ]
  },
  {
   "cell_type": "code",
   "execution_count": 22,
   "metadata": {
    "executionInfo": {
     "elapsed": 20,
     "status": "ok",
     "timestamp": 1750657467654,
     "user": {
      "displayName": "사본",
      "userId": "00690333374817726342"
     },
     "user_tz": -540
    },
    "id": "v3m-xWdEZ9D5"
   },
   "outputs": [],
   "source": [
    "# 모델 설계\n",
    "model_embedding2 = Sequential()\n",
    "model_embedding2.add(Embedding(5000,50))\n",
    "model_embedding2.add(GRU(128, return_sequences = True))\n",
    "model_embedding2.add(GRU(128))\n",
    "model_embedding2.add(Dense(1, activation='sigmoid'))\n",
    "\n",
    "# 모델 학습 및 평가방법 설정\n",
    "model_embedding2.compile(\n",
    "    loss='binary_crossentropy',\n",
    "    optimizer='Adam',\n",
    "    metrics=['accuracy']\n",
    ")"
   ]
  },
  {
   "cell_type": "code",
   "execution_count": 23,
   "metadata": {
    "colab": {
     "base_uri": "https://localhost:8080/"
    },
    "collapsed": true,
    "executionInfo": {
     "elapsed": 383271,
     "status": "ok",
     "timestamp": 1750657851695,
     "user": {
      "displayName": "사본",
      "userId": "00690333374817726342"
     },
     "user_tz": -540
    },
    "id": "s_FItKdqZ9G3",
    "outputId": "f17ea3a2-00d4-4f9d-98d8-9abc2a57691b"
   },
   "outputs": [
    {
     "name": "stdout",
     "output_type": "stream",
     "text": [
      "Epoch 1/40\n",
      "\u001b[1m1070/1070\u001b[0m \u001b[32m━━━━━━━━━━━━━━━━━━━━\u001b[0m\u001b[37m\u001b[0m \u001b[1m13s\u001b[0m 8ms/step - accuracy: 0.7561 - loss: 0.4779 - val_accuracy: 0.8239 - val_loss: 0.3856\n",
      "Epoch 2/40\n",
      "\u001b[1m1070/1070\u001b[0m \u001b[32m━━━━━━━━━━━━━━━━━━━━\u001b[0m\u001b[37m\u001b[0m \u001b[1m18s\u001b[0m 8ms/step - accuracy: 0.8259 - loss: 0.3781 - val_accuracy: 0.8374 - val_loss: 0.3599\n",
      "Epoch 3/40\n",
      "\u001b[1m1070/1070\u001b[0m \u001b[32m━━━━━━━━━━━━━━━━━━━━\u001b[0m\u001b[37m\u001b[0m \u001b[1m7s\u001b[0m 7ms/step - accuracy: 0.8401 - loss: 0.3516 - val_accuracy: 0.8456 - val_loss: 0.3462\n",
      "Epoch 4/40\n",
      "\u001b[1m1070/1070\u001b[0m \u001b[32m━━━━━━━━━━━━━━━━━━━━\u001b[0m\u001b[37m\u001b[0m \u001b[1m9s\u001b[0m 8ms/step - accuracy: 0.8503 - loss: 0.3311 - val_accuracy: 0.8520 - val_loss: 0.3334\n",
      "Epoch 5/40\n",
      "\u001b[1m1070/1070\u001b[0m \u001b[32m━━━━━━━━━━━━━━━━━━━━\u001b[0m\u001b[37m\u001b[0m \u001b[1m10s\u001b[0m 8ms/step - accuracy: 0.8618 - loss: 0.3083 - val_accuracy: 0.8559 - val_loss: 0.3273\n",
      "Epoch 6/40\n",
      "\u001b[1m1070/1070\u001b[0m \u001b[32m━━━━━━━━━━━━━━━━━━━━\u001b[0m\u001b[37m\u001b[0m \u001b[1m9s\u001b[0m 7ms/step - accuracy: 0.8698 - loss: 0.2909 - val_accuracy: 0.8608 - val_loss: 0.3204\n",
      "Epoch 7/40\n",
      "\u001b[1m1070/1070\u001b[0m \u001b[32m━━━━━━━━━━━━━━━━━━━━\u001b[0m\u001b[37m\u001b[0m \u001b[1m8s\u001b[0m 8ms/step - accuracy: 0.8784 - loss: 0.2736 - val_accuracy: 0.8641 - val_loss: 0.3170\n",
      "Epoch 8/40\n",
      "\u001b[1m1070/1070\u001b[0m \u001b[32m━━━━━━━━━━━━━━━━━━━━\u001b[0m\u001b[37m\u001b[0m \u001b[1m10s\u001b[0m 8ms/step - accuracy: 0.8884 - loss: 0.2530 - val_accuracy: 0.8707 - val_loss: 0.3173\n",
      "Epoch 9/40\n",
      "\u001b[1m1070/1070\u001b[0m \u001b[32m━━━━━━━━━━━━━━━━━━━━\u001b[0m\u001b[37m\u001b[0m \u001b[1m10s\u001b[0m 7ms/step - accuracy: 0.8970 - loss: 0.2344 - val_accuracy: 0.8764 - val_loss: 0.3154\n",
      "Epoch 10/40\n",
      "\u001b[1m1070/1070\u001b[0m \u001b[32m━━━━━━━━━━━━━━━━━━━━\u001b[0m\u001b[37m\u001b[0m \u001b[1m10s\u001b[0m 7ms/step - accuracy: 0.9066 - loss: 0.2154 - val_accuracy: 0.8787 - val_loss: 0.3254\n",
      "Epoch 11/40\n",
      "\u001b[1m1070/1070\u001b[0m \u001b[32m━━━━━━━━━━━━━━━━━━━━\u001b[0m\u001b[37m\u001b[0m \u001b[1m10s\u001b[0m 7ms/step - accuracy: 0.9123 - loss: 0.2009 - val_accuracy: 0.8799 - val_loss: 0.3399\n",
      "Epoch 12/40\n",
      "\u001b[1m1070/1070\u001b[0m \u001b[32m━━━━━━━━━━━━━━━━━━━━\u001b[0m\u001b[37m\u001b[0m \u001b[1m11s\u001b[0m 8ms/step - accuracy: 0.9188 - loss: 0.1852 - val_accuracy: 0.8822 - val_loss: 0.3681\n",
      "Epoch 13/40\n",
      "\u001b[1m1070/1070\u001b[0m \u001b[32m━━━━━━━━━━━━━━━━━━━━\u001b[0m\u001b[37m\u001b[0m \u001b[1m10s\u001b[0m 8ms/step - accuracy: 0.9259 - loss: 0.1708 - val_accuracy: 0.8873 - val_loss: 0.3630\n",
      "Epoch 14/40\n",
      "\u001b[1m1070/1070\u001b[0m \u001b[32m━━━━━━━━━━━━━━━━━━━━\u001b[0m\u001b[37m\u001b[0m \u001b[1m8s\u001b[0m 7ms/step - accuracy: 0.9312 - loss: 0.1579 - val_accuracy: 0.8865 - val_loss: 0.3785\n",
      "Epoch 15/40\n",
      "\u001b[1m1070/1070\u001b[0m \u001b[32m━━━━━━━━━━━━━━━━━━━━\u001b[0m\u001b[37m\u001b[0m \u001b[1m10s\u001b[0m 7ms/step - accuracy: 0.9366 - loss: 0.1474 - val_accuracy: 0.8888 - val_loss: 0.3907\n",
      "Epoch 16/40\n",
      "\u001b[1m1070/1070\u001b[0m \u001b[32m━━━━━━━━━━━━━━━━━━━━\u001b[0m\u001b[37m\u001b[0m \u001b[1m11s\u001b[0m 7ms/step - accuracy: 0.9420 - loss: 0.1352 - val_accuracy: 0.8928 - val_loss: 0.4173\n",
      "Epoch 17/40\n",
      "\u001b[1m1070/1070\u001b[0m \u001b[32m━━━━━━━━━━━━━━━━━━━━\u001b[0m\u001b[37m\u001b[0m \u001b[1m11s\u001b[0m 8ms/step - accuracy: 0.9442 - loss: 0.1274 - val_accuracy: 0.8944 - val_loss: 0.4223\n",
      "Epoch 18/40\n",
      "\u001b[1m1070/1070\u001b[0m \u001b[32m━━━━━━━━━━━━━━━━━━━━\u001b[0m\u001b[37m\u001b[0m \u001b[1m7s\u001b[0m 7ms/step - accuracy: 0.9468 - loss: 0.1203 - val_accuracy: 0.8948 - val_loss: 0.4300\n",
      "Epoch 19/40\n",
      "\u001b[1m1070/1070\u001b[0m \u001b[32m━━━━━━━━━━━━━━━━━━━━\u001b[0m\u001b[37m\u001b[0m \u001b[1m9s\u001b[0m 8ms/step - accuracy: 0.9511 - loss: 0.1101 - val_accuracy: 0.8963 - val_loss: 0.4689\n",
      "Epoch 20/40\n",
      "\u001b[1m1070/1070\u001b[0m \u001b[32m━━━━━━━━━━━━━━━━━━━━\u001b[0m\u001b[37m\u001b[0m \u001b[1m8s\u001b[0m 8ms/step - accuracy: 0.9553 - loss: 0.1027 - val_accuracy: 0.8964 - val_loss: 0.4768\n",
      "Epoch 21/40\n",
      "\u001b[1m1070/1070\u001b[0m \u001b[32m━━━━━━━━━━━━━━━━━━━━\u001b[0m\u001b[37m\u001b[0m \u001b[1m9s\u001b[0m 7ms/step - accuracy: 0.9567 - loss: 0.0982 - val_accuracy: 0.8984 - val_loss: 0.4793\n",
      "Epoch 22/40\n",
      "\u001b[1m1070/1070\u001b[0m \u001b[32m━━━━━━━━━━━━━━━━━━━━\u001b[0m\u001b[37m\u001b[0m \u001b[1m10s\u001b[0m 7ms/step - accuracy: 0.9575 - loss: 0.0940 - val_accuracy: 0.8999 - val_loss: 0.5029\n",
      "Epoch 23/40\n",
      "\u001b[1m1070/1070\u001b[0m \u001b[32m━━━━━━━━━━━━━━━━━━━━\u001b[0m\u001b[37m\u001b[0m \u001b[1m8s\u001b[0m 8ms/step - accuracy: 0.9624 - loss: 0.0850 - val_accuracy: 0.8979 - val_loss: 0.5212\n",
      "Epoch 24/40\n",
      "\u001b[1m1070/1070\u001b[0m \u001b[32m━━━━━━━━━━━━━━━━━━━━\u001b[0m\u001b[37m\u001b[0m \u001b[1m10s\u001b[0m 8ms/step - accuracy: 0.9616 - loss: 0.0849 - val_accuracy: 0.9002 - val_loss: 0.5380\n",
      "Epoch 25/40\n",
      "\u001b[1m1070/1070\u001b[0m \u001b[32m━━━━━━━━━━━━━━━━━━━━\u001b[0m\u001b[37m\u001b[0m \u001b[1m10s\u001b[0m 7ms/step - accuracy: 0.9632 - loss: 0.0812 - val_accuracy: 0.9003 - val_loss: 0.5702\n",
      "Epoch 26/40\n",
      "\u001b[1m1070/1070\u001b[0m \u001b[32m━━━━━━━━━━━━━━━━━━━━\u001b[0m\u001b[37m\u001b[0m \u001b[1m10s\u001b[0m 7ms/step - accuracy: 0.9665 - loss: 0.0747 - val_accuracy: 0.9020 - val_loss: 0.5577\n",
      "Epoch 27/40\n",
      "\u001b[1m1070/1070\u001b[0m \u001b[32m━━━━━━━━━━━━━━━━━━━━\u001b[0m\u001b[37m\u001b[0m \u001b[1m8s\u001b[0m 8ms/step - accuracy: 0.9673 - loss: 0.0711 - val_accuracy: 0.9052 - val_loss: 0.5932\n",
      "Epoch 28/40\n",
      "\u001b[1m1070/1070\u001b[0m \u001b[32m━━━━━━━━━━━━━━━━━━━━\u001b[0m\u001b[37m\u001b[0m \u001b[1m8s\u001b[0m 7ms/step - accuracy: 0.9683 - loss: 0.0699 - val_accuracy: 0.9041 - val_loss: 0.5723\n",
      "Epoch 29/40\n",
      "\u001b[1m1070/1070\u001b[0m \u001b[32m━━━━━━━━━━━━━━━━━━━━\u001b[0m\u001b[37m\u001b[0m \u001b[1m10s\u001b[0m 7ms/step - accuracy: 0.9694 - loss: 0.0658 - val_accuracy: 0.9052 - val_loss: 0.5733\n",
      "Epoch 30/40\n",
      "\u001b[1m1070/1070\u001b[0m \u001b[32m━━━━━━━━━━━━━━━━━━━━\u001b[0m\u001b[37m\u001b[0m \u001b[1m11s\u001b[0m 7ms/step - accuracy: 0.9713 - loss: 0.0632 - val_accuracy: 0.9051 - val_loss: 0.6197\n",
      "Epoch 31/40\n",
      "\u001b[1m1070/1070\u001b[0m \u001b[32m━━━━━━━━━━━━━━━━━━━━\u001b[0m\u001b[37m\u001b[0m \u001b[1m8s\u001b[0m 8ms/step - accuracy: 0.9718 - loss: 0.0612 - val_accuracy: 0.9063 - val_loss: 0.6247\n",
      "Epoch 32/40\n",
      "\u001b[1m1070/1070\u001b[0m \u001b[32m━━━━━━━━━━━━━━━━━━━━\u001b[0m\u001b[37m\u001b[0m \u001b[1m10s\u001b[0m 7ms/step - accuracy: 0.9731 - loss: 0.0575 - val_accuracy: 0.9065 - val_loss: 0.6233\n",
      "Epoch 33/40\n",
      "\u001b[1m1070/1070\u001b[0m \u001b[32m━━━━━━━━━━━━━━━━━━━━\u001b[0m\u001b[37m\u001b[0m \u001b[1m10s\u001b[0m 7ms/step - accuracy: 0.9736 - loss: 0.0579 - val_accuracy: 0.9061 - val_loss: 0.6336\n",
      "Epoch 34/40\n",
      "\u001b[1m1070/1070\u001b[0m \u001b[32m━━━━━━━━━━━━━━━━━━━━\u001b[0m\u001b[37m\u001b[0m \u001b[1m9s\u001b[0m 8ms/step - accuracy: 0.9738 - loss: 0.0578 - val_accuracy: 0.9081 - val_loss: 0.6496\n",
      "Epoch 35/40\n",
      "\u001b[1m1070/1070\u001b[0m \u001b[32m━━━━━━━━━━━━━━━━━━━━\u001b[0m\u001b[37m\u001b[0m \u001b[1m8s\u001b[0m 8ms/step - accuracy: 0.9745 - loss: 0.0550 - val_accuracy: 0.9071 - val_loss: 0.6491\n",
      "Epoch 36/40\n",
      "\u001b[1m1070/1070\u001b[0m \u001b[32m━━━━━━━━━━━━━━━━━━━━\u001b[0m\u001b[37m\u001b[0m \u001b[1m10s\u001b[0m 7ms/step - accuracy: 0.9737 - loss: 0.0564 - val_accuracy: 0.9067 - val_loss: 0.6611\n",
      "Epoch 37/40\n",
      "\u001b[1m1070/1070\u001b[0m \u001b[32m━━━━━━━━━━━━━━━━━━━━\u001b[0m\u001b[37m\u001b[0m \u001b[1m10s\u001b[0m 7ms/step - accuracy: 0.9756 - loss: 0.0523 - val_accuracy: 0.9081 - val_loss: 0.6389\n",
      "Epoch 38/40\n",
      "\u001b[1m1070/1070\u001b[0m \u001b[32m━━━━━━━━━━━━━━━━━━━━\u001b[0m\u001b[37m\u001b[0m \u001b[1m8s\u001b[0m 8ms/step - accuracy: 0.9759 - loss: 0.0514 - val_accuracy: 0.9063 - val_loss: 0.6610\n",
      "Epoch 39/40\n",
      "\u001b[1m1070/1070\u001b[0m \u001b[32m━━━━━━━━━━━━━━━━━━━━\u001b[0m\u001b[37m\u001b[0m \u001b[1m10s\u001b[0m 8ms/step - accuracy: 0.9753 - loss: 0.0527 - val_accuracy: 0.9100 - val_loss: 0.6660\n",
      "Epoch 40/40\n",
      "\u001b[1m1070/1070\u001b[0m \u001b[32m━━━━━━━━━━━━━━━━━━━━\u001b[0m\u001b[37m\u001b[0m \u001b[1m8s\u001b[0m 7ms/step - accuracy: 0.9769 - loss: 0.0497 - val_accuracy: 0.9087 - val_loss: 0.6566\n"
     ]
    }
   ],
   "source": [
    "emb2_his = model_embedding2.fit(X_train_vec, y_train,\n",
    "                          validation_split=0.2,\n",
    "                          epochs=40, batch_size=128)"
   ]
  },
  {
   "cell_type": "code",
   "execution_count": 26,
   "metadata": {
    "colab": {
     "base_uri": "https://localhost:8080/",
     "height": 368
    },
    "executionInfo": {
     "elapsed": 257,
     "status": "ok",
     "timestamp": 1750659019097,
     "user": {
      "displayName": "사본",
      "userId": "00690333374817726342"
     },
     "user_tz": -540
    },
    "id": "75wOyyQXZ9Jy",
    "outputId": "b5b1b4aa-790c-4983-dfb6-ee13e9781647"
   },
   "outputs": [
    {
     "data": {
      "image/png": "[encoded data removed]",
      "text/plain": [
       "<Figure size 1200x400 with 1 Axes>"
      ]
     },
     "metadata": {},
     "output_type": "display_data"
    }
   ],
   "source": [
    "# 학습 결과 시각화\n",
    "plt.figure(figsize=(12,4))\n",
    "plt.plot(emb2_his.history['accuracy'], label='train_acc')\n",
    "plt.plot(emb2_his.history['val_accuracy'], label='val_acc')\n",
    "plt.legend()\n",
    "plt.show()"
   ]
  },
  {
   "cell_type": "code",
   "execution_count": 27,
   "metadata": {
    "colab": {
     "base_uri": "https://localhost:8080/"
    },
    "executionInfo": {
     "elapsed": 5172,
     "status": "ok",
     "timestamp": 1750659217905,
     "user": {
      "displayName": "사본",
      "userId": "00690333374817726342"
     },
     "user_tz": -540
    },
    "id": "zA1LUDRhYTIE",
    "outputId": "b4b27596-33bd-473c-9578-5dccaba7d684"
   },
   "outputs": [
    {
     "name": "stdout",
     "output_type": "stream",
     "text": [
      "\u001b[1m1563/1563\u001b[0m \u001b[32m━━━━━━━━━━━━━━━━━━━━\u001b[0m\u001b[37m\u001b[0m \u001b[1m4s\u001b[0m 2ms/step\n"
     ]
    }
   ],
   "source": [
    "y_pre = model_embedding2.predict(X_test_vec)"
   ]
  },
  {
   "cell_type": "code",
   "execution_count": 28,
   "metadata": {
    "executionInfo": {
     "elapsed": 16,
     "status": "ok",
     "timestamp": 1750659254931,
     "user": {
      "displayName": "사본",
      "userId": "00690333374817726342"
     },
     "user_tz": -540
    },
    "id": "sf9J9zEQYTNQ"
   },
   "outputs": [],
   "source": [
    "# 분류평가지표 확인\n",
    "from sklearn.metrics import classification_report"
   ]
  },
  {
   "cell_type": "code",
   "execution_count": 34,
   "metadata": {
    "colab": {
     "base_uri": "https://localhost:8080/"
    },
    "executionInfo": {
     "elapsed": 21,
     "status": "ok",
     "timestamp": 1750659466723,
     "user": {
      "displayName": "사본",
      "userId": "00690333374817726342"
     },
     "user_tz": -540
    },
    "id": "uuS2WfRdYTRK",
    "outputId": "41b8ceaa-771d-4b25-b011-2a2cae6c9aff"
   },
   "outputs": [
    {
     "name": "stdout",
     "output_type": "stream",
     "text": [
      "              precision    recall  f1-score   support\n",
      "\n",
      "           0       0.79      0.78      0.78     24826\n",
      "           1       0.79      0.79      0.79     25171\n",
      "\n",
      "    accuracy                           0.79     49997\n",
      "   macro avg       0.79      0.79      0.79     49997\n",
      "weighted avg       0.79      0.79      0.79     49997\n",
      "\n"
     ]
    }
   ],
   "source": [
    "print(classification_report(y_test.values, y_pre))\n",
    "# test 정확도 0.78\n",
    "# 정밀도, 재현율 모두 클래스 별 조금의 차이는 있지만, 전반적으로 균형 잡힌 성능을 보임"
   ]
  },
  {
   "cell_type": "code",
   "execution_count": 33,
   "metadata": {
    "executionInfo": {
     "elapsed": 4,
     "status": "ok",
     "timestamp": 1750659463546,
     "user": {
      "displayName": "사본",
      "userId": "00690333374817726342"
     },
     "user_tz": -540
    },
    "id": "C9tapWRsbtOr"
   },
   "outputs": [],
   "source": [
    "# 모델의 출력값 -> 확률값 (출력층의 활성화함수인 'sigmoid' 통과 > 0~1 사이 확률 값)\n",
    "# 0.5보다 크면 1, 낮으면 0 반환 (이진 분류 정답으로 만들어주기)\n",
    "y_pre = np.where(y_pre>=0.5, 1, 0)"
   ]
  },
  {
   "cell_type": "code",
   "execution_count": null,
   "metadata": {
    "id": "7NBdHJU2YTUe"
   },
   "outputs": [],
   "source": []
  },
  {
   "cell_type": "code",
   "execution_count": null,
   "metadata": {
    "id": "1wZ-WDDrYTXH"
   },
   "outputs": [],
   "source": []
  },
  {
   "cell_type": "code",
   "execution_count": null,
   "metadata": {
    "id": "loD_GV9vYTZp"
   },
   "outputs": [],
   "source": []
  },
  {
   "cell_type": "code",
   "execution_count": null,
   "metadata": {
    "id": "zB8KT5X6YTcA"
   },
   "outputs": [],
   "source": []
  },
  {
   "cell_type": "code",
   "execution_count": null,
   "metadata": {
    "id": "WPRybVLAYTeP"
   },
   "outputs": [],
   "source": []
  },
  {
   "cell_type": "code",
   "execution_count": null,
   "metadata": {
    "id": "YZA6J53SYTgp"
   },
   "outputs": [],
   "source": []
  },
  {
   "cell_type": "code",
   "execution_count": null,
   "metadata": {
    "id": "ETGVGzHHYTjN"
   },
   "outputs": [],
   "source": []
  },
  {
   "cell_type": "code",
   "execution_count": null,
   "metadata": {
    "id": "7Yr0xtl5YTmA"
   },
   "outputs": [],
   "source": []
  },
  {
   "cell_type": "code",
   "execution_count": null,
   "metadata": {
    "id": "7-iWxMfyYTos"
   },
   "outputs": [],
   "source": []
  },
  {
   "cell_type": "code",
   "execution_count": null,
   "metadata": {
    "id": "SoRqRMEXYTra"
   },
   "outputs": [],
   "source": []
  },
  {
   "cell_type": "code",
   "execution_count": null,
   "metadata": {
    "id": "NUoVhTARYTuM"
   },
   "outputs": [],
   "source": []
  }
 ],
 "metadata": {
  "accelerator": "GPU",
  "colab": {
   "authorship_tag": "ABX9TyMHRU35uMKt9P4KhhjpmN4O",
   "gpuType": "T4",
   "mount_file_id": "1kFRlbsIW1X4VIeciVT4Vsk0Zp5oqCpK5",
   "provenance": []
  },
  "kernelspec": {
   "display_name": "Python 3",
   "name": "python3"
  },
  "language_info": {
   "name": "python"
  },
  "widgets": {
   "application/vnd.jupyter.widget-state+json": {
    "10e28d88f1d24bd3a14afc0bb56a6fa5": {
     "model_module": "@jupyter-widgets/base",
     "model_module_version": "1.2.0",
     "model_name": "LayoutModel",
     "state": {
      "_model_module": "@jupyter-widgets/base",
      "_model_module_version": "1.2.0",
      "_model_name": "LayoutModel",
      "_view_count": null,
      "_view_module": "@jupyter-widgets/base",
      "_view_module_version": "1.2.0",
      "_view_name": "LayoutView",
      "align_content": null,
      "align_items": null,
      "align_self": null,
      "border": null,
      "bottom": null,
      "display": null,
      "flex": null,
      "flex_flow": null,
      "grid_area": null,
      "grid_auto_columns": null,
      "grid_auto_flow": null,
      "grid_auto_rows": null,
      "grid_column": null,
      "grid_gap": null,
      "grid_row": null,
      "grid_template_areas": null,
      "grid_template_columns": null,
      "grid_template_rows": null,
      "height": null,
      "justify_content": null,
      "justify_items": null,
      "left": null,
      "margin": null,
      "max_height": null,
      "max_width": null,
      "min_height": null,
      "min_width": null,
      "object_fit": null,
      "object_position": null,
      "order": null,
      "overflow": null,
      "overflow_x": null,
      "overflow_y": null,
      "padding": null,
      "right": null,
      "top": null,
      "visibility": null,
      "width": null
     }
    },
    "1d03c5817d904c92ab063573b5053091": {
     "model_module": "@jupyter-widgets/controls",
     "model_module_version": "1.5.0",
     "model_name": "HTMLModel",
     "state": {
      "_dom_classes": [],
      "_model_module": "@jupyter-widgets/controls",
      "_model_module_version": "1.5.0",
      "_model_name": "HTMLModel",
      "_view_count": null,
      "_view_module": "@jupyter-widgets/controls",
      "_view_module_version": "1.5.0",
      "_view_name": "HTMLView",
      "description": "",
      "description_tooltip": null,
      "layout": "IPY_MODEL_32e893c9a85146f2b08599b38b3ff2ed",
      "placeholder": "​",
      "style": "IPY_MODEL_aa3b164579cb4ee48b20eb1376fce88b",
      "value": "100%"
     }
    },
    "30260793173c4eb0aad6bba5cf95957f": {
     "model_module": "@jupyter-widgets/controls",
     "model_module_version": "1.5.0",
     "model_name": "HTMLModel",
     "state": {
      "_dom_classes": [],
      "_model_module": "@jupyter-widgets/controls",
      "_model_module_version": "1.5.0",
      "_model_name": "HTMLModel",
      "_view_count": null,
      "_view_module": "@jupyter-widgets/controls",
      "_view_module_version": "1.5.0",
      "_view_name": "HTMLView",
      "description": "",
      "description_tooltip": null,
      "layout": "IPY_MODEL_92666871548a4b278cca3f3a73ee4b4b",
      "placeholder": "​",
      "style": "IPY_MODEL_a556279f4e5b43918073bb10d5e31c35",
      "value": " 171068/171068 [15:41&lt;00:00, 219.60it/s]"
     }
    },
    "32e893c9a85146f2b08599b38b3ff2ed": {
     "model_module": "@jupyter-widgets/base",
     "model_module_version": "1.2.0",
     "model_name": "LayoutModel",
     "state": {
      "_model_module": "@jupyter-widgets/base",
      "_model_module_version": "1.2.0",
      "_model_name": "LayoutModel",
      "_view_count": null,
      "_view_module": "@jupyter-widgets/base",
      "_view_module_version": "1.2.0",
      "_view_name": "LayoutView",
      "align_content": null,
      "align_items": null,
      "align_self": null,
      "border": null,
      "bottom": null,
      "display": null,
      "flex": null,
      "flex_flow": null,
      "grid_area": null,
      "grid_auto_columns": null,
      "grid_auto_flow": null,
      "grid_auto_rows": null,
      "grid_column": null,
      "grid_gap": null,
      "grid_row": null,
      "grid_template_areas": null,
      "grid_template_columns": null,
      "grid_template_rows": null,
      "height": null,
      "justify_content": null,
      "justify_items": null,
      "left": null,
      "margin": null,
      "max_height": null,
      "max_width": null,
      "min_height": null,
      "min_width": null,
      "object_fit": null,
      "object_position": null,
      "order": null,
      "overflow": null,
      "overflow_x": null,
      "overflow_y": null,
      "padding": null,
      "right": null,
      "top": null,
      "visibility": null,
      "width": null
     }
    },
    "332149c559514b208eb6d581d0633762": {
     "model_module": "@jupyter-widgets/controls",
     "model_module_version": "1.5.0",
     "model_name": "ProgressStyleModel",
     "state": {
      "_model_module": "@jupyter-widgets/controls",
      "_model_module_version": "1.5.0",
      "_model_name": "ProgressStyleModel",
      "_view_count": null,
      "_view_module": "@jupyter-widgets/base",
      "_view_module_version": "1.2.0",
      "_view_name": "StyleView",
      "bar_color": null,
      "description_width": ""
     }
    },
    "3a61341a0a6b44a78d645d9dd14294a5": {
     "model_module": "@jupyter-widgets/controls",
     "model_module_version": "1.5.0",
     "model_name": "HTMLModel",
     "state": {
      "_dom_classes": [],
      "_model_module": "@jupyter-widgets/controls",
      "_model_module_version": "1.5.0",
      "_model_name": "HTMLModel",
      "_view_count": null,
      "_view_module": "@jupyter-widgets/controls",
      "_view_module_version": "1.5.0",
      "_view_name": "HTMLView",
      "description": "",
      "description_tooltip": null,
      "layout": "IPY_MODEL_10e28d88f1d24bd3a14afc0bb56a6fa5",
      "placeholder": "​",
      "style": "IPY_MODEL_a7a0968345bb4859b53079ee7534ea65",
      "value": " 49997/49997 [04:35&lt;00:00, 203.07it/s]"
     }
    },
    "3e7befdd7629437aaf6fae9b250ae136": {
     "model_module": "@jupyter-widgets/controls",
     "model_module_version": "1.5.0",
     "model_name": "HBoxModel",
     "state": {
      "_dom_classes": [],
      "_model_module": "@jupyter-widgets/controls",
      "_model_module_version": "1.5.0",
      "_model_name": "HBoxModel",
      "_view_count": null,
      "_view_module": "@jupyter-widgets/controls",
      "_view_module_version": "1.5.0",
      "_view_name": "HBoxView",
      "box_style": "",
      "children": [
       "IPY_MODEL_a8d6cc116de442079f83deb81e247264",
       "IPY_MODEL_8106ba493c664e288a7793d49e02e066",
       "IPY_MODEL_30260793173c4eb0aad6bba5cf95957f"
      ],
      "layout": "IPY_MODEL_68d7d7f233aa4b81b3365e2f506ec052"
     }
    },
    "5526aa35b71745098c90370731d6d1dd": {
     "model_module": "@jupyter-widgets/controls",
     "model_module_version": "1.5.0",
     "model_name": "ProgressStyleModel",
     "state": {
      "_model_module": "@jupyter-widgets/controls",
      "_model_module_version": "1.5.0",
      "_model_name": "ProgressStyleModel",
      "_view_count": null,
      "_view_module": "@jupyter-widgets/base",
      "_view_module_version": "1.2.0",
      "_view_name": "StyleView",
      "bar_color": null,
      "description_width": ""
     }
    },
    "5965ee805fb345299a384adc423c39f5": {
     "model_module": "@jupyter-widgets/base",
     "model_module_version": "1.2.0",
     "model_name": "LayoutModel",
     "state": {
      "_model_module": "@jupyter-widgets/base",
      "_model_module_version": "1.2.0",
      "_model_name": "LayoutModel",
      "_view_count": null,
      "_view_module": "@jupyter-widgets/base",
      "_view_module_version": "1.2.0",
      "_view_name": "LayoutView",
      "align_content": null,
      "align_items": null,
      "align_self": null,
      "border": null,
      "bottom": null,
      "display": null,
      "flex": null,
      "flex_flow": null,
      "grid_area": null,
      "grid_auto_columns": null,
      "grid_auto_flow": null,
      "grid_auto_rows": null,
      "grid_column": null,
      "grid_gap": null,
      "grid_row": null,
      "grid_template_areas": null,
      "grid_template_columns": null,
      "grid_template_rows": null,
      "height": null,
      "justify_content": null,
      "justify_items": null,
      "left": null,
      "margin": null,
      "max_height": null,
      "max_width": null,
      "min_height": null,
      "min_width": null,
      "object_fit": null,
      "object_position": null,
      "order": null,
      "overflow": null,
      "overflow_x": null,
      "overflow_y": null,
      "padding": null,
      "right": null,
      "top": null,
      "visibility": null,
      "width": null
     }
    },
    "5a1722abff0f4f809c74f6e73d2759c8": {
     "model_module": "@jupyter-widgets/base",
     "model_module_version": "1.2.0",
     "model_name": "LayoutModel",
     "state": {
      "_model_module": "@jupyter-widgets/base",
      "_model_module_version": "1.2.0",
      "_model_name": "LayoutModel",
      "_view_count": null,
      "_view_module": "@jupyter-widgets/base",
      "_view_module_version": "1.2.0",
      "_view_name": "LayoutView",
      "align_content": null,
      "align_items": null,
      "align_self": null,
      "border": null,
      "bottom": null,
      "display": null,
      "flex": null,
      "flex_flow": null,
      "grid_area": null,
      "grid_auto_columns": null,
      "grid_auto_flow": null,
      "grid_auto_rows": null,
      "grid_column": null,
      "grid_gap": null,
      "grid_row": null,
      "grid_template_areas": null,
      "grid_template_columns": null,
      "grid_template_rows": null,
      "height": null,
      "justify_content": null,
      "justify_items": null,
      "left": null,
      "margin": null,
      "max_height": null,
      "max_width": null,
      "min_height": null,
      "min_width": null,
      "object_fit": null,
      "object_position": null,
      "order": null,
      "overflow": null,
      "overflow_x": null,
      "overflow_y": null,
      "padding": null,
      "right": null,
      "top": null,
      "visibility": null,
      "width": null
     }
    },
    "63f6c29441d549bf83f4571bd015f626": {
     "model_module": "@jupyter-widgets/controls",
     "model_module_version": "1.5.0",
     "model_name": "DescriptionStyleModel",
     "state": {
      "_model_module": "@jupyter-widgets/controls",
      "_model_module_version": "1.5.0",
      "_model_name": "DescriptionStyleModel",
      "_view_count": null,
      "_view_module": "@jupyter-widgets/base",
      "_view_module_version": "1.2.0",
      "_view_name": "StyleView",
      "description_width": ""
     }
    },
    "68d7d7f233aa4b81b3365e2f506ec052": {
     "model_module": "@jupyter-widgets/base",
     "model_module_version": "1.2.0",
     "model_name": "LayoutModel",
     "state": {
      "_model_module": "@jupyter-widgets/base",
      "_model_module_version": "1.2.0",
      "_model_name": "LayoutModel",
      "_view_count": null,
      "_view_module": "@jupyter-widgets/base",
      "_view_module_version": "1.2.0",
      "_view_name": "LayoutView",
      "align_content": null,
      "align_items": null,
      "align_self": null,
      "border": null,
      "bottom": null,
      "display": null,
      "flex": null,
      "flex_flow": null,
      "grid_area": null,
      "grid_auto_columns": null,
      "grid_auto_flow": null,
      "grid_auto_rows": null,
      "grid_column": null,
      "grid_gap": null,
      "grid_row": null,
      "grid_template_areas": null,
      "grid_template_columns": null,
      "grid_template_rows": null,
      "height": null,
      "justify_content": null,
      "justify_items": null,
      "left": null,
      "margin": null,
      "max_height": null,
      "max_width": null,
      "min_height": null,
      "min_width": null,
      "object_fit": null,
      "object_position": null,
      "order": null,
      "overflow": null,
      "overflow_x": null,
      "overflow_y": null,
      "padding": null,
      "right": null,
      "top": null,
      "visibility": null,
      "width": null
     }
    },
    "8106ba493c664e288a7793d49e02e066": {
     "model_module": "@jupyter-widgets/controls",
     "model_module_version": "1.5.0",
     "model_name": "FloatProgressModel",
     "state": {
      "_dom_classes": [],
      "_model_module": "@jupyter-widgets/controls",
      "_model_module_version": "1.5.0",
      "_model_name": "FloatProgressModel",
      "_view_count": null,
      "_view_module": "@jupyter-widgets/controls",
      "_view_module_version": "1.5.0",
      "_view_name": "ProgressView",
      "bar_style": "success",
      "description": "",
      "description_tooltip": null,
      "layout": "IPY_MODEL_5a1722abff0f4f809c74f6e73d2759c8",
      "max": 171068,
      "min": 0,
      "orientation": "horizontal",
      "style": "IPY_MODEL_332149c559514b208eb6d581d0633762",
      "value": 171068
     }
    },
    "861c5ba3d6ba4a0f82924b0e20d3c085": {
     "model_module": "@jupyter-widgets/controls",
     "model_module_version": "1.5.0",
     "model_name": "FloatProgressModel",
     "state": {
      "_dom_classes": [],
      "_model_module": "@jupyter-widgets/controls",
      "_model_module_version": "1.5.0",
      "_model_name": "FloatProgressModel",
      "_view_count": null,
      "_view_module": "@jupyter-widgets/controls",
      "_view_module_version": "1.5.0",
      "_view_name": "ProgressView",
      "bar_style": "success",
      "description": "",
      "description_tooltip": null,
      "layout": "IPY_MODEL_96ebb7836d164c4b95b017dc516b6247",
      "max": 49997,
      "min": 0,
      "orientation": "horizontal",
      "style": "IPY_MODEL_5526aa35b71745098c90370731d6d1dd",
      "value": 49997
     }
    },
    "92666871548a4b278cca3f3a73ee4b4b": {
     "model_module": "@jupyter-widgets/base",
     "model_module_version": "1.2.0",
     "model_name": "LayoutModel",
     "state": {
      "_model_module": "@jupyter-widgets/base",
      "_model_module_version": "1.2.0",
      "_model_name": "LayoutModel",
      "_view_count": null,
      "_view_module": "@jupyter-widgets/base",
      "_view_module_version": "1.2.0",
      "_view_name": "LayoutView",
      "align_content": null,
      "align_items": null,
      "align_self": null,
      "border": null,
      "bottom": null,
      "display": null,
      "flex": null,
      "flex_flow": null,
      "grid_area": null,
      "grid_auto_columns": null,
      "grid_auto_flow": null,
      "grid_auto_rows": null,
      "grid_column": null,
      "grid_gap": null,
      "grid_row": null,
      "grid_template_areas": null,
      "grid_template_columns": null,
      "grid_template_rows": null,
      "height": null,
      "justify_content": null,
      "justify_items": null,
      "left": null,
      "margin": null,
      "max_height": null,
      "max_width": null,
      "min_height": null,
      "min_width": null,
      "object_fit": null,
      "object_position": null,
      "order": null,
      "overflow": null,
      "overflow_x": null,
      "overflow_y": null,
      "padding": null,
      "right": null,
      "top": null,
      "visibility": null,
      "width": null
     }
    },
    "96ebb7836d164c4b95b017dc516b6247": {
     "model_module": "@jupyter-widgets/base",
     "model_module_version": "1.2.0",
     "model_name": "LayoutModel",
     "state": {
      "_model_module": "@jupyter-widgets/base",
      "_model_module_version": "1.2.0",
      "_model_name": "LayoutModel",
      "_view_count": null,
      "_view_module": "@jupyter-widgets/base",
      "_view_module_version": "1.2.0",
      "_view_name": "LayoutView",
      "align_content": null,
      "align_items": null,
      "align_self": null,
      "border": null,
      "bottom": null,
      "display": null,
      "flex": null,
      "flex_flow": null,
      "grid_area": null,
      "grid_auto_columns": null,
      "grid_auto_flow": null,
      "grid_auto_rows": null,
      "grid_column": null,
      "grid_gap": null,
      "grid_row": null,
      "grid_template_areas": null,
      "grid_template_columns": null,
      "grid_template_rows": null,
      "height": null,
      "justify_content": null,
      "justify_items": null,
      "left": null,
      "margin": null,
      "max_height": null,
      "max_width": null,
      "min_height": null,
      "min_width": null,
      "object_fit": null,
      "object_position": null,
      "order": null,
      "overflow": null,
      "overflow_x": null,
      "overflow_y": null,
      "padding": null,
      "right": null,
      "top": null,
      "visibility": null,
      "width": null
     }
    },
    "a556279f4e5b43918073bb10d5e31c35": {
     "model_module": "@jupyter-widgets/controls",
     "model_module_version": "1.5.0",
     "model_name": "DescriptionStyleModel",
     "state": {
      "_model_module": "@jupyter-widgets/controls",
      "_model_module_version": "1.5.0",
      "_model_name": "DescriptionStyleModel",
      "_view_count": null,
      "_view_module": "@jupyter-widgets/base",
      "_view_module_version": "1.2.0",
      "_view_name": "StyleView",
      "description_width": ""
     }
    },
    "a7a0968345bb4859b53079ee7534ea65": {
     "model_module": "@jupyter-widgets/controls",
     "model_module_version": "1.5.0",
     "model_name": "DescriptionStyleModel",
     "state": {
      "_model_module": "@jupyter-widgets/controls",
      "_model_module_version": "1.5.0",
      "_model_name": "DescriptionStyleModel",
      "_view_count": null,
      "_view_module": "@jupyter-widgets/base",
      "_view_module_version": "1.2.0",
      "_view_name": "StyleView",
      "description_width": ""
     }
    },
    "a8d6cc116de442079f83deb81e247264": {
     "model_module": "@jupyter-widgets/controls",
     "model_module_version": "1.5.0",
     "model_name": "HTMLModel",
     "state": {
      "_dom_classes": [],
      "_model_module": "@jupyter-widgets/controls",
      "_model_module_version": "1.5.0",
      "_model_name": "HTMLModel",
      "_view_count": null,
      "_view_module": "@jupyter-widgets/controls",
      "_view_module_version": "1.5.0",
      "_view_name": "HTMLView",
      "description": "",
      "description_tooltip": null,
      "layout": "IPY_MODEL_5965ee805fb345299a384adc423c39f5",
      "placeholder": "​",
      "style": "IPY_MODEL_63f6c29441d549bf83f4571bd015f626",
      "value": "100%"
     }
    },
    "aa3b164579cb4ee48b20eb1376fce88b": {
     "model_module": "@jupyter-widgets/controls",
     "model_module_version": "1.5.0",
     "model_name": "DescriptionStyleModel",
     "state": {
      "_model_module": "@jupyter-widgets/controls",
      "_model_module_version": "1.5.0",
      "_model_name": "DescriptionStyleModel",
      "_view_count": null,
      "_view_module": "@jupyter-widgets/base",
      "_view_module_version": "1.2.0",
      "_view_name": "StyleView",
      "description_width": ""
     }
    },
    "f0d66aa06ddc4e7fb98e928427c7960d": {
     "model_module": "@jupyter-widgets/base",
     "model_module_version": "1.2.0",
     "model_name": "LayoutModel",
     "state": {
      "_model_module": "@jupyter-widgets/base",
      "_model_module_version": "1.2.0",
      "_model_name": "LayoutModel",
      "_view_count": null,
      "_view_module": "@jupyter-widgets/base",
      "_view_module_version": "1.2.0",
      "_view_name": "LayoutView",
      "align_content": null,
      "align_items": null,
      "align_self": null,
      "border": null,
      "bottom": null,
      "display": null,
      "flex": null,
      "flex_flow": null,
      "grid_area": null,
      "grid_auto_columns": null,
      "grid_auto_flow": null,
      "grid_auto_rows": null,
      "grid_column": null,
      "grid_gap": null,
      "grid_row": null,
      "grid_template_areas": null,
      "grid_template_columns": null,
      "grid_template_rows": null,
      "height": null,
      "justify_content": null,
      "justify_items": null,
      "left": null,
      "margin": null,
      "max_height": null,
      "max_width": null,
      "min_height": null,
      "min_width": null,
      "object_fit": null,
      "object_position": null,
      "order": null,
      "overflow": null,
      "overflow_x": null,
      "overflow_y": null,
      "padding": null,
      "right": null,
      "top": null,
      "visibility": null,
      "width": null
     }
    },
    "fc6453df247e4538b9977b3726123dfc": {
     "model_module": "@jupyter-widgets/controls",
     "model_module_version": "1.5.0",
     "model_name": "HBoxModel",
     "state": {
      "_dom_classes": [],
      "_model_module": "@jupyter-widgets/controls",
      "_model_module_version": "1.5.0",
      "_model_name": "HBoxModel",
      "_view_count": null,
      "_view_module": "@jupyter-widgets/controls",
      "_view_module_version": "1.5.0",
      "_view_name": "HBoxView",
      "box_style": "",
      "children": [
       "IPY_MODEL_1d03c5817d904c92ab063573b5053091",
       "IPY_MODEL_861c5ba3d6ba4a0f82924b0e20d3c085",
       "IPY_MODEL_3a61341a0a6b44a78d645d9dd14294a5"
      ],
      "layout": "IPY_MODEL_f0d66aa06ddc4e7fb98e928427c7960d"
     }
    }
   }
  }
 },
 "nbformat": 4,
 "nbformat_minor": 0
}
