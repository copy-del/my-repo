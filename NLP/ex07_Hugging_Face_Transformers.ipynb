{
  "nbformat": 4,
  "nbformat_minor": 0,
  "metadata": {
    "colab": {
      "provenance": [],
      "gpuType": "T4"
    },
    "kernelspec": {
      "name": "python3",
      "display_name": "Python 3"
    },
    "language_info": {
      "name": "python"
    },
    "accelerator": "GPU",
    "widgets": {
      "application/vnd.jupyter.widget-state+json": {
        "f2cf2d6b20304409a64b92e93d6a62fe": {
          "model_module": "@jupyter-widgets/controls",
          "model_name": "HBoxModel",
          "model_module_version": "1.5.0",
          "state": {
            "_dom_classes": [],
            "_model_module": "@jupyter-widgets/controls",
            "_model_module_version": "1.5.0",
            "_model_name": "HBoxModel",
            "_view_count": null,
            "_view_module": "@jupyter-widgets/controls",
            "_view_module_version": "1.5.0",
            "_view_name": "HBoxView",
            "box_style": "",
            "children": [
              "IPY_MODEL_602c5e56acc440dea143cec547344410",
              "IPY_MODEL_65d145ce95444b7b8b3711bd17791f9d",
              "IPY_MODEL_77d29ef24a64459e85e9b5e0532a11f7"
            ],
            "layout": "IPY_MODEL_850698aba87544bb8a304f06677aa02c"
          }
        },
        "602c5e56acc440dea143cec547344410": {
          "model_module": "@jupyter-widgets/controls",
          "model_name": "HTMLModel",
          "model_module_version": "1.5.0",
          "state": {
            "_dom_classes": [],
            "_model_module": "@jupyter-widgets/controls",
            "_model_module_version": "1.5.0",
            "_model_name": "HTMLModel",
            "_view_count": null,
            "_view_module": "@jupyter-widgets/controls",
            "_view_module_version": "1.5.0",
            "_view_name": "HTMLView",
            "description": "",
            "description_tooltip": null,
            "layout": "IPY_MODEL_b1020f33c246406087989f880fbd8bb9",
            "placeholder": "​",
            "style": "IPY_MODEL_305d87116dd047debb0fdcd86d0c85be",
            "value": "config.json: 100%"
          }
        },
        "65d145ce95444b7b8b3711bd17791f9d": {
          "model_module": "@jupyter-widgets/controls",
          "model_name": "FloatProgressModel",
          "model_module_version": "1.5.0",
          "state": {
            "_dom_classes": [],
            "_model_module": "@jupyter-widgets/controls",
            "_model_module_version": "1.5.0",
            "_model_name": "FloatProgressModel",
            "_view_count": null,
            "_view_module": "@jupyter-widgets/controls",
            "_view_module_version": "1.5.0",
            "_view_name": "ProgressView",
            "bar_style": "success",
            "description": "",
            "description_tooltip": null,
            "layout": "IPY_MODEL_34e88727c6bd4cf7848e61514002c2cc",
            "max": 734,
            "min": 0,
            "orientation": "horizontal",
            "style": "IPY_MODEL_e22aa215e9fc4925923d3f696736d4a9",
            "value": 734
          }
        },
        "77d29ef24a64459e85e9b5e0532a11f7": {
          "model_module": "@jupyter-widgets/controls",
          "model_name": "HTMLModel",
          "model_module_version": "1.5.0",
          "state": {
            "_dom_classes": [],
            "_model_module": "@jupyter-widgets/controls",
            "_model_module_version": "1.5.0",
            "_model_name": "HTMLModel",
            "_view_count": null,
            "_view_module": "@jupyter-widgets/controls",
            "_view_module_version": "1.5.0",
            "_view_name": "HTMLView",
            "description": "",
            "description_tooltip": null,
            "layout": "IPY_MODEL_3f09c7d4af0244cba514fe239dff3208",
            "placeholder": "​",
            "style": "IPY_MODEL_7edf0feccb9147c4ba5961f28696b9de",
            "value": " 734/734 [00:00&lt;00:00, 79.9kB/s]"
          }
        },
        "850698aba87544bb8a304f06677aa02c": {
          "model_module": "@jupyter-widgets/base",
          "model_name": "LayoutModel",
          "model_module_version": "1.2.0",
          "state": {
            "_model_module": "@jupyter-widgets/base",
            "_model_module_version": "1.2.0",
            "_model_name": "LayoutModel",
            "_view_count": null,
            "_view_module": "@jupyter-widgets/base",
            "_view_module_version": "1.2.0",
            "_view_name": "LayoutView",
            "align_content": null,
            "align_items": null,
            "align_self": null,
            "border": null,
            "bottom": null,
            "display": null,
            "flex": null,
            "flex_flow": null,
            "grid_area": null,
            "grid_auto_columns": null,
            "grid_auto_flow": null,
            "grid_auto_rows": null,
            "grid_column": null,
            "grid_gap": null,
            "grid_row": null,
            "grid_template_areas": null,
            "grid_template_columns": null,
            "grid_template_rows": null,
            "height": null,
            "justify_content": null,
            "justify_items": null,
            "left": null,
            "margin": null,
            "max_height": null,
            "max_width": null,
            "min_height": null,
            "min_width": null,
            "object_fit": null,
            "object_position": null,
            "order": null,
            "overflow": null,
            "overflow_x": null,
            "overflow_y": null,
            "padding": null,
            "right": null,
            "top": null,
            "visibility": null,
            "width": null
          }
        },
        "b1020f33c246406087989f880fbd8bb9": {
          "model_module": "@jupyter-widgets/base",
          "model_name": "LayoutModel",
          "model_module_version": "1.2.0",
          "state": {
            "_model_module": "@jupyter-widgets/base",
            "_model_module_version": "1.2.0",
            "_model_name": "LayoutModel",
            "_view_count": null,
            "_view_module": "@jupyter-widgets/base",
            "_view_module_version": "1.2.0",
            "_view_name": "LayoutView",
            "align_content": null,
            "align_items": null,
            "align_self": null,
            "border": null,
            "bottom": null,
            "display": null,
            "flex": null,
            "flex_flow": null,
            "grid_area": null,
            "grid_auto_columns": null,
            "grid_auto_flow": null,
            "grid_auto_rows": null,
            "grid_column": null,
            "grid_gap": null,
            "grid_row": null,
            "grid_template_areas": null,
            "grid_template_columns": null,
            "grid_template_rows": null,
            "height": null,
            "justify_content": null,
            "justify_items": null,
            "left": null,
            "margin": null,
            "max_height": null,
            "max_width": null,
            "min_height": null,
            "min_width": null,
            "object_fit": null,
            "object_position": null,
            "order": null,
            "overflow": null,
            "overflow_x": null,
            "overflow_y": null,
            "padding": null,
            "right": null,
            "top": null,
            "visibility": null,
            "width": null
          }
        },
        "305d87116dd047debb0fdcd86d0c85be": {
          "model_module": "@jupyter-widgets/controls",
          "model_name": "DescriptionStyleModel",
          "model_module_version": "1.5.0",
          "state": {
            "_model_module": "@jupyter-widgets/controls",
            "_model_module_version": "1.5.0",
            "_model_name": "DescriptionStyleModel",
            "_view_count": null,
            "_view_module": "@jupyter-widgets/base",
            "_view_module_version": "1.2.0",
            "_view_name": "StyleView",
            "description_width": ""
          }
        },
        "34e88727c6bd4cf7848e61514002c2cc": {
          "model_module": "@jupyter-widgets/base",
          "model_name": "LayoutModel",
          "model_module_version": "1.2.0",
          "state": {
            "_model_module": "@jupyter-widgets/base",
            "_model_module_version": "1.2.0",
            "_model_name": "LayoutModel",
            "_view_count": null,
            "_view_module": "@jupyter-widgets/base",
            "_view_module_version": "1.2.0",
            "_view_name": "LayoutView",
            "align_content": null,
            "align_items": null,
            "align_self": null,
            "border": null,
            "bottom": null,
            "display": null,
            "flex": null,
            "flex_flow": null,
            "grid_area": null,
            "grid_auto_columns": null,
            "grid_auto_flow": null,
            "grid_auto_rows": null,
            "grid_column": null,
            "grid_gap": null,
            "grid_row": null,
            "grid_template_areas": null,
            "grid_template_columns": null,
            "grid_template_rows": null,
            "height": null,
            "justify_content": null,
            "justify_items": null,
            "left": null,
            "margin": null,
            "max_height": null,
            "max_width": null,
            "min_height": null,
            "min_width": null,
            "object_fit": null,
            "object_position": null,
            "order": null,
            "overflow": null,
            "overflow_x": null,
            "overflow_y": null,
            "padding": null,
            "right": null,
            "top": null,
            "visibility": null,
            "width": null
          }
        },
        "e22aa215e9fc4925923d3f696736d4a9": {
          "model_module": "@jupyter-widgets/controls",
          "model_name": "ProgressStyleModel",
          "model_module_version": "1.5.0",
          "state": {
            "_model_module": "@jupyter-widgets/controls",
            "_model_module_version": "1.5.0",
            "_model_name": "ProgressStyleModel",
            "_view_count": null,
            "_view_module": "@jupyter-widgets/base",
            "_view_module_version": "1.2.0",
            "_view_name": "StyleView",
            "bar_color": null,
            "description_width": ""
          }
        },
        "3f09c7d4af0244cba514fe239dff3208": {
          "model_module": "@jupyter-widgets/base",
          "model_name": "LayoutModel",
          "model_module_version": "1.2.0",
          "state": {
            "_model_module": "@jupyter-widgets/base",
            "_model_module_version": "1.2.0",
            "_model_name": "LayoutModel",
            "_view_count": null,
            "_view_module": "@jupyter-widgets/base",
            "_view_module_version": "1.2.0",
            "_view_name": "LayoutView",
            "align_content": null,
            "align_items": null,
            "align_self": null,
            "border": null,
            "bottom": null,
            "display": null,
            "flex": null,
            "flex_flow": null,
            "grid_area": null,
            "grid_auto_columns": null,
            "grid_auto_flow": null,
            "grid_auto_rows": null,
            "grid_column": null,
            "grid_gap": null,
            "grid_row": null,
            "grid_template_areas": null,
            "grid_template_columns": null,
            "grid_template_rows": null,
            "height": null,
            "justify_content": null,
            "justify_items": null,
            "left": null,
            "margin": null,
            "max_height": null,
            "max_width": null,
            "min_height": null,
            "min_width": null,
            "object_fit": null,
            "object_position": null,
            "order": null,
            "overflow": null,
            "overflow_x": null,
            "overflow_y": null,
            "padding": null,
            "right": null,
            "top": null,
            "visibility": null,
            "width": null
          }
        },
        "7edf0feccb9147c4ba5961f28696b9de": {
          "model_module": "@jupyter-widgets/controls",
          "model_name": "DescriptionStyleModel",
          "model_module_version": "1.5.0",
          "state": {
            "_model_module": "@jupyter-widgets/controls",
            "_model_module_version": "1.5.0",
            "_model_name": "DescriptionStyleModel",
            "_view_count": null,
            "_view_module": "@jupyter-widgets/base",
            "_view_module_version": "1.2.0",
            "_view_name": "StyleView",
            "description_width": ""
          }
        },
        "4689ef92771c48288ea3d75700a44362": {
          "model_module": "@jupyter-widgets/controls",
          "model_name": "HBoxModel",
          "model_module_version": "1.5.0",
          "state": {
            "_dom_classes": [],
            "_model_module": "@jupyter-widgets/controls",
            "_model_module_version": "1.5.0",
            "_model_name": "HBoxModel",
            "_view_count": null,
            "_view_module": "@jupyter-widgets/controls",
            "_view_module_version": "1.5.0",
            "_view_name": "HBoxView",
            "box_style": "",
            "children": [
              "IPY_MODEL_db50c0d1c6224903803a63de2067bf90",
              "IPY_MODEL_a658836f50054b06a90eb7361794f3d9",
              "IPY_MODEL_7d99ba2fd27b4105ba270d4d0c741832"
            ],
            "layout": "IPY_MODEL_e037cc5a9e2f4516a680fe2ea8c84845"
          }
        },
        "db50c0d1c6224903803a63de2067bf90": {
          "model_module": "@jupyter-widgets/controls",
          "model_name": "HTMLModel",
          "model_module_version": "1.5.0",
          "state": {
            "_dom_classes": [],
            "_model_module": "@jupyter-widgets/controls",
            "_model_module_version": "1.5.0",
            "_model_name": "HTMLModel",
            "_view_count": null,
            "_view_module": "@jupyter-widgets/controls",
            "_view_module_version": "1.5.0",
            "_view_name": "HTMLView",
            "description": "",
            "description_tooltip": null,
            "layout": "IPY_MODEL_3473bdd013dc434d9625cfbde523f268",
            "placeholder": "​",
            "style": "IPY_MODEL_fa36b9f608a5465e92b2f175aa26f394",
            "value": "model.safetensors: 100%"
          }
        },
        "a658836f50054b06a90eb7361794f3d9": {
          "model_module": "@jupyter-widgets/controls",
          "model_name": "FloatProgressModel",
          "model_module_version": "1.5.0",
          "state": {
            "_dom_classes": [],
            "_model_module": "@jupyter-widgets/controls",
            "_model_module_version": "1.5.0",
            "_model_name": "FloatProgressModel",
            "_view_count": null,
            "_view_module": "@jupyter-widgets/controls",
            "_view_module_version": "1.5.0",
            "_view_name": "ProgressView",
            "bar_style": "success",
            "description": "",
            "description_tooltip": null,
            "layout": "IPY_MODEL_b614b839fcbb40ba980900794b80de73",
            "max": 2243825580,
            "min": 0,
            "orientation": "horizontal",
            "style": "IPY_MODEL_e0da7aa872344ea1bbedaf4484d880f1",
            "value": 2243825580
          }
        },
        "7d99ba2fd27b4105ba270d4d0c741832": {
          "model_module": "@jupyter-widgets/controls",
          "model_name": "HTMLModel",
          "model_module_version": "1.5.0",
          "state": {
            "_dom_classes": [],
            "_model_module": "@jupyter-widgets/controls",
            "_model_module_version": "1.5.0",
            "_model_name": "HTMLModel",
            "_view_count": null,
            "_view_module": "@jupyter-widgets/controls",
            "_view_module_version": "1.5.0",
            "_view_name": "HTMLView",
            "description": "",
            "description_tooltip": null,
            "layout": "IPY_MODEL_3d2377825ae84f3cb767a24e981469bd",
            "placeholder": "​",
            "style": "IPY_MODEL_740919ceba714e5e86202c587ac50169",
            "value": " 2.24G/2.24G [00:18&lt;00:00, 250MB/s]"
          }
        },
        "e037cc5a9e2f4516a680fe2ea8c84845": {
          "model_module": "@jupyter-widgets/base",
          "model_name": "LayoutModel",
          "model_module_version": "1.2.0",
          "state": {
            "_model_module": "@jupyter-widgets/base",
            "_model_module_version": "1.2.0",
            "_model_name": "LayoutModel",
            "_view_count": null,
            "_view_module": "@jupyter-widgets/base",
            "_view_module_version": "1.2.0",
            "_view_name": "LayoutView",
            "align_content": null,
            "align_items": null,
            "align_self": null,
            "border": null,
            "bottom": null,
            "display": null,
            "flex": null,
            "flex_flow": null,
            "grid_area": null,
            "grid_auto_columns": null,
            "grid_auto_flow": null,
            "grid_auto_rows": null,
            "grid_column": null,
            "grid_gap": null,
            "grid_row": null,
            "grid_template_areas": null,
            "grid_template_columns": null,
            "grid_template_rows": null,
            "height": null,
            "justify_content": null,
            "justify_items": null,
            "left": null,
            "margin": null,
            "max_height": null,
            "max_width": null,
            "min_height": null,
            "min_width": null,
            "object_fit": null,
            "object_position": null,
            "order": null,
            "overflow": null,
            "overflow_x": null,
            "overflow_y": null,
            "padding": null,
            "right": null,
            "top": null,
            "visibility": null,
            "width": null
          }
        },
        "3473bdd013dc434d9625cfbde523f268": {
          "model_module": "@jupyter-widgets/base",
          "model_name": "LayoutModel",
          "model_module_version": "1.2.0",
          "state": {
            "_model_module": "@jupyter-widgets/base",
            "_model_module_version": "1.2.0",
            "_model_name": "LayoutModel",
            "_view_count": null,
            "_view_module": "@jupyter-widgets/base",
            "_view_module_version": "1.2.0",
            "_view_name": "LayoutView",
            "align_content": null,
            "align_items": null,
            "align_self": null,
            "border": null,
            "bottom": null,
            "display": null,
            "flex": null,
            "flex_flow": null,
            "grid_area": null,
            "grid_auto_columns": null,
            "grid_auto_flow": null,
            "grid_auto_rows": null,
            "grid_column": null,
            "grid_gap": null,
            "grid_row": null,
            "grid_template_areas": null,
            "grid_template_columns": null,
            "grid_template_rows": null,
            "height": null,
            "justify_content": null,
            "justify_items": null,
            "left": null,
            "margin": null,
            "max_height": null,
            "max_width": null,
            "min_height": null,
            "min_width": null,
            "object_fit": null,
            "object_position": null,
            "order": null,
            "overflow": null,
            "overflow_x": null,
            "overflow_y": null,
            "padding": null,
            "right": null,
            "top": null,
            "visibility": null,
            "width": null
          }
        },
        "fa36b9f608a5465e92b2f175aa26f394": {
          "model_module": "@jupyter-widgets/controls",
          "model_name": "DescriptionStyleModel",
          "model_module_version": "1.5.0",
          "state": {
            "_model_module": "@jupyter-widgets/controls",
            "_model_module_version": "1.5.0",
            "_model_name": "DescriptionStyleModel",
            "_view_count": null,
            "_view_module": "@jupyter-widgets/base",
            "_view_module_version": "1.2.0",
            "_view_name": "StyleView",
            "description_width": ""
          }
        },
        "b614b839fcbb40ba980900794b80de73": {
          "model_module": "@jupyter-widgets/base",
          "model_name": "LayoutModel",
          "model_module_version": "1.2.0",
          "state": {
            "_model_module": "@jupyter-widgets/base",
            "_model_module_version": "1.2.0",
            "_model_name": "LayoutModel",
            "_view_count": null,
            "_view_module": "@jupyter-widgets/base",
            "_view_module_version": "1.2.0",
            "_view_name": "LayoutView",
            "align_content": null,
            "align_items": null,
            "align_self": null,
            "border": null,
            "bottom": null,
            "display": null,
            "flex": null,
            "flex_flow": null,
            "grid_area": null,
            "grid_auto_columns": null,
            "grid_auto_flow": null,
            "grid_auto_rows": null,
            "grid_column": null,
            "grid_gap": null,
            "grid_row": null,
            "grid_template_areas": null,
            "grid_template_columns": null,
            "grid_template_rows": null,
            "height": null,
            "justify_content": null,
            "justify_items": null,
            "left": null,
            "margin": null,
            "max_height": null,
            "max_width": null,
            "min_height": null,
            "min_width": null,
            "object_fit": null,
            "object_position": null,
            "order": null,
            "overflow": null,
            "overflow_x": null,
            "overflow_y": null,
            "padding": null,
            "right": null,
            "top": null,
            "visibility": null,
            "width": null
          }
        },
        "e0da7aa872344ea1bbedaf4484d880f1": {
          "model_module": "@jupyter-widgets/controls",
          "model_name": "ProgressStyleModel",
          "model_module_version": "1.5.0",
          "state": {
            "_model_module": "@jupyter-widgets/controls",
            "_model_module_version": "1.5.0",
            "_model_name": "ProgressStyleModel",
            "_view_count": null,
            "_view_module": "@jupyter-widgets/base",
            "_view_module_version": "1.2.0",
            "_view_name": "StyleView",
            "bar_color": null,
            "description_width": ""
          }
        },
        "3d2377825ae84f3cb767a24e981469bd": {
          "model_module": "@jupyter-widgets/base",
          "model_name": "LayoutModel",
          "model_module_version": "1.2.0",
          "state": {
            "_model_module": "@jupyter-widgets/base",
            "_model_module_version": "1.2.0",
            "_model_name": "LayoutModel",
            "_view_count": null,
            "_view_module": "@jupyter-widgets/base",
            "_view_module_version": "1.2.0",
            "_view_name": "LayoutView",
            "align_content": null,
            "align_items": null,
            "align_self": null,
            "border": null,
            "bottom": null,
            "display": null,
            "flex": null,
            "flex_flow": null,
            "grid_area": null,
            "grid_auto_columns": null,
            "grid_auto_flow": null,
            "grid_auto_rows": null,
            "grid_column": null,
            "grid_gap": null,
            "grid_row": null,
            "grid_template_areas": null,
            "grid_template_columns": null,
            "grid_template_rows": null,
            "height": null,
            "justify_content": null,
            "justify_items": null,
            "left": null,
            "margin": null,
            "max_height": null,
            "max_width": null,
            "min_height": null,
            "min_width": null,
            "object_fit": null,
            "object_position": null,
            "order": null,
            "overflow": null,
            "overflow_x": null,
            "overflow_y": null,
            "padding": null,
            "right": null,
            "top": null,
            "visibility": null,
            "width": null
          }
        },
        "740919ceba714e5e86202c587ac50169": {
          "model_module": "@jupyter-widgets/controls",
          "model_name": "DescriptionStyleModel",
          "model_module_version": "1.5.0",
          "state": {
            "_model_module": "@jupyter-widgets/controls",
            "_model_module_version": "1.5.0",
            "_model_name": "DescriptionStyleModel",
            "_view_count": null,
            "_view_module": "@jupyter-widgets/base",
            "_view_module_version": "1.2.0",
            "_view_name": "StyleView",
            "description_width": ""
          }
        },
        "50e16b5333b44a6194a16227d26e3026": {
          "model_module": "@jupyter-widgets/controls",
          "model_name": "HBoxModel",
          "model_module_version": "1.5.0",
          "state": {
            "_dom_classes": [],
            "_model_module": "@jupyter-widgets/controls",
            "_model_module_version": "1.5.0",
            "_model_name": "HBoxModel",
            "_view_count": null,
            "_view_module": "@jupyter-widgets/controls",
            "_view_module_version": "1.5.0",
            "_view_name": "HBoxView",
            "box_style": "",
            "children": [
              "IPY_MODEL_0857cce1a51c44868b2b74a67f738736",
              "IPY_MODEL_f0cbc605d721452a80b0b228ac85eaae",
              "IPY_MODEL_3a7d6b5462284865aa8bc60a8218f51a"
            ],
            "layout": "IPY_MODEL_0e33837345754a4e8f5230f65a7c1cff"
          }
        },
        "0857cce1a51c44868b2b74a67f738736": {
          "model_module": "@jupyter-widgets/controls",
          "model_name": "HTMLModel",
          "model_module_version": "1.5.0",
          "state": {
            "_dom_classes": [],
            "_model_module": "@jupyter-widgets/controls",
            "_model_module_version": "1.5.0",
            "_model_name": "HTMLModel",
            "_view_count": null,
            "_view_module": "@jupyter-widgets/controls",
            "_view_module_version": "1.5.0",
            "_view_name": "HTMLView",
            "description": "",
            "description_tooltip": null,
            "layout": "IPY_MODEL_64374ebd696d4fdda036051327544f1f",
            "placeholder": "​",
            "style": "IPY_MODEL_799065c1b80e414b9505a987bf13c506",
            "value": "tokenizer_config.json: 100%"
          }
        },
        "f0cbc605d721452a80b0b228ac85eaae": {
          "model_module": "@jupyter-widgets/controls",
          "model_name": "FloatProgressModel",
          "model_module_version": "1.5.0",
          "state": {
            "_dom_classes": [],
            "_model_module": "@jupyter-widgets/controls",
            "_model_module_version": "1.5.0",
            "_model_name": "FloatProgressModel",
            "_view_count": null,
            "_view_module": "@jupyter-widgets/controls",
            "_view_module_version": "1.5.0",
            "_view_name": "ProgressView",
            "bar_style": "success",
            "description": "",
            "description_tooltip": null,
            "layout": "IPY_MODEL_a2764639dc96413f935f5b0340d06eae",
            "max": 25,
            "min": 0,
            "orientation": "horizontal",
            "style": "IPY_MODEL_7c31faa1c5474a41a082a8605416af9b",
            "value": 25
          }
        },
        "3a7d6b5462284865aa8bc60a8218f51a": {
          "model_module": "@jupyter-widgets/controls",
          "model_name": "HTMLModel",
          "model_module_version": "1.5.0",
          "state": {
            "_dom_classes": [],
            "_model_module": "@jupyter-widgets/controls",
            "_model_module_version": "1.5.0",
            "_model_name": "HTMLModel",
            "_view_count": null,
            "_view_module": "@jupyter-widgets/controls",
            "_view_module_version": "1.5.0",
            "_view_name": "HTMLView",
            "description": "",
            "description_tooltip": null,
            "layout": "IPY_MODEL_5826834fe29d406f806d1930b8a62e8a",
            "placeholder": "​",
            "style": "IPY_MODEL_bcf7f8a6f142453581837d5332c4c29a",
            "value": " 25.0/25.0 [00:00&lt;00:00, 1.80kB/s]"
          }
        },
        "0e33837345754a4e8f5230f65a7c1cff": {
          "model_module": "@jupyter-widgets/base",
          "model_name": "LayoutModel",
          "model_module_version": "1.2.0",
          "state": {
            "_model_module": "@jupyter-widgets/base",
            "_model_module_version": "1.2.0",
            "_model_name": "LayoutModel",
            "_view_count": null,
            "_view_module": "@jupyter-widgets/base",
            "_view_module_version": "1.2.0",
            "_view_name": "LayoutView",
            "align_content": null,
            "align_items": null,
            "align_self": null,
            "border": null,
            "bottom": null,
            "display": null,
            "flex": null,
            "flex_flow": null,
            "grid_area": null,
            "grid_auto_columns": null,
            "grid_auto_flow": null,
            "grid_auto_rows": null,
            "grid_column": null,
            "grid_gap": null,
            "grid_row": null,
            "grid_template_areas": null,
            "grid_template_columns": null,
            "grid_template_rows": null,
            "height": null,
            "justify_content": null,
            "justify_items": null,
            "left": null,
            "margin": null,
            "max_height": null,
            "max_width": null,
            "min_height": null,
            "min_width": null,
            "object_fit": null,
            "object_position": null,
            "order": null,
            "overflow": null,
            "overflow_x": null,
            "overflow_y": null,
            "padding": null,
            "right": null,
            "top": null,
            "visibility": null,
            "width": null
          }
        },
        "64374ebd696d4fdda036051327544f1f": {
          "model_module": "@jupyter-widgets/base",
          "model_name": "LayoutModel",
          "model_module_version": "1.2.0",
          "state": {
            "_model_module": "@jupyter-widgets/base",
            "_model_module_version": "1.2.0",
            "_model_name": "LayoutModel",
            "_view_count": null,
            "_view_module": "@jupyter-widgets/base",
            "_view_module_version": "1.2.0",
            "_view_name": "LayoutView",
            "align_content": null,
            "align_items": null,
            "align_self": null,
            "border": null,
            "bottom": null,
            "display": null,
            "flex": null,
            "flex_flow": null,
            "grid_area": null,
            "grid_auto_columns": null,
            "grid_auto_flow": null,
            "grid_auto_rows": null,
            "grid_column": null,
            "grid_gap": null,
            "grid_row": null,
            "grid_template_areas": null,
            "grid_template_columns": null,
            "grid_template_rows": null,
            "height": null,
            "justify_content": null,
            "justify_items": null,
            "left": null,
            "margin": null,
            "max_height": null,
            "max_width": null,
            "min_height": null,
            "min_width": null,
            "object_fit": null,
            "object_position": null,
            "order": null,
            "overflow": null,
            "overflow_x": null,
            "overflow_y": null,
            "padding": null,
            "right": null,
            "top": null,
            "visibility": null,
            "width": null
          }
        },
        "799065c1b80e414b9505a987bf13c506": {
          "model_module": "@jupyter-widgets/controls",
          "model_name": "DescriptionStyleModel",
          "model_module_version": "1.5.0",
          "state": {
            "_model_module": "@jupyter-widgets/controls",
            "_model_module_version": "1.5.0",
            "_model_name": "DescriptionStyleModel",
            "_view_count": null,
            "_view_module": "@jupyter-widgets/base",
            "_view_module_version": "1.2.0",
            "_view_name": "StyleView",
            "description_width": ""
          }
        },
        "a2764639dc96413f935f5b0340d06eae": {
          "model_module": "@jupyter-widgets/base",
          "model_name": "LayoutModel",
          "model_module_version": "1.2.0",
          "state": {
            "_model_module": "@jupyter-widgets/base",
            "_model_module_version": "1.2.0",
            "_model_name": "LayoutModel",
            "_view_count": null,
            "_view_module": "@jupyter-widgets/base",
            "_view_module_version": "1.2.0",
            "_view_name": "LayoutView",
            "align_content": null,
            "align_items": null,
            "align_self": null,
            "border": null,
            "bottom": null,
            "display": null,
            "flex": null,
            "flex_flow": null,
            "grid_area": null,
            "grid_auto_columns": null,
            "grid_auto_flow": null,
            "grid_auto_rows": null,
            "grid_column": null,
            "grid_gap": null,
            "grid_row": null,
            "grid_template_areas": null,
            "grid_template_columns": null,
            "grid_template_rows": null,
            "height": null,
            "justify_content": null,
            "justify_items": null,
            "left": null,
            "margin": null,
            "max_height": null,
            "max_width": null,
            "min_height": null,
            "min_width": null,
            "object_fit": null,
            "object_position": null,
            "order": null,
            "overflow": null,
            "overflow_x": null,
            "overflow_y": null,
            "padding": null,
            "right": null,
            "top": null,
            "visibility": null,
            "width": null
          }
        },
        "7c31faa1c5474a41a082a8605416af9b": {
          "model_module": "@jupyter-widgets/controls",
          "model_name": "ProgressStyleModel",
          "model_module_version": "1.5.0",
          "state": {
            "_model_module": "@jupyter-widgets/controls",
            "_model_module_version": "1.5.0",
            "_model_name": "ProgressStyleModel",
            "_view_count": null,
            "_view_module": "@jupyter-widgets/base",
            "_view_module_version": "1.2.0",
            "_view_name": "StyleView",
            "bar_color": null,
            "description_width": ""
          }
        },
        "5826834fe29d406f806d1930b8a62e8a": {
          "model_module": "@jupyter-widgets/base",
          "model_name": "LayoutModel",
          "model_module_version": "1.2.0",
          "state": {
            "_model_module": "@jupyter-widgets/base",
            "_model_module_version": "1.2.0",
            "_model_name": "LayoutModel",
            "_view_count": null,
            "_view_module": "@jupyter-widgets/base",
            "_view_module_version": "1.2.0",
            "_view_name": "LayoutView",
            "align_content": null,
            "align_items": null,
            "align_self": null,
            "border": null,
            "bottom": null,
            "display": null,
            "flex": null,
            "flex_flow": null,
            "grid_area": null,
            "grid_auto_columns": null,
            "grid_auto_flow": null,
            "grid_auto_rows": null,
            "grid_column": null,
            "grid_gap": null,
            "grid_row": null,
            "grid_template_areas": null,
            "grid_template_columns": null,
            "grid_template_rows": null,
            "height": null,
            "justify_content": null,
            "justify_items": null,
            "left": null,
            "margin": null,
            "max_height": null,
            "max_width": null,
            "min_height": null,
            "min_width": null,
            "object_fit": null,
            "object_position": null,
            "order": null,
            "overflow": null,
            "overflow_x": null,
            "overflow_y": null,
            "padding": null,
            "right": null,
            "top": null,
            "visibility": null,
            "width": null
          }
        },
        "bcf7f8a6f142453581837d5332c4c29a": {
          "model_module": "@jupyter-widgets/controls",
          "model_name": "DescriptionStyleModel",
          "model_module_version": "1.5.0",
          "state": {
            "_model_module": "@jupyter-widgets/controls",
            "_model_module_version": "1.5.0",
            "_model_name": "DescriptionStyleModel",
            "_view_count": null,
            "_view_module": "@jupyter-widgets/base",
            "_view_module_version": "1.2.0",
            "_view_name": "StyleView",
            "description_width": ""
          }
        },
        "1f63f71a74ff4b9d83205db5082ae7a5": {
          "model_module": "@jupyter-widgets/controls",
          "model_name": "HBoxModel",
          "model_module_version": "1.5.0",
          "state": {
            "_dom_classes": [],
            "_model_module": "@jupyter-widgets/controls",
            "_model_module_version": "1.5.0",
            "_model_name": "HBoxModel",
            "_view_count": null,
            "_view_module": "@jupyter-widgets/controls",
            "_view_module_version": "1.5.0",
            "_view_name": "HBoxView",
            "box_style": "",
            "children": [
              "IPY_MODEL_fa5a98ab495841c882967c642e2b5bce",
              "IPY_MODEL_84eb9ff6d6b6475384b4116f1795bd47",
              "IPY_MODEL_5d576d87811a44bab9006e91b32a7d1f"
            ],
            "layout": "IPY_MODEL_34ecdd50681f4edb897ff3780ff13cf7"
          }
        },
        "fa5a98ab495841c882967c642e2b5bce": {
          "model_module": "@jupyter-widgets/controls",
          "model_name": "HTMLModel",
          "model_module_version": "1.5.0",
          "state": {
            "_dom_classes": [],
            "_model_module": "@jupyter-widgets/controls",
            "_model_module_version": "1.5.0",
            "_model_name": "HTMLModel",
            "_view_count": null,
            "_view_module": "@jupyter-widgets/controls",
            "_view_module_version": "1.5.0",
            "_view_name": "HTMLView",
            "description": "",
            "description_tooltip": null,
            "layout": "IPY_MODEL_e330e86da9b44744902b5a1682459a13",
            "placeholder": "​",
            "style": "IPY_MODEL_42fea0d4a9934b3c9c98cdaf7b662135",
            "value": "sentencepiece.bpe.model: 100%"
          }
        },
        "84eb9ff6d6b6475384b4116f1795bd47": {
          "model_module": "@jupyter-widgets/controls",
          "model_name": "FloatProgressModel",
          "model_module_version": "1.5.0",
          "state": {
            "_dom_classes": [],
            "_model_module": "@jupyter-widgets/controls",
            "_model_module_version": "1.5.0",
            "_model_name": "FloatProgressModel",
            "_view_count": null,
            "_view_module": "@jupyter-widgets/controls",
            "_view_module_version": "1.5.0",
            "_view_name": "ProgressView",
            "bar_style": "success",
            "description": "",
            "description_tooltip": null,
            "layout": "IPY_MODEL_b8af49f5788d4812aa61448f442176b9",
            "max": 5069051,
            "min": 0,
            "orientation": "horizontal",
            "style": "IPY_MODEL_b7e2d5904ac74231bb30ea10fe090f8f",
            "value": 5069051
          }
        },
        "5d576d87811a44bab9006e91b32a7d1f": {
          "model_module": "@jupyter-widgets/controls",
          "model_name": "HTMLModel",
          "model_module_version": "1.5.0",
          "state": {
            "_dom_classes": [],
            "_model_module": "@jupyter-widgets/controls",
            "_model_module_version": "1.5.0",
            "_model_name": "HTMLModel",
            "_view_count": null,
            "_view_module": "@jupyter-widgets/controls",
            "_view_module_version": "1.5.0",
            "_view_name": "HTMLView",
            "description": "",
            "description_tooltip": null,
            "layout": "IPY_MODEL_9a9656b9cab540dcb4bd93034c5504b1",
            "placeholder": "​",
            "style": "IPY_MODEL_d222b53a6de64c8a9b35c10825845b78",
            "value": " 5.07M/5.07M [00:00&lt;00:00, 24.3MB/s]"
          }
        },
        "34ecdd50681f4edb897ff3780ff13cf7": {
          "model_module": "@jupyter-widgets/base",
          "model_name": "LayoutModel",
          "model_module_version": "1.2.0",
          "state": {
            "_model_module": "@jupyter-widgets/base",
            "_model_module_version": "1.2.0",
            "_model_name": "LayoutModel",
            "_view_count": null,
            "_view_module": "@jupyter-widgets/base",
            "_view_module_version": "1.2.0",
            "_view_name": "LayoutView",
            "align_content": null,
            "align_items": null,
            "align_self": null,
            "border": null,
            "bottom": null,
            "display": null,
            "flex": null,
            "flex_flow": null,
            "grid_area": null,
            "grid_auto_columns": null,
            "grid_auto_flow": null,
            "grid_auto_rows": null,
            "grid_column": null,
            "grid_gap": null,
            "grid_row": null,
            "grid_template_areas": null,
            "grid_template_columns": null,
            "grid_template_rows": null,
            "height": null,
            "justify_content": null,
            "justify_items": null,
            "left": null,
            "margin": null,
            "max_height": null,
            "max_width": null,
            "min_height": null,
            "min_width": null,
            "object_fit": null,
            "object_position": null,
            "order": null,
            "overflow": null,
            "overflow_x": null,
            "overflow_y": null,
            "padding": null,
            "right": null,
            "top": null,
            "visibility": null,
            "width": null
          }
        },
        "e330e86da9b44744902b5a1682459a13": {
          "model_module": "@jupyter-widgets/base",
          "model_name": "LayoutModel",
          "model_module_version": "1.2.0",
          "state": {
            "_model_module": "@jupyter-widgets/base",
            "_model_module_version": "1.2.0",
            "_model_name": "LayoutModel",
            "_view_count": null,
            "_view_module": "@jupyter-widgets/base",
            "_view_module_version": "1.2.0",
            "_view_name": "LayoutView",
            "align_content": null,
            "align_items": null,
            "align_self": null,
            "border": null,
            "bottom": null,
            "display": null,
            "flex": null,
            "flex_flow": null,
            "grid_area": null,
            "grid_auto_columns": null,
            "grid_auto_flow": null,
            "grid_auto_rows": null,
            "grid_column": null,
            "grid_gap": null,
            "grid_row": null,
            "grid_template_areas": null,
            "grid_template_columns": null,
            "grid_template_rows": null,
            "height": null,
            "justify_content": null,
            "justify_items": null,
            "left": null,
            "margin": null,
            "max_height": null,
            "max_width": null,
            "min_height": null,
            "min_width": null,
            "object_fit": null,
            "object_position": null,
            "order": null,
            "overflow": null,
            "overflow_x": null,
            "overflow_y": null,
            "padding": null,
            "right": null,
            "top": null,
            "visibility": null,
            "width": null
          }
        },
        "42fea0d4a9934b3c9c98cdaf7b662135": {
          "model_module": "@jupyter-widgets/controls",
          "model_name": "DescriptionStyleModel",
          "model_module_version": "1.5.0",
          "state": {
            "_model_module": "@jupyter-widgets/controls",
            "_model_module_version": "1.5.0",
            "_model_name": "DescriptionStyleModel",
            "_view_count": null,
            "_view_module": "@jupyter-widgets/base",
            "_view_module_version": "1.2.0",
            "_view_name": "StyleView",
            "description_width": ""
          }
        },
        "b8af49f5788d4812aa61448f442176b9": {
          "model_module": "@jupyter-widgets/base",
          "model_name": "LayoutModel",
          "model_module_version": "1.2.0",
          "state": {
            "_model_module": "@jupyter-widgets/base",
            "_model_module_version": "1.2.0",
            "_model_name": "LayoutModel",
            "_view_count": null,
            "_view_module": "@jupyter-widgets/base",
            "_view_module_version": "1.2.0",
            "_view_name": "LayoutView",
            "align_content": null,
            "align_items": null,
            "align_self": null,
            "border": null,
            "bottom": null,
            "display": null,
            "flex": null,
            "flex_flow": null,
            "grid_area": null,
            "grid_auto_columns": null,
            "grid_auto_flow": null,
            "grid_auto_rows": null,
            "grid_column": null,
            "grid_gap": null,
            "grid_row": null,
            "grid_template_areas": null,
            "grid_template_columns": null,
            "grid_template_rows": null,
            "height": null,
            "justify_content": null,
            "justify_items": null,
            "left": null,
            "margin": null,
            "max_height": null,
            "max_width": null,
            "min_height": null,
            "min_width": null,
            "object_fit": null,
            "object_position": null,
            "order": null,
            "overflow": null,
            "overflow_x": null,
            "overflow_y": null,
            "padding": null,
            "right": null,
            "top": null,
            "visibility": null,
            "width": null
          }
        },
        "b7e2d5904ac74231bb30ea10fe090f8f": {
          "model_module": "@jupyter-widgets/controls",
          "model_name": "ProgressStyleModel",
          "model_module_version": "1.5.0",
          "state": {
            "_model_module": "@jupyter-widgets/controls",
            "_model_module_version": "1.5.0",
            "_model_name": "ProgressStyleModel",
            "_view_count": null,
            "_view_module": "@jupyter-widgets/base",
            "_view_module_version": "1.2.0",
            "_view_name": "StyleView",
            "bar_color": null,
            "description_width": ""
          }
        },
        "9a9656b9cab540dcb4bd93034c5504b1": {
          "model_module": "@jupyter-widgets/base",
          "model_name": "LayoutModel",
          "model_module_version": "1.2.0",
          "state": {
            "_model_module": "@jupyter-widgets/base",
            "_model_module_version": "1.2.0",
            "_model_name": "LayoutModel",
            "_view_count": null,
            "_view_module": "@jupyter-widgets/base",
            "_view_module_version": "1.2.0",
            "_view_name": "LayoutView",
            "align_content": null,
            "align_items": null,
            "align_self": null,
            "border": null,
            "bottom": null,
            "display": null,
            "flex": null,
            "flex_flow": null,
            "grid_area": null,
            "grid_auto_columns": null,
            "grid_auto_flow": null,
            "grid_auto_rows": null,
            "grid_column": null,
            "grid_gap": null,
            "grid_row": null,
            "grid_template_areas": null,
            "grid_template_columns": null,
            "grid_template_rows": null,
            "height": null,
            "justify_content": null,
            "justify_items": null,
            "left": null,
            "margin": null,
            "max_height": null,
            "max_width": null,
            "min_height": null,
            "min_width": null,
            "object_fit": null,
            "object_position": null,
            "order": null,
            "overflow": null,
            "overflow_x": null,
            "overflow_y": null,
            "padding": null,
            "right": null,
            "top": null,
            "visibility": null,
            "width": null
          }
        },
        "d222b53a6de64c8a9b35c10825845b78": {
          "model_module": "@jupyter-widgets/controls",
          "model_name": "DescriptionStyleModel",
          "model_module_version": "1.5.0",
          "state": {
            "_model_module": "@jupyter-widgets/controls",
            "_model_module_version": "1.5.0",
            "_model_name": "DescriptionStyleModel",
            "_view_count": null,
            "_view_module": "@jupyter-widgets/base",
            "_view_module_version": "1.2.0",
            "_view_name": "StyleView",
            "description_width": ""
          }
        },
        "2a0d609eccb64ea68521bd0133ef255b": {
          "model_module": "@jupyter-widgets/controls",
          "model_name": "HBoxModel",
          "model_module_version": "1.5.0",
          "state": {
            "_dom_classes": [],
            "_model_module": "@jupyter-widgets/controls",
            "_model_module_version": "1.5.0",
            "_model_name": "HBoxModel",
            "_view_count": null,
            "_view_module": "@jupyter-widgets/controls",
            "_view_module_version": "1.5.0",
            "_view_name": "HBoxView",
            "box_style": "",
            "children": [
              "IPY_MODEL_8a6f007e4f9249f4a207e96d431a1995",
              "IPY_MODEL_b62692d4a75746da94d1d91a72d33d31",
              "IPY_MODEL_7a38752b10dc43f594bffd826b1ae241"
            ],
            "layout": "IPY_MODEL_e8a7f6e94503415fb1ae64d1956972a0"
          }
        },
        "8a6f007e4f9249f4a207e96d431a1995": {
          "model_module": "@jupyter-widgets/controls",
          "model_name": "HTMLModel",
          "model_module_version": "1.5.0",
          "state": {
            "_dom_classes": [],
            "_model_module": "@jupyter-widgets/controls",
            "_model_module_version": "1.5.0",
            "_model_name": "HTMLModel",
            "_view_count": null,
            "_view_module": "@jupyter-widgets/controls",
            "_view_module_version": "1.5.0",
            "_view_name": "HTMLView",
            "description": "",
            "description_tooltip": null,
            "layout": "IPY_MODEL_5616617a8cf04c10abb4492a38d42dcf",
            "placeholder": "​",
            "style": "IPY_MODEL_33132493e058491cb36ca34032f5bff7",
            "value": "special_tokens_map.json: 100%"
          }
        },
        "b62692d4a75746da94d1d91a72d33d31": {
          "model_module": "@jupyter-widgets/controls",
          "model_name": "FloatProgressModel",
          "model_module_version": "1.5.0",
          "state": {
            "_dom_classes": [],
            "_model_module": "@jupyter-widgets/controls",
            "_model_module_version": "1.5.0",
            "_model_name": "FloatProgressModel",
            "_view_count": null,
            "_view_module": "@jupyter-widgets/controls",
            "_view_module_version": "1.5.0",
            "_view_name": "ProgressView",
            "bar_style": "success",
            "description": "",
            "description_tooltip": null,
            "layout": "IPY_MODEL_50f9dccb66a646eaae7521bd2b73bbb4",
            "max": 150,
            "min": 0,
            "orientation": "horizontal",
            "style": "IPY_MODEL_619bf7f840e740ce9f99d8c3b51edcd8",
            "value": 150
          }
        },
        "7a38752b10dc43f594bffd826b1ae241": {
          "model_module": "@jupyter-widgets/controls",
          "model_name": "HTMLModel",
          "model_module_version": "1.5.0",
          "state": {
            "_dom_classes": [],
            "_model_module": "@jupyter-widgets/controls",
            "_model_module_version": "1.5.0",
            "_model_name": "HTMLModel",
            "_view_count": null,
            "_view_module": "@jupyter-widgets/controls",
            "_view_module_version": "1.5.0",
            "_view_name": "HTMLView",
            "description": "",
            "description_tooltip": null,
            "layout": "IPY_MODEL_6729b150319b410491c36e070fb6f503",
            "placeholder": "​",
            "style": "IPY_MODEL_e9fc7849ead548e7b696328bddbb5a79",
            "value": " 150/150 [00:00&lt;00:00, 12.4kB/s]"
          }
        },
        "e8a7f6e94503415fb1ae64d1956972a0": {
          "model_module": "@jupyter-widgets/base",
          "model_name": "LayoutModel",
          "model_module_version": "1.2.0",
          "state": {
            "_model_module": "@jupyter-widgets/base",
            "_model_module_version": "1.2.0",
            "_model_name": "LayoutModel",
            "_view_count": null,
            "_view_module": "@jupyter-widgets/base",
            "_view_module_version": "1.2.0",
            "_view_name": "LayoutView",
            "align_content": null,
            "align_items": null,
            "align_self": null,
            "border": null,
            "bottom": null,
            "display": null,
            "flex": null,
            "flex_flow": null,
            "grid_area": null,
            "grid_auto_columns": null,
            "grid_auto_flow": null,
            "grid_auto_rows": null,
            "grid_column": null,
            "grid_gap": null,
            "grid_row": null,
            "grid_template_areas": null,
            "grid_template_columns": null,
            "grid_template_rows": null,
            "height": null,
            "justify_content": null,
            "justify_items": null,
            "left": null,
            "margin": null,
            "max_height": null,
            "max_width": null,
            "min_height": null,
            "min_width": null,
            "object_fit": null,
            "object_position": null,
            "order": null,
            "overflow": null,
            "overflow_x": null,
            "overflow_y": null,
            "padding": null,
            "right": null,
            "top": null,
            "visibility": null,
            "width": null
          }
        },
        "5616617a8cf04c10abb4492a38d42dcf": {
          "model_module": "@jupyter-widgets/base",
          "model_name": "LayoutModel",
          "model_module_version": "1.2.0",
          "state": {
            "_model_module": "@jupyter-widgets/base",
            "_model_module_version": "1.2.0",
            "_model_name": "LayoutModel",
            "_view_count": null,
            "_view_module": "@jupyter-widgets/base",
            "_view_module_version": "1.2.0",
            "_view_name": "LayoutView",
            "align_content": null,
            "align_items": null,
            "align_self": null,
            "border": null,
            "bottom": null,
            "display": null,
            "flex": null,
            "flex_flow": null,
            "grid_area": null,
            "grid_auto_columns": null,
            "grid_auto_flow": null,
            "grid_auto_rows": null,
            "grid_column": null,
            "grid_gap": null,
            "grid_row": null,
            "grid_template_areas": null,
            "grid_template_columns": null,
            "grid_template_rows": null,
            "height": null,
            "justify_content": null,
            "justify_items": null,
            "left": null,
            "margin": null,
            "max_height": null,
            "max_width": null,
            "min_height": null,
            "min_width": null,
            "object_fit": null,
            "object_position": null,
            "order": null,
            "overflow": null,
            "overflow_x": null,
            "overflow_y": null,
            "padding": null,
            "right": null,
            "top": null,
            "visibility": null,
            "width": null
          }
        },
        "33132493e058491cb36ca34032f5bff7": {
          "model_module": "@jupyter-widgets/controls",
          "model_name": "DescriptionStyleModel",
          "model_module_version": "1.5.0",
          "state": {
            "_model_module": "@jupyter-widgets/controls",
            "_model_module_version": "1.5.0",
            "_model_name": "DescriptionStyleModel",
            "_view_count": null,
            "_view_module": "@jupyter-widgets/base",
            "_view_module_version": "1.2.0",
            "_view_name": "StyleView",
            "description_width": ""
          }
        },
        "50f9dccb66a646eaae7521bd2b73bbb4": {
          "model_module": "@jupyter-widgets/base",
          "model_name": "LayoutModel",
          "model_module_version": "1.2.0",
          "state": {
            "_model_module": "@jupyter-widgets/base",
            "_model_module_version": "1.2.0",
            "_model_name": "LayoutModel",
            "_view_count": null,
            "_view_module": "@jupyter-widgets/base",
            "_view_module_version": "1.2.0",
            "_view_name": "LayoutView",
            "align_content": null,
            "align_items": null,
            "align_self": null,
            "border": null,
            "bottom": null,
            "display": null,
            "flex": null,
            "flex_flow": null,
            "grid_area": null,
            "grid_auto_columns": null,
            "grid_auto_flow": null,
            "grid_auto_rows": null,
            "grid_column": null,
            "grid_gap": null,
            "grid_row": null,
            "grid_template_areas": null,
            "grid_template_columns": null,
            "grid_template_rows": null,
            "height": null,
            "justify_content": null,
            "justify_items": null,
            "left": null,
            "margin": null,
            "max_height": null,
            "max_width": null,
            "min_height": null,
            "min_width": null,
            "object_fit": null,
            "object_position": null,
            "order": null,
            "overflow": null,
            "overflow_x": null,
            "overflow_y": null,
            "padding": null,
            "right": null,
            "top": null,
            "visibility": null,
            "width": null
          }
        },
        "619bf7f840e740ce9f99d8c3b51edcd8": {
          "model_module": "@jupyter-widgets/controls",
          "model_name": "ProgressStyleModel",
          "model_module_version": "1.5.0",
          "state": {
            "_model_module": "@jupyter-widgets/controls",
            "_model_module_version": "1.5.0",
            "_model_name": "ProgressStyleModel",
            "_view_count": null,
            "_view_module": "@jupyter-widgets/base",
            "_view_module_version": "1.2.0",
            "_view_name": "StyleView",
            "bar_color": null,
            "description_width": ""
          }
        },
        "6729b150319b410491c36e070fb6f503": {
          "model_module": "@jupyter-widgets/base",
          "model_name": "LayoutModel",
          "model_module_version": "1.2.0",
          "state": {
            "_model_module": "@jupyter-widgets/base",
            "_model_module_version": "1.2.0",
            "_model_name": "LayoutModel",
            "_view_count": null,
            "_view_module": "@jupyter-widgets/base",
            "_view_module_version": "1.2.0",
            "_view_name": "LayoutView",
            "align_content": null,
            "align_items": null,
            "align_self": null,
            "border": null,
            "bottom": null,
            "display": null,
            "flex": null,
            "flex_flow": null,
            "grid_area": null,
            "grid_auto_columns": null,
            "grid_auto_flow": null,
            "grid_auto_rows": null,
            "grid_column": null,
            "grid_gap": null,
            "grid_row": null,
            "grid_template_areas": null,
            "grid_template_columns": null,
            "grid_template_rows": null,
            "height": null,
            "justify_content": null,
            "justify_items": null,
            "left": null,
            "margin": null,
            "max_height": null,
            "max_width": null,
            "min_height": null,
            "min_width": null,
            "object_fit": null,
            "object_position": null,
            "order": null,
            "overflow": null,
            "overflow_x": null,
            "overflow_y": null,
            "padding": null,
            "right": null,
            "top": null,
            "visibility": null,
            "width": null
          }
        },
        "e9fc7849ead548e7b696328bddbb5a79": {
          "model_module": "@jupyter-widgets/controls",
          "model_name": "DescriptionStyleModel",
          "model_module_version": "1.5.0",
          "state": {
            "_model_module": "@jupyter-widgets/controls",
            "_model_module_version": "1.5.0",
            "_model_name": "DescriptionStyleModel",
            "_view_count": null,
            "_view_module": "@jupyter-widgets/base",
            "_view_module_version": "1.2.0",
            "_view_name": "StyleView",
            "description_width": ""
          }
        },
        "b3ab9ad74a2e4f4e99e7395a8837c552": {
          "model_module": "@jupyter-widgets/controls",
          "model_name": "HBoxModel",
          "model_module_version": "1.5.0",
          "state": {
            "_dom_classes": [],
            "_model_module": "@jupyter-widgets/controls",
            "_model_module_version": "1.5.0",
            "_model_name": "HBoxModel",
            "_view_count": null,
            "_view_module": "@jupyter-widgets/controls",
            "_view_module_version": "1.5.0",
            "_view_name": "HBoxView",
            "box_style": "",
            "children": [
              "IPY_MODEL_8babe9b885ca40dabc53cab81e1d3d5c",
              "IPY_MODEL_22cdf66b0fa24bcc8d240fcb2fec5acb",
              "IPY_MODEL_65a4636210a64290bb64f2e4ef7f381c"
            ],
            "layout": "IPY_MODEL_a3925ebeef2d4fb6b59f53783b275e69"
          }
        },
        "8babe9b885ca40dabc53cab81e1d3d5c": {
          "model_module": "@jupyter-widgets/controls",
          "model_name": "HTMLModel",
          "model_module_version": "1.5.0",
          "state": {
            "_dom_classes": [],
            "_model_module": "@jupyter-widgets/controls",
            "_model_module_version": "1.5.0",
            "_model_name": "HTMLModel",
            "_view_count": null,
            "_view_module": "@jupyter-widgets/controls",
            "_view_module_version": "1.5.0",
            "_view_name": "HTMLView",
            "description": "",
            "description_tooltip": null,
            "layout": "IPY_MODEL_973e66c7c36f4a71aad0535313ea601f",
            "placeholder": "​",
            "style": "IPY_MODEL_d8d2800b1f9949c98bd71391c7a7fd75",
            "value": "config.json: 100%"
          }
        },
        "22cdf66b0fa24bcc8d240fcb2fec5acb": {
          "model_module": "@jupyter-widgets/controls",
          "model_name": "FloatProgressModel",
          "model_module_version": "1.5.0",
          "state": {
            "_dom_classes": [],
            "_model_module": "@jupyter-widgets/controls",
            "_model_module_version": "1.5.0",
            "_model_name": "FloatProgressModel",
            "_view_count": null,
            "_view_module": "@jupyter-widgets/controls",
            "_view_module_version": "1.5.0",
            "_view_name": "ProgressView",
            "bar_style": "success",
            "description": "",
            "description_tooltip": null,
            "layout": "IPY_MODEL_e6dc5181c0684b5588da7d18af95d61f",
            "max": 756,
            "min": 0,
            "orientation": "horizontal",
            "style": "IPY_MODEL_78337373b72e46e28f8d146d180abe5a",
            "value": 756
          }
        },
        "65a4636210a64290bb64f2e4ef7f381c": {
          "model_module": "@jupyter-widgets/controls",
          "model_name": "HTMLModel",
          "model_module_version": "1.5.0",
          "state": {
            "_dom_classes": [],
            "_model_module": "@jupyter-widgets/controls",
            "_model_module_version": "1.5.0",
            "_model_name": "HTMLModel",
            "_view_count": null,
            "_view_module": "@jupyter-widgets/controls",
            "_view_module_version": "1.5.0",
            "_view_name": "HTMLView",
            "description": "",
            "description_tooltip": null,
            "layout": "IPY_MODEL_154cdcc304b7413a8412b85374a97617",
            "placeholder": "​",
            "style": "IPY_MODEL_d412e67fa851468b90b7e2508b51b824",
            "value": " 756/756 [00:00&lt;00:00, 49.9kB/s]"
          }
        },
        "a3925ebeef2d4fb6b59f53783b275e69": {
          "model_module": "@jupyter-widgets/base",
          "model_name": "LayoutModel",
          "model_module_version": "1.2.0",
          "state": {
            "_model_module": "@jupyter-widgets/base",
            "_model_module_version": "1.2.0",
            "_model_name": "LayoutModel",
            "_view_count": null,
            "_view_module": "@jupyter-widgets/base",
            "_view_module_version": "1.2.0",
            "_view_name": "LayoutView",
            "align_content": null,
            "align_items": null,
            "align_self": null,
            "border": null,
            "bottom": null,
            "display": null,
            "flex": null,
            "flex_flow": null,
            "grid_area": null,
            "grid_auto_columns": null,
            "grid_auto_flow": null,
            "grid_auto_rows": null,
            "grid_column": null,
            "grid_gap": null,
            "grid_row": null,
            "grid_template_areas": null,
            "grid_template_columns": null,
            "grid_template_rows": null,
            "height": null,
            "justify_content": null,
            "justify_items": null,
            "left": null,
            "margin": null,
            "max_height": null,
            "max_width": null,
            "min_height": null,
            "min_width": null,
            "object_fit": null,
            "object_position": null,
            "order": null,
            "overflow": null,
            "overflow_x": null,
            "overflow_y": null,
            "padding": null,
            "right": null,
            "top": null,
            "visibility": null,
            "width": null
          }
        },
        "973e66c7c36f4a71aad0535313ea601f": {
          "model_module": "@jupyter-widgets/base",
          "model_name": "LayoutModel",
          "model_module_version": "1.2.0",
          "state": {
            "_model_module": "@jupyter-widgets/base",
            "_model_module_version": "1.2.0",
            "_model_name": "LayoutModel",
            "_view_count": null,
            "_view_module": "@jupyter-widgets/base",
            "_view_module_version": "1.2.0",
            "_view_name": "LayoutView",
            "align_content": null,
            "align_items": null,
            "align_self": null,
            "border": null,
            "bottom": null,
            "display": null,
            "flex": null,
            "flex_flow": null,
            "grid_area": null,
            "grid_auto_columns": null,
            "grid_auto_flow": null,
            "grid_auto_rows": null,
            "grid_column": null,
            "grid_gap": null,
            "grid_row": null,
            "grid_template_areas": null,
            "grid_template_columns": null,
            "grid_template_rows": null,
            "height": null,
            "justify_content": null,
            "justify_items": null,
            "left": null,
            "margin": null,
            "max_height": null,
            "max_width": null,
            "min_height": null,
            "min_width": null,
            "object_fit": null,
            "object_position": null,
            "order": null,
            "overflow": null,
            "overflow_x": null,
            "overflow_y": null,
            "padding": null,
            "right": null,
            "top": null,
            "visibility": null,
            "width": null
          }
        },
        "d8d2800b1f9949c98bd71391c7a7fd75": {
          "model_module": "@jupyter-widgets/controls",
          "model_name": "DescriptionStyleModel",
          "model_module_version": "1.5.0",
          "state": {
            "_model_module": "@jupyter-widgets/controls",
            "_model_module_version": "1.5.0",
            "_model_name": "DescriptionStyleModel",
            "_view_count": null,
            "_view_module": "@jupyter-widgets/base",
            "_view_module_version": "1.2.0",
            "_view_name": "StyleView",
            "description_width": ""
          }
        },
        "e6dc5181c0684b5588da7d18af95d61f": {
          "model_module": "@jupyter-widgets/base",
          "model_name": "LayoutModel",
          "model_module_version": "1.2.0",
          "state": {
            "_model_module": "@jupyter-widgets/base",
            "_model_module_version": "1.2.0",
            "_model_name": "LayoutModel",
            "_view_count": null,
            "_view_module": "@jupyter-widgets/base",
            "_view_module_version": "1.2.0",
            "_view_name": "LayoutView",
            "align_content": null,
            "align_items": null,
            "align_self": null,
            "border": null,
            "bottom": null,
            "display": null,
            "flex": null,
            "flex_flow": null,
            "grid_area": null,
            "grid_auto_columns": null,
            "grid_auto_flow": null,
            "grid_auto_rows": null,
            "grid_column": null,
            "grid_gap": null,
            "grid_row": null,
            "grid_template_areas": null,
            "grid_template_columns": null,
            "grid_template_rows": null,
            "height": null,
            "justify_content": null,
            "justify_items": null,
            "left": null,
            "margin": null,
            "max_height": null,
            "max_width": null,
            "min_height": null,
            "min_width": null,
            "object_fit": null,
            "object_position": null,
            "order": null,
            "overflow": null,
            "overflow_x": null,
            "overflow_y": null,
            "padding": null,
            "right": null,
            "top": null,
            "visibility": null,
            "width": null
          }
        },
        "78337373b72e46e28f8d146d180abe5a": {
          "model_module": "@jupyter-widgets/controls",
          "model_name": "ProgressStyleModel",
          "model_module_version": "1.5.0",
          "state": {
            "_model_module": "@jupyter-widgets/controls",
            "_model_module_version": "1.5.0",
            "_model_name": "ProgressStyleModel",
            "_view_count": null,
            "_view_module": "@jupyter-widgets/base",
            "_view_module_version": "1.2.0",
            "_view_name": "StyleView",
            "bar_color": null,
            "description_width": ""
          }
        },
        "154cdcc304b7413a8412b85374a97617": {
          "model_module": "@jupyter-widgets/base",
          "model_name": "LayoutModel",
          "model_module_version": "1.2.0",
          "state": {
            "_model_module": "@jupyter-widgets/base",
            "_model_module_version": "1.2.0",
            "_model_name": "LayoutModel",
            "_view_count": null,
            "_view_module": "@jupyter-widgets/base",
            "_view_module_version": "1.2.0",
            "_view_name": "LayoutView",
            "align_content": null,
            "align_items": null,
            "align_self": null,
            "border": null,
            "bottom": null,
            "display": null,
            "flex": null,
            "flex_flow": null,
            "grid_area": null,
            "grid_auto_columns": null,
            "grid_auto_flow": null,
            "grid_auto_rows": null,
            "grid_column": null,
            "grid_gap": null,
            "grid_row": null,
            "grid_template_areas": null,
            "grid_template_columns": null,
            "grid_template_rows": null,
            "height": null,
            "justify_content": null,
            "justify_items": null,
            "left": null,
            "margin": null,
            "max_height": null,
            "max_width": null,
            "min_height": null,
            "min_width": null,
            "object_fit": null,
            "object_position": null,
            "order": null,
            "overflow": null,
            "overflow_x": null,
            "overflow_y": null,
            "padding": null,
            "right": null,
            "top": null,
            "visibility": null,
            "width": null
          }
        },
        "d412e67fa851468b90b7e2508b51b824": {
          "model_module": "@jupyter-widgets/controls",
          "model_name": "DescriptionStyleModel",
          "model_module_version": "1.5.0",
          "state": {
            "_model_module": "@jupyter-widgets/controls",
            "_model_module_version": "1.5.0",
            "_model_name": "DescriptionStyleModel",
            "_view_count": null,
            "_view_module": "@jupyter-widgets/base",
            "_view_module_version": "1.2.0",
            "_view_name": "StyleView",
            "description_width": ""
          }
        },
        "a8e610bc62024c5a9b260f92c239f1a5": {
          "model_module": "@jupyter-widgets/controls",
          "model_name": "HBoxModel",
          "model_module_version": "1.5.0",
          "state": {
            "_dom_classes": [],
            "_model_module": "@jupyter-widgets/controls",
            "_model_module_version": "1.5.0",
            "_model_name": "HBoxModel",
            "_view_count": null,
            "_view_module": "@jupyter-widgets/controls",
            "_view_module_version": "1.5.0",
            "_view_name": "HBoxView",
            "box_style": "",
            "children": [
              "IPY_MODEL_f71d14a06a6a4396ab2f5ca277835cd3",
              "IPY_MODEL_99f3cbfe506242368638aa96b7506353",
              "IPY_MODEL_ce2cfbd8b2ad477aa4a3e0a9ffed341c"
            ],
            "layout": "IPY_MODEL_58121635e63040ec9e57ebd2278a5cef"
          }
        },
        "f71d14a06a6a4396ab2f5ca277835cd3": {
          "model_module": "@jupyter-widgets/controls",
          "model_name": "HTMLModel",
          "model_module_version": "1.5.0",
          "state": {
            "_dom_classes": [],
            "_model_module": "@jupyter-widgets/controls",
            "_model_module_version": "1.5.0",
            "_model_name": "HTMLModel",
            "_view_count": null,
            "_view_module": "@jupyter-widgets/controls",
            "_view_module_version": "1.5.0",
            "_view_name": "HTMLView",
            "description": "",
            "description_tooltip": null,
            "layout": "IPY_MODEL_3cb30993775b43e79bbb2f5ff8baff3c",
            "placeholder": "​",
            "style": "IPY_MODEL_15fc19c7329e485a801086d574abac44",
            "value": "model.safetensors: 100%"
          }
        },
        "99f3cbfe506242368638aa96b7506353": {
          "model_module": "@jupyter-widgets/controls",
          "model_name": "FloatProgressModel",
          "model_module_version": "1.5.0",
          "state": {
            "_dom_classes": [],
            "_model_module": "@jupyter-widgets/controls",
            "_model_module_version": "1.5.0",
            "_model_name": "FloatProgressModel",
            "_view_count": null,
            "_view_module": "@jupyter-widgets/controls",
            "_view_module_version": "1.5.0",
            "_view_name": "ProgressView",
            "bar_style": "success",
            "description": "",
            "description_tooltip": null,
            "layout": "IPY_MODEL_6d26f739680848c5a3911f8a6526b1ea",
            "max": 55080336,
            "min": 0,
            "orientation": "horizontal",
            "style": "IPY_MODEL_7ef47b325f694c3f941bf1dfeae2e17f",
            "value": 55080336
          }
        },
        "ce2cfbd8b2ad477aa4a3e0a9ffed341c": {
          "model_module": "@jupyter-widgets/controls",
          "model_name": "HTMLModel",
          "model_module_version": "1.5.0",
          "state": {
            "_dom_classes": [],
            "_model_module": "@jupyter-widgets/controls",
            "_model_module_version": "1.5.0",
            "_model_name": "HTMLModel",
            "_view_count": null,
            "_view_module": "@jupyter-widgets/controls",
            "_view_module_version": "1.5.0",
            "_view_name": "HTMLView",
            "description": "",
            "description_tooltip": null,
            "layout": "IPY_MODEL_c252a425ca514b32978292e02a773ec5",
            "placeholder": "​",
            "style": "IPY_MODEL_1a67291024f94130a99b74cc9ecd7439",
            "value": " 55.1M/55.1M [00:00&lt;00:00, 198MB/s]"
          }
        },
        "58121635e63040ec9e57ebd2278a5cef": {
          "model_module": "@jupyter-widgets/base",
          "model_name": "LayoutModel",
          "model_module_version": "1.2.0",
          "state": {
            "_model_module": "@jupyter-widgets/base",
            "_model_module_version": "1.2.0",
            "_model_name": "LayoutModel",
            "_view_count": null,
            "_view_module": "@jupyter-widgets/base",
            "_view_module_version": "1.2.0",
            "_view_name": "LayoutView",
            "align_content": null,
            "align_items": null,
            "align_self": null,
            "border": null,
            "bottom": null,
            "display": null,
            "flex": null,
            "flex_flow": null,
            "grid_area": null,
            "grid_auto_columns": null,
            "grid_auto_flow": null,
            "grid_auto_rows": null,
            "grid_column": null,
            "grid_gap": null,
            "grid_row": null,
            "grid_template_areas": null,
            "grid_template_columns": null,
            "grid_template_rows": null,
            "height": null,
            "justify_content": null,
            "justify_items": null,
            "left": null,
            "margin": null,
            "max_height": null,
            "max_width": null,
            "min_height": null,
            "min_width": null,
            "object_fit": null,
            "object_position": null,
            "order": null,
            "overflow": null,
            "overflow_x": null,
            "overflow_y": null,
            "padding": null,
            "right": null,
            "top": null,
            "visibility": null,
            "width": null
          }
        },
        "3cb30993775b43e79bbb2f5ff8baff3c": {
          "model_module": "@jupyter-widgets/base",
          "model_name": "LayoutModel",
          "model_module_version": "1.2.0",
          "state": {
            "_model_module": "@jupyter-widgets/base",
            "_model_module_version": "1.2.0",
            "_model_name": "LayoutModel",
            "_view_count": null,
            "_view_module": "@jupyter-widgets/base",
            "_view_module_version": "1.2.0",
            "_view_name": "LayoutView",
            "align_content": null,
            "align_items": null,
            "align_self": null,
            "border": null,
            "bottom": null,
            "display": null,
            "flex": null,
            "flex_flow": null,
            "grid_area": null,
            "grid_auto_columns": null,
            "grid_auto_flow": null,
            "grid_auto_rows": null,
            "grid_column": null,
            "grid_gap": null,
            "grid_row": null,
            "grid_template_areas": null,
            "grid_template_columns": null,
            "grid_template_rows": null,
            "height": null,
            "justify_content": null,
            "justify_items": null,
            "left": null,
            "margin": null,
            "max_height": null,
            "max_width": null,
            "min_height": null,
            "min_width": null,
            "object_fit": null,
            "object_position": null,
            "order": null,
            "overflow": null,
            "overflow_x": null,
            "overflow_y": null,
            "padding": null,
            "right": null,
            "top": null,
            "visibility": null,
            "width": null
          }
        },
        "15fc19c7329e485a801086d574abac44": {
          "model_module": "@jupyter-widgets/controls",
          "model_name": "DescriptionStyleModel",
          "model_module_version": "1.5.0",
          "state": {
            "_model_module": "@jupyter-widgets/controls",
            "_model_module_version": "1.5.0",
            "_model_name": "DescriptionStyleModel",
            "_view_count": null,
            "_view_module": "@jupyter-widgets/base",
            "_view_module_version": "1.2.0",
            "_view_name": "StyleView",
            "description_width": ""
          }
        },
        "6d26f739680848c5a3911f8a6526b1ea": {
          "model_module": "@jupyter-widgets/base",
          "model_name": "LayoutModel",
          "model_module_version": "1.2.0",
          "state": {
            "_model_module": "@jupyter-widgets/base",
            "_model_module_version": "1.2.0",
            "_model_name": "LayoutModel",
            "_view_count": null,
            "_view_module": "@jupyter-widgets/base",
            "_view_module_version": "1.2.0",
            "_view_name": "LayoutView",
            "align_content": null,
            "align_items": null,
            "align_self": null,
            "border": null,
            "bottom": null,
            "display": null,
            "flex": null,
            "flex_flow": null,
            "grid_area": null,
            "grid_auto_columns": null,
            "grid_auto_flow": null,
            "grid_auto_rows": null,
            "grid_column": null,
            "grid_gap": null,
            "grid_row": null,
            "grid_template_areas": null,
            "grid_template_columns": null,
            "grid_template_rows": null,
            "height": null,
            "justify_content": null,
            "justify_items": null,
            "left": null,
            "margin": null,
            "max_height": null,
            "max_width": null,
            "min_height": null,
            "min_width": null,
            "object_fit": null,
            "object_position": null,
            "order": null,
            "overflow": null,
            "overflow_x": null,
            "overflow_y": null,
            "padding": null,
            "right": null,
            "top": null,
            "visibility": null,
            "width": null
          }
        },
        "7ef47b325f694c3f941bf1dfeae2e17f": {
          "model_module": "@jupyter-widgets/controls",
          "model_name": "ProgressStyleModel",
          "model_module_version": "1.5.0",
          "state": {
            "_model_module": "@jupyter-widgets/controls",
            "_model_module_version": "1.5.0",
            "_model_name": "ProgressStyleModel",
            "_view_count": null,
            "_view_module": "@jupyter-widgets/base",
            "_view_module_version": "1.2.0",
            "_view_name": "StyleView",
            "bar_color": null,
            "description_width": ""
          }
        },
        "c252a425ca514b32978292e02a773ec5": {
          "model_module": "@jupyter-widgets/base",
          "model_name": "LayoutModel",
          "model_module_version": "1.2.0",
          "state": {
            "_model_module": "@jupyter-widgets/base",
            "_model_module_version": "1.2.0",
            "_model_name": "LayoutModel",
            "_view_count": null,
            "_view_module": "@jupyter-widgets/base",
            "_view_module_version": "1.2.0",
            "_view_name": "LayoutView",
            "align_content": null,
            "align_items": null,
            "align_self": null,
            "border": null,
            "bottom": null,
            "display": null,
            "flex": null,
            "flex_flow": null,
            "grid_area": null,
            "grid_auto_columns": null,
            "grid_auto_flow": null,
            "grid_auto_rows": null,
            "grid_column": null,
            "grid_gap": null,
            "grid_row": null,
            "grid_template_areas": null,
            "grid_template_columns": null,
            "grid_template_rows": null,
            "height": null,
            "justify_content": null,
            "justify_items": null,
            "left": null,
            "margin": null,
            "max_height": null,
            "max_width": null,
            "min_height": null,
            "min_width": null,
            "object_fit": null,
            "object_position": null,
            "order": null,
            "overflow": null,
            "overflow_x": null,
            "overflow_y": null,
            "padding": null,
            "right": null,
            "top": null,
            "visibility": null,
            "width": null
          }
        },
        "1a67291024f94130a99b74cc9ecd7439": {
          "model_module": "@jupyter-widgets/controls",
          "model_name": "DescriptionStyleModel",
          "model_module_version": "1.5.0",
          "state": {
            "_model_module": "@jupyter-widgets/controls",
            "_model_module_version": "1.5.0",
            "_model_name": "DescriptionStyleModel",
            "_view_count": null,
            "_view_module": "@jupyter-widgets/base",
            "_view_module_version": "1.2.0",
            "_view_name": "StyleView",
            "description_width": ""
          }
        },
        "cb4ba04ed43a43ebafd051ce3c504c86": {
          "model_module": "@jupyter-widgets/controls",
          "model_name": "HBoxModel",
          "model_module_version": "1.5.0",
          "state": {
            "_dom_classes": [],
            "_model_module": "@jupyter-widgets/controls",
            "_model_module_version": "1.5.0",
            "_model_name": "HBoxModel",
            "_view_count": null,
            "_view_module": "@jupyter-widgets/controls",
            "_view_module_version": "1.5.0",
            "_view_name": "HBoxView",
            "box_style": "",
            "children": [
              "IPY_MODEL_d67753b424e14f50b92f9c5870c8d4dd",
              "IPY_MODEL_f72b502a317d498d87e407a44744c10f",
              "IPY_MODEL_03d9588bbfe04c598e170fb5a970adb2"
            ],
            "layout": "IPY_MODEL_7c1c34c811d04b499229ff87e8c3e331"
          }
        },
        "d67753b424e14f50b92f9c5870c8d4dd": {
          "model_module": "@jupyter-widgets/controls",
          "model_name": "HTMLModel",
          "model_module_version": "1.5.0",
          "state": {
            "_dom_classes": [],
            "_model_module": "@jupyter-widgets/controls",
            "_model_module_version": "1.5.0",
            "_model_name": "HTMLModel",
            "_view_count": null,
            "_view_module": "@jupyter-widgets/controls",
            "_view_module_version": "1.5.0",
            "_view_name": "HTMLView",
            "description": "",
            "description_tooltip": null,
            "layout": "IPY_MODEL_4a5231ff9a34481b87fa1ed283a2c7ea",
            "placeholder": "​",
            "style": "IPY_MODEL_ec967108b9f5480c8910015cf78dcd8b",
            "value": "tokenizer_config.json: 100%"
          }
        },
        "f72b502a317d498d87e407a44744c10f": {
          "model_module": "@jupyter-widgets/controls",
          "model_name": "FloatProgressModel",
          "model_module_version": "1.5.0",
          "state": {
            "_dom_classes": [],
            "_model_module": "@jupyter-widgets/controls",
            "_model_module_version": "1.5.0",
            "_model_name": "FloatProgressModel",
            "_view_count": null,
            "_view_module": "@jupyter-widgets/controls",
            "_view_module_version": "1.5.0",
            "_view_name": "ProgressView",
            "bar_style": "success",
            "description": "",
            "description_tooltip": null,
            "layout": "IPY_MODEL_229b9aad0d6a41f281e0809c1be2a1b9",
            "max": 102,
            "min": 0,
            "orientation": "horizontal",
            "style": "IPY_MODEL_cc3e372a624849a687297c1c15988add",
            "value": 102
          }
        },
        "03d9588bbfe04c598e170fb5a970adb2": {
          "model_module": "@jupyter-widgets/controls",
          "model_name": "HTMLModel",
          "model_module_version": "1.5.0",
          "state": {
            "_dom_classes": [],
            "_model_module": "@jupyter-widgets/controls",
            "_model_module_version": "1.5.0",
            "_model_name": "HTMLModel",
            "_view_count": null,
            "_view_module": "@jupyter-widgets/controls",
            "_view_module_version": "1.5.0",
            "_view_name": "HTMLView",
            "description": "",
            "description_tooltip": null,
            "layout": "IPY_MODEL_e2e902c1b95642bda2030018c60964fe",
            "placeholder": "​",
            "style": "IPY_MODEL_f9ab5baf898b44d18d71a96adfddd5f7",
            "value": " 102/102 [00:00&lt;00:00, 6.80kB/s]"
          }
        },
        "7c1c34c811d04b499229ff87e8c3e331": {
          "model_module": "@jupyter-widgets/base",
          "model_name": "LayoutModel",
          "model_module_version": "1.2.0",
          "state": {
            "_model_module": "@jupyter-widgets/base",
            "_model_module_version": "1.2.0",
            "_model_name": "LayoutModel",
            "_view_count": null,
            "_view_module": "@jupyter-widgets/base",
            "_view_module_version": "1.2.0",
            "_view_name": "LayoutView",
            "align_content": null,
            "align_items": null,
            "align_self": null,
            "border": null,
            "bottom": null,
            "display": null,
            "flex": null,
            "flex_flow": null,
            "grid_area": null,
            "grid_auto_columns": null,
            "grid_auto_flow": null,
            "grid_auto_rows": null,
            "grid_column": null,
            "grid_gap": null,
            "grid_row": null,
            "grid_template_areas": null,
            "grid_template_columns": null,
            "grid_template_rows": null,
            "height": null,
            "justify_content": null,
            "justify_items": null,
            "left": null,
            "margin": null,
            "max_height": null,
            "max_width": null,
            "min_height": null,
            "min_width": null,
            "object_fit": null,
            "object_position": null,
            "order": null,
            "overflow": null,
            "overflow_x": null,
            "overflow_y": null,
            "padding": null,
            "right": null,
            "top": null,
            "visibility": null,
            "width": null
          }
        },
        "4a5231ff9a34481b87fa1ed283a2c7ea": {
          "model_module": "@jupyter-widgets/base",
          "model_name": "LayoutModel",
          "model_module_version": "1.2.0",
          "state": {
            "_model_module": "@jupyter-widgets/base",
            "_model_module_version": "1.2.0",
            "_model_name": "LayoutModel",
            "_view_count": null,
            "_view_module": "@jupyter-widgets/base",
            "_view_module_version": "1.2.0",
            "_view_name": "LayoutView",
            "align_content": null,
            "align_items": null,
            "align_self": null,
            "border": null,
            "bottom": null,
            "display": null,
            "flex": null,
            "flex_flow": null,
            "grid_area": null,
            "grid_auto_columns": null,
            "grid_auto_flow": null,
            "grid_auto_rows": null,
            "grid_column": null,
            "grid_gap": null,
            "grid_row": null,
            "grid_template_areas": null,
            "grid_template_columns": null,
            "grid_template_rows": null,
            "height": null,
            "justify_content": null,
            "justify_items": null,
            "left": null,
            "margin": null,
            "max_height": null,
            "max_width": null,
            "min_height": null,
            "min_width": null,
            "object_fit": null,
            "object_position": null,
            "order": null,
            "overflow": null,
            "overflow_x": null,
            "overflow_y": null,
            "padding": null,
            "right": null,
            "top": null,
            "visibility": null,
            "width": null
          }
        },
        "ec967108b9f5480c8910015cf78dcd8b": {
          "model_module": "@jupyter-widgets/controls",
          "model_name": "DescriptionStyleModel",
          "model_module_version": "1.5.0",
          "state": {
            "_model_module": "@jupyter-widgets/controls",
            "_model_module_version": "1.5.0",
            "_model_name": "DescriptionStyleModel",
            "_view_count": null,
            "_view_module": "@jupyter-widgets/base",
            "_view_module_version": "1.2.0",
            "_view_name": "StyleView",
            "description_width": ""
          }
        },
        "229b9aad0d6a41f281e0809c1be2a1b9": {
          "model_module": "@jupyter-widgets/base",
          "model_name": "LayoutModel",
          "model_module_version": "1.2.0",
          "state": {
            "_model_module": "@jupyter-widgets/base",
            "_model_module_version": "1.2.0",
            "_model_name": "LayoutModel",
            "_view_count": null,
            "_view_module": "@jupyter-widgets/base",
            "_view_module_version": "1.2.0",
            "_view_name": "LayoutView",
            "align_content": null,
            "align_items": null,
            "align_self": null,
            "border": null,
            "bottom": null,
            "display": null,
            "flex": null,
            "flex_flow": null,
            "grid_area": null,
            "grid_auto_columns": null,
            "grid_auto_flow": null,
            "grid_auto_rows": null,
            "grid_column": null,
            "grid_gap": null,
            "grid_row": null,
            "grid_template_areas": null,
            "grid_template_columns": null,
            "grid_template_rows": null,
            "height": null,
            "justify_content": null,
            "justify_items": null,
            "left": null,
            "margin": null,
            "max_height": null,
            "max_width": null,
            "min_height": null,
            "min_width": null,
            "object_fit": null,
            "object_position": null,
            "order": null,
            "overflow": null,
            "overflow_x": null,
            "overflow_y": null,
            "padding": null,
            "right": null,
            "top": null,
            "visibility": null,
            "width": null
          }
        },
        "cc3e372a624849a687297c1c15988add": {
          "model_module": "@jupyter-widgets/controls",
          "model_name": "ProgressStyleModel",
          "model_module_version": "1.5.0",
          "state": {
            "_model_module": "@jupyter-widgets/controls",
            "_model_module_version": "1.5.0",
            "_model_name": "ProgressStyleModel",
            "_view_count": null,
            "_view_module": "@jupyter-widgets/base",
            "_view_module_version": "1.2.0",
            "_view_name": "StyleView",
            "bar_color": null,
            "description_width": ""
          }
        },
        "e2e902c1b95642bda2030018c60964fe": {
          "model_module": "@jupyter-widgets/base",
          "model_name": "LayoutModel",
          "model_module_version": "1.2.0",
          "state": {
            "_model_module": "@jupyter-widgets/base",
            "_model_module_version": "1.2.0",
            "_model_name": "LayoutModel",
            "_view_count": null,
            "_view_module": "@jupyter-widgets/base",
            "_view_module_version": "1.2.0",
            "_view_name": "LayoutView",
            "align_content": null,
            "align_items": null,
            "align_self": null,
            "border": null,
            "bottom": null,
            "display": null,
            "flex": null,
            "flex_flow": null,
            "grid_area": null,
            "grid_auto_columns": null,
            "grid_auto_flow": null,
            "grid_auto_rows": null,
            "grid_column": null,
            "grid_gap": null,
            "grid_row": null,
            "grid_template_areas": null,
            "grid_template_columns": null,
            "grid_template_rows": null,
            "height": null,
            "justify_content": null,
            "justify_items": null,
            "left": null,
            "margin": null,
            "max_height": null,
            "max_width": null,
            "min_height": null,
            "min_width": null,
            "object_fit": null,
            "object_position": null,
            "order": null,
            "overflow": null,
            "overflow_x": null,
            "overflow_y": null,
            "padding": null,
            "right": null,
            "top": null,
            "visibility": null,
            "width": null
          }
        },
        "f9ab5baf898b44d18d71a96adfddd5f7": {
          "model_module": "@jupyter-widgets/controls",
          "model_name": "DescriptionStyleModel",
          "model_module_version": "1.5.0",
          "state": {
            "_model_module": "@jupyter-widgets/controls",
            "_model_module_version": "1.5.0",
            "_model_name": "DescriptionStyleModel",
            "_view_count": null,
            "_view_module": "@jupyter-widgets/base",
            "_view_module_version": "1.2.0",
            "_view_name": "StyleView",
            "description_width": ""
          }
        },
        "1890a0a8354541f391ef649c565628bc": {
          "model_module": "@jupyter-widgets/controls",
          "model_name": "HBoxModel",
          "model_module_version": "1.5.0",
          "state": {
            "_dom_classes": [],
            "_model_module": "@jupyter-widgets/controls",
            "_model_module_version": "1.5.0",
            "_model_name": "HBoxModel",
            "_view_count": null,
            "_view_module": "@jupyter-widgets/controls",
            "_view_module_version": "1.5.0",
            "_view_name": "HBoxView",
            "box_style": "",
            "children": [
              "IPY_MODEL_79754be66d1f4538aa84c0c995581d60",
              "IPY_MODEL_8a48215c6a354a95be12f94f0cad123a",
              "IPY_MODEL_cdcaa30ffe9f43549a6b7f85efa18c6f"
            ],
            "layout": "IPY_MODEL_f45d967532e0414390f373213a811027"
          }
        },
        "79754be66d1f4538aa84c0c995581d60": {
          "model_module": "@jupyter-widgets/controls",
          "model_name": "HTMLModel",
          "model_module_version": "1.5.0",
          "state": {
            "_dom_classes": [],
            "_model_module": "@jupyter-widgets/controls",
            "_model_module_version": "1.5.0",
            "_model_name": "HTMLModel",
            "_view_count": null,
            "_view_module": "@jupyter-widgets/controls",
            "_view_module_version": "1.5.0",
            "_view_name": "HTMLView",
            "description": "",
            "description_tooltip": null,
            "layout": "IPY_MODEL_9413f5780f90417ebbfd6749b15325d4",
            "placeholder": "​",
            "style": "IPY_MODEL_8a1054cd57d64ef8bf28bb1ee88fc804",
            "value": "vocab.txt: 100%"
          }
        },
        "8a48215c6a354a95be12f94f0cad123a": {
          "model_module": "@jupyter-widgets/controls",
          "model_name": "FloatProgressModel",
          "model_module_version": "1.5.0",
          "state": {
            "_dom_classes": [],
            "_model_module": "@jupyter-widgets/controls",
            "_model_module_version": "1.5.0",
            "_model_name": "FloatProgressModel",
            "_view_count": null,
            "_view_module": "@jupyter-widgets/controls",
            "_view_module_version": "1.5.0",
            "_view_name": "ProgressView",
            "bar_style": "success",
            "description": "",
            "description_tooltip": null,
            "layout": "IPY_MODEL_b2e9aaad1b29442a9cb2ac4b55015436",
            "max": 246975,
            "min": 0,
            "orientation": "horizontal",
            "style": "IPY_MODEL_327ca0795dc944c6a53f44bfdfb4e0fd",
            "value": 246975
          }
        },
        "cdcaa30ffe9f43549a6b7f85efa18c6f": {
          "model_module": "@jupyter-widgets/controls",
          "model_name": "HTMLModel",
          "model_module_version": "1.5.0",
          "state": {
            "_dom_classes": [],
            "_model_module": "@jupyter-widgets/controls",
            "_model_module_version": "1.5.0",
            "_model_name": "HTMLModel",
            "_view_count": null,
            "_view_module": "@jupyter-widgets/controls",
            "_view_module_version": "1.5.0",
            "_view_name": "HTMLView",
            "description": "",
            "description_tooltip": null,
            "layout": "IPY_MODEL_a2a03e26f01046939a5bc1323cb7a599",
            "placeholder": "​",
            "style": "IPY_MODEL_7a4e2af90aa245c1866a35f141ff9c85",
            "value": " 247k/247k [00:00&lt;00:00, 6.76MB/s]"
          }
        },
        "f45d967532e0414390f373213a811027": {
          "model_module": "@jupyter-widgets/base",
          "model_name": "LayoutModel",
          "model_module_version": "1.2.0",
          "state": {
            "_model_module": "@jupyter-widgets/base",
            "_model_module_version": "1.2.0",
            "_model_name": "LayoutModel",
            "_view_count": null,
            "_view_module": "@jupyter-widgets/base",
            "_view_module_version": "1.2.0",
            "_view_name": "LayoutView",
            "align_content": null,
            "align_items": null,
            "align_self": null,
            "border": null,
            "bottom": null,
            "display": null,
            "flex": null,
            "flex_flow": null,
            "grid_area": null,
            "grid_auto_columns": null,
            "grid_auto_flow": null,
            "grid_auto_rows": null,
            "grid_column": null,
            "grid_gap": null,
            "grid_row": null,
            "grid_template_areas": null,
            "grid_template_columns": null,
            "grid_template_rows": null,
            "height": null,
            "justify_content": null,
            "justify_items": null,
            "left": null,
            "margin": null,
            "max_height": null,
            "max_width": null,
            "min_height": null,
            "min_width": null,
            "object_fit": null,
            "object_position": null,
            "order": null,
            "overflow": null,
            "overflow_x": null,
            "overflow_y": null,
            "padding": null,
            "right": null,
            "top": null,
            "visibility": null,
            "width": null
          }
        },
        "9413f5780f90417ebbfd6749b15325d4": {
          "model_module": "@jupyter-widgets/base",
          "model_name": "LayoutModel",
          "model_module_version": "1.2.0",
          "state": {
            "_model_module": "@jupyter-widgets/base",
            "_model_module_version": "1.2.0",
            "_model_name": "LayoutModel",
            "_view_count": null,
            "_view_module": "@jupyter-widgets/base",
            "_view_module_version": "1.2.0",
            "_view_name": "LayoutView",
            "align_content": null,
            "align_items": null,
            "align_self": null,
            "border": null,
            "bottom": null,
            "display": null,
            "flex": null,
            "flex_flow": null,
            "grid_area": null,
            "grid_auto_columns": null,
            "grid_auto_flow": null,
            "grid_auto_rows": null,
            "grid_column": null,
            "grid_gap": null,
            "grid_row": null,
            "grid_template_areas": null,
            "grid_template_columns": null,
            "grid_template_rows": null,
            "height": null,
            "justify_content": null,
            "justify_items": null,
            "left": null,
            "margin": null,
            "max_height": null,
            "max_width": null,
            "min_height": null,
            "min_width": null,
            "object_fit": null,
            "object_position": null,
            "order": null,
            "overflow": null,
            "overflow_x": null,
            "overflow_y": null,
            "padding": null,
            "right": null,
            "top": null,
            "visibility": null,
            "width": null
          }
        },
        "8a1054cd57d64ef8bf28bb1ee88fc804": {
          "model_module": "@jupyter-widgets/controls",
          "model_name": "DescriptionStyleModel",
          "model_module_version": "1.5.0",
          "state": {
            "_model_module": "@jupyter-widgets/controls",
            "_model_module_version": "1.5.0",
            "_model_name": "DescriptionStyleModel",
            "_view_count": null,
            "_view_module": "@jupyter-widgets/base",
            "_view_module_version": "1.2.0",
            "_view_name": "StyleView",
            "description_width": ""
          }
        },
        "b2e9aaad1b29442a9cb2ac4b55015436": {
          "model_module": "@jupyter-widgets/base",
          "model_name": "LayoutModel",
          "model_module_version": "1.2.0",
          "state": {
            "_model_module": "@jupyter-widgets/base",
            "_model_module_version": "1.2.0",
            "_model_name": "LayoutModel",
            "_view_count": null,
            "_view_module": "@jupyter-widgets/base",
            "_view_module_version": "1.2.0",
            "_view_name": "LayoutView",
            "align_content": null,
            "align_items": null,
            "align_self": null,
            "border": null,
            "bottom": null,
            "display": null,
            "flex": null,
            "flex_flow": null,
            "grid_area": null,
            "grid_auto_columns": null,
            "grid_auto_flow": null,
            "grid_auto_rows": null,
            "grid_column": null,
            "grid_gap": null,
            "grid_row": null,
            "grid_template_areas": null,
            "grid_template_columns": null,
            "grid_template_rows": null,
            "height": null,
            "justify_content": null,
            "justify_items": null,
            "left": null,
            "margin": null,
            "max_height": null,
            "max_width": null,
            "min_height": null,
            "min_width": null,
            "object_fit": null,
            "object_position": null,
            "order": null,
            "overflow": null,
            "overflow_x": null,
            "overflow_y": null,
            "padding": null,
            "right": null,
            "top": null,
            "visibility": null,
            "width": null
          }
        },
        "327ca0795dc944c6a53f44bfdfb4e0fd": {
          "model_module": "@jupyter-widgets/controls",
          "model_name": "ProgressStyleModel",
          "model_module_version": "1.5.0",
          "state": {
            "_model_module": "@jupyter-widgets/controls",
            "_model_module_version": "1.5.0",
            "_model_name": "ProgressStyleModel",
            "_view_count": null,
            "_view_module": "@jupyter-widgets/base",
            "_view_module_version": "1.2.0",
            "_view_name": "StyleView",
            "bar_color": null,
            "description_width": ""
          }
        },
        "a2a03e26f01046939a5bc1323cb7a599": {
          "model_module": "@jupyter-widgets/base",
          "model_name": "LayoutModel",
          "model_module_version": "1.2.0",
          "state": {
            "_model_module": "@jupyter-widgets/base",
            "_model_module_version": "1.2.0",
            "_model_name": "LayoutModel",
            "_view_count": null,
            "_view_module": "@jupyter-widgets/base",
            "_view_module_version": "1.2.0",
            "_view_name": "LayoutView",
            "align_content": null,
            "align_items": null,
            "align_self": null,
            "border": null,
            "bottom": null,
            "display": null,
            "flex": null,
            "flex_flow": null,
            "grid_area": null,
            "grid_auto_columns": null,
            "grid_auto_flow": null,
            "grid_auto_rows": null,
            "grid_column": null,
            "grid_gap": null,
            "grid_row": null,
            "grid_template_areas": null,
            "grid_template_columns": null,
            "grid_template_rows": null,
            "height": null,
            "justify_content": null,
            "justify_items": null,
            "left": null,
            "margin": null,
            "max_height": null,
            "max_width": null,
            "min_height": null,
            "min_width": null,
            "object_fit": null,
            "object_position": null,
            "order": null,
            "overflow": null,
            "overflow_x": null,
            "overflow_y": null,
            "padding": null,
            "right": null,
            "top": null,
            "visibility": null,
            "width": null
          }
        },
        "7a4e2af90aa245c1866a35f141ff9c85": {
          "model_module": "@jupyter-widgets/controls",
          "model_name": "DescriptionStyleModel",
          "model_module_version": "1.5.0",
          "state": {
            "_model_module": "@jupyter-widgets/controls",
            "_model_module_version": "1.5.0",
            "_model_name": "DescriptionStyleModel",
            "_view_count": null,
            "_view_module": "@jupyter-widgets/base",
            "_view_module_version": "1.2.0",
            "_view_name": "StyleView",
            "description_width": ""
          }
        },
        "e40a7dc764d643e1878ccc7e1eaba7df": {
          "model_module": "@jupyter-widgets/controls",
          "model_name": "HBoxModel",
          "model_module_version": "1.5.0",
          "state": {
            "_dom_classes": [],
            "_model_module": "@jupyter-widgets/controls",
            "_model_module_version": "1.5.0",
            "_model_name": "HBoxModel",
            "_view_count": null,
            "_view_module": "@jupyter-widgets/controls",
            "_view_module_version": "1.5.0",
            "_view_name": "HBoxView",
            "box_style": "",
            "children": [
              "IPY_MODEL_72883729dd784b579d521579dee9b33e",
              "IPY_MODEL_1207223ea22843dc92e33f1ff0fe4363",
              "IPY_MODEL_d894934d028d4dc78630721aa46743f1"
            ],
            "layout": "IPY_MODEL_f76e127b0134494693d4e191a0f4f993"
          }
        },
        "72883729dd784b579d521579dee9b33e": {
          "model_module": "@jupyter-widgets/controls",
          "model_name": "HTMLModel",
          "model_module_version": "1.5.0",
          "state": {
            "_dom_classes": [],
            "_model_module": "@jupyter-widgets/controls",
            "_model_module_version": "1.5.0",
            "_model_name": "HTMLModel",
            "_view_count": null,
            "_view_module": "@jupyter-widgets/controls",
            "_view_module_version": "1.5.0",
            "_view_name": "HTMLView",
            "description": "",
            "description_tooltip": null,
            "layout": "IPY_MODEL_3bd9db2f1a3440d4afbf88389e401c11",
            "placeholder": "​",
            "style": "IPY_MODEL_3bd2cc0a2c594ac4bbc0c88cc94d1144",
            "value": "special_tokens_map.json: 100%"
          }
        },
        "1207223ea22843dc92e33f1ff0fe4363": {
          "model_module": "@jupyter-widgets/controls",
          "model_name": "FloatProgressModel",
          "model_module_version": "1.5.0",
          "state": {
            "_dom_classes": [],
            "_model_module": "@jupyter-widgets/controls",
            "_model_module_version": "1.5.0",
            "_model_name": "FloatProgressModel",
            "_view_count": null,
            "_view_module": "@jupyter-widgets/controls",
            "_view_module_version": "1.5.0",
            "_view_name": "ProgressView",
            "bar_style": "success",
            "description": "",
            "description_tooltip": null,
            "layout": "IPY_MODEL_56ad1e9be461414e9ab53acdbbed176e",
            "max": 112,
            "min": 0,
            "orientation": "horizontal",
            "style": "IPY_MODEL_107831a206e84eedbd35afcb1ff1bd01",
            "value": 112
          }
        },
        "d894934d028d4dc78630721aa46743f1": {
          "model_module": "@jupyter-widgets/controls",
          "model_name": "HTMLModel",
          "model_module_version": "1.5.0",
          "state": {
            "_dom_classes": [],
            "_model_module": "@jupyter-widgets/controls",
            "_model_module_version": "1.5.0",
            "_model_name": "HTMLModel",
            "_view_count": null,
            "_view_module": "@jupyter-widgets/controls",
            "_view_module_version": "1.5.0",
            "_view_name": "HTMLView",
            "description": "",
            "description_tooltip": null,
            "layout": "IPY_MODEL_5b88ffd57ffd4404badb55fd1a42a74a",
            "placeholder": "​",
            "style": "IPY_MODEL_904fd050b860460297eaaa9931fb625e",
            "value": " 112/112 [00:00&lt;00:00, 12.9kB/s]"
          }
        },
        "f76e127b0134494693d4e191a0f4f993": {
          "model_module": "@jupyter-widgets/base",
          "model_name": "LayoutModel",
          "model_module_version": "1.2.0",
          "state": {
            "_model_module": "@jupyter-widgets/base",
            "_model_module_version": "1.2.0",
            "_model_name": "LayoutModel",
            "_view_count": null,
            "_view_module": "@jupyter-widgets/base",
            "_view_module_version": "1.2.0",
            "_view_name": "LayoutView",
            "align_content": null,
            "align_items": null,
            "align_self": null,
            "border": null,
            "bottom": null,
            "display": null,
            "flex": null,
            "flex_flow": null,
            "grid_area": null,
            "grid_auto_columns": null,
            "grid_auto_flow": null,
            "grid_auto_rows": null,
            "grid_column": null,
            "grid_gap": null,
            "grid_row": null,
            "grid_template_areas": null,
            "grid_template_columns": null,
            "grid_template_rows": null,
            "height": null,
            "justify_content": null,
            "justify_items": null,
            "left": null,
            "margin": null,
            "max_height": null,
            "max_width": null,
            "min_height": null,
            "min_width": null,
            "object_fit": null,
            "object_position": null,
            "order": null,
            "overflow": null,
            "overflow_x": null,
            "overflow_y": null,
            "padding": null,
            "right": null,
            "top": null,
            "visibility": null,
            "width": null
          }
        },
        "3bd9db2f1a3440d4afbf88389e401c11": {
          "model_module": "@jupyter-widgets/base",
          "model_name": "LayoutModel",
          "model_module_version": "1.2.0",
          "state": {
            "_model_module": "@jupyter-widgets/base",
            "_model_module_version": "1.2.0",
            "_model_name": "LayoutModel",
            "_view_count": null,
            "_view_module": "@jupyter-widgets/base",
            "_view_module_version": "1.2.0",
            "_view_name": "LayoutView",
            "align_content": null,
            "align_items": null,
            "align_self": null,
            "border": null,
            "bottom": null,
            "display": null,
            "flex": null,
            "flex_flow": null,
            "grid_area": null,
            "grid_auto_columns": null,
            "grid_auto_flow": null,
            "grid_auto_rows": null,
            "grid_column": null,
            "grid_gap": null,
            "grid_row": null,
            "grid_template_areas": null,
            "grid_template_columns": null,
            "grid_template_rows": null,
            "height": null,
            "justify_content": null,
            "justify_items": null,
            "left": null,
            "margin": null,
            "max_height": null,
            "max_width": null,
            "min_height": null,
            "min_width": null,
            "object_fit": null,
            "object_position": null,
            "order": null,
            "overflow": null,
            "overflow_x": null,
            "overflow_y": null,
            "padding": null,
            "right": null,
            "top": null,
            "visibility": null,
            "width": null
          }
        },
        "3bd2cc0a2c594ac4bbc0c88cc94d1144": {
          "model_module": "@jupyter-widgets/controls",
          "model_name": "DescriptionStyleModel",
          "model_module_version": "1.5.0",
          "state": {
            "_model_module": "@jupyter-widgets/controls",
            "_model_module_version": "1.5.0",
            "_model_name": "DescriptionStyleModel",
            "_view_count": null,
            "_view_module": "@jupyter-widgets/base",
            "_view_module_version": "1.2.0",
            "_view_name": "StyleView",
            "description_width": ""
          }
        },
        "56ad1e9be461414e9ab53acdbbed176e": {
          "model_module": "@jupyter-widgets/base",
          "model_name": "LayoutModel",
          "model_module_version": "1.2.0",
          "state": {
            "_model_module": "@jupyter-widgets/base",
            "_model_module_version": "1.2.0",
            "_model_name": "LayoutModel",
            "_view_count": null,
            "_view_module": "@jupyter-widgets/base",
            "_view_module_version": "1.2.0",
            "_view_name": "LayoutView",
            "align_content": null,
            "align_items": null,
            "align_self": null,
            "border": null,
            "bottom": null,
            "display": null,
            "flex": null,
            "flex_flow": null,
            "grid_area": null,
            "grid_auto_columns": null,
            "grid_auto_flow": null,
            "grid_auto_rows": null,
            "grid_column": null,
            "grid_gap": null,
            "grid_row": null,
            "grid_template_areas": null,
            "grid_template_columns": null,
            "grid_template_rows": null,
            "height": null,
            "justify_content": null,
            "justify_items": null,
            "left": null,
            "margin": null,
            "max_height": null,
            "max_width": null,
            "min_height": null,
            "min_width": null,
            "object_fit": null,
            "object_position": null,
            "order": null,
            "overflow": null,
            "overflow_x": null,
            "overflow_y": null,
            "padding": null,
            "right": null,
            "top": null,
            "visibility": null,
            "width": null
          }
        },
        "107831a206e84eedbd35afcb1ff1bd01": {
          "model_module": "@jupyter-widgets/controls",
          "model_name": "ProgressStyleModel",
          "model_module_version": "1.5.0",
          "state": {
            "_model_module": "@jupyter-widgets/controls",
            "_model_module_version": "1.5.0",
            "_model_name": "ProgressStyleModel",
            "_view_count": null,
            "_view_module": "@jupyter-widgets/base",
            "_view_module_version": "1.2.0",
            "_view_name": "StyleView",
            "bar_color": null,
            "description_width": ""
          }
        },
        "5b88ffd57ffd4404badb55fd1a42a74a": {
          "model_module": "@jupyter-widgets/base",
          "model_name": "LayoutModel",
          "model_module_version": "1.2.0",
          "state": {
            "_model_module": "@jupyter-widgets/base",
            "_model_module_version": "1.2.0",
            "_model_name": "LayoutModel",
            "_view_count": null,
            "_view_module": "@jupyter-widgets/base",
            "_view_module_version": "1.2.0",
            "_view_name": "LayoutView",
            "align_content": null,
            "align_items": null,
            "align_self": null,
            "border": null,
            "bottom": null,
            "display": null,
            "flex": null,
            "flex_flow": null,
            "grid_area": null,
            "grid_auto_columns": null,
            "grid_auto_flow": null,
            "grid_auto_rows": null,
            "grid_column": null,
            "grid_gap": null,
            "grid_row": null,
            "grid_template_areas": null,
            "grid_template_columns": null,
            "grid_template_rows": null,
            "height": null,
            "justify_content": null,
            "justify_items": null,
            "left": null,
            "margin": null,
            "max_height": null,
            "max_width": null,
            "min_height": null,
            "min_width": null,
            "object_fit": null,
            "object_position": null,
            "order": null,
            "overflow": null,
            "overflow_x": null,
            "overflow_y": null,
            "padding": null,
            "right": null,
            "top": null,
            "visibility": null,
            "width": null
          }
        },
        "904fd050b860460297eaaa9931fb625e": {
          "model_module": "@jupyter-widgets/controls",
          "model_name": "DescriptionStyleModel",
          "model_module_version": "1.5.0",
          "state": {
            "_model_module": "@jupyter-widgets/controls",
            "_model_module_version": "1.5.0",
            "_model_name": "DescriptionStyleModel",
            "_view_count": null,
            "_view_module": "@jupyter-widgets/base",
            "_view_module_version": "1.2.0",
            "_view_name": "StyleView",
            "description_width": ""
          }
        }
      }
    }
  },
  "cells": [
    {
      "cell_type": "markdown",
      "source": [
        "#### 1. Transformer 등장 배경\n",
        "- RNN 계열은 긴 시퀀스를 처리할 때 순차적으로 처리하기 때문에 느림+장기 의존성 문제를 해결하지 못함.\n",
        "  - 장기 의존성(Long-term Dependency) : 은닉층의 과거 정보가 마지막까지 전달되지 못하는 현상\n",
        "\n",
        "> 2017년 구글 발표 (논문 Attention is all you need에서 나온 모델)\n",
        "> 기존의 seq2seq의 구조(LSTM 단위)인 인코더-디코더를 따르면서도, 어텐션(Attention)만으로 구현한 모델\n",
        "  - 단어 입력을 순차적으로 받는 것이 아니기 때문에 연산 속도가 빠름.(병렬연산)"
      ],
      "metadata": {
        "id": "6iYqrExw9-Ng"
      }
    },
    {
      "cell_type": "markdown",
      "source": [
        "### 2. Transformer 구조\n",
        "- Positional Encoding (위치 인코딩)\n",
        "  - Self-Attention 기반 모델은 입력 순서를 순차적으로 처리하지는 못함\n",
        "  - 토큰 간의 순서 정보를 알려주기 위해 사용 (한 문장을 병렬처리 + 각 단어 위치 인지)\n",
        "\n",
        "- Encoder Self-Attention\n",
        "  - 인코더는 입력 문장의 모든 단어 간의 관계를 계산하여, 문장 전체에서 중요한 정보를 파악\n",
        "\n",
        "- Add & Norm\n",
        "  - 출력에 원래 입력을 더하고, 값을 정규화하여 안정된 학습에 도움\n",
        "\n",
        "- Feed Forward\n",
        "  - 활성화 함수(ReLU)를 사용해 입력 처리, 비선형성을 통해 모델이 복잡한 패턴을 학습할 수 있게 만드는 완전 연결 신경망 (MLP)\n",
        "\n",
        "- Masked Decoder Self-Attention\n",
        "  - 디코더가 예측할 때 미래 단어를 참조하지 못하게 막아, 이전 단어들만을 사용해 순차적으로 예측\n",
        "\n",
        "- Encoder-Decoder Self-Attention\n",
        "  - Seq2Seq Attention 에서 발전된 형태\n",
        "  - 디코더가 인코더의 출력을 참조하여, 입력 문장과의 관계를 기반으로 더 정확한 출력을 생성"
      ],
      "metadata": {
        "id": "7dAsNlaa-W5m"
      }
    },
    {
      "cell_type": "markdown",
      "source": [
        "![image.png](data:image/png;base64,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)"
      ],
      "metadata": {
        "id": "T_3VkBEgNsv4"
      }
    },
    {
      "cell_type": "code",
      "source": [
        "from google.colab import drive\n",
        "drive.mount('/content/drive')"
      ],
      "metadata": {
        "colab": {
          "base_uri": "https://localhost:8080/"
        },
        "id": "OJuquKZT-W8g",
        "outputId": "b04192e1-e492-45c9-c82a-ee5c1fd5f315"
      },
      "execution_count": 13,
      "outputs": [
        {
          "output_type": "stream",
          "name": "stdout",
          "text": [
            "Drive already mounted at /content/drive; to attempt to forcibly remount, call drive.mount(\"/content/drive\", force_remount=True).\n"
          ]
        }
      ]
    },
    {
      "cell_type": "code",
      "source": [
        "%cd /content/drive/MyDrive/Colab Notebooks/SW엔지니어"
      ],
      "metadata": {
        "colab": {
          "base_uri": "https://localhost:8080/"
        },
        "id": "KtHQx0tj-XK1",
        "outputId": "7ea69e79-9b2f-429b-890d-2b9994f7f9b7"
      },
      "execution_count": 14,
      "outputs": [
        {
          "output_type": "stream",
          "name": "stdout",
          "text": [
            "/content/drive/MyDrive/Colab Notebooks/SW엔지니어\n"
          ]
        }
      ]
    },
    {
      "cell_type": "markdown",
      "source": [
        "### Hugging Face Transformers 라이브러리 설치하기\n",
        "- Hugging Face: 인공지능 관련 데이터셋, 모델, 테스팅 공간 등을 공유하는 커뮤니티 웹 서비스"
      ],
      "metadata": {
        "id": "IBkb6XHr-XOK"
      }
    },
    {
      "cell_type": "code",
      "source": [
        "!pip -q install transformers[torch]"
      ],
      "metadata": {
        "colab": {
          "base_uri": "https://localhost:8080/"
        },
        "id": "AGXoi4U0-XRJ",
        "outputId": "39af0b68-9d98-4056-d7cb-8a9b6248b0b9"
      },
      "execution_count": 4,
      "outputs": [
        {
          "output_type": "stream",
          "name": "stdout",
          "text": [
            "\u001b[2K   \u001b[90m━━━━━━━━━━━━━━━━━━━━━━━━━━━━━━━━━━━━━━━━\u001b[0m \u001b[32m363.4/363.4 MB\u001b[0m \u001b[31m1.3 MB/s\u001b[0m eta \u001b[36m0:00:00\u001b[0m\n",
            "\u001b[2K   \u001b[90m━━━━━━━━━━━━━━━━━━━━━━━━━━━━━━━━━━━━━━━━\u001b[0m \u001b[32m13.8/13.8 MB\u001b[0m \u001b[31m22.8 MB/s\u001b[0m eta \u001b[36m0:00:00\u001b[0m\n",
            "\u001b[2K   \u001b[90m━━━━━━━━━━━━━━━━━━━━━━━━━━━━━━━━━━━━━━━━\u001b[0m \u001b[32m24.6/24.6 MB\u001b[0m \u001b[31m20.3 MB/s\u001b[0m eta \u001b[36m0:00:00\u001b[0m\n",
            "\u001b[2K   \u001b[90m━━━━━━━━━━━━━━━━━━━━━━━━━━━━━━━━━━━━━━━━\u001b[0m \u001b[32m883.7/883.7 kB\u001b[0m \u001b[31m21.5 MB/s\u001b[0m eta \u001b[36m0:00:00\u001b[0m\n",
            "\u001b[2K   \u001b[90m━━━━━━━━━━━━━━━━━━━━━━━━━━━━━━━━━━━━━━━━\u001b[0m \u001b[32m664.8/664.8 MB\u001b[0m \u001b[31m3.0 MB/s\u001b[0m eta \u001b[36m0:00:00\u001b[0m\n",
            "\u001b[2K   \u001b[90m━━━━━━━━━━━━━━━━━━━━━━━━━━━━━━━━━━━━━━━━\u001b[0m \u001b[32m211.5/211.5 MB\u001b[0m \u001b[31m5.3 MB/s\u001b[0m eta \u001b[36m0:00:00\u001b[0m\n",
            "\u001b[2K   \u001b[90m━━━━━━━━━━━━━━━━━━━━━━━━━━━━━━━━━━━━━━━━\u001b[0m \u001b[32m56.3/56.3 MB\u001b[0m \u001b[31m10.2 MB/s\u001b[0m eta \u001b[36m0:00:00\u001b[0m\n",
            "\u001b[2K   \u001b[90m━━━━━━━━━━━━━━━━━━━━━━━━━━━━━━━━━━━━━━━━\u001b[0m \u001b[32m127.9/127.9 MB\u001b[0m \u001b[31m8.0 MB/s\u001b[0m eta \u001b[36m0:00:00\u001b[0m\n",
            "\u001b[2K   \u001b[90m━━━━━━━━━━━━━━━━━━━━━━━━━━━━━━━━━━━━━━━━\u001b[0m \u001b[32m207.5/207.5 MB\u001b[0m \u001b[31m7.0 MB/s\u001b[0m eta \u001b[36m0:00:00\u001b[0m\n",
            "\u001b[2K   \u001b[90m━━━━━━━━━━━━━━━━━━━━━━━━━━━━━━━━━━━━━━━━\u001b[0m \u001b[32m21.1/21.1 MB\u001b[0m \u001b[31m14.5 MB/s\u001b[0m eta \u001b[36m0:00:00\u001b[0m\n",
            "\u001b[?25h"
          ]
        }
      ]
    },
    {
      "cell_type": "markdown",
      "source": [
        "#### NLP(Natural Language Processing) Task 맛보기\n",
        "- 허깅페이스 트렌스포머 도큐먼트 : https://huggingface.co/learn/llm-course/ko/chapter1/3?fw=pt"
      ],
      "metadata": {
        "id": "7fQjUWWh-XUE"
      }
    },
    {
      "cell_type": "markdown",
      "source": [
        "### 1. BERT 계열 - 감성분석 (Sentiment-analysis)\n",
        "\n",
        "- Bert 계열\n",
        "  - Transformer 모델의 Encoder만 활용\n",
        "  - 입력 전체를 한 번에 보고 양방향으로 학습 (Bidirectional)\n",
        "  - 대표 모델 : BERT, ELECTRA 등\n",
        "  - 주로 문장 분류, 개체명 인식, 문장 유사도 등 전체 문장에 대한 이해를 요구하는 작업에서 사용됨\n",
        "\n",
        "- 감성분석 : 텍스트 내에서 사람의 기분, 감정, 의견 등을 예측하는 기술\n",
        "- TextClassification : 텍스트를 입력 받아 어떤 종류의 범주에 속하는지 구분하는 작업"
      ],
      "metadata": {
        "id": "5_usojxr-XXJ"
      }
    },
    {
      "cell_type": "code",
      "source": [
        "from transformers import pipeline\n",
        "# pipeline : 감성 분석, 번역, 요약 등 다양한 Task를 한 줄로 수행할 수 있게하는 고수준 함수"
      ],
      "metadata": {
        "id": "dVKoGwzR-XZ7"
      },
      "execution_count": 15,
      "outputs": []
    },
    {
      "cell_type": "markdown",
      "source": [
        "- 실습용 사전학습 Model 경로 : https://huggingface.co/daekeun-ml/koelectra-small-v3-nsmc\n",
        "- koelectra-small-v3-nsmc : 네이버 영화 리뷰 데이터 셋으로 Finetuning 된 KoElectra Model\n",
        "- daekeun-ml/ : 사용자\n",
        "\n",
        "- KoELECTRA\n",
        "  - 한국어에 특화된 ELECTRA 모델\n",
        "  - 초기 BERT에 비해 학습 효율(속도나 성능) 측면에서 유리하게 만들어짐"
      ],
      "metadata": {
        "id": "ivqJ2Dhs-Xef"
      }
    },
    {
      "cell_type": "code",
      "source": [
        "# 한국어 분류 모델 Pipeline 로드\n",
        "classifier = pipeline(\n",
        "    model = 'daekeun-ml/koelectra-small-v3-nsmc', # 사용할 사전 학습 모델 경로\n",
        "    task = 'sentiment-analysis',\n",
        "    device = 0 # GPU 사용 (CPU = -1)\n",
        ")"
      ],
      "metadata": {
        "colab": {
          "base_uri": "https://localhost:8080/"
        },
        "id": "glQBC_9l-Xhk",
        "outputId": "06f040f3-2bdb-4eb3-d655-cec6913a19af"
      },
      "execution_count": 16,
      "outputs": [
        {
          "output_type": "stream",
          "name": "stderr",
          "text": [
            "Device set to use cuda:0\n"
          ]
        }
      ]
    },
    {
      "cell_type": "markdown",
      "source": [
        "### Pipeline Task 종류"
      ],
      "metadata": {
        "id": "X6mVg1J6-XlK"
      }
    },
    {
      "cell_type": "markdown",
      "source": [
        "![image.png](data:image/png;base64,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)"
      ],
      "metadata": {
        "id": "HdZXFT5ZNfWQ"
      }
    },
    {
      "cell_type": "code",
      "source": [
        "# 예측 수행 (0 : 부정, 1 : 긍정)\n",
        "classifier('넌 정말 좋은 사람이야')"
      ],
      "metadata": {
        "colab": {
          "base_uri": "https://localhost:8080/"
        },
        "id": "cW2sk73b-XoD",
        "outputId": "bc40056d-4f95-4977-d53c-653afbc833cb"
      },
      "execution_count": 7,
      "outputs": [
        {
          "output_type": "execute_result",
          "data": {
            "text/plain": [
              "[{'label': '1', 'score': 0.9870152473449707}]"
            ]
          },
          "metadata": {},
          "execution_count": 7
        }
      ]
    },
    {
      "cell_type": "code",
      "source": [
        "classifier(['완전 재미잇는 영화','우와 재미없어요','제가 보기에는 그럭저럭 이었던 것 같아요','나는 재밌게 봤는데 다른사람들은 어떨지 모르겠네요'])"
      ],
      "metadata": {
        "colab": {
          "base_uri": "https://localhost:8080/"
        },
        "id": "GHrxJOW7-Xq9",
        "outputId": "966e8a4c-2cf0-41d4-b971-f86a1d334162"
      },
      "execution_count": 6,
      "outputs": [
        {
          "output_type": "execute_result",
          "data": {
            "text/plain": [
              "[{'label': '1', 'score': 0.9947404265403748},\n",
              " {'label': '0', 'score': 0.9995030164718628},\n",
              " {'label': '0', 'score': 0.5416658520698547},\n",
              " {'label': '1', 'score': 0.9836767911911011}]"
            ]
          },
          "metadata": {},
          "execution_count": 6
        }
      ]
    },
    {
      "cell_type": "markdown",
      "source": [
        "### 2. Seq2Seq 계열 - 문장번역(Translation)\n",
        "- Seq2Seq (Encoding -> Decoding) 구조\n",
        "  - 다양한 생성, 이해 작업에 강점을 가짐\n",
        "  - 대표 모델 : T5, BART 등\n",
        "  - 주로 제로샷 분류, 요약/번역/재작성 등에 사용"
      ],
      "metadata": {
        "id": "jAYCfUMy-Xty"
      }
    },
    {
      "cell_type": "code",
      "source": [
        "ko_to_en = pipeline(\n",
        "    model = 'Helsinki-NLP/opus-mt-ko-en',\n",
        "    task = 'translation',\n",
        "    device = 0\n",
        ")"
      ],
      "metadata": {
        "colab": {
          "base_uri": "https://localhost:8080/"
        },
        "id": "T9lyyDSd-Xwm",
        "outputId": "f0c9a131-12f6-4ff7-ac71-b8216ebcaac1"
      },
      "execution_count": 17,
      "outputs": [
        {
          "output_type": "stream",
          "name": "stderr",
          "text": [
            "Device set to use cuda:0\n"
          ]
        }
      ]
    },
    {
      "cell_type": "code",
      "source": [
        "!pip install sacremoses\n",
        "# sacremoses : 주로 텍스트 전처리(토큰화, 정규화) 품질을 높여줌"
      ],
      "metadata": {
        "colab": {
          "base_uri": "https://localhost:8080/"
        },
        "id": "wt0pXpvG-XzZ",
        "outputId": "9977c491-91c6-40da-ce47-acee5cccc57c"
      },
      "execution_count": 9,
      "outputs": [
        {
          "output_type": "stream",
          "name": "stdout",
          "text": [
            "Collecting sacremoses\n",
            "  Downloading sacremoses-0.1.1-py3-none-any.whl.metadata (8.3 kB)\n",
            "Requirement already satisfied: regex in /usr/local/lib/python3.11/dist-packages (from sacremoses) (2024.11.6)\n",
            "Requirement already satisfied: click in /usr/local/lib/python3.11/dist-packages (from sacremoses) (8.2.1)\n",
            "Requirement already satisfied: joblib in /usr/local/lib/python3.11/dist-packages (from sacremoses) (1.5.1)\n",
            "Requirement already satisfied: tqdm in /usr/local/lib/python3.11/dist-packages (from sacremoses) (4.67.1)\n",
            "Downloading sacremoses-0.1.1-py3-none-any.whl (897 kB)\n",
            "\u001b[2K   \u001b[90m━━━━━━━━━━━━━━━━━━━━━━━━━━━━━━━━━━━━━━━━\u001b[0m \u001b[32m897.5/897.5 kB\u001b[0m \u001b[31m17.3 MB/s\u001b[0m eta \u001b[36m0:00:00\u001b[0m\n",
            "\u001b[?25hInstalling collected packages: sacremoses\n",
            "Successfully installed sacremoses-0.1.1\n"
          ]
        }
      ]
    },
    {
      "cell_type": "code",
      "source": [
        "ko_to_en('와우 오늘도 힘차고 밝은 하루! 당신의 오늘과 내일이 아주 좋은 일들만 일어나길 기원합니다')"
      ],
      "metadata": {
        "colab": {
          "base_uri": "https://localhost:8080/"
        },
        "id": "SfD_R32T-X25",
        "outputId": "86906829-a366-4890-9313-20abf19bd5c9"
      },
      "execution_count": 10,
      "outputs": [
        {
          "output_type": "execute_result",
          "data": {
            "text/plain": [
              "[{'translation_text': 'I hope that your day and tomorrow will be just the best thing that can happen.'}]"
            ]
          },
          "metadata": {},
          "execution_count": 10
        }
      ]
    },
    {
      "cell_type": "code",
      "source": [
        "ko_to_en('얼른 집에 가서 스타듀밸리를 해야겠오! 바로 6시가 되기만 해봐라!')"
      ],
      "metadata": {
        "colab": {
          "base_uri": "https://localhost:8080/"
        },
        "id": "7oBHItDQgryD",
        "outputId": "dc4a1332-a06e-4ec0-a81b-1f2dca612701"
      },
      "execution_count": 11,
      "outputs": [
        {
          "output_type": "execute_result",
          "data": {
            "text/plain": [
              "[{'translation_text': \"I'm going home and I'm going to play Stardue Valley.\"}]"
            ]
          },
          "metadata": {},
          "execution_count": 11
        }
      ]
    },
    {
      "cell_type": "code",
      "source": [
        "ko_to_en('집에 가고 싶다. 6시 칼퇴')\n",
        "# 모델이 학습하지 않은 텍스트는 출력되지 않는다."
      ],
      "metadata": {
        "colab": {
          "base_uri": "https://localhost:8080/"
        },
        "id": "uA2S_EfGgtI9",
        "outputId": "30b8b7ec-871d-4f3d-d76b-6449ab2d9cef"
      },
      "execution_count": 12,
      "outputs": [
        {
          "output_type": "execute_result",
          "data": {
            "text/plain": [
              "[{'translation_text': 'I want to go home.'}]"
            ]
          },
          "metadata": {},
          "execution_count": 12
        }
      ]
    },
    {
      "cell_type": "markdown",
      "source": [
        "### 3. Zero-shot Classification (제로샷 분류)\n",
        "- 사전 훈련된 NLI 모델 (Natural Language Inference)를 이용해 새로운 라벨(클래스)에도 별도 학습 없이 분류를 수행하는 Task\n",
        "- 텍스트에 레이블을 다는 것은 시간이 많이 소요되고 도메인 지식이 필요하기 때문에 이러한 task는 실제 프로젝트에서 아주 흔한 상황\n",
        "   - 입력 문장과 후보 라벨(프롬프트로 구성) 간의 연관성을 점수화 하여 가장 적합한 라벨 예측\n",
        "   - 텍스트 마이닝(ex. 추상적인 Topic을 발견)에서도 활용\n",
        "\n",
        "- 장점\n",
        "  - 학습데이터가 없거나 부족한 도메인에서도 즉시 분류 가능\n",
        "  - 유연하게 라벨을 추가/변경 가능\n",
        "\n",
        "- 단점\n",
        "  - NLI모델이 다루지 못하는 복잡한 Tesk에서는 성능 저하\n",
        "  - 라벨 문장(프롬프트) 설계에 따라 결과가 민감하게 변동됨"
      ],
      "metadata": {
        "id": "b4Jc7UwKgtGq"
      }
    },
    {
      "cell_type": "code",
      "source": [
        "  # RoBERTa Model 로드\n",
        "  # xlm-roberta-large-xnli : 한국어 포함 총 100여개 언어 지원, 가장 널리 쓰이는 제로샷 분류용 모델\n",
        "classifier = pipeline(\n",
        "    model = 'joeddav/xlm-roberta-large-xnli',\n",
        "    task = 'zero-shot-classification',\n",
        "    device = 0\n",
        ")"
      ],
      "metadata": {
        "colab": {
          "base_uri": "https://localhost:8080/",
          "height": 270,
          "referenced_widgets": [
            "f2cf2d6b20304409a64b92e93d6a62fe",
            "602c5e56acc440dea143cec547344410",
            "65d145ce95444b7b8b3711bd17791f9d",
            "77d29ef24a64459e85e9b5e0532a11f7",
            "850698aba87544bb8a304f06677aa02c",
            "b1020f33c246406087989f880fbd8bb9",
            "305d87116dd047debb0fdcd86d0c85be",
            "34e88727c6bd4cf7848e61514002c2cc",
            "e22aa215e9fc4925923d3f696736d4a9",
            "3f09c7d4af0244cba514fe239dff3208",
            "7edf0feccb9147c4ba5961f28696b9de",
            "4689ef92771c48288ea3d75700a44362",
            "db50c0d1c6224903803a63de2067bf90",
            "a658836f50054b06a90eb7361794f3d9",
            "7d99ba2fd27b4105ba270d4d0c741832",
            "e037cc5a9e2f4516a680fe2ea8c84845",
            "3473bdd013dc434d9625cfbde523f268",
            "fa36b9f608a5465e92b2f175aa26f394",
            "b614b839fcbb40ba980900794b80de73",
            "e0da7aa872344ea1bbedaf4484d880f1",
            "3d2377825ae84f3cb767a24e981469bd",
            "740919ceba714e5e86202c587ac50169",
            "50e16b5333b44a6194a16227d26e3026",
            "0857cce1a51c44868b2b74a67f738736",
            "f0cbc605d721452a80b0b228ac85eaae",
            "3a7d6b5462284865aa8bc60a8218f51a",
            "0e33837345754a4e8f5230f65a7c1cff",
            "64374ebd696d4fdda036051327544f1f",
            "799065c1b80e414b9505a987bf13c506",
            "a2764639dc96413f935f5b0340d06eae",
            "7c31faa1c5474a41a082a8605416af9b",
            "5826834fe29d406f806d1930b8a62e8a",
            "bcf7f8a6f142453581837d5332c4c29a",
            "1f63f71a74ff4b9d83205db5082ae7a5",
            "fa5a98ab495841c882967c642e2b5bce",
            "84eb9ff6d6b6475384b4116f1795bd47",
            "5d576d87811a44bab9006e91b32a7d1f",
            "34ecdd50681f4edb897ff3780ff13cf7",
            "e330e86da9b44744902b5a1682459a13",
            "42fea0d4a9934b3c9c98cdaf7b662135",
            "b8af49f5788d4812aa61448f442176b9",
            "b7e2d5904ac74231bb30ea10fe090f8f",
            "9a9656b9cab540dcb4bd93034c5504b1",
            "d222b53a6de64c8a9b35c10825845b78",
            "2a0d609eccb64ea68521bd0133ef255b",
            "8a6f007e4f9249f4a207e96d431a1995",
            "b62692d4a75746da94d1d91a72d33d31",
            "7a38752b10dc43f594bffd826b1ae241",
            "e8a7f6e94503415fb1ae64d1956972a0",
            "5616617a8cf04c10abb4492a38d42dcf",
            "33132493e058491cb36ca34032f5bff7",
            "50f9dccb66a646eaae7521bd2b73bbb4",
            "619bf7f840e740ce9f99d8c3b51edcd8",
            "6729b150319b410491c36e070fb6f503",
            "e9fc7849ead548e7b696328bddbb5a79"
          ]
        },
        "id": "KYjxO6FSgtEM",
        "outputId": "6d57808b-f1bf-4bbf-c057-200d78a5350a"
      },
      "execution_count": 18,
      "outputs": [
        {
          "output_type": "display_data",
          "data": {
            "text/plain": [
              "config.json:   0%|          | 0.00/734 [00:00<?, ?B/s]"
            ],
            "application/vnd.jupyter.widget-view+json": {
              "version_major": 2,
              "version_minor": 0,
              "model_id": "f2cf2d6b20304409a64b92e93d6a62fe"
            }
          },
          "metadata": {}
        },
        {
          "output_type": "display_data",
          "data": {
            "text/plain": [
              "model.safetensors:   0%|          | 0.00/2.24G [00:00<?, ?B/s]"
            ],
            "application/vnd.jupyter.widget-view+json": {
              "version_major": 2,
              "version_minor": 0,
              "model_id": "4689ef92771c48288ea3d75700a44362"
            }
          },
          "metadata": {}
        },
        {
          "output_type": "stream",
          "name": "stderr",
          "text": [
            "Some weights of the model checkpoint at joeddav/xlm-roberta-large-xnli were not used when initializing XLMRobertaForSequenceClassification: ['roberta.pooler.dense.bias', 'roberta.pooler.dense.weight']\n",
            "- This IS expected if you are initializing XLMRobertaForSequenceClassification from the checkpoint of a model trained on another task or with another architecture (e.g. initializing a BertForSequenceClassification model from a BertForPreTraining model).\n",
            "- This IS NOT expected if you are initializing XLMRobertaForSequenceClassification from the checkpoint of a model that you expect to be exactly identical (initializing a BertForSequenceClassification model from a BertForSequenceClassification model).\n"
          ]
        },
        {
          "output_type": "display_data",
          "data": {
            "text/plain": [
              "tokenizer_config.json:   0%|          | 0.00/25.0 [00:00<?, ?B/s]"
            ],
            "application/vnd.jupyter.widget-view+json": {
              "version_major": 2,
              "version_minor": 0,
              "model_id": "50e16b5333b44a6194a16227d26e3026"
            }
          },
          "metadata": {}
        },
        {
          "output_type": "display_data",
          "data": {
            "text/plain": [
              "sentencepiece.bpe.model:   0%|          | 0.00/5.07M [00:00<?, ?B/s]"
            ],
            "application/vnd.jupyter.widget-view+json": {
              "version_major": 2,
              "version_minor": 0,
              "model_id": "1f63f71a74ff4b9d83205db5082ae7a5"
            }
          },
          "metadata": {}
        },
        {
          "output_type": "display_data",
          "data": {
            "text/plain": [
              "special_tokens_map.json:   0%|          | 0.00/150 [00:00<?, ?B/s]"
            ],
            "application/vnd.jupyter.widget-view+json": {
              "version_major": 2,
              "version_minor": 0,
              "model_id": "2a0d609eccb64ea68521bd0133ef255b"
            }
          },
          "metadata": {}
        },
        {
          "output_type": "stream",
          "name": "stderr",
          "text": [
            "Device set to use cuda:0\n"
          ]
        }
      ]
    },
    {
      "cell_type": "code",
      "source": [
        "# 분류할 문장 정의\n",
        "sequences = ['제가 그렇게 오랜 인생 많은 풍파를 겪은 인생은 아니지만 이 드라마의 휴머니즘 만큼은 깊게 느낄 수 있을 것 같습니다. 배우님들의 연기력은 어느 하나 나무랄 데가 없어 어느 시점 부터는 드라마가 아닌 하나의 다큐멘터리, 한 사람의 일생을 들여다보는 느낌이 들 정도로 몰입감이 뛰어났고, 때문에 너무 편안하게, 너무 편견없이 몰입 할 수 있는 훌륭한 작품을 피부로 느꼈습니다. 모든 배우 한 분 한 분 모두 드라마에 얼룩 되지 않고 잘 어우러져 편안함은 물론 드라마의 흐름을 너무나 잘 이끌어 주어 몰입하여 시청 하였지만 그 중 단연 염혜란님의 연기는 정말 감탄과 경이로움을 금치 못할 정도의 경지에 이르르지 않았나 느껴지네요 연출, 스토리, 연기 이외의 모든 요소들이 너무나도 잘 어우러져 제 짧은 인생 최고의 드라마를 이번에 접하게 된 것에 영광을 누립니다. 억지 멜로가 아닌 억지 감동이 아닌 사람이라면 인생에 녹아있을 이런 이야기는 언제나 두 팔 벌려 환영합니다. 감사합니다.',\n",
        "             '안녕하세요 저는 건강이 좋치않아서 태국에서 하루 하루 죽을날만 기다리고 있는 50대 중반의 남자입니다. 정말 마지막까지 잘보았습니다. 드라마를 마지막까지 보면서 이렇게 많은 눈물을 흘려보기는 처음입니다. 배우들의 한 대사 한 대사가 제가 이제까지 살아온 55년의 세월들을 하염없이 초라하고 부끄럽게 만드는데 감동과 부끄러움의 감정이 섞기어서 한없이 울기만 하였습니다. 사실 이제까지 살아온 제삶이 극중에서 (부상길)최 대훈님 삶이라서요. 아무튼 김 원석 감독님. 임 상춘 작가님. 박 해준 박 보금님.문 소리 아이유님. 이렇게 좋은 드라마를 죽기전 두번다시 볼수있을지 없을지 모르지만 제자신을 다시한번 돌아볼수있게 하여준 (폭싹 속았수다)드라마에 정말 감사합니다... 추신: 고) 강 명주님     삼가 고인의 명복을 빕니다...',\n",
        "             '윤석열 전 대통령의 내란과 외환 혐의 등을 수사하는 내란 특검이 윤 전 대통령의 출국을 금지한 것으로 25일 확인됐다. 본지 취재를 종합하면, 내란 특검은 경찰과 검찰 비상계엄 특별수사본부로부터 윤 전 대통령 관련 사건을 넘겨 받은 뒤 윤 전 대통령의 출국금지를 법무부에 신청했다. 앞서 검찰과 고위공직자범죄수사처(공수처)는 지난해 12월 윤 전 대통령에 대해 출국금지를 신청했고, 법무부는 이를 승인한 바 있다. 이후 윤 전 대통령은 지난 1월 26일 내란 우두머리 혐의로 구속 기소됐다. 그러나 서울중앙지법 형사25부(재판장 지귀연)가 지난 3월 윤 전 대통령의 구속을 취소하자, 검찰은 출국금지를 다시 신청해 승인 받았다. 구속 상태에서는 출국금지를 할 이유가 없지만, 윤 전 대통령이 석방되자 원활한 재판 진행을 위해 출국금지 조치를 했다는 것이다. 이후 특검이 검·경으로부터 윤 전 대통령 사건을 넘겨 받으면서 다시 출국금지 조치를 했다고 한다. 통상 수사기관은 수사 중인 피의자가 해외로 도피하지 못하도록 출국금지 조치를 한다. 1개월 단위로 출국금지를 연장할 수 있다. 또 형사재판이 진행 중인 피고인의 경우에도 최대 6개월까지 출국금지 조치를 할 수 있다.']"
      ],
      "metadata": {
        "id": "E1pNoDmytIHs"
      },
      "execution_count": 19,
      "outputs": []
    },
    {
      "cell_type": "code",
      "source": [
        "# 후보 라벨(토픽) 목록\n",
        "candidate_labels = ['드라마/영화', '정치', '사회/기술', '경제', '음식', '스포츠']"
      ],
      "metadata": {
        "id": "CMqSy3zKgtBz"
      },
      "execution_count": 22,
      "outputs": []
    },
    {
      "cell_type": "code",
      "source": [
        "# 제로샷 분류 수행\n",
        "results = classifier(\n",
        "    sequences,         # 분류할 문장 리스트\n",
        "    candidate_labels,   # 예측할 토픽(레이블) 리스트\n",
        "    multi_label = True  # True 설정 : 다중 라벨, False : 단일 라벨\n",
        ")"
      ],
      "metadata": {
        "id": "IuRl4JH-gs_N"
      },
      "execution_count": 23,
      "outputs": []
    },
    {
      "cell_type": "code",
      "source": [
        "results[0].keys()"
      ],
      "metadata": {
        "colab": {
          "base_uri": "https://localhost:8080/"
        },
        "id": "RRcBZ6iGgs8z",
        "outputId": "54a11c44-7f43-4dc0-c083-1518601fd76d"
      },
      "execution_count": 26,
      "outputs": [
        {
          "output_type": "execute_result",
          "data": {
            "text/plain": [
              "dict_keys(['sequence', 'labels', 'scores'])"
            ]
          },
          "metadata": {},
          "execution_count": 26
        }
      ]
    },
    {
      "cell_type": "code",
      "source": [
        "# 결과 출력\n",
        "for re in results:\n",
        "  print(f\"입력문장 : {re['sequence']}\")\n",
        "  print(re['labels'][0]) # labels의 가장 높은 확신도를 가진 라벨\n",
        "  print(re['scores'][0],'\\n') # scores의 가장 높은 확신도를 가진 라벨"
      ],
      "metadata": {
        "colab": {
          "base_uri": "https://localhost:8080/"
        },
        "id": "JCqgDMNWgs6T",
        "outputId": "80ed8543-30a2-4952-a667-862e1b016b60"
      },
      "execution_count": 30,
      "outputs": [
        {
          "output_type": "stream",
          "name": "stdout",
          "text": [
            "입력문장 : 제가 그렇게 오랜 인생 많은 풍파를 겪은 인생은 아니지만 이 드라마의 휴머니즘 만큼은 깊게 느낄 수 있을 것 같습니다. 배우님들의 연기력은 어느 하나 나무랄 데가 없어 어느 시점 부터는 드라마가 아닌 하나의 다큐멘터리, 한 사람의 일생을 들여다보는 느낌이 들 정도로 몰입감이 뛰어났고, 때문에 너무 편안하게, 너무 편견없이 몰입 할 수 있는 훌륭한 작품을 피부로 느꼈습니다. 모든 배우 한 분 한 분 모두 드라마에 얼룩 되지 않고 잘 어우러져 편안함은 물론 드라마의 흐름을 너무나 잘 이끌어 주어 몰입하여 시청 하였지만 그 중 단연 염혜란님의 연기는 정말 감탄과 경이로움을 금치 못할 정도의 경지에 이르르지 않았나 느껴지네요 연출, 스토리, 연기 이외의 모든 요소들이 너무나도 잘 어우러져 제 짧은 인생 최고의 드라마를 이번에 접하게 된 것에 영광을 누립니다. 억지 멜로가 아닌 억지 감동이 아닌 사람이라면 인생에 녹아있을 이런 이야기는 언제나 두 팔 벌려 환영합니다. 감사합니다.\n",
            "드라마/영화\n",
            "0.9790155291557312 \n",
            "\n",
            "입력문장 : 안녕하세요 저는 건강이 좋치않아서 태국에서 하루 하루 죽을날만 기다리고 있는 50대 중반의 남자입니다. 정말 마지막까지 잘보았습니다. 드라마를 마지막까지 보면서 이렇게 많은 눈물을 흘려보기는 처음입니다. 배우들의 한 대사 한 대사가 제가 이제까지 살아온 55년의 세월들을 하염없이 초라하고 부끄럽게 만드는데 감동과 부끄러움의 감정이 섞기어서 한없이 울기만 하였습니다. 사실 이제까지 살아온 제삶이 극중에서 (부상길)최 대훈님 삶이라서요. 아무튼 김 원석 감독님. 임 상춘 작가님. 박 해준 박 보금님.문 소리 아이유님. 이렇게 좋은 드라마를 죽기전 두번다시 볼수있을지 없을지 모르지만 제자신을 다시한번 돌아볼수있게 하여준 (폭싹 속았수다)드라마에 정말 감사합니다... 추신: 고) 강 명주님     삼가 고인의 명복을 빕니다...\n",
            "드라마/영화\n",
            "0.9852095246315002 \n",
            "\n",
            "입력문장 : 윤석열 전 대통령의 내란과 외환 혐의 등을 수사하는 내란 특검이 윤 전 대통령의 출국을 금지한 것으로 25일 확인됐다. 본지 취재를 종합하면, 내란 특검은 경찰과 검찰 비상계엄 특별수사본부로부터 윤 전 대통령 관련 사건을 넘겨 받은 뒤 윤 전 대통령의 출국금지를 법무부에 신청했다. 앞서 검찰과 고위공직자범죄수사처(공수처)는 지난해 12월 윤 전 대통령에 대해 출국금지를 신청했고, 법무부는 이를 승인한 바 있다. 이후 윤 전 대통령은 지난 1월 26일 내란 우두머리 혐의로 구속 기소됐다. 그러나 서울중앙지법 형사25부(재판장 지귀연)가 지난 3월 윤 전 대통령의 구속을 취소하자, 검찰은 출국금지를 다시 신청해 승인 받았다. 구속 상태에서는 출국금지를 할 이유가 없지만, 윤 전 대통령이 석방되자 원활한 재판 진행을 위해 출국금지 조치를 했다는 것이다. 이후 특검이 검·경으로부터 윤 전 대통령 사건을 넘겨 받으면서 다시 출국금지 조치를 했다고 한다. 통상 수사기관은 수사 중인 피의자가 해외로 도피하지 못하도록 출국금지 조치를 한다. 1개월 단위로 출국금지를 연장할 수 있다. 또 형사재판이 진행 중인 피고인의 경우에도 최대 6개월까지 출국금지 조치를 할 수 있다.\n",
            "정치\n",
            "0.8758484125137329 \n",
            "\n"
          ]
        }
      ]
    },
    {
      "cell_type": "markdown",
      "source": [
        "- 파이프라인 활용 : 토크나이징 -> 모델 예측 -> 결과 해석의 과정을 한 번에 처리 가능\n",
        "- 단점 : 커스터마이징(ex. FineTuning 등), 배치, 학습 불가\n",
        "\n",
        "- 직접 모델 호출 : 세부 제어 가능, 커스터마이징 가능\n",
        "- 단점 : 코드 작성량 증가, 전처리 직접 구현하는 비용 필요"
      ],
      "metadata": {
        "id": "zD5gI6ff0g0d"
      }
    },
    {
      "cell_type": "markdown",
      "source": [
        "### 4. 직접 모델 로드\n",
        "- 토크나이저 koElectra 모델 로드\n",
        "- 인코딩 된 입력을 모델에 전달\n",
        "\n",
        "- koElectra 사전학습 모델\n",
        "  - https://huggingface.co/monologg/koelectra-small-finetuned-nsmc\n",
        "  - 깃헙 링크 : https://github.com/monologg/KoELECTRA\n",
        "  - monologg 팀 (한국어 NLP 엔지니어팀). 다양한 크기('base', 'small'), 버전으로 공개\n",
        "  - 이진분류 모델"
      ],
      "metadata": {
        "id": "5C9pjPFigs3a"
      }
    },
    {
      "cell_type": "code",
      "source": [
        "pipe = pipeline('text-classification', model = 'monologg/koelectra-small-finetuned-nsmc')"
      ],
      "metadata": {
        "colab": {
          "base_uri": "https://localhost:8080/",
          "height": 195,
          "referenced_widgets": [
            "b3ab9ad74a2e4f4e99e7395a8837c552",
            "8babe9b885ca40dabc53cab81e1d3d5c",
            "22cdf66b0fa24bcc8d240fcb2fec5acb",
            "65a4636210a64290bb64f2e4ef7f381c",
            "a3925ebeef2d4fb6b59f53783b275e69",
            "973e66c7c36f4a71aad0535313ea601f",
            "d8d2800b1f9949c98bd71391c7a7fd75",
            "e6dc5181c0684b5588da7d18af95d61f",
            "78337373b72e46e28f8d146d180abe5a",
            "154cdcc304b7413a8412b85374a97617",
            "d412e67fa851468b90b7e2508b51b824",
            "a8e610bc62024c5a9b260f92c239f1a5",
            "f71d14a06a6a4396ab2f5ca277835cd3",
            "99f3cbfe506242368638aa96b7506353",
            "ce2cfbd8b2ad477aa4a3e0a9ffed341c",
            "58121635e63040ec9e57ebd2278a5cef",
            "3cb30993775b43e79bbb2f5ff8baff3c",
            "15fc19c7329e485a801086d574abac44",
            "6d26f739680848c5a3911f8a6526b1ea",
            "7ef47b325f694c3f941bf1dfeae2e17f",
            "c252a425ca514b32978292e02a773ec5",
            "1a67291024f94130a99b74cc9ecd7439",
            "cb4ba04ed43a43ebafd051ce3c504c86",
            "d67753b424e14f50b92f9c5870c8d4dd",
            "f72b502a317d498d87e407a44744c10f",
            "03d9588bbfe04c598e170fb5a970adb2",
            "7c1c34c811d04b499229ff87e8c3e331",
            "4a5231ff9a34481b87fa1ed283a2c7ea",
            "ec967108b9f5480c8910015cf78dcd8b",
            "229b9aad0d6a41f281e0809c1be2a1b9",
            "cc3e372a624849a687297c1c15988add",
            "e2e902c1b95642bda2030018c60964fe",
            "f9ab5baf898b44d18d71a96adfddd5f7",
            "1890a0a8354541f391ef649c565628bc",
            "79754be66d1f4538aa84c0c995581d60",
            "8a48215c6a354a95be12f94f0cad123a",
            "cdcaa30ffe9f43549a6b7f85efa18c6f",
            "f45d967532e0414390f373213a811027",
            "9413f5780f90417ebbfd6749b15325d4",
            "8a1054cd57d64ef8bf28bb1ee88fc804",
            "b2e9aaad1b29442a9cb2ac4b55015436",
            "327ca0795dc944c6a53f44bfdfb4e0fd",
            "a2a03e26f01046939a5bc1323cb7a599",
            "7a4e2af90aa245c1866a35f141ff9c85",
            "e40a7dc764d643e1878ccc7e1eaba7df",
            "72883729dd784b579d521579dee9b33e",
            "1207223ea22843dc92e33f1ff0fe4363",
            "d894934d028d4dc78630721aa46743f1",
            "f76e127b0134494693d4e191a0f4f993",
            "3bd9db2f1a3440d4afbf88389e401c11",
            "3bd2cc0a2c594ac4bbc0c88cc94d1144",
            "56ad1e9be461414e9ab53acdbbed176e",
            "107831a206e84eedbd35afcb1ff1bd01",
            "5b88ffd57ffd4404badb55fd1a42a74a",
            "904fd050b860460297eaaa9931fb625e"
          ]
        },
        "id": "ZkMW-iWags06",
        "outputId": "3664bb0b-0e2a-42d4-c4ab-df807000dd73"
      },
      "execution_count": 31,
      "outputs": [
        {
          "output_type": "display_data",
          "data": {
            "text/plain": [
              "config.json:   0%|          | 0.00/756 [00:00<?, ?B/s]"
            ],
            "application/vnd.jupyter.widget-view+json": {
              "version_major": 2,
              "version_minor": 0,
              "model_id": "b3ab9ad74a2e4f4e99e7395a8837c552"
            }
          },
          "metadata": {}
        },
        {
          "output_type": "display_data",
          "data": {
            "text/plain": [
              "model.safetensors:   0%|          | 0.00/55.1M [00:00<?, ?B/s]"
            ],
            "application/vnd.jupyter.widget-view+json": {
              "version_major": 2,
              "version_minor": 0,
              "model_id": "a8e610bc62024c5a9b260f92c239f1a5"
            }
          },
          "metadata": {}
        },
        {
          "output_type": "display_data",
          "data": {
            "text/plain": [
              "tokenizer_config.json:   0%|          | 0.00/102 [00:00<?, ?B/s]"
            ],
            "application/vnd.jupyter.widget-view+json": {
              "version_major": 2,
              "version_minor": 0,
              "model_id": "cb4ba04ed43a43ebafd051ce3c504c86"
            }
          },
          "metadata": {}
        },
        {
          "output_type": "display_data",
          "data": {
            "text/plain": [
              "vocab.txt:   0%|          | 0.00/247k [00:00<?, ?B/s]"
            ],
            "application/vnd.jupyter.widget-view+json": {
              "version_major": 2,
              "version_minor": 0,
              "model_id": "1890a0a8354541f391ef649c565628bc"
            }
          },
          "metadata": {}
        },
        {
          "output_type": "display_data",
          "data": {
            "text/plain": [
              "special_tokens_map.json:   0%|          | 0.00/112 [00:00<?, ?B/s]"
            ],
            "application/vnd.jupyter.widget-view+json": {
              "version_major": 2,
              "version_minor": 0,
              "model_id": "e40a7dc764d643e1878ccc7e1eaba7df"
            }
          },
          "metadata": {}
        },
        {
          "output_type": "stream",
          "name": "stderr",
          "text": [
            "Device set to use cuda:0\n"
          ]
        }
      ]
    },
    {
      "cell_type": "code",
      "source": [
        "# 예시 문장\n",
        "sentence = '살다가 지칠 때 문득 생각날 것 같은 드라마'\n",
        "pipe(sentence)"
      ],
      "metadata": {
        "colab": {
          "base_uri": "https://localhost:8080/"
        },
        "id": "VLJtz4W1gsyK",
        "outputId": "e2a2f79f-7b7d-437e-e3ef-6018ef68d226"
      },
      "execution_count": 33,
      "outputs": [
        {
          "output_type": "execute_result",
          "data": {
            "text/plain": [
              "[{'label': 'positive', 'score': 0.9557926654815674}]"
            ]
          },
          "metadata": {},
          "execution_count": 33
        }
      ]
    },
    {
      "cell_type": "markdown",
      "source": [
        "4.1 토크나이저, koElectra 모델 로드"
      ],
      "metadata": {
        "id": "YhKYEDyqgsvq"
      }
    },
    {
      "cell_type": "code",
      "source": [
        "# 모델 직접 로드\n",
        "from transformers import AutoTokenizer, AutoModelForSequenceClassification\n",
        "# AutoTokenizer : 다양한 사전학습 토크나이저를 자동으로 로드해주는 클래스\n",
        "# AutoModelForSequenceClassification : 시퀀스 분류용 모델 자동 로드 클래스\n",
        "\n",
        "tokenizer = AutoTokenizer.from_pretrained('monologg/koelectra-small-finetuned-nsmc')\n",
        "model = AutoModelForSequenceClassification.from_pretrained('monologg/koelectra-small-finetuned-nsmc')"
      ],
      "metadata": {
        "id": "9pGiLVQwgssy"
      },
      "execution_count": 36,
      "outputs": []
    },
    {
      "cell_type": "code",
      "source": [],
      "metadata": {
        "id": "5aOUwW7_gsqK"
      },
      "execution_count": null,
      "outputs": []
    },
    {
      "cell_type": "code",
      "source": [],
      "metadata": {
        "id": "FZcNgF2YgsnS"
      },
      "execution_count": null,
      "outputs": []
    },
    {
      "cell_type": "code",
      "source": [],
      "metadata": {
        "id": "fhSxSd1ngskq"
      },
      "execution_count": null,
      "outputs": []
    },
    {
      "cell_type": "code",
      "source": [],
      "metadata": {
        "id": "xxwiJuS1gsiC"
      },
      "execution_count": null,
      "outputs": []
    },
    {
      "cell_type": "code",
      "source": [],
      "metadata": {
        "id": "YEWe2KdEgsfi"
      },
      "execution_count": null,
      "outputs": []
    },
    {
      "cell_type": "code",
      "source": [],
      "metadata": {
        "id": "2PUM2Qa9gsc6"
      },
      "execution_count": null,
      "outputs": []
    },
    {
      "cell_type": "code",
      "source": [],
      "metadata": {
        "id": "AJ7m-461gsaC"
      },
      "execution_count": null,
      "outputs": []
    }
  ]
}