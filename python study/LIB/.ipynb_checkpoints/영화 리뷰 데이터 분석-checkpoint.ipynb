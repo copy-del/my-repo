{
 "cells": [
  {
   "cell_type": "markdown",
   "id": "13bbe348-35b8-4006-88ca-54972466633b",
   "metadata": {},
   "source": [
    "### 어떤 영화가 좋은 평점을 받았는지 분석"
   ]
  },
  {
   "cell_type": "code",
   "execution_count": 1,
   "id": "d924ffee-f7e6-4207-93f7-c0da5960531c",
   "metadata": {},
   "outputs": [],
   "source": [
    "import numpy as np"
   ]
  },
  {
   "cell_type": "markdown",
   "id": "6f6994dd-0f0f-4250-95d9-0981c78adc0e",
   "metadata": {},
   "source": [
    "#### 1. 데이터 불러오기"
   ]
  },
  {
   "cell_type": "code",
   "execution_count": 10,
   "id": "5067466c-f448-4ccb-959a-d2e534f3be1a",
   "metadata": {},
   "outputs": [
    {
     "data": {
      "text/plain": [
       "array([[        1,      1193,         5, 978300760],\n",
       "       [        1,       661,         3, 978302109],\n",
       "       [        1,       914,         3, 978301968],\n",
       "       ...,\n",
       "       [     6040,       562,         5, 956704746],\n",
       "       [     6040,      1096,         4, 956715648],\n",
       "       [     6040,      1097,         4, 956715569]], dtype=int64)"
      ]
     },
     "execution_count": 10,
     "metadata": {},
     "output_type": "execute_result"
    }
   ],
   "source": [
    "# genfromtxt\n",
    "# np.genfromtxt('파일경로', delimiter = '구분자::', dtype = 데이터 타입)\n",
    "\n",
    "movie = np.genfromtxt('data/ratings.dat', delimiter ='::', dtype =np.int64)\n",
    "\n",
    "movie"
   ]
  },
  {
   "cell_type": "code",
   "execution_count": 16,
   "id": "e8908c04-9fa5-4b89-b9fe-6ffa1f7bd6dc",
   "metadata": {},
   "outputs": [],
   "source": [
    "# 데이터 저장\n",
    "# np.savetxt('파일경로',데이터,delimiter='구분자',fmf='자료형')\n",
    "\n",
    "np.savetxt('data/temp.txt',movie,delimiter=':',fmt='%d')"
   ]
  },
  {
   "cell_type": "markdown",
   "id": "1474f024-9fa3-475f-92e2-63aad077036a",
   "metadata": {},
   "source": [
    "### 1. 각 열\n",
    "- 0번 인덱스 열 : 사용자의 id\n",
    "- 1번 인덱스 열 : 영화의 id\n",
    "- 2번 인덱스 열 : 영화의 평점\n",
    "- 3번 인덱스 열 : 리뷰 입력 시간"
   ]
  },
  {
   "cell_type": "markdown",
   "id": "46f81c4f-9ea8-4fb2-b4eb-de904608907c",
   "metadata": {},
   "source": [
    "### 2. 데이터의 속성 확인\n",
    "- 배열 형태\n",
    "- 배열 차원 수\n",
    "- 배열 전체 요소 수"
   ]
  },
  {
   "cell_type": "code",
   "execution_count": 20,
   "id": "195f7928-a1eb-48b5-9652-1e16eef10935",
   "metadata": {},
   "outputs": [
    {
     "name": "stdout",
     "output_type": "stream",
     "text": [
      "(1000209, 4)\n",
      "2\n",
      "4000836\n"
     ]
    }
   ],
   "source": [
    "print(movie.shape)\n",
    "print(movie.ndim)\n",
    "print(movie.size)"
   ]
  },
  {
   "cell_type": "markdown",
   "id": "2d339d26-5c58-4122-8a70-f6e81956af71",
   "metadata": {},
   "source": [
    "### 3. 전체 영화들의 평점의 평균 구하기"
   ]
  },
  {
   "cell_type": "code",
   "execution_count": 24,
   "id": "d0a999b7-cb88-42fc-b5bd-c0627e5a802b",
   "metadata": {},
   "outputs": [
    {
     "data": {
      "text/plain": [
       "array([[        1,      1193,         5, 978300760],\n",
       "       [        1,       661,         3, 978302109],\n",
       "       [        1,       914,         3, 978301968],\n",
       "       ...,\n",
       "       [     6040,       562,         5, 956704746],\n",
       "       [     6040,      1096,         4, 956715648],\n",
       "       [     6040,      1097,         4, 956715569]], dtype=int64)"
      ]
     },
     "execution_count": 24,
     "metadata": {},
     "output_type": "execute_result"
    }
   ],
   "source": [
    "movie"
   ]
  },
  {
   "cell_type": "code",
   "execution_count": 32,
   "id": "9fb53d56-80da-442a-a339-85ef02818695",
   "metadata": {},
   "outputs": [
    {
     "data": {
      "text/plain": [
       "array([5, 3, 3, ..., 5, 4, 4], dtype=int64)"
      ]
     },
     "execution_count": 32,
     "metadata": {},
     "output_type": "execute_result"
    }
   ],
   "source": [
    "# 전체 영화들의 평점에 접근\n",
    "# 2차원 배열에서의 데이터 접근 [ 행의 범위 , 열의 범위 ]\n",
    "ratings = movie[:,2]\n",
    "ratings"
   ]
  },
  {
   "cell_type": "code",
   "execution_count": 36,
   "id": "b439f79e-f5d4-4c80-a7f3-f3dca4fa0860",
   "metadata": {},
   "outputs": [
    {
     "data": {
      "text/plain": [
       "3.581564453029317"
      ]
     },
     "execution_count": 36,
     "metadata": {},
     "output_type": "execute_result"
    }
   ],
   "source": [
    "# 전체 영화들의 평점의 평균\n",
    "ratings.mean()"
   ]
  },
  {
   "cell_type": "code",
   "execution_count": 38,
   "id": "a214ee1a-d4cd-406a-851e-a609dce6c713",
   "metadata": {},
   "outputs": [
    {
     "data": {
      "text/plain": [
       "3.581564453029317"
      ]
     },
     "execution_count": 38,
     "metadata": {},
     "output_type": "execute_result"
    }
   ],
   "source": [
    "np.mean(ratings)"
   ]
  },
  {
   "cell_type": "code",
   "execution_count": 40,
   "id": "d5cfaa25-fa8d-442f-b1be-3856320f5786",
   "metadata": {},
   "outputs": [
    {
     "data": {
      "text/plain": [
       "3.58"
      ]
     },
     "execution_count": 40,
     "metadata": {},
     "output_type": "execute_result"
    }
   ],
   "source": [
    "round(ratings.mean(),2) # 소수점 2째자리까지 출력"
   ]
  },
  {
   "cell_type": "markdown",
   "id": "86fa4412-cedc-426a-92d0-ec59ff93a72b",
   "metadata": {},
   "source": [
    "#### 4. ID가 1인 사용자가 매긴 영화들의 평점들의 평균"
   ]
  },
  {
   "cell_type": "code",
   "execution_count": 42,
   "id": "d7192820-7bdb-4ab6-be79-c4ee6e5a648d",
   "metadata": {},
   "outputs": [
    {
     "data": {
      "text/plain": [
       "array([[        1,      1193,         5, 978300760],\n",
       "       [        1,       661,         3, 978302109],\n",
       "       [        1,       914,         3, 978301968],\n",
       "       ...,\n",
       "       [     6040,       562,         5, 956704746],\n",
       "       [     6040,      1096,         4, 956715648],\n",
       "       [     6040,      1097,         4, 956715569]], dtype=int64)"
      ]
     },
     "execution_count": 42,
     "metadata": {},
     "output_type": "execute_result"
    }
   ],
   "source": [
    "movie"
   ]
  },
  {
   "cell_type": "code",
   "execution_count": 53,
   "id": "015ae4d0-513c-461b-a193-fc202cce81d6",
   "metadata": {},
   "outputs": [
    {
     "data": {
      "text/plain": [
       "array([ True,  True,  True, ..., False, False, False])"
      ]
     },
     "execution_count": 53,
     "metadata": {},
     "output_type": "execute_result"
    }
   ],
   "source": [
    "# boolean 인덱싱 : 특정 조건에 맞는 데이터를 가져올 때\n",
    "# 아이디가 1인 사용자가 매긴 영화데이터\n",
    "ID_1 = movie[:,0]==1\n",
    "ID_1"
   ]
  },
  {
   "cell_type": "code",
   "execution_count": 61,
   "id": "d04a76d7-60b1-4b40-9a21-16baee3beadd",
   "metadata": {},
   "outputs": [
    {
     "data": {
      "text/plain": [
       "array([[        1,      1193,         5, 978300760],\n",
       "       [        1,       661,         3, 978302109],\n",
       "       [        1,       914,         3, 978301968],\n",
       "       [        1,      3408,         4, 978300275],\n",
       "       [        1,      2355,         5, 978824291],\n",
       "       [        1,      1197,         3, 978302268],\n",
       "       [        1,      1287,         5, 978302039],\n",
       "       [        1,      2804,         5, 978300719],\n",
       "       [        1,       594,         4, 978302268],\n",
       "       [        1,       919,         4, 978301368],\n",
       "       [        1,       595,         5, 978824268],\n",
       "       [        1,       938,         4, 978301752],\n",
       "       [        1,      2398,         4, 978302281],\n",
       "       [        1,      2918,         4, 978302124],\n",
       "       [        1,      1035,         5, 978301753],\n",
       "       [        1,      2791,         4, 978302188],\n",
       "       [        1,      2687,         3, 978824268],\n",
       "       [        1,      2018,         4, 978301777],\n",
       "       [        1,      3105,         5, 978301713],\n",
       "       [        1,      2797,         4, 978302039],\n",
       "       [        1,      2321,         3, 978302205],\n",
       "       [        1,       720,         3, 978300760],\n",
       "       [        1,      1270,         5, 978300055],\n",
       "       [        1,       527,         5, 978824195],\n",
       "       [        1,      2340,         3, 978300103],\n",
       "       [        1,        48,         5, 978824351],\n",
       "       [        1,      1097,         4, 978301953],\n",
       "       [        1,      1721,         4, 978300055],\n",
       "       [        1,      1545,         4, 978824139],\n",
       "       [        1,       745,         3, 978824268],\n",
       "       [        1,      2294,         4, 978824291],\n",
       "       [        1,      3186,         4, 978300019],\n",
       "       [        1,      1566,         4, 978824330],\n",
       "       [        1,       588,         4, 978824268],\n",
       "       [        1,      1907,         4, 978824330],\n",
       "       [        1,       783,         4, 978824291],\n",
       "       [        1,      1836,         5, 978300172],\n",
       "       [        1,      1022,         5, 978300055],\n",
       "       [        1,      2762,         4, 978302091],\n",
       "       [        1,       150,         5, 978301777],\n",
       "       [        1,         1,         5, 978824268],\n",
       "       [        1,      1961,         5, 978301590],\n",
       "       [        1,      1962,         4, 978301753],\n",
       "       [        1,      2692,         4, 978301570],\n",
       "       [        1,       260,         4, 978300760],\n",
       "       [        1,      1028,         5, 978301777],\n",
       "       [        1,      1029,         5, 978302205],\n",
       "       [        1,      1207,         4, 978300719],\n",
       "       [        1,      2028,         5, 978301619],\n",
       "       [        1,       531,         4, 978302149],\n",
       "       [        1,      3114,         4, 978302174],\n",
       "       [        1,       608,         4, 978301398],\n",
       "       [        1,      1246,         4, 978302091]], dtype=int64)"
      ]
     },
     "execution_count": 61,
     "metadata": {},
     "output_type": "execute_result"
    }
   ],
   "source": [
    "# 불리언 인덱싱\n",
    "# ID가 1인 데이터를 가져오기\n",
    "\n",
    "ID_1 = movie[movie[:,0]==1]\n",
    "ID_1"
   ]
  },
  {
   "cell_type": "code",
   "execution_count": 71,
   "id": "6c17b30a-1ff9-4f66-bd56-9d8bad9bf062",
   "metadata": {},
   "outputs": [
    {
     "data": {
      "text/plain": [
       "array([5, 3, 3, 4, 5, 3, 5, 5, 4, 4, 5, 4, 4, 4, 5, 4, 3, 4, 5, 4, 3, 3,\n",
       "       5, 5, 3, 5, 4, 4, 4, 3, 4, 4, 4, 4, 4, 4, 5, 5, 4, 5, 5, 5, 4, 4,\n",
       "       4, 5, 5, 4, 5, 4, 4, 4, 4], dtype=int64)"
      ]
     },
     "execution_count": 71,
     "metadata": {},
     "output_type": "execute_result"
    }
   ],
   "source": [
    "# ID가 1인 사람의 영화데이터'의' 평점을 가져오기\n",
    "\n",
    "ID_1_rating = ID_1[:,2]\n",
    "ID_1_rating"
   ]
  },
  {
   "cell_type": "code",
   "execution_count": 73,
   "id": "10e11c53-b882-4fc5-a623-87ff91bde8eb",
   "metadata": {},
   "outputs": [
    {
     "data": {
      "text/plain": [
       "4.188679245283019"
      ]
     },
     "execution_count": 73,
     "metadata": {},
     "output_type": "execute_result"
    }
   ],
   "source": [
    "# ID가 1인 사람의 영화데이터'의' 평점들'의' 평균\n",
    "ID_1_rating.mean()"
   ]
  },
  {
   "cell_type": "code",
   "execution_count": 77,
   "id": "0244bf14-04a1-4f8a-8c2c-de2d51fd292c",
   "metadata": {},
   "outputs": [
    {
     "data": {
      "text/plain": [
       "4.188679245283019"
      ]
     },
     "execution_count": 77,
     "metadata": {},
     "output_type": "execute_result"
    }
   ],
   "source": [
    "# 중간에 변수로 만드는 과정 없이\n",
    "movie[movie[:,0]==1][:,2].mean()"
   ]
  },
  {
   "cell_type": "markdown",
   "id": "f1e161e4-1114-4356-9bb3-14c018f20149",
   "metadata": {},
   "source": [
    "### 각 사용자가 매긴 평점들의 평균"
   ]
  },
  {
   "cell_type": "code",
   "execution_count": 89,
   "id": "b2b9da62-2bd5-4d9d-9c85-eecc6490a373",
   "metadata": {},
   "outputs": [
    {
     "data": {
      "text/plain": [
       "4.190476190476191"
      ]
     },
     "execution_count": 89,
     "metadata": {},
     "output_type": "execute_result"
    }
   ],
   "source": [
    "movie[movie[:,0]==1][:,2].mean()\n",
    "movie[movie[:,0]==2][:,2].mean()\n",
    "movie[movie[:,0]==3][:,2].mean()\n",
    "movie[movie[:,0]==4][:,2].mean()\n"
   ]
  },
  {
   "cell_type": "code",
   "execution_count": null,
   "id": "87f007d7-4dce-4199-8020-a14f705eaa8f",
   "metadata": {},
   "outputs": [],
   "source": [
    "ratings_movie = []\n",
    "for i in range(movie.size):\n",
    "    movie[movie[:,0]==i][:,2].mean().append(ratings_movie)"
   ]
  },
  {
   "cell_type": "code",
   "execution_count": null,
   "id": "a68e22ce-24cd-4b20-84da-697bd2905bc8",
   "metadata": {},
   "outputs": [],
   "source": [
    "print(ratings_movie)"
   ]
  },
  {
   "cell_type": "code",
   "execution_count": null,
   "id": "7aa505e3-7a51-4d30-b377-7e9395f17680",
   "metadata": {},
   "outputs": [],
   "source": []
  },
  {
   "cell_type": "code",
   "execution_count": null,
   "id": "a6f705f3-7ddc-4f99-814d-f80236a4a3da",
   "metadata": {},
   "outputs": [],
   "source": []
  },
  {
   "cell_type": "code",
   "execution_count": null,
   "id": "713fb935-aa09-4e5b-86bb-823b057fe348",
   "metadata": {},
   "outputs": [],
   "source": []
  },
  {
   "cell_type": "code",
   "execution_count": null,
   "id": "56dd4ada-f5fa-422f-b8a4-ca412b29a69e",
   "metadata": {},
   "outputs": [],
   "source": []
  },
  {
   "cell_type": "code",
   "execution_count": null,
   "id": "94175dcc-c6ca-482d-a9b0-baab7ca51635",
   "metadata": {},
   "outputs": [],
   "source": []
  },
  {
   "cell_type": "code",
   "execution_count": null,
   "id": "88e26b5d-c6f5-43fb-a729-67c14a596842",
   "metadata": {},
   "outputs": [],
   "source": []
  },
  {
   "cell_type": "code",
   "execution_count": null,
   "id": "290b663f-83ac-41e0-9f12-d87060635361",
   "metadata": {},
   "outputs": [],
   "source": []
  }
 ],
 "metadata": {
  "kernelspec": {
   "display_name": "Python [conda env:base] *",
   "language": "python",
   "name": "conda-base-py"
  },
  "language_info": {
   "codemirror_mode": {
    "name": "ipython",
    "version": 3
   },
   "file_extension": ".py",
   "mimetype": "text/x-python",
   "name": "python",
   "nbconvert_exporter": "python",
   "pygments_lexer": "ipython3",
   "version": "3.12.7"
  }
 },
 "nbformat": 4,
 "nbformat_minor": 5
}
