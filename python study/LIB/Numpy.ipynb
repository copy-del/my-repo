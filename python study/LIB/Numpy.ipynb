{
 "cells": [
  {
   "cell_type": "markdown",
   "id": "dc0b9a42-a8f7-4924-943d-1f2df328d703",
   "metadata": {},
   "source": [
    "### Numpy\n",
    "- 복잡한 빅데이터의 수학적/과학적 계산을 위해 만들어진 라이브러리.\n",
    "- 반복문을 사용하지 않고, 전체 데이터 배열 연산이 가능한 수학 함수들을 제공\n",
    "- 배열 : 동일한 자료형의 원소들이 연속적인 형태로 구성된 자료구조"
   ]
  },
  {
   "cell_type": "code",
   "execution_count": 6,
   "id": "07be6101-670e-411f-bc98-49d84fed62e5",
   "metadata": {},
   "outputs": [],
   "source": [
    "import numpy as np # Numpy 라이브러리를 불러오고 앞으로 np라고 부르겠다."
   ]
  },
  {
   "cell_type": "code",
   "execution_count": 8,
   "id": "0c17ac91-8f65-4cb2-8cd3-a083e3ae81bd",
   "metadata": {},
   "outputs": [
    {
     "data": {
      "text/plain": [
       "array([4, 3, 2, 1])"
      ]
     },
     "execution_count": 8,
     "metadata": {},
     "output_type": "execute_result"
    }
   ],
   "source": [
    "arr = np.array([4,3,2,1]) # np안에 있는 array함수를 사용\n",
    "# array함수는 리스트나 튜플을 배열로 변환.\n",
    "# 반환값을 arr변수에 저장\n",
    "\n",
    "arr"
   ]
  },
  {
   "cell_type": "code",
   "execution_count": 10,
   "id": "1be2ff42-738f-4cda-8cae-5fdba964f063",
   "metadata": {},
   "outputs": [
    {
     "data": {
      "text/plain": [
       "array([1., 2., 3., 4.], dtype=float32)"
      ]
     },
     "execution_count": 10,
     "metadata": {},
     "output_type": "execute_result"
    }
   ],
   "source": [
    "list1 = [1,2,3,4]\n",
    "\n",
    "arr = np.array(list1, dtype=np.float32)\n",
    "\n",
    "arr"
   ]
  },
  {
   "cell_type": "code",
   "execution_count": 12,
   "id": "4a975b49-7183-4f01-83fe-ff2900cc8103",
   "metadata": {},
   "outputs": [
    {
     "data": {
      "text/plain": [
       "numpy.ndarray"
      ]
     },
     "execution_count": 12,
     "metadata": {},
     "output_type": "execute_result"
    }
   ],
   "source": [
    "type(arr)"
   ]
  },
  {
   "cell_type": "code",
   "execution_count": 14,
   "id": "fe6ecc3d-f52f-47bc-a491-0d253da73b9c",
   "metadata": {},
   "outputs": [
    {
     "data": {
      "text/plain": [
       "array([1, 2, 3, 4])"
      ]
     },
     "execution_count": 14,
     "metadata": {},
     "output_type": "execute_result"
    }
   ],
   "source": [
    "list1 = [1,2,3,4]\n",
    "\n",
    "arr = np.array(list1)\n",
    "\n",
    "arr"
   ]
  },
  {
   "cell_type": "code",
   "execution_count": 20,
   "id": "688f1530-69ce-412a-82c3-57a70c8b70cd",
   "metadata": {},
   "outputs": [
    {
     "data": {
      "text/plain": [
       "array([2, 3, 4, 5])"
      ]
     },
     "execution_count": 20,
     "metadata": {},
     "output_type": "execute_result"
    }
   ],
   "source": [
    "arr + 1"
   ]
  },
  {
   "cell_type": "code",
   "execution_count": 16,
   "id": "9512c60a-fdc1-449c-b9e6-38d760e11e76",
   "metadata": {},
   "outputs": [
    {
     "data": {
      "text/plain": [
       "array([2, 3, 4, 5])"
      ]
     },
     "execution_count": 16,
     "metadata": {},
     "output_type": "execute_result"
    }
   ],
   "source": [
    "arr + [1]"
   ]
  },
  {
   "cell_type": "code",
   "execution_count": 18,
   "id": "83382a96-2d67-4263-adf9-87207f0f611f",
   "metadata": {},
   "outputs": [
    {
     "data": {
      "text/plain": [
       "array([2, 4, 6, 8])"
      ]
     },
     "execution_count": 18,
     "metadata": {},
     "output_type": "execute_result"
    }
   ],
   "source": [
    "arr + [1,2,3,4]"
   ]
  },
  {
   "cell_type": "code",
   "execution_count": 22,
   "id": "5d8c32fc-4e44-48b7-94df-cfb9ef3bb7ed",
   "metadata": {},
   "outputs": [
    {
     "data": {
      "text/plain": [
       "array([ 3,  6,  9, 12])"
      ]
     },
     "execution_count": 22,
     "metadata": {},
     "output_type": "execute_result"
    }
   ],
   "source": [
    "arr * 3"
   ]
  },
  {
   "cell_type": "code",
   "execution_count": 24,
   "id": "af74530b-8213-458f-85b7-d059720a067f",
   "metadata": {},
   "outputs": [
    {
     "data": {
      "text/plain": [
       "array([0.33333333, 0.66666667, 1.        , 1.33333333])"
      ]
     },
     "execution_count": 24,
     "metadata": {},
     "output_type": "execute_result"
    }
   ],
   "source": [
    "arr / 3"
   ]
  },
  {
   "cell_type": "code",
   "execution_count": null,
   "id": "c706d6e3-6d72-4ae2-8519-16d1bca5a1ad",
   "metadata": {},
   "outputs": [],
   "source": []
  },
  {
   "cell_type": "markdown",
   "id": "c2bf18a9-a43e-4365-b94c-f39ca377a74c",
   "metadata": {},
   "source": [
    "### 배열끼리의 사칙연산"
   ]
  },
  {
   "cell_type": "code",
   "execution_count": 29,
   "id": "c4d71d1b-213c-4ae1-b61b-6780db3c43eb",
   "metadata": {},
   "outputs": [],
   "source": [
    "arr1 = np.array([1,2,3])\n",
    "arr2 = np.array([4,5,6])\n",
    "arr3 = np.array([7,8,9,10])"
   ]
  },
  {
   "cell_type": "code",
   "execution_count": 31,
   "id": "b178c639-1543-4a24-a8c5-7f4e43e91e43",
   "metadata": {},
   "outputs": [
    {
     "data": {
      "text/plain": [
       "array([5, 7, 9])"
      ]
     },
     "execution_count": 31,
     "metadata": {},
     "output_type": "execute_result"
    }
   ],
   "source": [
    "arr1 + arr2"
   ]
  },
  {
   "cell_type": "code",
   "execution_count": 33,
   "id": "fba800d7-94e8-4ced-a809-fdfffb5b8ead",
   "metadata": {},
   "outputs": [
    {
     "ename": "ValueError",
     "evalue": "operands could not be broadcast together with shapes (3,) (4,) ",
     "output_type": "error",
     "traceback": [
      "\u001b[1;31m---------------------------------------------------------------------------\u001b[0m",
      "\u001b[1;31mValueError\u001b[0m                                Traceback (most recent call last)",
      "Cell \u001b[1;32mIn[33], line 1\u001b[0m\n\u001b[1;32m----> 1\u001b[0m arr1 \u001b[38;5;241m+\u001b[39m arr3\n",
      "\u001b[1;31mValueError\u001b[0m: operands could not be broadcast together with shapes (3,) (4,) "
     ]
    }
   ],
   "source": [
    "arr1 + arr3"
   ]
  },
  {
   "cell_type": "code",
   "execution_count": 37,
   "id": "25580cec-c866-4545-b735-eb38abe712b5",
   "metadata": {},
   "outputs": [
    {
     "name": "stdout",
     "output_type": "stream",
     "text": [
      "[5 7 9]\n",
      "[3 3 3]\n",
      "[ 4 10 18]\n",
      "[4.  2.5 2. ]\n",
      "[4 2 2]\n",
      "[0 1 0]\n"
     ]
    }
   ],
   "source": [
    "print(arr2 + arr1)\n",
    "print(arr2 - arr1)\n",
    "print(arr2 * arr1)\n",
    "print(arr2 / arr1)\n",
    "print(arr2 // arr1)\n",
    "print(arr2 % arr1)"
   ]
  },
  {
   "cell_type": "code",
   "execution_count": 44,
   "id": "67eea88f-7a4b-4175-97d1-646d9f418c0c",
   "metadata": {},
   "outputs": [
    {
     "data": {
      "text/plain": [
       "array([4. , 2.5])"
      ]
     },
     "execution_count": 44,
     "metadata": {},
     "output_type": "execute_result"
    }
   ],
   "source": [
    "# 정수와 실수를 같이 넣었을 때,\n",
    "# 자동적으로 더 상위 표현 방식으로 표현 정수형 > 실수형\n",
    "# 배열은 모두 동일한 자료형 이어야 한다. (업캐스팅)\n",
    "\n",
    "arr_f = np.array([4,2.5])\n",
    "\n",
    "arr_f"
   ]
  },
  {
   "cell_type": "code",
   "execution_count": null,
   "id": "e4ba2c80-5e8d-41e4-8bed-22e56dff755c",
   "metadata": {},
   "outputs": [],
   "source": []
  },
  {
   "cell_type": "code",
   "execution_count": 46,
   "id": "2fb3c155-1dea-4bc1-98ef-31c948e77f58",
   "metadata": {},
   "outputs": [
    {
     "data": {
      "text/plain": [
       "array(['a', 'b', 'c', 'de'], dtype='<U2')"
      ]
     },
     "execution_count": 46,
     "metadata": {},
     "output_type": "execute_result"
    }
   ],
   "source": [
    "# 문자형 자료가 담겨있는 배열\n",
    "arr_str = np.array(['a','b','c','de'])\n",
    "\n",
    "arr_str"
   ]
  },
  {
   "cell_type": "code",
   "execution_count": 48,
   "id": "83cb96c7-646f-4f3d-bf21-c51186ebdcd2",
   "metadata": {},
   "outputs": [
    {
     "data": {
      "text/plain": [
       "array(['a', 'b', '3', '4'], dtype='<U11')"
      ]
     },
     "execution_count": 48,
     "metadata": {},
     "output_type": "execute_result"
    }
   ],
   "source": [
    "arr_str2 = np.array(['a','b',3,4]) # 숫자형 >> 문자열 (업캐스팅)\n",
    "\n",
    "arr_str2"
   ]
  },
  {
   "cell_type": "markdown",
   "id": "26d6c207-f5ba-48b2-a12e-2c20a9494e6c",
   "metadata": {},
   "source": [
    "### 2차원 배열"
   ]
  },
  {
   "cell_type": "code",
   "execution_count": 51,
   "id": "9cd27e39-0c02-43bf-a464-490148a65bd4",
   "metadata": {},
   "outputs": [
    {
     "data": {
      "text/plain": [
       "array([[1, 2, 3],\n",
       "       [4, 5, 6]])"
      ]
     },
     "execution_count": 51,
     "metadata": {},
     "output_type": "execute_result"
    }
   ],
   "source": [
    "arr2 = np.array([[1,2,3],[4,5,6]])\n",
    "\n",
    "arr2"
   ]
  },
  {
   "cell_type": "code",
   "execution_count": 53,
   "id": "d548e4a9-ea54-49bd-b8da-70363cfcfd9f",
   "metadata": {},
   "outputs": [
    {
     "data": {
      "text/plain": [
       "2"
      ]
     },
     "execution_count": 53,
     "metadata": {},
     "output_type": "execute_result"
    }
   ],
   "source": [
    "# ndim : 배열의 차원을 확인해주는 함수.\n",
    "arr2.ndim # 숫자의 형태로 배열의 차원을 확인"
   ]
  },
  {
   "cell_type": "code",
   "execution_count": 55,
   "id": "ee732c77-ee32-49c5-b6a1-5085dec78b12",
   "metadata": {},
   "outputs": [
    {
     "data": {
      "text/plain": [
       "(2, 3)"
      ]
     },
     "execution_count": 55,
     "metadata": {},
     "output_type": "execute_result"
    }
   ],
   "source": [
    "# shape : 배열의 형태(행, 열)\n",
    "arr2.shape"
   ]
  },
  {
   "cell_type": "code",
   "execution_count": 57,
   "id": "aa828d76-923c-40c3-b6d3-377e163fd32f",
   "metadata": {},
   "outputs": [
    {
     "data": {
      "text/plain": [
       "6"
      ]
     },
     "execution_count": 57,
     "metadata": {},
     "output_type": "execute_result"
    }
   ],
   "source": [
    "# size :  배열의 가장 작은 단위 요소 개수 >> 전체 요소 수\n",
    "arr2.size"
   ]
  },
  {
   "cell_type": "code",
   "execution_count": 61,
   "id": "94adf253-7576-4a50-85e2-460181c93f9a",
   "metadata": {},
   "outputs": [
    {
     "data": {
      "text/plain": [
       "dtype('int32')"
      ]
     },
     "execution_count": 61,
     "metadata": {},
     "output_type": "execute_result"
    }
   ],
   "source": [
    "# dtype : 배열 내 데이터들의 타입(자료형)\n",
    "arr2.dtype"
   ]
  },
  {
   "attachments": {
    "18e82ca1-5de2-4a81-81a1-d3bb3eb682a1.png": {
     "image/png": "[encoded data removed]"
    }
   },
   "cell_type": "markdown",
   "id": "f26d4232-998a-46bd-9b56-5030283b5d5f",
   "metadata": {},
   "source": [
    "![image.png](attachment:18e82ca1-5de2-4a81-81a1-d3bb3eb682a1.png)"
   ]
  },
  {
   "cell_type": "code",
   "execution_count": 66,
   "id": "3296a592-c3a8-486d-aa10-b63fd49ff14a",
   "metadata": {},
   "outputs": [],
   "source": [
    "arr3 = np.array([[[1,2,3],[4,5,6]],[[7,8,9],[10,11,1223]]])"
   ]
  },
  {
   "cell_type": "code",
   "execution_count": 68,
   "id": "118c505d-53cc-454a-9eec-2913e9cc2626",
   "metadata": {},
   "outputs": [
    {
     "data": {
      "text/plain": [
       "3"
      ]
     },
     "execution_count": 68,
     "metadata": {},
     "output_type": "execute_result"
    }
   ],
   "source": [
    "arr3.ndim"
   ]
  },
  {
   "cell_type": "code",
   "execution_count": 70,
   "id": "283ea2fc-6740-4dbb-ac1b-e00bb1f894c6",
   "metadata": {},
   "outputs": [
    {
     "data": {
      "text/plain": [
       "(2, 2, 3)"
      ]
     },
     "execution_count": 70,
     "metadata": {},
     "output_type": "execute_result"
    }
   ],
   "source": [
    "arr3.shape"
   ]
  },
  {
   "cell_type": "code",
   "execution_count": 72,
   "id": "03369d93-30d7-41aa-8b80-3e9eb124dcaa",
   "metadata": {},
   "outputs": [
    {
     "data": {
      "text/plain": [
       "12"
      ]
     },
     "execution_count": 72,
     "metadata": {},
     "output_type": "execute_result"
    }
   ],
   "source": [
    "arr3.size"
   ]
  },
  {
   "cell_type": "code",
   "execution_count": 74,
   "id": "b46c4b1d-5395-4f84-9e8f-fed3598d5d2e",
   "metadata": {},
   "outputs": [
    {
     "data": {
      "text/plain": [
       "dtype('int32')"
      ]
     },
     "execution_count": 74,
     "metadata": {},
     "output_type": "execute_result"
    }
   ],
   "source": [
    "arr.dtype"
   ]
  },
  {
   "cell_type": "markdown",
   "id": "2296bf1c-6562-4177-beb4-f4e26d637b6f",
   "metadata": {},
   "source": [
    "### 편리하게 배열 생성 함수"
   ]
  },
  {
   "cell_type": "code",
   "execution_count": 97,
   "id": "b8aecb15-a9d1-4e01-8731-2a4c90cc6de1",
   "metadata": {},
   "outputs": [
    {
     "data": {
      "text/plain": [
       "array([[0., 0.],\n",
       "       [0., 0.],\n",
       "       [0., 0.]])"
      ]
     },
     "execution_count": 97,
     "metadata": {},
     "output_type": "execute_result"
    }
   ],
   "source": [
    "# 0 으로 배열 생성\n",
    "# zeros(형태)\n",
    "\n",
    "arr_0 = np.zeros((3,2))\n",
    "\n",
    "arr_0 # default 값 = 'float64'"
   ]
  },
  {
   "cell_type": "code",
   "execution_count": 83,
   "id": "b89163af-9df1-4ef8-8f74-f2550752b1cc",
   "metadata": {},
   "outputs": [
    {
     "data": {
      "text/plain": [
       "dtype('float64')"
      ]
     },
     "execution_count": 83,
     "metadata": {},
     "output_type": "execute_result"
    }
   ],
   "source": [
    "arr_0.dtype"
   ]
  },
  {
   "cell_type": "code",
   "execution_count": 95,
   "id": "f65ea8b2-4c2b-4b05-bb8c-e7f5091e1555",
   "metadata": {},
   "outputs": [
    {
     "data": {
      "text/plain": [
       "array([[[1, 1],\n",
       "        [1, 1],\n",
       "        [1, 1]],\n",
       "\n",
       "       [[1, 1],\n",
       "        [1, 1],\n",
       "        [1, 1]],\n",
       "\n",
       "       [[1, 1],\n",
       "        [1, 1],\n",
       "        [1, 1]]])"
      ]
     },
     "execution_count": 95,
     "metadata": {},
     "output_type": "execute_result"
    }
   ],
   "source": [
    "# 1로 배열 생성\n",
    "# ones\n",
    "\n",
    "arr_1 = np.ones((3,3,2), dtype=np.int32) # int 값으로 데이터타입 변경 선언\n",
    "\n",
    "arr_1"
   ]
  },
  {
   "cell_type": "code",
   "execution_count": 93,
   "id": "d378b43f-fb92-43ec-ac50-50f0d3721efb",
   "metadata": {},
   "outputs": [
    {
     "data": {
      "text/plain": [
       "array([[5, 5],\n",
       "       [5, 5],\n",
       "       [5, 5]])"
      ]
     },
     "execution_count": 93,
     "metadata": {},
     "output_type": "execute_result"
    }
   ],
   "source": [
    "# 특정 값으로 배열 생성\n",
    "# full\n",
    "# np.full((형태), 값)\n",
    "\n",
    "arr_f = np.full((3,2),5)\n",
    "\n",
    "arr_f"
   ]
  },
  {
   "cell_type": "code",
   "execution_count": 121,
   "id": "9d516e2b-1029-4ff9-883e-1dc7e888cda1",
   "metadata": {},
   "outputs": [
    {
     "name": "stdout",
     "output_type": "stream",
     "text": [
      "[ 1  2  3  4  5  6  7  8  9 10 11 12]\n",
      "[ 1  4  7 10]\n",
      "[ 0  1  2  3  4  5  6  7  8  9 10 11 12]\n",
      "[ 0  1  2  3  4  5  6  7  8  9 10 11 12]\n",
      "[ 0  1  2  3  4  5  6  7  8  9 10 11 12]\n"
     ]
    }
   ],
   "source": [
    "# np.arange() : range() 시퀀스로 배열 생성, 사용법. range() 와 유사\n",
    "# np.arange(시작할 값, 끝값(포함하지 않음), 증감량)\n",
    "\n",
    "arr_a = np.arange(1,13,1)\n",
    "print(arr_a)\n",
    "\n",
    "arr_a = np.arange(1,13,3)\n",
    "print(arr_a)\n",
    "\n",
    "arr_a = np.arange(0,13,1)\n",
    "print(arr_a)\n",
    "\n",
    "arr_a = np.arange(0,13) # 증감량이 1일때 생략가능\n",
    "print(arr_a)\n",
    "\n",
    "arr_a = np.arange(13) # 시작값이 0일때 생략가능\n",
    "print(arr_a)"
   ]
  },
  {
   "cell_type": "code",
   "execution_count": 131,
   "id": "5184d594-977a-4d9b-bf6b-f1bb7e65eca4",
   "metadata": {},
   "outputs": [
    {
     "name": "stdout",
     "output_type": "stream",
     "text": [
      "[ 0  1  2  3  4  5  6  7  8  9 10 11]\n"
     ]
    },
    {
     "data": {
      "text/plain": [
       "array([[ 0,  1,  2,  3],\n",
       "       [ 4,  5,  6,  7],\n",
       "       [ 8,  9, 10, 11]])"
      ]
     },
     "execution_count": 131,
     "metadata": {},
     "output_type": "execute_result"
    }
   ],
   "source": [
    "arr_a = np.arange(12)\n",
    "print(arr_a)\n",
    "\n",
    "#reshape : 배열의 형태(shape) 변경\n",
    "arr_a.reshape(3,4) # 전체 요소 수 와 같게 형태를 변경해야 함!"
   ]
  },
  {
   "cell_type": "markdown",
   "id": "93e7df82-e8e7-4cf5-a69b-0509264df5b0",
   "metadata": {},
   "source": [
    "### array의 데이터에 접근 방법\n",
    "- array는 리스트와 마찬가지로 인덱싱, 슬라이싱 가능"
   ]
  },
  {
   "cell_type": "code",
   "execution_count": 135,
   "id": "ef173a5b-a13f-44ca-adf9-d9b3595d0ea1",
   "metadata": {},
   "outputs": [
    {
     "data": {
      "text/plain": [
       "array([[1, 2, 3],\n",
       "       [4, 5, 6]])"
      ]
     },
     "execution_count": 135,
     "metadata": {},
     "output_type": "execute_result"
    }
   ],
   "source": [
    "arr1 = np.array([[1,2,3],[4,5,6]])\n",
    "arr1"
   ]
  },
  {
   "cell_type": "code",
   "execution_count": 149,
   "id": "0d3b4773-b038-42e4-bd73-dde81b5d0160",
   "metadata": {},
   "outputs": [
    {
     "name": "stdout",
     "output_type": "stream",
     "text": [
      "2\n"
     ]
    }
   ],
   "source": [
    "# 2\n",
    "print(arr1[0][1])"
   ]
  },
  {
   "cell_type": "code",
   "execution_count": 151,
   "id": "23f9fabb-5f6a-4708-b289-9e692a5d6ac7",
   "metadata": {},
   "outputs": [
    {
     "name": "stdout",
     "output_type": "stream",
     "text": [
      "5\n"
     ]
    }
   ],
   "source": [
    "# 5\n",
    "print(arr1[1][1])"
   ]
  },
  {
   "cell_type": "code",
   "execution_count": 163,
   "id": "94f70e78-20ab-4a1f-99ae-ac6818289de6",
   "metadata": {},
   "outputs": [
    {
     "name": "stdout",
     "output_type": "stream",
     "text": [
      "변경 전 :\n",
      " [[1 2 3]\n",
      " [4 5 6]]\n",
      "변경 후 :\n",
      " [[11 11 11]\n",
      " [ 4  5  6]]\n"
     ]
    }
   ],
   "source": [
    "# 인덱싱하여 값 변경\n",
    "arr1 = np.array([[1,2,3],[4,5,6]])\n",
    "print('변경 전 :\\n',arr1)\n",
    "\n",
    "# 값 변경\n",
    "# arr[0] = [11,23,23] << 위와 같이 변경해야 함..\n",
    "arr1[0] = 11  # 한 요소로만 채우기 >> []까지 생략 가능 원래 코드 = [11,11,11]\n",
    "\n",
    "print('변경 후 :\\n',arr1)"
   ]
  },
  {
   "cell_type": "code",
   "execution_count": 167,
   "id": "d7f638b4-a99c-42bc-aba3-e1cec923eda3",
   "metadata": {},
   "outputs": [
    {
     "name": "stdout",
     "output_type": "stream",
     "text": [
      "[[4, 5, 6], [4, 5, 6]]\n",
      "[11, [4, 5, 6]]\n"
     ]
    }
   ],
   "source": [
    "list1 = [[4,5,6],[4,5,6]]\n",
    "print(list1)\n",
    "\n",
    "# 값 변경\n",
    "list1[0] = 11\n",
    "print(list1)"
   ]
  },
  {
   "cell_type": "code",
   "execution_count": null,
   "id": "babfd7f7-2b04-441c-a80a-3a6cbc86c3be",
   "metadata": {},
   "outputs": [],
   "source": []
  },
  {
   "cell_type": "markdown",
   "id": "12063528-c6db-4cb2-bbec-8240603687d0",
   "metadata": {},
   "source": [
    "### 슬라이싱"
   ]
  },
  {
   "cell_type": "code",
   "execution_count": 175,
   "id": "a024101c-f209-4983-bdc6-4b4fbd6e0ebd",
   "metadata": {},
   "outputs": [
    {
     "data": {
      "text/plain": [
       "array([[0, 1, 2],\n",
       "       [3, 4, 5],\n",
       "       [6, 7, 8]])"
      ]
     },
     "execution_count": 175,
     "metadata": {},
     "output_type": "execute_result"
    }
   ],
   "source": [
    "arr2 = np.arange(9).reshape(3,3)\n",
    "\n",
    "arr2"
   ]
  },
  {
   "cell_type": "code",
   "execution_count": 177,
   "id": "b10ae765-c8b8-438b-b5fa-b608f259591b",
   "metadata": {},
   "outputs": [
    {
     "data": {
      "text/plain": [
       "array([[0, 1, 2],\n",
       "       [3, 4, 5]])"
      ]
     },
     "execution_count": 177,
     "metadata": {},
     "output_type": "execute_result"
    }
   ],
   "source": [
    "arr2[:2]"
   ]
  },
  {
   "cell_type": "code",
   "execution_count": 181,
   "id": "b4d92417-305c-43a7-971f-fd775c1a31f4",
   "metadata": {},
   "outputs": [
    {
     "name": "stdout",
     "output_type": "stream",
     "text": [
      "인덱싱 : [0 1 2]\n",
      "슬라이싱 : [[0 1 2]]\n"
     ]
    },
    {
     "data": {
      "text/plain": [
       "array([[0, 1, 2]])"
      ]
     },
     "execution_count": 181,
     "metadata": {},
     "output_type": "execute_result"
    }
   ],
   "source": [
    "print('인덱싱 :',arr2[0]) # \n",
    "print('슬라이싱 :',arr2[:1]) #\n",
    "arr2[:1] #"
   ]
  },
  {
   "cell_type": "code",
   "execution_count": 183,
   "id": "f90171c7-3803-4381-b95a-fb597d3b6754",
   "metadata": {},
   "outputs": [
    {
     "data": {
      "text/plain": [
       "array([4, 5])"
      ]
     },
     "execution_count": 183,
     "metadata": {},
     "output_type": "execute_result"
    }
   ],
   "source": [
    "# [4,5]를 슬라이싱\n",
    "\n",
    "arr2[1][1:]"
   ]
  },
  {
   "cell_type": "code",
   "execution_count": 193,
   "id": "bf4b696a-84e1-4e9d-b2f5-775e4346952c",
   "metadata": {},
   "outputs": [
    {
     "name": "stdout",
     "output_type": "stream",
     "text": [
      "[[ 0  1  2]\n",
      " [ 3 23 23]\n",
      " [ 6  7  8]]\n",
      "[[ 0  1  2]\n",
      " [ 3 42 13]\n",
      " [ 6  7  8]]\n",
      "[[0 1 2]\n",
      " [3 1 2]\n",
      " [6 7 8]]\n"
     ]
    }
   ],
   "source": [
    "# 값 변경\n",
    "arr2[1][1:] = 23\n",
    "print(arr2)\n",
    "\n",
    "arr2[1][1:] = [42,13]\n",
    "print(arr2)\n",
    "\n",
    "arr2[1][1:] = 1,2\n",
    "print(arr2)"
   ]
  },
  {
   "cell_type": "markdown",
   "id": "c38a27e1-efef-4545-af28-6518110c9271",
   "metadata": {},
   "source": [
    "### 2차원 배열에서의 데이터 접근"
   ]
  },
  {
   "cell_type": "code",
   "execution_count": 198,
   "id": "a6e17faf-1b57-4475-8105-4e2ea167beeb",
   "metadata": {},
   "outputs": [
    {
     "data": {
      "text/plain": [
       "array([[ 0,  1,  2,  3,  4,  5,  6,  7,  8,  9],\n",
       "       [10, 11, 12, 13, 14, 15, 16, 17, 18, 19],\n",
       "       [20, 21, 22, 23, 24, 25, 26, 27, 28, 29],\n",
       "       [30, 31, 32, 33, 34, 35, 36, 37, 38, 39],\n",
       "       [40, 41, 42, 43, 44, 45, 46, 47, 48, 49]])"
      ]
     },
     "execution_count": 198,
     "metadata": {},
     "output_type": "execute_result"
    }
   ],
   "source": [
    "# 2차원 배열\n",
    "arr3 = np.arange(50).reshape(5,10) #reshape : 생성된 배열의 shape를 재설정\n",
    "\n",
    "arr3"
   ]
  },
  {
   "cell_type": "code",
   "execution_count": 202,
   "id": "e942cadf-6287-4700-9824-a221def32b34",
   "metadata": {},
   "outputs": [
    {
     "data": {
      "text/plain": [
       "array([[ 0,  1,  2,  3,  4,  5],\n",
       "       [10, 11, 12, 13, 14, 15]])"
      ]
     },
     "execution_count": 202,
     "metadata": {},
     "output_type": "execute_result"
    }
   ],
   "source": [
    "#arr[행의 범위,열의 범위] >> ',' 로 행의 범위와 열의 범위를 구분\n",
    "\n",
    "# 0~1번 행 인덱스, 0~5번 열 인덱스\n",
    "arr3[:2,:6]"
   ]
  },
  {
   "cell_type": "code",
   "execution_count": 220,
   "id": "89555b40-d9fa-47fe-bb64-237cbe0700e3",
   "metadata": {},
   "outputs": [
    {
     "data": {
      "text/plain": [
       "array([ 0, 10, 20, 30, 40])"
      ]
     },
     "execution_count": 220,
     "metadata": {},
     "output_type": "execute_result"
    }
   ],
   "source": [
    "arr3[:,0]"
   ]
  },
  {
   "cell_type": "code",
   "execution_count": 218,
   "id": "33a9a78a-815c-4ce9-9b40-82b093e46c2f",
   "metadata": {},
   "outputs": [
    {
     "data": {
      "text/plain": [
       "array([10, 30])"
      ]
     },
     "execution_count": 218,
     "metadata": {},
     "output_type": "execute_result"
    }
   ],
   "source": [
    "arr3[1:5:2,0]"
   ]
  },
  {
   "cell_type": "markdown",
   "id": "8b9f6c5b-55a4-47e4-8df1-50ebf7786b5c",
   "metadata": {},
   "source": [
    "### 실습"
   ]
  },
  {
   "cell_type": "code",
   "execution_count": 223,
   "id": "8c643813-a4a9-4eef-ba1a-575e7c062da3",
   "metadata": {},
   "outputs": [
    {
     "data": {
      "text/plain": [
       "array([[ 0,  1,  2,  3,  4,  5],\n",
       "       [ 6,  7,  8,  9, 10, 11],\n",
       "       [12, 13, 14, 15, 16, 17]])"
      ]
     },
     "execution_count": 223,
     "metadata": {},
     "output_type": "execute_result"
    }
   ],
   "source": [
    "arr4 = np.arange(18).reshape(3,6)\n",
    "\n",
    "arr4"
   ]
  },
  {
   "cell_type": "code",
   "execution_count": 227,
   "id": "b0440cb4-639b-4564-a22a-87e073916c56",
   "metadata": {},
   "outputs": [
    {
     "data": {
      "text/plain": [
       "array([[ 7,  9, 11],\n",
       "       [13, 15, 17]])"
      ]
     },
     "execution_count": 227,
     "metadata": {},
     "output_type": "execute_result"
    }
   ],
   "source": [
    "# 7,13,9,15,11,17 을 가져와라\n",
    "\n",
    "arr4[1:,1::2]"
   ]
  },
  {
   "cell_type": "code",
   "execution_count": 279,
   "id": "690f56a6-36b0-493b-b2f0-adb73eb6c3b2",
   "metadata": {},
   "outputs": [
    {
     "data": {
      "text/plain": [
       "array([[ 7,  9, 11],\n",
       "       [13, 15, 17]])"
      ]
     },
     "execution_count": 279,
     "metadata": {},
     "output_type": "execute_result"
    }
   ],
   "source": [
    "arr4[1:,[1,3,5]]"
   ]
  },
  {
   "cell_type": "code",
   "execution_count": 283,
   "id": "f24070ff-78df-4aba-a2d0-d3e5cbbf4455",
   "metadata": {},
   "outputs": [
    {
     "data": {
      "text/plain": [
       "array([[ 7,  9, 11],\n",
       "       [13, 15, 17]])"
      ]
     },
     "execution_count": 283,
     "metadata": {},
     "output_type": "execute_result"
    }
   ],
   "source": [
    "arr4[1:,range(1,6,2)]"
   ]
  },
  {
   "cell_type": "code",
   "execution_count": 293,
   "id": "35ec0f13-8a58-476d-8771-773f71cf7f8e",
   "metadata": {},
   "outputs": [
    {
     "data": {
      "text/plain": [
       "array([[ 0,  1,  2,  3,  4,  5],\n",
       "       [ 6,  7,  8,  9, 10, 11],\n",
       "       [12, 13, 14, 15, 16, 17]])"
      ]
     },
     "execution_count": 293,
     "metadata": {},
     "output_type": "execute_result"
    }
   ],
   "source": [
    "# 전치  = .T\n",
    "arr4\n",
    "# 3행 6열"
   ]
  },
  {
   "cell_type": "code",
   "execution_count": 289,
   "id": "cc84d81f-ebb2-4d55-bf4a-9874befffd8c",
   "metadata": {},
   "outputs": [
    {
     "data": {
      "text/plain": [
       "array([[ 0,  6, 12],\n",
       "       [ 1,  7, 13],\n",
       "       [ 2,  8, 14],\n",
       "       [ 3,  9, 15],\n",
       "       [ 4, 10, 16],\n",
       "       [ 5, 11, 17]])"
      ]
     },
     "execution_count": 289,
     "metadata": {},
     "output_type": "execute_result"
    }
   ],
   "source": [
    "# 6행 3열\n",
    "arr4.T"
   ]
  },
  {
   "cell_type": "code",
   "execution_count": 291,
   "id": "7b8b1aa3-b699-4a9b-ae71-705f431433af",
   "metadata": {},
   "outputs": [
    {
     "data": {
      "text/plain": [
       "array([[ 0,  1,  2,  3,  4,  5],\n",
       "       [ 6,  7,  8,  9, 10, 11],\n",
       "       [12, 13, 14, 15, 16, 17]])"
      ]
     },
     "execution_count": 291,
     "metadata": {},
     "output_type": "execute_result"
    }
   ],
   "source": [
    "arr4"
   ]
  },
  {
   "cell_type": "code",
   "execution_count": 317,
   "id": "360f20ad-c585-4a75-9c11-c9ec1b4af43e",
   "metadata": {},
   "outputs": [
    {
     "data": {
      "text/plain": [
       "array([73, 94, 85, 98, 84, 63, 52, 51])"
      ]
     },
     "execution_count": 317,
     "metadata": {},
     "output_type": "execute_result"
    }
   ],
   "source": [
    "# 랜덤수로 배열만들기\n",
    "# mp.random.randint(시작값, 끝값(미포함),size = 크기)\n",
    "# 정수 > 실수, randint > uniform\n",
    "\n",
    "arr5 = np.random.randint(50,100, size = 8)\n",
    "# 50에서, 99까지 8개의 값을 가지는 정수 난수 배열 생성\n",
    "arr5"
   ]
  },
  {
   "cell_type": "markdown",
   "id": "d921f2f6-6ff3-49da-b27f-926b5273b7b5",
   "metadata": {},
   "source": [
    "### 불리언(Boolean) 인덱싱\n",
    "- 특정 조건에 맞는 값들을 찾아내고 싶을 때\n",
    "- 사용법 : 인덱스 번호 대신, '조건식'을 입력"
   ]
  },
  {
   "cell_type": "code",
   "execution_count": 321,
   "id": "919db1cb-8eaf-44e7-ac46-6088f3aafba1",
   "metadata": {},
   "outputs": [
    {
     "data": {
      "text/plain": [
       "False"
      ]
     },
     "execution_count": 321,
     "metadata": {},
     "output_type": "execute_result"
    }
   ],
   "source": [
    "# 조건식\n",
    "a=5\n",
    "a<3"
   ]
  },
  {
   "cell_type": "code",
   "execution_count": 323,
   "id": "853406a4-52ec-4f05-b51b-1105c9caf333",
   "metadata": {},
   "outputs": [
    {
     "data": {
      "text/plain": [
       "bool"
      ]
     },
     "execution_count": 323,
     "metadata": {},
     "output_type": "execute_result"
    }
   ],
   "source": [
    "type(a<3)"
   ]
  },
  {
   "cell_type": "code",
   "execution_count": 325,
   "id": "8fa155d3-8599-4553-aa08-e622d32ba6d0",
   "metadata": {},
   "outputs": [
    {
     "data": {
      "text/plain": [
       "array([73, 94, 85, 98, 84, 63, 52, 51])"
      ]
     },
     "execution_count": 325,
     "metadata": {},
     "output_type": "execute_result"
    }
   ],
   "source": [
    "arr5"
   ]
  },
  {
   "cell_type": "code",
   "execution_count": 329,
   "id": "11d85c50-844c-47e3-a99b-dab12e6fe4d7",
   "metadata": {},
   "outputs": [
    {
     "data": {
      "text/plain": [
       "array([ True,  True,  True,  True,  True, False, False, False])"
      ]
     },
     "execution_count": 329,
     "metadata": {},
     "output_type": "execute_result"
    }
   ],
   "source": [
    "arr5>=70 "
   ]
  },
  {
   "cell_type": "code",
   "execution_count": 333,
   "id": "13672d11-8399-4559-bcc0-abe6274bd097",
   "metadata": {},
   "outputs": [
    {
     "data": {
      "text/plain": [
       "numpy.ndarray"
      ]
     },
     "execution_count": 333,
     "metadata": {},
     "output_type": "execute_result"
    }
   ],
   "source": [
    "type(arr5>=70)  # >>> boolean 값이 들어간 배열"
   ]
  },
  {
   "cell_type": "code",
   "execution_count": 349,
   "id": "6e01f270-4bb2-4672-b388-35b12871e5a3",
   "metadata": {},
   "outputs": [
    {
     "data": {
      "text/plain": [
       "array([ True, False,  True, False,  True, False, False, False])"
      ]
     },
     "execution_count": 349,
     "metadata": {},
     "output_type": "execute_result"
    }
   ],
   "source": [
    "# 다중조건\n",
    "# 65 이상이고, 90이하\n",
    "\n",
    "#numpy에서는 and, or 사용 불가능\n",
    "#numpy에서는 &,|를 사용, numpy 배열의 내부 코드가 비트연산을 기반으로 만들어짐.\n",
    "# & = and 연산자\n",
    "# | = or 연산자\n",
    "\n",
    "(arr5 >= 65) & (arr5 <= 90) "
   ]
  },
  {
   "cell_type": "code",
   "execution_count": 353,
   "id": "192cf324-ec58-4bf2-a1e9-a783de0b2c8d",
   "metadata": {},
   "outputs": [
    {
     "data": {
      "text/plain": [
       "array([False,  True, False,  True,  True, False,  True, False])"
      ]
     },
     "execution_count": 353,
     "metadata": {},
     "output_type": "execute_result"
    }
   ],
   "source": [
    "# 짝숫값 판단 조건식\n",
    "arr5%2 == 0  # boolean 인덱싱의 재료"
   ]
  },
  {
   "cell_type": "code",
   "execution_count": 357,
   "id": "b54129f3-9d50-4b42-90be-ee51a0bef8a0",
   "metadata": {},
   "outputs": [
    {
     "data": {
      "text/plain": [
       "array([94, 98, 84, 52])"
      ]
     },
     "execution_count": 357,
     "metadata": {},
     "output_type": "execute_result"
    }
   ],
   "source": [
    "# 실제 값을 가져와보자\n",
    "# True 에 해당하는 값들을 가져와보자\n",
    "# 인덱스 번호대신, '조건식'입력\n",
    "arr5[arr5%2==0]"
   ]
  },
  {
   "cell_type": "markdown",
   "id": "46f794da-ab27-4f9e-87ed-f29cef5fb2a1",
   "metadata": {},
   "source": [
    "### 불리언 인덱싱 예제"
   ]
  },
  {
   "cell_type": "code",
   "execution_count": 360,
   "id": "f6616d94-f77b-4a19-86ce-b8ed98db7cd1",
   "metadata": {},
   "outputs": [
    {
     "data": {
      "text/plain": [
       "array([[6, 9, 6, 9, 7],\n",
       "       [2, 3, 5, 4, 1]])"
      ]
     },
     "execution_count": 360,
     "metadata": {},
     "output_type": "execute_result"
    }
   ],
   "source": [
    "# 2차원 배열\n",
    "arr6 = np.array([[6,9,6,9,7],[2,3,5,4,1]])\n",
    "\n",
    "arr6"
   ]
  },
  {
   "cell_type": "code",
   "execution_count": 370,
   "id": "9f9b55d6-2969-4576-93ea-0aea0a962c76",
   "metadata": {},
   "outputs": [
    {
     "data": {
      "text/plain": [
       "array([0, 0, 0, 0])"
      ]
     },
     "execution_count": 370,
     "metadata": {},
     "output_type": "execute_result"
    }
   ],
   "source": [
    "# 짝수일 경우, 0 으로 변경하는 코드를 작성\n",
    "\n",
    "arr6[arr6%2==0]"
   ]
  },
  {
   "cell_type": "code",
   "execution_count": 372,
   "id": "2c93f1bf-2df8-406b-bfcf-b1e6fa816d9c",
   "metadata": {},
   "outputs": [],
   "source": [
    "arr6[arr6%2==0] = 0"
   ]
  },
  {
   "cell_type": "code",
   "execution_count": 366,
   "id": "8bfbaa20-56e0-4f75-9de7-5200f9b2e3a1",
   "metadata": {},
   "outputs": [
    {
     "data": {
      "text/plain": [
       "array([[0, 9, 0, 9, 7],\n",
       "       [0, 3, 5, 0, 1]])"
      ]
     },
     "execution_count": 366,
     "metadata": {},
     "output_type": "execute_result"
    }
   ],
   "source": [
    "arr6"
   ]
  },
  {
   "cell_type": "code",
   "execution_count": 374,
   "id": "f00fc230-53c3-4928-b335-b025755ebf75",
   "metadata": {},
   "outputs": [
    {
     "data": {
      "text/plain": [
       "array([[ True, False,  True, False, False],\n",
       "       [ True, False, False,  True, False]])"
      ]
     },
     "execution_count": 374,
     "metadata": {},
     "output_type": "execute_result"
    }
   ],
   "source": [
    "# 불리언 인덱싱으로 값에 접근해서, 0을 대입\n",
    "# 조건식\n",
    "arr6 % 2 == 0"
   ]
  },
  {
   "cell_type": "markdown",
   "id": "999cbde5-1381-44df-9d0d-aa5b9fffeabe",
   "metadata": {},
   "source": [
    "### 평균과 합계를 구하는 함수"
   ]
  },
  {
   "cell_type": "code",
   "execution_count": 377,
   "id": "b7a23f4b-64a7-466f-9b09-3436e4933f94",
   "metadata": {},
   "outputs": [
    {
     "data": {
      "text/plain": [
       "array([[1, 2, 3],\n",
       "       [4, 5, 6]])"
      ]
     },
     "execution_count": 377,
     "metadata": {},
     "output_type": "execute_result"
    }
   ],
   "source": [
    "arr7 = np.array([[1,2,3],[4,5,6]])\n",
    "\n",
    "arr7"
   ]
  },
  {
   "cell_type": "code",
   "execution_count": 381,
   "id": "1361b360-97f6-4645-a0e5-4233551ba2a2",
   "metadata": {},
   "outputs": [
    {
     "data": {
      "text/plain": [
       "21"
      ]
     },
     "execution_count": 381,
     "metadata": {},
     "output_type": "execute_result"
    }
   ],
   "source": [
    "# 합계\n",
    "# arr.sum()\n",
    "\n",
    "arr7.sum()\n",
    "# 배열이라는 객체에 속한 메서드"
   ]
  },
  {
   "cell_type": "code",
   "execution_count": 385,
   "id": "03a053d0-4ac8-44f5-9064-25e3c5235dac",
   "metadata": {},
   "outputs": [
    {
     "data": {
      "text/plain": [
       "array([5, 7, 9])"
      ]
     },
     "execution_count": 385,
     "metadata": {},
     "output_type": "execute_result"
    }
   ],
   "source": [
    "sum(arr7) # [1,2,3] + [4,5,6]"
   ]
  },
  {
   "cell_type": "code",
   "execution_count": 389,
   "id": "7a2d83f6-7826-4ba1-9d99-19a0f290b935",
   "metadata": {},
   "outputs": [
    {
     "data": {
      "text/plain": [
       "21"
      ]
     },
     "execution_count": 389,
     "metadata": {},
     "output_type": "execute_result"
    }
   ],
   "source": [
    "sum(sum(arr7)) # 배열 메서드 arr7.sum()과 동일"
   ]
  },
  {
   "cell_type": "code",
   "execution_count": 399,
   "id": "5b466374-0a63-4397-a6c5-5a75c7974541",
   "metadata": {},
   "outputs": [
    {
     "name": "stdout",
     "output_type": "stream",
     "text": [
      "21\n",
      "21\n",
      "21\n"
     ]
    }
   ],
   "source": [
    "# np.sum(시퀀스형 자료구조)\n",
    "print(np.sum(arr7))\n",
    "print(np.sum([1,2,3,4,5,6]))\n",
    "print(np.sum(range(1,7)))"
   ]
  },
  {
   "cell_type": "code",
   "execution_count": 401,
   "id": "07c81f9f-33a8-45fb-aaff-ddeb48f14510",
   "metadata": {},
   "outputs": [
    {
     "data": {
      "text/plain": [
       "3.5"
      ]
     },
     "execution_count": 401,
     "metadata": {},
     "output_type": "execute_result"
    }
   ],
   "source": [
    "# 평균\n",
    "# arr.mean() 배열 객체 메서드\n",
    "arr7.mean()"
   ]
  },
  {
   "cell_type": "code",
   "execution_count": 403,
   "id": "a56d6b90-ec00-4837-9c6e-b9140668dabe",
   "metadata": {},
   "outputs": [
    {
     "name": "stdout",
     "output_type": "stream",
     "text": [
      "3.5\n",
      "3.5\n",
      "3.5\n"
     ]
    }
   ],
   "source": [
    "# np.mean(시퀀스형 자료구조)\n",
    "print(np.mean(arr7))\n",
    "print(np.mean([1,2,3,4,5,6]))\n",
    "print(np.mean(range(1,7)))"
   ]
  },
  {
   "cell_type": "code",
   "execution_count": null,
   "id": "c9eb83eb-3138-49d7-947b-0494fd952566",
   "metadata": {},
   "outputs": [],
   "source": []
  },
  {
   "cell_type": "code",
   "execution_count": null,
   "id": "4f031f62-48d6-4c56-8ac2-c750c359738c",
   "metadata": {},
   "outputs": [],
   "source": []
  },
  {
   "cell_type": "code",
   "execution_count": null,
   "id": "270d1575-6c2b-4574-86b7-d9df2d87a42c",
   "metadata": {},
   "outputs": [],
   "source": []
  },
  {
   "cell_type": "code",
   "execution_count": null,
   "id": "f4292386-b867-420e-978e-3ca82793ab85",
   "metadata": {},
   "outputs": [],
   "source": []
  },
  {
   "cell_type": "code",
   "execution_count": null,
   "id": "a003e5af-0b22-4c93-be3c-48f5a4a4edbe",
   "metadata": {},
   "outputs": [],
   "source": []
  },
  {
   "cell_type": "code",
   "execution_count": null,
   "id": "24da8bbc-cac1-4730-93b7-e742e0ae3de3",
   "metadata": {},
   "outputs": [],
   "source": []
  },
  {
   "cell_type": "code",
   "execution_count": null,
   "id": "1b187a5a-2796-47a9-b818-da6242bfe21e",
   "metadata": {},
   "outputs": [],
   "source": []
  },
  {
   "cell_type": "code",
   "execution_count": null,
   "id": "b8dc2b7e-beec-4856-b604-2d78f328b924",
   "metadata": {},
   "outputs": [],
   "source": []
  },
  {
   "cell_type": "code",
   "execution_count": null,
   "id": "e118bb7b-e78d-4675-966e-2ca23e433125",
   "metadata": {},
   "outputs": [],
   "source": []
  }
 ],
 "metadata": {
  "kernelspec": {
   "display_name": "Python [conda env:base] *",
   "language": "python",
   "name": "conda-base-py"
  },
  "language_info": {
   "codemirror_mode": {
    "name": "ipython",
    "version": 3
   },
   "file_extension": ".py",
   "mimetype": "text/x-python",
   "name": "python",
   "nbconvert_exporter": "python",
   "pygments_lexer": "ipython3",
   "version": "3.12.7"
  }
 },
 "nbformat": 4,
 "nbformat_minor": 5
}
