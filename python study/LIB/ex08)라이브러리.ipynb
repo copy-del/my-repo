{
 "cells": [
  {
   "cell_type": "markdown",
   "id": "c79bd201-8f4b-4062-9d22-3d6842b2bf01",
   "metadata": {},
   "source": [
    "### 라이브러리\n",
    "- 함수들의 모음 모듈. 모듈의 모음 패키지. 모듈과 패키지의 모음 라이브러리."
   ]
  },
  {
   "cell_type": "markdown",
   "id": "f5260368-55d8-4a77-a734-d75b4bd95408",
   "metadata": {},
   "source": [
    "# Numpy"
   ]
  },
  {
   "cell_type": "code",
   "execution_count": null,
   "id": "055bface-28e9-4f39-adbd-9c14236045a7",
   "metadata": {},
   "outputs": [],
   "source": []
  },
  {
   "cell_type": "markdown",
   "id": "3e995c33-4136-4525-a3f0-6cdd0c46c3d3",
   "metadata": {},
   "source": [
    "List와 Numpy 배열의 차이점\n",
    "List\n",
    "- 숫자형이나 문자형. 여러 가지 자료형을 한번에 다룰 수 있다.\n",
    "- 배열의 원소 구조가 달라도 괜찮다.\n",
    "\n",
    "\n",
    "Numpy 배열\n",
    "- 한가지 동일한 자료형이어야 한다.\n",
    "- 배열의 원소 구조가 모두 동일해야 한다.\n",
    "  ex) np.array([[1],[2,3],[4,5,6]]) X\n",
    "  ex) np.array([[1,2],[3,4],[5,6]]) O\n",
    "  ex) np.array([[1,2,3],[4,5,6]]) O\n",
    "- 크기 변경이 불가능하다"
   ]
  },
  {
   "cell_type": "code",
   "execution_count": null,
   "id": "364a6567-fe63-4966-b9ef-cbb97c3f2813",
   "metadata": {},
   "outputs": [],
   "source": []
  },
  {
   "cell_type": "code",
   "execution_count": null,
   "id": "5b770866-80a6-4d62-8dc4-dd19dd547677",
   "metadata": {},
   "outputs": [],
   "source": []
  },
  {
   "cell_type": "code",
   "execution_count": null,
   "id": "e3d5118c-187a-4a6f-bced-2a103993f274",
   "metadata": {},
   "outputs": [],
   "source": []
  },
  {
   "cell_type": "code",
   "execution_count": null,
   "id": "8e3b57a6-1a7d-439c-bed2-d745509609b3",
   "metadata": {},
   "outputs": [],
   "source": []
  },
  {
   "cell_type": "code",
   "execution_count": null,
   "id": "5f653e33-0144-4c9e-b412-9204b41bdffc",
   "metadata": {},
   "outputs": [],
   "source": []
  },
  {
   "cell_type": "code",
   "execution_count": null,
   "id": "717ef5df-8f36-41b6-ac09-69d92eb90751",
   "metadata": {},
   "outputs": [],
   "source": []
  },
  {
   "cell_type": "code",
   "execution_count": null,
   "id": "202abdc4-067e-447f-9ba6-c69605b21fd2",
   "metadata": {},
   "outputs": [],
   "source": []
  },
  {
   "cell_type": "code",
   "execution_count": null,
   "id": "d027a120-f91e-4e4d-a010-7d7ee3c11a20",
   "metadata": {},
   "outputs": [],
   "source": []
  },
  {
   "cell_type": "code",
   "execution_count": null,
   "id": "451dbfb0-6f4c-4e49-9fe7-80f4919df80a",
   "metadata": {},
   "outputs": [],
   "source": []
  },
  {
   "cell_type": "code",
   "execution_count": null,
   "id": "7d8ec306-6143-49c7-a761-523a0609eefd",
   "metadata": {},
   "outputs": [],
   "source": []
  },
  {
   "cell_type": "code",
   "execution_count": null,
   "id": "df4a44d4-775a-4739-9357-0f73516f17ae",
   "metadata": {},
   "outputs": [],
   "source": []
  },
  {
   "cell_type": "code",
   "execution_count": null,
   "id": "661bef42-4b56-4785-9469-62e3cd1ee40f",
   "metadata": {},
   "outputs": [],
   "source": []
  },
  {
   "cell_type": "code",
   "execution_count": null,
   "id": "dd1b9237-7d24-4e87-a2da-22c3694cc2f7",
   "metadata": {},
   "outputs": [],
   "source": []
  },
  {
   "cell_type": "code",
   "execution_count": null,
   "id": "74956122-e816-41da-b1be-e66e9b904f2b",
   "metadata": {},
   "outputs": [],
   "source": []
  },
  {
   "cell_type": "code",
   "execution_count": null,
   "id": "c0c9128e-bd59-4269-b01f-c79fe0880a7d",
   "metadata": {},
   "outputs": [],
   "source": []
  },
  {
   "cell_type": "code",
   "execution_count": null,
   "id": "660b7940-cde2-4868-9ded-e81fd33ba467",
   "metadata": {},
   "outputs": [],
   "source": []
  },
  {
   "cell_type": "code",
   "execution_count": null,
   "id": "61efbdc5-9324-4793-b78a-f989298339fb",
   "metadata": {},
   "outputs": [],
   "source": []
  },
  {
   "cell_type": "code",
   "execution_count": null,
   "id": "81aede09-7e0f-443d-babc-11de29b64ff6",
   "metadata": {},
   "outputs": [],
   "source": []
  }
 ],
 "metadata": {
  "kernelspec": {
   "display_name": "Python [conda env:base] *",
   "language": "python",
   "name": "conda-base-py"
  },
  "language_info": {
   "codemirror_mode": {
    "name": "ipython",
    "version": 3
   },
   "file_extension": ".py",
   "mimetype": "text/x-python",
   "name": "python",
   "nbconvert_exporter": "python",
   "pygments_lexer": "ipython3",
   "version": "3.12.7"
  }
 },
 "nbformat": 4,
 "nbformat_minor": 5
}
