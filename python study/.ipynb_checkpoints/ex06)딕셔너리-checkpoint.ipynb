{
 "cells": [
  {
   "cell_type": "markdown",
   "id": "0589148d-4b17-4ee5-a630-27c6b957d3a8",
   "metadata": {},
   "source": [
    "### dictionary는 사전\n",
    "- key와 value를 한쌍으로 갖는 자료형\n",
    "- 딕셔너리 타입은 불변한 key와 변화가능한 value로 맵핑되어 있는 순서가 없는 집합"
   ]
  },
  {
   "cell_type": "code",
   "execution_count": 4,
   "id": "d1b03b99-e98c-4d2c-8631-32e1af48bca8",
   "metadata": {},
   "outputs": [
    {
     "data": {
      "text/plain": [
       "{'name': '김호성', 'age': 29, 'phone': '010-9629-3216'}"
      ]
     },
     "execution_count": 4,
     "metadata": {},
     "output_type": "execute_result"
    }
   ],
   "source": [
    "dict1 = {'name' : '김호성', 'age' : 29, 'phone' : '010-9629-3216'}\n",
    "dict1"
   ]
  },
  {
   "cell_type": "code",
   "execution_count": 8,
   "id": "0c759a10-b7ad-43f9-801d-ad63ffe74594",
   "metadata": {},
   "outputs": [
    {
     "data": {
      "text/plain": [
       "dict"
      ]
     },
     "execution_count": 8,
     "metadata": {},
     "output_type": "execute_result"
    }
   ],
   "source": [
    "type(dict1)"
   ]
  },
  {
   "cell_type": "code",
   "execution_count": 10,
   "id": "c238eaeb-e895-4310-80f9-b9f7de92bd31",
   "metadata": {},
   "outputs": [
    {
     "name": "stdout",
     "output_type": "stream",
     "text": [
      "<class 'dict'>\n"
     ]
    }
   ],
   "source": [
    "print(type(dict1))"
   ]
  },
  {
   "cell_type": "code",
   "execution_count": 12,
   "id": "d161ec1c-b0b9-4488-8ede-57e3ebae22bc",
   "metadata": {},
   "outputs": [
    {
     "data": {
      "text/plain": [
       "3"
      ]
     },
     "execution_count": 12,
     "metadata": {},
     "output_type": "execute_result"
    }
   ],
   "source": [
    "len(dict1)"
   ]
  },
  {
   "cell_type": "code",
   "execution_count": 6,
   "id": "44fa7ce7-e7e9-40b6-b9fb-662516e36c01",
   "metadata": {},
   "outputs": [
    {
     "name": "stdout",
     "output_type": "stream",
     "text": [
      "name\n",
      "age\n",
      "phone\n"
     ]
    }
   ],
   "source": [
    "for i in dict1: # 키 값으로 변환 > 3번 반복\n",
    "    print(i)"
   ]
  },
  {
   "cell_type": "code",
   "execution_count": 30,
   "id": "6c81d57a-194a-4e79-aa5a-168742315913",
   "metadata": {},
   "outputs": [
    {
     "name": "stdout",
     "output_type": "stream",
     "text": [
      "김호성\n",
      "29\n",
      "010-9629-3216\n",
      "\n"
     ]
    },
    {
     "data": {
      "text/plain": [
       "'김호성'"
      ]
     },
     "execution_count": 30,
     "metadata": {},
     "output_type": "execute_result"
    }
   ],
   "source": [
    "# 딕셔너리의 값 가져오기\n",
    "\n",
    "#print(dict1[1])\n",
    "# 딕셔너리는 순서가 없는 자료형이기 때문에 인덱스번호가 없음.\n",
    "#대신, key 값을 통해서 데이터를 가져옴\n",
    "\n",
    "print(dict1['name'])\n",
    "print(dict1['age'])\n",
    "print(dict1['phone'])\n",
    "\n",
    "print()\n",
    "\n",
    "dict1.get('name')"
   ]
  },
  {
   "cell_type": "code",
   "execution_count": 32,
   "id": "4cf8bdc4-3a24-413c-af73-4adef772b707",
   "metadata": {},
   "outputs": [
    {
     "data": {
      "text/plain": [
       "{'name': '김호성', 'age': 21, 'phone': '010-9629-3216'}"
      ]
     },
     "execution_count": 32,
     "metadata": {},
     "output_type": "execute_result"
    }
   ],
   "source": [
    "# 딕셔너리의 값 변경\n",
    "\n",
    "dict1['age'] = 21\n",
    "\n",
    "dict1"
   ]
  },
  {
   "cell_type": "code",
   "execution_count": 34,
   "id": "8a20e884-77c5-4005-a76d-f36908268d85",
   "metadata": {},
   "outputs": [
    {
     "data": {
      "text/plain": [
       "{'name': '김호성', 'age': 21, 'phone': '010-9629-3216', 'birth': '4/4'}"
      ]
     },
     "execution_count": 34,
     "metadata": {},
     "output_type": "execute_result"
    }
   ],
   "source": [
    "# 딕셔너리의 값 추가\n",
    "\n",
    "dict1['birth'] = '4/4'\n",
    "\n",
    "dict1"
   ]
  },
  {
   "cell_type": "code",
   "execution_count": 38,
   "id": "aa578260-a25e-4b6e-a394-54cf71ce798a",
   "metadata": {},
   "outputs": [
    {
     "data": {
      "text/plain": [
       "{'name': '김호성', 'phone': '010-9629-3216', 'birth': '4/4'}"
      ]
     },
     "execution_count": 38,
     "metadata": {},
     "output_type": "execute_result"
    }
   ],
   "source": [
    "# 딕셔너리의 값 삭제\n",
    "\n",
    "del dict1['age']\n",
    "\n",
    "dict1"
   ]
  },
  {
   "cell_type": "code",
   "execution_count": 40,
   "id": "4f15e5e8-1f88-4def-8861-eb02f5bc6b1a",
   "metadata": {},
   "outputs": [
    {
     "data": {
      "text/plain": [
       "{}"
      ]
     },
     "execution_count": 40,
     "metadata": {},
     "output_type": "execute_result"
    }
   ],
   "source": [
    "# 딕셔너리를 비워주는 함수\n",
    "# clear()\n",
    "\n",
    "dict1.clear()\n",
    "\n",
    "dict1"
   ]
  },
  {
   "cell_type": "code",
   "execution_count": 50,
   "id": "688b7640-de7f-4c8c-b917-b3f70f45f7e9",
   "metadata": {},
   "outputs": [
    {
     "data": {
      "text/plain": [
       "{'팀원1': '김호성'}"
      ]
     },
     "execution_count": 50,
     "metadata": {},
     "output_type": "execute_result"
    }
   ],
   "source": [
    "mini = {'팀원1' : '김호성'}\n",
    "\n",
    "mini"
   ]
  },
  {
   "cell_type": "code",
   "execution_count": 60,
   "id": "f56a0a7c-996c-4566-bcfc-1d25aeeac808",
   "metadata": {},
   "outputs": [
    {
     "data": {
      "text/plain": [
       "{'팀원1': '김호성', '팀원2': '한수연', '팀원3': '이주연', '팀원4': '박지은'}"
      ]
     },
     "execution_count": 60,
     "metadata": {},
     "output_type": "execute_result"
    }
   ],
   "source": [
    "# 1. 딕셔너리 값 추가를 통해서 미니프로젝트 팀원 완성\n",
    "# 2. 딕셔너리 값 삭제 or 변경 or 추가를 통해 현재 팀원으로 변경 {'팀원2' : '한수연','팀원3' : '이주연','팀원4' : '박지은'}\n",
    "\n",
    "mini['팀원2'] = '한수연'\n",
    "mini\n",
    "mini['팀원3'] = '이주연'\n",
    "mini\n",
    "mini['팀원4'] = '박지은'\n",
    "mini"
   ]
  },
  {
   "cell_type": "code",
   "execution_count": 66,
   "id": "15d59314-dd52-4349-ad9e-d8529edf9233",
   "metadata": {},
   "outputs": [
    {
     "data": {
      "text/plain": [
       "{'팀장': '옥진석', '팀원1': '김호성', '팀원2': '이수현', '팀원3': '이주연', '팀원4': '최은혜'}"
      ]
     },
     "execution_count": 66,
     "metadata": {},
     "output_type": "execute_result"
    }
   ],
   "source": [
    "hacksim = {'팀장':'옥진석','팀원1':'김호성','팀원2':'이수현','팀원3':'이주연','팀원4':'최은혜'}\n",
    "hacksim"
   ]
  },
  {
   "cell_type": "code",
   "execution_count": 68,
   "id": "d6edbc34-360b-4ce7-9dd2-72bcf8878f43",
   "metadata": {},
   "outputs": [
    {
     "data": {
      "text/plain": [
       "{'이름': ['신재영', '신재영', '임승환', '이도연', '주미리'],\n",
       " 'Python': [95, 100, 85, 90, 80],\n",
       " 'Java': [85, 80, 100, 95, 85],\n",
       " 'html/css': [75, 70, 90, 80, 90]}"
      ]
     },
     "execution_count": 68,
     "metadata": {},
     "output_type": "execute_result"
    }
   ],
   "source": [
    "score_dict = {'이름':['신재영','신재영','임승환','이도연','주미리'],\n",
    "        'Python':[95,100,85,90,80],\n",
    "        'Java':[85,80,100,95,85],\n",
    "        'html/css':[75,70,90,80,90]}\n",
    "score_dict\n"
   ]
  },
  {
   "cell_type": "code",
   "execution_count": 70,
   "id": "0227ca5a-0e23-4872-8368-f3dda62fc5bd",
   "metadata": {},
   "outputs": [
    {
     "data": {
      "text/plain": [
       "['신재영', '신재영', '임승환', '이도연', '주미리']"
      ]
     },
     "execution_count": 70,
     "metadata": {},
     "output_type": "execute_result"
    }
   ],
   "source": [
    "score_dict['이름']"
   ]
  },
  {
   "cell_type": "code",
   "execution_count": 72,
   "id": "2135a7c8-cf2a-43dd-9f30-47df8580bd3e",
   "metadata": {},
   "outputs": [
    {
     "data": {
      "text/plain": [
       "list"
      ]
     },
     "execution_count": 72,
     "metadata": {},
     "output_type": "execute_result"
    }
   ],
   "source": [
    "type(score_dict['이름'])"
   ]
  },
  {
   "cell_type": "code",
   "execution_count": 74,
   "id": "1077f06c-3805-40cf-9cc7-548178e209eb",
   "metadata": {},
   "outputs": [
    {
     "data": {
      "text/plain": [
       "5"
      ]
     },
     "execution_count": 74,
     "metadata": {},
     "output_type": "execute_result"
    }
   ],
   "source": [
    "len(score_dict['이름'])"
   ]
  },
  {
   "cell_type": "code",
   "execution_count": 76,
   "id": "156ee1cc-0af3-4e20-972a-e4a65cd7bbb0",
   "metadata": {},
   "outputs": [
    {
     "data": {
      "text/plain": [
       "'이도연'"
      ]
     },
     "execution_count": 76,
     "metadata": {},
     "output_type": "execute_result"
    }
   ],
   "source": [
    "score_dict['이름'][3]"
   ]
  },
  {
   "cell_type": "code",
   "execution_count": 78,
   "id": "ae6489d6-6708-4700-ae9e-46076a5369a1",
   "metadata": {},
   "outputs": [
    {
     "data": {
      "text/plain": [
       "[95, 100, 85, 90, 80]"
      ]
     },
     "execution_count": 78,
     "metadata": {},
     "output_type": "execute_result"
    }
   ],
   "source": [
    "score_dict['Python']"
   ]
  },
  {
   "cell_type": "markdown",
   "id": "050c2505-effe-4c6e-96ca-d0b4dba2ff08",
   "metadata": {},
   "source": [
    "### 사용자로부터 이름을 입력받아, 해당 학생의 Python, Java, html/css 의 평균점수 출력\n",
    "- 완료 후 잘못된 입력시 안내문구 출력"
   ]
  },
  {
   "cell_type": "code",
   "execution_count": 145,
   "id": "d175284f-12cd-44c4-b74c-fda8a859f958",
   "metadata": {},
   "outputs": [
    {
     "name": "stdin",
     "output_type": "stream",
     "text": [
      "학생 이름을 입력하세요 : 이도연\n"
     ]
    },
    {
     "name": "stdout",
     "output_type": "stream",
     "text": [
      "이도연의 Python, Java, html/css 성적의 평균 : 88.33333333333333\n"
     ]
    }
   ],
   "source": [
    "avg = 0 # 평균 값\n",
    "check = True # 이름 체크용\n",
    "name = input('학생 이름을 입력하세요 :')\n",
    "\n",
    "for i in range(len(score_dict['이름'])):\n",
    "    if score_dict['이름'][i]==name:\n",
    "        avg= (score_dict['Python'][i]+score_dict['Java'][i]+score_dict['html/css'][i])/3\n",
    "        print(f'{name}의 Python, Java, html/css 성적의 평균 : {avg}')\n",
    "        check = False\n",
    "if check:\n",
    "    print('검색 결과가 없습니다.')\n",
    "\n",
    "\n"
   ]
  },
  {
   "cell_type": "code",
   "execution_count": null,
   "id": "420aa653-cbb0-4610-8020-24ac3c67f50b",
   "metadata": {},
   "outputs": [],
   "source": []
  }
 ],
 "metadata": {
  "kernelspec": {
   "display_name": "Python [conda env:base] *",
   "language": "python",
   "name": "conda-base-py"
  },
  "language_info": {
   "codemirror_mode": {
    "name": "ipython",
    "version": 3
   },
   "file_extension": ".py",
   "mimetype": "text/x-python",
   "name": "python",
   "nbconvert_exporter": "python",
   "pygments_lexer": "ipython3",
   "version": "3.12.7"
  }
 },
 "nbformat": 4,
 "nbformat_minor": 5
}
