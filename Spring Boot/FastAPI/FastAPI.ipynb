{
 "cells": [
  {
   "cell_type": "markdown",
   "id": "d67f5e2b-df54-4f39-b061-735c94eb84e2",
   "metadata": {},
   "source": [
    "# 필요한 라이브러리 설치\n",
    "- fastAPI : python쪽에 요청을 처리할 수 있는 서버를 로드하는 라이브러리(flask 라이브러리와 유사)\n",
    "- uvicorn : 서버 재요청을 할 때마다, 서버를 자동으로 재부팅 해주는 라이브러리"
   ]
  },
  {
   "cell_type": "code",
   "execution_count": 1,
   "id": "5520520e-ad3f-49a4-9644-50b585aef3e9",
   "metadata": {
    "collapsed": true,
    "jupyter": {
     "outputs_hidden": true
    }
   },
   "outputs": [
    {
     "name": "stdout",
     "output_type": "stream",
     "text": [
      "Requirement already satisfied: fastapi in c:\\users\\a\\anaconda3\\lib\\site-packages (0.115.13)\n",
      "Requirement already satisfied: starlette<0.47.0,>=0.40.0 in c:\\users\\a\\anaconda3\\lib\\site-packages (from fastapi) (0.46.2)\n",
      "Requirement already satisfied: pydantic!=1.8,!=1.8.1,!=2.0.0,!=2.0.1,!=2.1.0,<3.0.0,>=1.7.4 in c:\\users\\a\\anaconda3\\lib\\site-packages (from fastapi) (2.8.2)\n",
      "Requirement already satisfied: typing-extensions>=4.8.0 in c:\\users\\a\\anaconda3\\lib\\site-packages (from fastapi) (4.14.0)\n",
      "Requirement already satisfied: annotated-types>=0.4.0 in c:\\users\\a\\anaconda3\\lib\\site-packages (from pydantic!=1.8,!=1.8.1,!=2.0.0,!=2.0.1,!=2.1.0,<3.0.0,>=1.7.4->fastapi) (0.6.0)\n",
      "Requirement already satisfied: pydantic-core==2.20.1 in c:\\users\\a\\anaconda3\\lib\\site-packages (from pydantic!=1.8,!=1.8.1,!=2.0.0,!=2.0.1,!=2.1.0,<3.0.0,>=1.7.4->fastapi) (2.20.1)\n",
      "Requirement already satisfied: anyio<5,>=3.6.2 in c:\\users\\a\\anaconda3\\lib\\site-packages (from starlette<0.47.0,>=0.40.0->fastapi) (4.2.0)\n",
      "Requirement already satisfied: idna>=2.8 in c:\\users\\a\\anaconda3\\lib\\site-packages (from anyio<5,>=3.6.2->starlette<0.47.0,>=0.40.0->fastapi) (3.7)\n",
      "Requirement already satisfied: sniffio>=1.1 in c:\\users\\a\\anaconda3\\lib\\site-packages (from anyio<5,>=3.6.2->starlette<0.47.0,>=0.40.0->fastapi) (1.3.0)\n"
     ]
    }
   ],
   "source": [
    "!pip install fastapi"
   ]
  },
  {
   "cell_type": "code",
   "execution_count": 3,
   "id": "2fa2a84b-4134-4dc3-8648-fbda5f23574f",
   "metadata": {},
   "outputs": [
    {
     "name": "stdout",
     "output_type": "stream",
     "text": [
      "Requirement already satisfied: uvicorn[standard] in c:\\users\\a\\anaconda3\\lib\\site-packages (0.34.3)\n",
      "Requirement already satisfied: click>=7.0 in c:\\users\\a\\anaconda3\\lib\\site-packages (from uvicorn[standard]) (8.1.7)\n",
      "Requirement already satisfied: h11>=0.8 in c:\\users\\a\\anaconda3\\lib\\site-packages (from uvicorn[standard]) (0.14.0)\n",
      "Requirement already satisfied: colorama>=0.4 in c:\\users\\a\\anaconda3\\lib\\site-packages (from uvicorn[standard]) (0.4.6)\n",
      "Requirement already satisfied: httptools>=0.6.3 in c:\\users\\a\\anaconda3\\lib\\site-packages (from uvicorn[standard]) (0.6.4)\n",
      "Requirement already satisfied: python-dotenv>=0.13 in c:\\users\\a\\anaconda3\\lib\\site-packages (from uvicorn[standard]) (0.21.0)\n",
      "Requirement already satisfied: pyyaml>=5.1 in c:\\users\\a\\anaconda3\\lib\\site-packages (from uvicorn[standard]) (6.0.1)\n",
      "Requirement already satisfied: watchfiles>=0.13 in c:\\users\\a\\anaconda3\\lib\\site-packages (from uvicorn[standard]) (1.1.0)\n",
      "Requirement already satisfied: websockets>=10.4 in c:\\users\\a\\anaconda3\\lib\\site-packages (from uvicorn[standard]) (15.0.1)\n",
      "Requirement already satisfied: anyio>=3.0.0 in c:\\users\\a\\anaconda3\\lib\\site-packages (from watchfiles>=0.13->uvicorn[standard]) (4.2.0)\n",
      "Requirement already satisfied: idna>=2.8 in c:\\users\\a\\anaconda3\\lib\\site-packages (from anyio>=3.0.0->watchfiles>=0.13->uvicorn[standard]) (3.7)\n",
      "Requirement already satisfied: sniffio>=1.1 in c:\\users\\a\\anaconda3\\lib\\site-packages (from anyio>=3.0.0->watchfiles>=0.13->uvicorn[standard]) (1.3.0)\n"
     ]
    }
   ],
   "source": [
    "!pip install uvicorn[standard]"
   ]
  },
  {
   "cell_type": "code",
   "execution_count": 10,
   "id": "99b32e0b-dbf6-42a1-b21e-86dce15d41b1",
   "metadata": {
    "collapsed": true,
    "jupyter": {
     "outputs_hidden": true
    }
   },
   "outputs": [
    {
     "name": "stdout",
     "output_type": "stream",
     "text": [
      "Requirement already satisfied: nbconvert in c:\\users\\a\\anaconda3\\lib\\site-packages (7.16.4)\n",
      "Requirement already satisfied: beautifulsoup4 in c:\\users\\a\\anaconda3\\lib\\site-packages (from nbconvert) (4.12.3)\n",
      "Requirement already satisfied: bleach!=5.0.0 in c:\\users\\a\\anaconda3\\lib\\site-packages (from nbconvert) (4.1.0)\n",
      "Requirement already satisfied: defusedxml in c:\\users\\a\\anaconda3\\lib\\site-packages (from nbconvert) (0.7.1)\n",
      "Requirement already satisfied: jinja2>=3.0 in c:\\users\\a\\anaconda3\\lib\\site-packages (from nbconvert) (3.1.6)\n",
      "Requirement already satisfied: jupyter-core>=4.7 in c:\\users\\a\\anaconda3\\lib\\site-packages (from nbconvert) (5.7.2)\n",
      "Requirement already satisfied: jupyterlab-pygments in c:\\users\\a\\anaconda3\\lib\\site-packages (from nbconvert) (0.1.2)\n",
      "Requirement already satisfied: markupsafe>=2.0 in c:\\users\\a\\anaconda3\\lib\\site-packages (from nbconvert) (2.1.3)\n",
      "Requirement already satisfied: mistune<4,>=2.0.3 in c:\\users\\a\\anaconda3\\lib\\site-packages (from nbconvert) (2.0.4)\n",
      "Requirement already satisfied: nbclient>=0.5.0 in c:\\users\\a\\anaconda3\\lib\\site-packages (from nbconvert) (0.8.0)\n",
      "Requirement already satisfied: nbformat>=5.7 in c:\\users\\a\\anaconda3\\lib\\site-packages (from nbconvert) (5.10.4)\n",
      "Requirement already satisfied: packaging in c:\\users\\a\\anaconda3\\lib\\site-packages (from nbconvert) (24.1)\n",
      "Requirement already satisfied: pandocfilters>=1.4.1 in c:\\users\\a\\anaconda3\\lib\\site-packages (from nbconvert) (1.5.0)\n",
      "Requirement already satisfied: pygments>=2.4.1 in c:\\users\\a\\anaconda3\\lib\\site-packages (from nbconvert) (2.15.1)\n",
      "Requirement already satisfied: tinycss2 in c:\\users\\a\\anaconda3\\lib\\site-packages (from nbconvert) (1.2.1)\n",
      "Requirement already satisfied: traitlets>=5.1 in c:\\users\\a\\anaconda3\\lib\\site-packages (from nbconvert) (5.14.3)\n",
      "Requirement already satisfied: six>=1.9.0 in c:\\users\\a\\anaconda3\\lib\\site-packages (from bleach!=5.0.0->nbconvert) (1.16.0)\n",
      "Requirement already satisfied: webencodings in c:\\users\\a\\anaconda3\\lib\\site-packages (from bleach!=5.0.0->nbconvert) (0.5.1)\n",
      "Requirement already satisfied: platformdirs>=2.5 in c:\\users\\a\\anaconda3\\lib\\site-packages (from jupyter-core>=4.7->nbconvert) (3.10.0)\n",
      "Requirement already satisfied: pywin32>=300 in c:\\users\\a\\anaconda3\\lib\\site-packages (from jupyter-core>=4.7->nbconvert) (305.1)\n",
      "Requirement already satisfied: jupyter-client>=6.1.12 in c:\\users\\a\\anaconda3\\lib\\site-packages (from nbclient>=0.5.0->nbconvert) (8.6.0)\n",
      "Requirement already satisfied: fastjsonschema>=2.15 in c:\\users\\a\\anaconda3\\lib\\site-packages (from nbformat>=5.7->nbconvert) (2.16.2)\n",
      "Requirement already satisfied: jsonschema>=2.6 in c:\\users\\a\\anaconda3\\lib\\site-packages (from nbformat>=5.7->nbconvert) (4.23.0)\n",
      "Requirement already satisfied: soupsieve>1.2 in c:\\users\\a\\anaconda3\\lib\\site-packages (from beautifulsoup4->nbconvert) (2.5)\n",
      "Requirement already satisfied: attrs>=22.2.0 in c:\\users\\a\\anaconda3\\lib\\site-packages (from jsonschema>=2.6->nbformat>=5.7->nbconvert) (25.3.0)\n",
      "Requirement already satisfied: jsonschema-specifications>=2023.03.6 in c:\\users\\a\\anaconda3\\lib\\site-packages (from jsonschema>=2.6->nbformat>=5.7->nbconvert) (2023.7.1)\n",
      "Requirement already satisfied: referencing>=0.28.4 in c:\\users\\a\\anaconda3\\lib\\site-packages (from jsonschema>=2.6->nbformat>=5.7->nbconvert) (0.30.2)\n",
      "Requirement already satisfied: rpds-py>=0.7.1 in c:\\users\\a\\anaconda3\\lib\\site-packages (from jsonschema>=2.6->nbformat>=5.7->nbconvert) (0.10.6)\n",
      "Requirement already satisfied: python-dateutil>=2.8.2 in c:\\users\\a\\anaconda3\\lib\\site-packages (from jupyter-client>=6.1.12->nbclient>=0.5.0->nbconvert) (2.9.0.post0)\n",
      "Requirement already satisfied: pyzmq>=23.0 in c:\\users\\a\\anaconda3\\lib\\site-packages (from jupyter-client>=6.1.12->nbclient>=0.5.0->nbconvert) (25.1.2)\n",
      "Requirement already satisfied: tornado>=6.2 in c:\\users\\a\\anaconda3\\lib\\site-packages (from jupyter-client>=6.1.12->nbclient>=0.5.0->nbconvert) (6.4.1)\n"
     ]
    }
   ],
   "source": [
    "!pip install nbconvert"
   ]
  },
  {
   "cell_type": "markdown",
   "id": "9eea87ef-5fd7-4d26-89bd-0f7e8c31eef8",
   "metadata": {},
   "source": [
    "# Fast API 사용하기"
   ]
  },
  {
   "cell_type": "code",
   "execution_count": 6,
   "id": "3097b69c-54fb-483c-b4d0-4c18bf11be43",
   "metadata": {},
   "outputs": [],
   "source": [
    "# 1. 라이브러리 가져오기\n",
    "from fastapi import FastAPI"
   ]
  },
  {
   "cell_type": "code",
   "execution_count": 16,
   "id": "e8c4a7b1-4514-45e7-af8a-c20fa12c4b15",
   "metadata": {},
   "outputs": [],
   "source": [
    "# 2. FastAPI를 기반으로 한 APP 생성\n",
    "app = FastAPI()\n",
    "\n",
    "# 3. 요청을 할 수 있는 url - 함수를 생성\n",
    "@app.get(\"/temp\")\n",
    "def temp():\n",
    "    return \"success\""
   ]
  },
  {
   "cell_type": "code",
   "execution_count": 12,
   "id": "1b8fbf7a-1b0e-4f24-9268-f9678c12142a",
   "metadata": {},
   "outputs": [],
   "source": [
    "# 동일 출처 정책을 풀어줄 수 있는 설정을 잡아보자\n",
    "from fastapi.middleware.cors import CORSMiddleware"
   ]
  },
  {
   "cell_type": "code",
   "execution_count": 18,
   "id": "e248d846-abe6-4420-adaa-498dc95da315",
   "metadata": {},
   "outputs": [],
   "source": [
    "# app : controller. app에 middleware를 끼운다 > CORS 정책을 풀어주려고\n",
    "app.add_middleware(\n",
    "    CORSMiddleware,\n",
    "    # 접근 허용할 출처\n",
    "    allow_origins = [\"http://localhost:8090\"],\n",
    "    allow_methods = [\"*\"],\n",
    "    allow_headers = [\"*\"],\n",
    "    allow_credentials = True\n",
    ")"
   ]
  },
  {
   "cell_type": "code",
   "execution_count": 58,
   "id": "cf0550ad-6385-46e8-b697-38f42c0d702a",
   "metadata": {},
   "outputs": [],
   "source": [
    "from selenium import webdriver as wb\n",
    "from selenium.webdriver.common.by import By"
   ]
  },
  {
   "cell_type": "code",
   "execution_count": 56,
   "id": "61a2d551-9ba7-44e5-8a59-8c401489e569",
   "metadata": {},
   "outputs": [],
   "source": [
    "def crawling(search):\n",
    "    driver = wb.Chrome()\n",
    "    driver.get(f\"https://search.naver.com/search.naver?ssc=tab.image.all&where=image&sm=tab_jum&query={search}\")\n",
    "    driver.implicitly_wait(5)\n",
    "    \n",
    "    img = driver.find_element(By.CSS_SELECTOR, \"#main_pack > section > div.api_subject_bx._fe_image_tab_grid_root.ani_fadein > div > div > div.image_tile._fe_image_tab_grid > div:nth-child(1) > div > div > div > img\")\n",
    "    img_src = img.get_attribute(\"src\")\n",
    "    \n",
    "    driver.quit()\n",
    "    \n",
    "    return img_src"
   ]
  },
  {
   "cell_type": "code",
   "execution_count": null,
   "id": "9935e4b3-714f-4f5c-9b4e-f8d081ee3dbc",
   "metadata": {},
   "outputs": [],
   "source": []
  },
  {
   "cell_type": "code",
   "execution_count": null,
   "id": "f915e4b7-2ad8-4f1e-803b-b65203ec3a69",
   "metadata": {},
   "outputs": [],
   "source": []
  },
  {
   "cell_type": "code",
   "execution_count": null,
   "id": "3322384b-19f5-4459-b45f-6eac2900c947",
   "metadata": {},
   "outputs": [],
   "source": []
  },
  {
   "cell_type": "code",
   "execution_count": null,
   "id": "500b548a-3309-45db-ba02-8ab624cce30c",
   "metadata": {},
   "outputs": [],
   "source": []
  },
  {
   "cell_type": "code",
   "execution_count": null,
   "id": "18183126-1f3b-43af-9315-ef4857e6eaf6",
   "metadata": {},
   "outputs": [],
   "source": []
  },
  {
   "cell_type": "code",
   "execution_count": null,
   "id": "e4006279-9620-4479-9ad4-ed1cd1aef2c7",
   "metadata": {},
   "outputs": [],
   "source": []
  },
  {
   "cell_type": "code",
   "execution_count": null,
   "id": "21515e0b-8385-411b-b75d-5f7fe183c923",
   "metadata": {},
   "outputs": [],
   "source": []
  },
  {
   "cell_type": "code",
   "execution_count": null,
   "id": "594a938f-bd4c-4e1a-95f2-17c06e0f5f36",
   "metadata": {},
   "outputs": [],
   "source": []
  },
  {
   "cell_type": "code",
   "execution_count": null,
   "id": "d0841609-dfa9-4d93-9e85-f1f6dc91c6b0",
   "metadata": {},
   "outputs": [],
   "source": []
  },
  {
   "cell_type": "code",
   "execution_count": null,
   "id": "cdb8b0c5-afb1-4bce-b9de-be552c71db95",
   "metadata": {},
   "outputs": [],
   "source": []
  },
  {
   "cell_type": "code",
   "execution_count": null,
   "id": "f066ae0e-8dad-4de9-98a6-80b6ed692539",
   "metadata": {},
   "outputs": [],
   "source": []
  },
  {
   "cell_type": "code",
   "execution_count": null,
   "id": "2736507e-5ab4-49f4-820c-d8a4ead77bbc",
   "metadata": {},
   "outputs": [],
   "source": []
  },
  {
   "cell_type": "code",
   "execution_count": null,
   "id": "7c47c18a-0a1d-4c7d-89e3-81838fe91d9b",
   "metadata": {},
   "outputs": [],
   "source": []
  },
  {
   "cell_type": "code",
   "execution_count": null,
   "id": "1614a1bc-3b29-494b-aae7-e026674cefd4",
   "metadata": {},
   "outputs": [],
   "source": []
  },
  {
   "cell_type": "code",
   "execution_count": null,
   "id": "27ce3e18-2d91-446c-b474-01d333bffdf4",
   "metadata": {},
   "outputs": [],
   "source": []
  },
  {
   "cell_type": "code",
   "execution_count": null,
   "id": "4d84e424-86e1-4ce6-8ee9-77fa395439a8",
   "metadata": {},
   "outputs": [],
   "source": []
  },
  {
   "cell_type": "code",
   "execution_count": null,
   "id": "19705909-88cd-4560-ad65-79e9e5fbe621",
   "metadata": {},
   "outputs": [],
   "source": []
  },
  {
   "cell_type": "code",
   "execution_count": null,
   "id": "42f95ae3-66e4-4197-b76b-18b9fdfdaf9d",
   "metadata": {},
   "outputs": [],
   "source": []
  }
 ],
 "metadata": {
  "kernelspec": {
   "display_name": "Python [conda env:base] *",
   "language": "python",
   "name": "conda-base-py"
  },
  "language_info": {
   "codemirror_mode": {
    "name": "ipython",
    "version": 3
   },
   "file_extension": ".py",
   "mimetype": "text/x-python",
   "name": "python",
   "nbconvert_exporter": "python",
   "pygments_lexer": "ipython3",
   "version": "3.12.7"
  }
 },
 "nbformat": 4,
 "nbformat_minor": 5
}
