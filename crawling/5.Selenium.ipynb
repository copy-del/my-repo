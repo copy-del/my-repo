{
 "cells": [
  {
   "cell_type": "markdown",
   "id": "59dda001-3feb-4fa3-887a-a5435f1fc9d3",
   "metadata": {},
   "source": [
    "### selenium 라이브러리 설치"
   ]
  },
  {
   "cell_type": "code",
   "execution_count": 3,
   "id": "ab01e91a-c648-40f8-ba80-74d7133dd09b",
   "metadata": {
    "collapsed": true,
    "jupyter": {
     "outputs_hidden": true
    },
    "scrolled": true
   },
   "outputs": [
    {
     "name": "stdout",
     "output_type": "stream",
     "text": [
      "Collecting selenium\n",
      "  Downloading selenium-4.31.0-py3-none-any.whl.metadata (7.5 kB)\n",
      "Requirement already satisfied: urllib3<3,>=1.26 in c:\\users\\a\\anaconda3\\lib\\site-packages (from urllib3[socks]<3,>=1.26->selenium) (2.2.3)\n",
      "Collecting trio~=0.17 (from selenium)\n",
      "  Downloading trio-0.29.0-py3-none-any.whl.metadata (8.5 kB)\n",
      "Collecting trio-websocket~=0.9 (from selenium)\n",
      "  Downloading trio_websocket-0.12.2-py3-none-any.whl.metadata (5.1 kB)\n",
      "Requirement already satisfied: certifi>=2021.10.8 in c:\\users\\a\\anaconda3\\lib\\site-packages (from selenium) (2025.1.31)\n",
      "Requirement already satisfied: typing_extensions~=4.9 in c:\\users\\a\\anaconda3\\lib\\site-packages (from selenium) (4.11.0)\n",
      "Requirement already satisfied: websocket-client~=1.8 in c:\\users\\a\\anaconda3\\lib\\site-packages (from selenium) (1.8.0)\n",
      "Collecting attrs>=23.2.0 (from trio~=0.17->selenium)\n",
      "  Downloading attrs-25.3.0-py3-none-any.whl.metadata (10 kB)\n",
      "Requirement already satisfied: sortedcontainers in c:\\users\\a\\anaconda3\\lib\\site-packages (from trio~=0.17->selenium) (2.4.0)\n",
      "Requirement already satisfied: idna in c:\\users\\a\\anaconda3\\lib\\site-packages (from trio~=0.17->selenium) (3.7)\n",
      "Collecting outcome (from trio~=0.17->selenium)\n",
      "  Downloading outcome-1.3.0.post0-py2.py3-none-any.whl.metadata (2.6 kB)\n",
      "Requirement already satisfied: sniffio>=1.3.0 in c:\\users\\a\\anaconda3\\lib\\site-packages (from trio~=0.17->selenium) (1.3.0)\n",
      "Requirement already satisfied: cffi>=1.14 in c:\\users\\a\\anaconda3\\lib\\site-packages (from trio~=0.17->selenium) (1.17.1)\n",
      "Collecting wsproto>=0.14 (from trio-websocket~=0.9->selenium)\n",
      "  Downloading wsproto-1.2.0-py3-none-any.whl.metadata (5.6 kB)\n",
      "Requirement already satisfied: pysocks!=1.5.7,<2.0,>=1.5.6 in c:\\users\\a\\anaconda3\\lib\\site-packages (from urllib3[socks]<3,>=1.26->selenium) (1.7.1)\n",
      "Requirement already satisfied: pycparser in c:\\users\\a\\anaconda3\\lib\\site-packages (from cffi>=1.14->trio~=0.17->selenium) (2.21)\n",
      "Requirement already satisfied: h11<1,>=0.9.0 in c:\\users\\a\\anaconda3\\lib\\site-packages (from wsproto>=0.14->trio-websocket~=0.9->selenium) (0.14.0)\n",
      "Downloading selenium-4.31.0-py3-none-any.whl (9.4 MB)\n",
      "   ---------------------------------------- 0.0/9.4 MB ? eta -:--:--\n",
      "   ---------------------------------------- 9.4/9.4 MB 83.4 MB/s eta 0:00:00\n",
      "Downloading trio-0.29.0-py3-none-any.whl (492 kB)\n",
      "Downloading trio_websocket-0.12.2-py3-none-any.whl (21 kB)\n",
      "Downloading attrs-25.3.0-py3-none-any.whl (63 kB)\n",
      "Downloading outcome-1.3.0.post0-py2.py3-none-any.whl (10 kB)\n",
      "Downloading wsproto-1.2.0-py3-none-any.whl (24 kB)\n",
      "Installing collected packages: wsproto, attrs, outcome, trio, trio-websocket, selenium\n",
      "  Attempting uninstall: attrs\n",
      "    Found existing installation: attrs 23.1.0\n",
      "    Uninstalling attrs-23.1.0:\n",
      "      Successfully uninstalled attrs-23.1.0\n",
      "Successfully installed attrs-25.3.0 outcome-1.3.0.post0 selenium-4.31.0 trio-0.29.0 trio-websocket-0.12.2 wsproto-1.2.0\n"
     ]
    }
   ],
   "source": [
    "!pip install selenium"
   ]
  },
  {
   "cell_type": "code",
   "execution_count": 11,
   "id": "0bf3cb9b-1861-4609-a153-b6d65c9522dd",
   "metadata": {},
   "outputs": [],
   "source": [
    "# 라이브러리 호출\n",
    "# webdriver : 크롬 창 역할\n",
    "from selenium import webdriver as wb\n",
    "# 키보드 라이브러리\n",
    "from selenium.webdriver.common.keys import Keys\n",
    "# 선택자 라이브러리\n",
    "from selenium.webdriver.common.by import By"
   ]
  },
  {
   "cell_type": "code",
   "execution_count": 17,
   "id": "31cdf531-af0a-40a1-b848-e83a1ad3ff15",
   "metadata": {},
   "outputs": [],
   "source": [
    "# 크롬 창에 대한 역할\n",
    "driver = wb.Chrome()"
   ]
  },
  {
   "cell_type": "code",
   "execution_count": 19,
   "id": "4240b938-eda0-4b60-8c3b-fdcc3ac17239",
   "metadata": {},
   "outputs": [],
   "source": [
    "# 페이지 이동\n",
    "driver.get(\"https://www.naver.com/\")"
   ]
  },
  {
   "cell_type": "code",
   "execution_count": 21,
   "id": "dd505084-31de-4dfc-b2b5-e6673aa03d77",
   "metadata": {},
   "outputs": [],
   "source": [
    "# 검색을 해보자\n",
    "# .find_element() > 필요한 요소를 찾는 명령\n",
    "# .find_elemests() > 필요한 요소를 찾는 명령\n",
    "search = driver.find_element(By.ID,\"query\")"
   ]
  },
  {
   "cell_type": "code",
   "execution_count": 23,
   "id": "4d83a281-9411-4ed2-8b6d-5b176587197d",
   "metadata": {},
   "outputs": [],
   "source": [
    "# .send_keys() > 특정 값을 전달할 수 있음\n",
    "search.send_keys(\"주말날씨\")"
   ]
  },
  {
   "cell_type": "code",
   "execution_count": 25,
   "id": "b9a7914d-6f64-4d0f-b38d-808f6e0ec256",
   "metadata": {},
   "outputs": [],
   "source": [
    "# 엔터치기\n",
    "search.send_keys(Keys.ENTER)"
   ]
  },
  {
   "cell_type": "code",
   "execution_count": 27,
   "id": "c07182a8-f7a1-484a-8657-70c6916c7501",
   "metadata": {},
   "outputs": [],
   "source": [
    "# 화면 스크롤\n",
    "body = driver.find_element(By.TAG_NAME,\"body\")\n",
    "body.send_keys(Keys.END)"
   ]
  },
  {
   "cell_type": "code",
   "execution_count": 29,
   "id": "e59b3ec1-dd0c-49e2-b773-ad974353d48c",
   "metadata": {},
   "outputs": [],
   "source": [
    "# 페이지 뒤로가기\n",
    "# 태그X. 크롬이 가지고 있는 기능.\n",
    "driver.back()"
   ]
  },
  {
   "cell_type": "code",
   "execution_count": null,
   "id": "08b0b3e4-fa3d-44bf-99e9-3a1a6075ebb7",
   "metadata": {},
   "outputs": [],
   "source": [
    "# 화면 전환이 일어나면 (검색, 뒤로가기)\n",
    "# 컴퓨터는 모든 기억을 잃어버림\n",
    "# 그래서 필요한 요소를 다시 검색해야 함"
   ]
  },
  {
   "cell_type": "code",
   "execution_count": 33,
   "id": "ada478ab-4c7e-4b4d-acf0-c07bac7fa0ad",
   "metadata": {},
   "outputs": [],
   "source": [
    "search = driver.find_element(By.ID,\"query\")\n",
    "search.send_keys(\"정보처리기사\")"
   ]
  },
  {
   "cell_type": "code",
   "execution_count": 35,
   "id": "29198f24-6e2d-4b1a-b2e4-3a687d0fab58",
   "metadata": {},
   "outputs": [],
   "source": [
    "# 검색 버튼 클릭\n",
    "search_btn = driver.find_element(By.CLASS_NAME,\"btn_search\")\n",
    "search_btn.click()"
   ]
  },
  {
   "cell_type": "code",
   "execution_count": 37,
   "id": "980d74bc-b846-4bc6-809f-1339948d5bc3",
   "metadata": {},
   "outputs": [],
   "source": [
    "# 크롬 창 종료\n",
    "driver.quit()"
   ]
  },
  {
   "cell_type": "code",
   "execution_count": null,
   "id": "02a97e77-3efd-4855-8b57-792d9417be23",
   "metadata": {},
   "outputs": [],
   "source": []
  },
  {
   "cell_type": "code",
   "execution_count": null,
   "id": "8c699042-6d2c-4674-a329-92419ba6ae11",
   "metadata": {},
   "outputs": [],
   "source": []
  },
  {
   "cell_type": "code",
   "execution_count": null,
   "id": "298975ac-6f77-4b2c-82d1-8a61970b0d7f",
   "metadata": {},
   "outputs": [],
   "source": []
  },
  {
   "cell_type": "code",
   "execution_count": null,
   "id": "5d221251-fa3c-4775-a950-e7489edd5c6f",
   "metadata": {},
   "outputs": [],
   "source": []
  },
  {
   "cell_type": "code",
   "execution_count": null,
   "id": "1ea5b95d-844e-4da2-a532-22fe6bab28ad",
   "metadata": {},
   "outputs": [],
   "source": []
  },
  {
   "cell_type": "code",
   "execution_count": null,
   "id": "5eaefc51-4205-4b31-8744-19de1b209058",
   "metadata": {},
   "outputs": [],
   "source": []
  },
  {
   "cell_type": "code",
   "execution_count": null,
   "id": "b8595aad-0c9c-4609-af66-75378bf5481a",
   "metadata": {},
   "outputs": [],
   "source": []
  }
 ],
 "metadata": {
  "kernelspec": {
   "display_name": "Python [conda env:base] *",
   "language": "python",
   "name": "conda-base-py"
  },
  "language_info": {
   "codemirror_mode": {
    "name": "ipython",
    "version": 3
   },
   "file_extension": ".py",
   "mimetype": "text/x-python",
   "name": "python",
   "nbconvert_exporter": "python",
   "pygments_lexer": "ipython3",
   "version": "3.12.7"
  }
 },
 "nbformat": 4,
 "nbformat_minor": 5
}
