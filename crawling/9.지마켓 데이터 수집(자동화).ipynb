{
 "cells": [
  {
   "cell_type": "code",
   "execution_count": 1,
   "id": "7513a75e-c8be-4da2-9011-9ba25a601c90",
   "metadata": {
    "collapsed": true,
    "jupyter": {
     "outputs_hidden": true
    }
   },
   "outputs": [
    {
     "name": "stdout",
     "output_type": "stream",
     "text": [
      "Requirement already satisfied: undetected-chromedriver in c:\\users\\b\\anaconda3\\lib\\site-packages (3.5.5)\n",
      "Requirement already satisfied: selenium>=4.9.0 in c:\\users\\b\\anaconda3\\lib\\site-packages (from undetected-chromedriver) (4.31.0)\n",
      "Requirement already satisfied: requests in c:\\users\\b\\anaconda3\\lib\\site-packages (from undetected-chromedriver) (2.32.3)\n",
      "Requirement already satisfied: websockets in c:\\users\\b\\anaconda3\\lib\\site-packages (from undetected-chromedriver) (15.0.1)\n",
      "Requirement already satisfied: urllib3<3,>=1.26 in c:\\users\\b\\anaconda3\\lib\\site-packages (from urllib3[socks]<3,>=1.26->selenium>=4.9.0->undetected-chromedriver) (2.2.3)\n",
      "Requirement already satisfied: trio~=0.17 in c:\\users\\b\\anaconda3\\lib\\site-packages (from selenium>=4.9.0->undetected-chromedriver) (0.29.0)\n",
      "Requirement already satisfied: trio-websocket~=0.9 in c:\\users\\b\\anaconda3\\lib\\site-packages (from selenium>=4.9.0->undetected-chromedriver) (0.12.2)\n",
      "Requirement already satisfied: certifi>=2021.10.8 in c:\\users\\b\\anaconda3\\lib\\site-packages (from selenium>=4.9.0->undetected-chromedriver) (2024.8.30)\n",
      "Requirement already satisfied: typing_extensions~=4.9 in c:\\users\\b\\anaconda3\\lib\\site-packages (from selenium>=4.9.0->undetected-chromedriver) (4.11.0)\n",
      "Requirement already satisfied: websocket-client~=1.8 in c:\\users\\b\\anaconda3\\lib\\site-packages (from selenium>=4.9.0->undetected-chromedriver) (1.8.0)\n",
      "Requirement already satisfied: charset-normalizer<4,>=2 in c:\\users\\b\\anaconda3\\lib\\site-packages (from requests->undetected-chromedriver) (3.3.2)\n",
      "Requirement already satisfied: idna<4,>=2.5 in c:\\users\\b\\anaconda3\\lib\\site-packages (from requests->undetected-chromedriver) (3.7)\n",
      "Requirement already satisfied: attrs>=23.2.0 in c:\\users\\b\\anaconda3\\lib\\site-packages (from trio~=0.17->selenium>=4.9.0->undetected-chromedriver) (25.3.0)\n",
      "Requirement already satisfied: sortedcontainers in c:\\users\\b\\anaconda3\\lib\\site-packages (from trio~=0.17->selenium>=4.9.0->undetected-chromedriver) (2.4.0)\n",
      "Requirement already satisfied: outcome in c:\\users\\b\\anaconda3\\lib\\site-packages (from trio~=0.17->selenium>=4.9.0->undetected-chromedriver) (1.3.0.post0)\n",
      "Requirement already satisfied: sniffio>=1.3.0 in c:\\users\\b\\anaconda3\\lib\\site-packages (from trio~=0.17->selenium>=4.9.0->undetected-chromedriver) (1.3.0)\n",
      "Requirement already satisfied: cffi>=1.14 in c:\\users\\b\\anaconda3\\lib\\site-packages (from trio~=0.17->selenium>=4.9.0->undetected-chromedriver) (1.17.1)\n",
      "Requirement already satisfied: wsproto>=0.14 in c:\\users\\b\\anaconda3\\lib\\site-packages (from trio-websocket~=0.9->selenium>=4.9.0->undetected-chromedriver) (1.2.0)\n",
      "Requirement already satisfied: pysocks!=1.5.7,<2.0,>=1.5.6 in c:\\users\\b\\anaconda3\\lib\\site-packages (from urllib3[socks]<3,>=1.26->selenium>=4.9.0->undetected-chromedriver) (1.7.1)\n",
      "Requirement already satisfied: pycparser in c:\\users\\b\\anaconda3\\lib\\site-packages (from cffi>=1.14->trio~=0.17->selenium>=4.9.0->undetected-chromedriver) (2.21)\n",
      "Requirement already satisfied: h11<1,>=0.9.0 in c:\\users\\b\\anaconda3\\lib\\site-packages (from wsproto>=0.14->trio-websocket~=0.9->selenium>=4.9.0->undetected-chromedriver) (0.14.0)\n",
      "Note: you may need to restart the kernel to use updated packages.\n"
     ]
    }
   ],
   "source": [
    "pip install undetected-chromedriver"
   ]
  },
  {
   "cell_type": "code",
   "execution_count": 3,
   "id": "bc52f719-9ced-4f69-b3e7-f5f70117887a",
   "metadata": {},
   "outputs": [],
   "source": [
    "from selenium import webdriver as wb\n",
    "from selenium.webdriver.common.by import By\n",
    "import time"
   ]
  },
  {
   "cell_type": "code",
   "execution_count": 5,
   "id": "3ce4f252-5aa6-4671-9b73-20e9b9beab41",
   "metadata": {
    "scrolled": true
   },
   "outputs": [],
   "source": [
    "driver = wb.Chrome()\n",
    "driver.get(\"https://www.11st.co.kr/browsing/BestSeller.tmall?method=getBestSellerMain&xfrom=main^gnb\")"
   ]
  },
  {
   "cell_type": "code",
   "execution_count": 7,
   "id": "f1525db8-9d7d-4cda-85ae-77e589eb1ecd",
   "metadata": {},
   "outputs": [],
   "source": [
    "# 첫번째 상품을 클릭해서 들어가야 함\n",
    "pro = driver.find_elements(By.CSS_SELECTOR, \".viewtype.catal_ty > .cfix > li > div > a\")\n",
    "pro[1].click()"
   ]
  },
  {
   "cell_type": "code",
   "execution_count": 9,
   "id": "edadf48b-342f-4238-969b-2f9510f518f3",
   "metadata": {},
   "outputs": [
    {
     "name": "stdout",
     "output_type": "stream",
     "text": [
      "[임박25.05.21] 맵탱 마늘조개라면 작은컵 15입 외\n",
      "6,900\n"
     ]
    }
   ],
   "source": [
    "# 상품명, 상품 가격 수집\n",
    "title = driver.find_element(By.CSS_SELECTOR, \"h1.title\")\n",
    "price = driver.find_element(By.CSS_SELECTOR, \"#finalDscPrcArea > dd.price > strong > span.value\")\n",
    "print(title.text)\n",
    "print(price.text)"
   ]
  },
  {
   "cell_type": "code",
   "execution_count": 11,
   "id": "1c0f9a26-446c-4598-86c1-8be93d76539d",
   "metadata": {},
   "outputs": [],
   "source": [
    "# 페이지 뒤로가기\n",
    "driver.back()"
   ]
  },
  {
   "cell_type": "code",
   "execution_count": null,
   "id": "4aba5969-039d-4777-bf0e-1e442644f9c6",
   "metadata": {},
   "outputs": [],
   "source": [
    "# 풀버전으로 한 셀에 작성\n",
    "# 11번가 상품목록 페이지에서\n",
    "# 1위 클릭 - 상품명/가격 수집(리스트에 각각 저장) - 뒤로가기\n",
    "# 2위 클릭 - ... - \n",
    "# --> for문 사용해서 반복. *중간중간 쉬는 시간 주기\n",
    "# 첫번째 상품을 클릭해서 들어가야 함"
   ]
  },
  {
   "cell_type": "code",
   "execution_count": 13,
   "id": "3c6f4842-9291-4b59-9c96-10b37451aba6",
   "metadata": {},
   "outputs": [
    {
     "ename": "NoSuchElementException",
     "evalue": "Message: no such element: Unable to locate element: {\"method\":\"css selector\",\"selector\":\"#finalDscPrcArea > dd.price > strong > span.value\"}\n  (Session info: chrome=135.0.7049.85); For documentation on this error, please visit: https://www.selenium.dev/documentation/webdriver/troubleshooting/errors#no-such-element-exception\nStacktrace:\n\tGetHandleVerifier [0x00007FF74EE75355+78597]\n\tGetHandleVerifier [0x00007FF74EE753B0+78688]\n\t(No symbol) [0x00007FF74EC291AA]\n\t(No symbol) [0x00007FF74EC7F149]\n\t(No symbol) [0x00007FF74EC7F3FC]\n\t(No symbol) [0x00007FF74ECD2467]\n\t(No symbol) [0x00007FF74ECA712F]\n\t(No symbol) [0x00007FF74ECCF2BB]\n\t(No symbol) [0x00007FF74ECA6EC3]\n\t(No symbol) [0x00007FF74EC703F8]\n\t(No symbol) [0x00007FF74EC71163]\n\tGetHandleVerifier [0x00007FF74F11EF0D+2870973]\n\tGetHandleVerifier [0x00007FF74F1196B8+2848360]\n\tGetHandleVerifier [0x00007FF74F136993+2967875]\n\tGetHandleVerifier [0x00007FF74EE9019A+188746]\n\tGetHandleVerifier [0x00007FF74EE9847F+222255]\n\tGetHandleVerifier [0x00007FF74EE7D2D4+111236]\n\tGetHandleVerifier [0x00007FF74EE7D482+111666]\n\tGetHandleVerifier [0x00007FF74EE635A9+5465]\n\tBaseThreadInitThunk [0x00007FFCAF63E8D7+23]\n\tRtlUserThreadStart [0x00007FFCAF7D14FC+44]\n",
     "output_type": "error",
     "traceback": [
      "\u001b[1;31m---------------------------------------------------------------------------\u001b[0m",
      "\u001b[1;31mNoSuchElementException\u001b[0m                    Traceback (most recent call last)",
      "Cell \u001b[1;32mIn[13], line 16\u001b[0m\n\u001b[0;32m     14\u001b[0m \u001b[38;5;66;03m# 상품명, 상품 가격 수집\u001b[39;00m\n\u001b[0;32m     15\u001b[0m title \u001b[38;5;241m=\u001b[39m driver\u001b[38;5;241m.\u001b[39mfind_element(By\u001b[38;5;241m.\u001b[39mCSS_SELECTOR, \u001b[38;5;124m\"\u001b[39m\u001b[38;5;124mh1.title\u001b[39m\u001b[38;5;124m\"\u001b[39m)\n\u001b[1;32m---> 16\u001b[0m price \u001b[38;5;241m=\u001b[39m driver\u001b[38;5;241m.\u001b[39mfind_element(By\u001b[38;5;241m.\u001b[39mCSS_SELECTOR, \u001b[38;5;124m\"\u001b[39m\u001b[38;5;124m#finalDscPrcArea > dd.price > strong > span.value\u001b[39m\u001b[38;5;124m\"\u001b[39m)\n\u001b[0;32m     18\u001b[0m title_list\u001b[38;5;241m.\u001b[39mappend(title\u001b[38;5;241m.\u001b[39mtext)\n\u001b[0;32m     19\u001b[0m price_list\u001b[38;5;241m.\u001b[39mappend(price\u001b[38;5;241m.\u001b[39mget_attribute(\u001b[38;5;124m\"\u001b[39m\u001b[38;5;124mtextContent\u001b[39m\u001b[38;5;124m\"\u001b[39m))\n",
      "File \u001b[1;32m~\\anaconda3\\Lib\\site-packages\\selenium\\webdriver\\remote\\webdriver.py:898\u001b[0m, in \u001b[0;36mWebDriver.find_element\u001b[1;34m(self, by, value)\u001b[0m\n\u001b[0;32m    895\u001b[0m         \u001b[38;5;28;01mraise\u001b[39;00m NoSuchElementException(\u001b[38;5;124mf\u001b[39m\u001b[38;5;124m\"\u001b[39m\u001b[38;5;124mCannot locate relative element with: \u001b[39m\u001b[38;5;132;01m{\u001b[39;00mby\u001b[38;5;241m.\u001b[39mroot\u001b[38;5;132;01m}\u001b[39;00m\u001b[38;5;124m\"\u001b[39m)\n\u001b[0;32m    896\u001b[0m     \u001b[38;5;28;01mreturn\u001b[39;00m elements[\u001b[38;5;241m0\u001b[39m]\n\u001b[1;32m--> 898\u001b[0m \u001b[38;5;28;01mreturn\u001b[39;00m \u001b[38;5;28mself\u001b[39m\u001b[38;5;241m.\u001b[39mexecute(Command\u001b[38;5;241m.\u001b[39mFIND_ELEMENT, {\u001b[38;5;124m\"\u001b[39m\u001b[38;5;124musing\u001b[39m\u001b[38;5;124m\"\u001b[39m: by, \u001b[38;5;124m\"\u001b[39m\u001b[38;5;124mvalue\u001b[39m\u001b[38;5;124m\"\u001b[39m: value})[\u001b[38;5;124m\"\u001b[39m\u001b[38;5;124mvalue\u001b[39m\u001b[38;5;124m\"\u001b[39m]\n",
      "File \u001b[1;32m~\\anaconda3\\Lib\\site-packages\\selenium\\webdriver\\remote\\webdriver.py:429\u001b[0m, in \u001b[0;36mWebDriver.execute\u001b[1;34m(self, driver_command, params)\u001b[0m\n\u001b[0;32m    427\u001b[0m response \u001b[38;5;241m=\u001b[39m \u001b[38;5;28mself\u001b[39m\u001b[38;5;241m.\u001b[39mcommand_executor\u001b[38;5;241m.\u001b[39mexecute(driver_command, params)\n\u001b[0;32m    428\u001b[0m \u001b[38;5;28;01mif\u001b[39;00m response:\n\u001b[1;32m--> 429\u001b[0m     \u001b[38;5;28mself\u001b[39m\u001b[38;5;241m.\u001b[39merror_handler\u001b[38;5;241m.\u001b[39mcheck_response(response)\n\u001b[0;32m    430\u001b[0m     response[\u001b[38;5;124m\"\u001b[39m\u001b[38;5;124mvalue\u001b[39m\u001b[38;5;124m\"\u001b[39m] \u001b[38;5;241m=\u001b[39m \u001b[38;5;28mself\u001b[39m\u001b[38;5;241m.\u001b[39m_unwrap_value(response\u001b[38;5;241m.\u001b[39mget(\u001b[38;5;124m\"\u001b[39m\u001b[38;5;124mvalue\u001b[39m\u001b[38;5;124m\"\u001b[39m, \u001b[38;5;28;01mNone\u001b[39;00m))\n\u001b[0;32m    431\u001b[0m     \u001b[38;5;28;01mreturn\u001b[39;00m response\n",
      "File \u001b[1;32m~\\anaconda3\\Lib\\site-packages\\selenium\\webdriver\\remote\\errorhandler.py:232\u001b[0m, in \u001b[0;36mErrorHandler.check_response\u001b[1;34m(self, response)\u001b[0m\n\u001b[0;32m    230\u001b[0m         alert_text \u001b[38;5;241m=\u001b[39m value[\u001b[38;5;124m\"\u001b[39m\u001b[38;5;124malert\u001b[39m\u001b[38;5;124m\"\u001b[39m]\u001b[38;5;241m.\u001b[39mget(\u001b[38;5;124m\"\u001b[39m\u001b[38;5;124mtext\u001b[39m\u001b[38;5;124m\"\u001b[39m)\n\u001b[0;32m    231\u001b[0m     \u001b[38;5;28;01mraise\u001b[39;00m exception_class(message, screen, stacktrace, alert_text)  \u001b[38;5;66;03m# type: ignore[call-arg]  # mypy is not smart enough here\u001b[39;00m\n\u001b[1;32m--> 232\u001b[0m \u001b[38;5;28;01mraise\u001b[39;00m exception_class(message, screen, stacktrace)\n",
      "\u001b[1;31mNoSuchElementException\u001b[0m: Message: no such element: Unable to locate element: {\"method\":\"css selector\",\"selector\":\"#finalDscPrcArea > dd.price > strong > span.value\"}\n  (Session info: chrome=135.0.7049.85); For documentation on this error, please visit: https://www.selenium.dev/documentation/webdriver/troubleshooting/errors#no-such-element-exception\nStacktrace:\n\tGetHandleVerifier [0x00007FF74EE75355+78597]\n\tGetHandleVerifier [0x00007FF74EE753B0+78688]\n\t(No symbol) [0x00007FF74EC291AA]\n\t(No symbol) [0x00007FF74EC7F149]\n\t(No symbol) [0x00007FF74EC7F3FC]\n\t(No symbol) [0x00007FF74ECD2467]\n\t(No symbol) [0x00007FF74ECA712F]\n\t(No symbol) [0x00007FF74ECCF2BB]\n\t(No symbol) [0x00007FF74ECA6EC3]\n\t(No symbol) [0x00007FF74EC703F8]\n\t(No symbol) [0x00007FF74EC71163]\n\tGetHandleVerifier [0x00007FF74F11EF0D+2870973]\n\tGetHandleVerifier [0x00007FF74F1196B8+2848360]\n\tGetHandleVerifier [0x00007FF74F136993+2967875]\n\tGetHandleVerifier [0x00007FF74EE9019A+188746]\n\tGetHandleVerifier [0x00007FF74EE9847F+222255]\n\tGetHandleVerifier [0x00007FF74EE7D2D4+111236]\n\tGetHandleVerifier [0x00007FF74EE7D482+111666]\n\tGetHandleVerifier [0x00007FF74EE635A9+5465]\n\tBaseThreadInitThunk [0x00007FFCAF63E8D7+23]\n\tRtlUserThreadStart [0x00007FFCAF7D14FC+44]\n"
     ]
    }
   ],
   "source": [
    "driver = wb.Chrome()\n",
    "driver.get(\"https://www.11st.co.kr/browsing/BestSeller.tmall?method=getBestSellerMain&xfrom=main^gnb\")\n",
    "\n",
    "title_list = []\n",
    "price_list = []\n",
    "\n",
    "for i in range(15) : \n",
    "    \n",
    "    # 상품 클릭\n",
    "    pro = driver.find_elements(By.CSS_SELECTOR, \".viewtype.catal_ty > .cfix > li > div > a\")\n",
    "    pro[i].click()\n",
    "    time.sleep(2)\n",
    "\n",
    "    # 상품명, 상품 가격 수집\n",
    "    title = driver.find_element(By.CSS_SELECTOR, \"h1.title\")\n",
    "    price = driver.find_element(By.CSS_SELECTOR, \"#finalDscPrcArea > dd.price > strong > span.value\")\n",
    "\n",
    "    title_list.append(title.text)\n",
    "    price_list.append(price.get_attribute(\"textContent\"))\n",
    "    \n",
    "    time.sleep(2)\n",
    "    # 페이지 뒤로가기\n",
    "    driver.back()"
   ]
  },
  {
   "cell_type": "code",
   "execution_count": 15,
   "id": "50342fa4-ea95-4715-8aa3-511729d8cbb4",
   "metadata": {},
   "outputs": [],
   "source": [
    "import pandas as pd\n",
    "dic = {\"상품\" : title_list, \"가격\" : price_list}\n",
    "store = pd.DataFrame(dic)"
   ]
  },
  {
   "cell_type": "code",
   "execution_count": 17,
   "id": "87d1484e-4157-4686-a0b1-b2bdcc9fa0f0",
   "metadata": {},
   "outputs": [
    {
     "data": {
      "text/html": [
       "<div>\n",
       "<style scoped>\n",
       "    .dataframe tbody tr th:only-of-type {\n",
       "        vertical-align: middle;\n",
       "    }\n",
       "\n",
       "    .dataframe tbody tr th {\n",
       "        vertical-align: top;\n",
       "    }\n",
       "\n",
       "    .dataframe thead th {\n",
       "        text-align: right;\n",
       "    }\n",
       "</style>\n",
       "<table border=\"1\" class=\"dataframe\">\n",
       "  <thead>\n",
       "    <tr style=\"text-align: right;\">\n",
       "      <th></th>\n",
       "      <th>상품</th>\n",
       "      <th>가격</th>\n",
       "    </tr>\n",
       "  </thead>\n",
       "  <tbody>\n",
       "    <tr>\n",
       "      <th>0</th>\n",
       "      <td>북앤라이프 도서문화상품권 5만원권</td>\n",
       "      <td>47,500</td>\n",
       "    </tr>\n",
       "    <tr>\n",
       "      <th>1</th>\n",
       "      <td>[임박25.05.21] 맵탱 마늘조개라면 작은컵 15입 외</td>\n",
       "      <td>6,900</td>\n",
       "    </tr>\n",
       "    <tr>\n",
       "      <th>2</th>\n",
       "      <td>[소비기한 임박] 밀크 클래식 쌀과자 3종(우유맛/치즈맛/계란맛) 112g x 5봉</td>\n",
       "      <td>7,900</td>\n",
       "    </tr>\n",
       "  </tbody>\n",
       "</table>\n",
       "</div>"
      ],
      "text/plain": [
       "                                               상품      가격\n",
       "0                              북앤라이프 도서문화상품권 5만원권  47,500\n",
       "1                [임박25.05.21] 맵탱 마늘조개라면 작은컵 15입 외   6,900\n",
       "2  [소비기한 임박] 밀크 클래식 쌀과자 3종(우유맛/치즈맛/계란맛) 112g x 5봉   7,900"
      ]
     },
     "execution_count": 17,
     "metadata": {},
     "output_type": "execute_result"
    }
   ],
   "source": [
    "store"
   ]
  },
  {
   "cell_type": "code",
   "execution_count": 19,
   "id": "e7fdd521-7403-4508-bf9e-68aab8910523",
   "metadata": {},
   "outputs": [
    {
     "name": "stdout",
     "output_type": "stream",
     "text": [
      "[3개] 리르 리얼 타투 펜 아이라이너 13,410\n"
     ]
    }
   ],
   "source": [
    "driver = wb.Chrome()\n",
    "# 아이라이너 페이지 접속\n",
    "driver.get(\"https://www.11st.co.kr/products/7881929712?inpu=&trTypeCd=22&trCtgrNo=895019\")\n",
    "time.sleep(1)\n",
    "\n",
    "title = driver.find_element(By.CSS_SELECTOR, \"h1.title\")\n",
    "price = driver.find_element(By.CSS_SELECTOR, \"#finalDscPrcArea > dd.price > strong > span.value\")\n",
    "\n",
    "real_price = price.get_attribute(\"textContent\")\n",
    "\n",
    "print(title.text, real_price)"
   ]
  },
  {
   "cell_type": "code",
   "execution_count": null,
   "id": "c1846456-a23f-4d83-bce2-230423b446e6",
   "metadata": {},
   "outputs": [],
   "source": []
  }
 ],
 "metadata": {
  "kernelspec": {
   "display_name": "Python [conda env:base] *",
   "language": "python",
   "name": "conda-base-py"
  },
  "language_info": {
   "codemirror_mode": {
    "name": "ipython",
    "version": 3
   },
   "file_extension": ".py",
   "mimetype": "text/x-python",
   "name": "python",
   "nbconvert_exporter": "python",
   "pygments_lexer": "ipython3",
   "version": "3.12.7"
  }
 },
 "nbformat": 4,
 "nbformat_minor": 5
}
