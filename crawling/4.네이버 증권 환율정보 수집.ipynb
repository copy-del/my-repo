{
 "cells": [
  {
   "cell_type": "code",
   "execution_count": 1,
   "id": "946a8998-8f36-41bf-bb9d-22c8f7bbdcc0",
   "metadata": {},
   "outputs": [],
   "source": [
    "import requests as req\n",
    "from bs4 import BeautifulSoup as bs\n",
    "import pandas as pd"
   ]
  },
  {
   "cell_type": "code",
   "execution_count": 10,
   "id": "e9c59c89-c390-4b27-b82e-04492922b4dc",
   "metadata": {},
   "outputs": [],
   "source": [
    "res = req.get(\"https://finance.naver.com/marketindex/?tabSel=exchange#tab_section\")"
   ]
  },
  {
   "cell_type": "code",
   "execution_count": 12,
   "id": "aa90ce07-dfe1-43e4-8a45-2d59bd65071e",
   "metadata": {},
   "outputs": [],
   "source": [
    "soup = bs(res.text,\"lxml\")"
   ]
  },
  {
   "cell_type": "code",
   "execution_count": 18,
   "id": "a1be1d3b-475a-477f-953c-37d543c2dfc0",
   "metadata": {},
   "outputs": [
    {
     "data": {
      "text/plain": [
       "[]"
      ]
     },
     "execution_count": 18,
     "metadata": {},
     "output_type": "execute_result"
    }
   ],
   "source": [
    "soup.select(\"td.tit > a\")\n",
    "# 이 표는 iframe이기 때문에 조회가 되지 않는다."
   ]
  },
  {
   "cell_type": "markdown",
   "id": "dcc74a53-ae98-4c7d-9e62-8eafc58a952a",
   "metadata": {},
   "source": [
    "### iframe 데이터 처리\n",
    "- iframe 데이터는 화면상에 정보는 보이지만, 실제 데이터는 다른 공간에 존재함"
   ]
  },
  {
   "cell_type": "markdown",
   "id": "1b18de60-a68e-4441-991e-83f96c8bef19",
   "metadata": {},
   "source": [
    "### 다른공간에 존재하는 iframe 데이터를 가져오려면,\n",
    "#### 해결법 : 실제 데잍터가 존재하는 공간의 URL로 요청을 보내야 한다.\n",
    "#### 위치 : iframe 테그의 src 경로를 사용\n",
    "####       대부분 경로는 상대경로로 작성되어있음.\n",
    "####    절대경로+상대경로를 합쳐서 요청 URL 제작"
   ]
  },
  {
   "cell_type": "code",
   "execution_count": 25,
   "id": "9f3b6118-2aba-4ace-83ce-981c63de799c",
   "metadata": {},
   "outputs": [],
   "source": [
    "res = req.get(\"https://finance.naver.com/marketindex/exchangeList.naver\")\n",
    "soup = bs(res.text,\"lxml\")"
   ]
  },
  {
   "cell_type": "code",
   "execution_count": 29,
   "id": "02a55108-dc75-4d91-8ff3-6c65d4dc1653",
   "metadata": {},
   "outputs": [
    {
     "data": {
      "text/plain": [
       "58"
      ]
     },
     "execution_count": 29,
     "metadata": {},
     "output_type": "execute_result"
    }
   ],
   "source": [
    "title = soup.select(\"td.tit > a\")\n",
    "len(title)"
   ]
  },
  {
   "cell_type": "code",
   "execution_count": 35,
   "id": "9f277f43-66c4-4da9-9869-8a64e34476d6",
   "metadata": {
    "collapsed": true,
    "jupyter": {
     "outputs_hidden": true
    },
    "scrolled": true
   },
   "outputs": [
    {
     "data": {
      "text/plain": [
       "['미국 USD',\n",
       " '유럽연합 EUR',\n",
       " '일본 JPY (100엔)',\n",
       " '중국 CNY',\n",
       " '홍콩 HKD',\n",
       " '대만 TWD',\n",
       " '영국 GBP',\n",
       " '오만 OMR',\n",
       " '캐나다 CAD',\n",
       " '스위스 CHF',\n",
       " '스웨덴 SEK',\n",
       " '호주 AUD',\n",
       " '뉴질랜드 NZD',\n",
       " '체코 CZK',\n",
       " '칠레 CLP',\n",
       " '튀르키예 TRY',\n",
       " '몽골 MNT',\n",
       " '이스라엘 ILS',\n",
       " '덴마크 DKK',\n",
       " '노르웨이 NOK',\n",
       " '사우디아라비아 SAR',\n",
       " '쿠웨이트 KWD',\n",
       " '바레인 BHD',\n",
       " '아랍에미리트 AED',\n",
       " '요르단 JOD',\n",
       " '이집트 EGP',\n",
       " '태국 THB',\n",
       " '싱가포르 SGD',\n",
       " '말레이시아 MYR',\n",
       " '인도네시아 IDR 100',\n",
       " '카타르 QAR',\n",
       " '카자흐스탄 KZT',\n",
       " '브루나이 BND',\n",
       " '인도 INR',\n",
       " '파키스탄 PKR',\n",
       " '방글라데시 BDT',\n",
       " '필리핀 PHP',\n",
       " '멕시코 MXN',\n",
       " '브라질 BRL',\n",
       " '베트남 VND 100',\n",
       " '남아프리카 공화국 ZAR',\n",
       " '러시아 RUB',\n",
       " '헝가리 HUF',\n",
       " '폴란드 PLN',\n",
       " '스리랑카 LKR',\n",
       " '알제리 DZD',\n",
       " '케냐 KES',\n",
       " '콜롬비아 COP',\n",
       " '탄자니아 TZS',\n",
       " '네팔 NPR',\n",
       " '루마니아 RON',\n",
       " '리비아 LYD',\n",
       " '마카오 MOP',\n",
       " '미얀마 MMK',\n",
       " '에티오피아 ETB',\n",
       " '우즈베키스탄 UZS',\n",
       " '캄보디아 KHR',\n",
       " '피지 FJD']"
      ]
     },
     "execution_count": 35,
     "metadata": {},
     "output_type": "execute_result"
    }
   ],
   "source": [
    "title_list = []\n",
    "# 개행문자나 공백을 지울 때 strip() 활용\n",
    "for i in title:\n",
    "    title_list.append(i.text.strip())\n",
    "title_list"
   ]
  },
  {
   "cell_type": "code",
   "execution_count": null,
   "id": "3d6f85d1-dc5c-4edb-a4e3-598b1b8fa426",
   "metadata": {},
   "outputs": [],
   "source": []
  },
  {
   "cell_type": "code",
   "execution_count": null,
   "id": "a405ca04-d681-44e2-933d-4c3477b01804",
   "metadata": {},
   "outputs": [],
   "source": []
  },
  {
   "cell_type": "code",
   "execution_count": null,
   "id": "f3cf385d-f0f8-44ca-a870-ea34100b522d",
   "metadata": {},
   "outputs": [],
   "source": []
  },
  {
   "cell_type": "code",
   "execution_count": null,
   "id": "1e91e862-5015-4193-81f6-52f21fb258d8",
   "metadata": {},
   "outputs": [],
   "source": []
  },
  {
   "cell_type": "code",
   "execution_count": null,
   "id": "db4a0f3b-1f9b-466d-98b3-83420341a154",
   "metadata": {},
   "outputs": [],
   "source": []
  },
  {
   "cell_type": "code",
   "execution_count": null,
   "id": "c8767381-c745-4cf2-8562-f9d0fe8da610",
   "metadata": {},
   "outputs": [],
   "source": []
  },
  {
   "cell_type": "code",
   "execution_count": null,
   "id": "3d22a738-f26f-43d0-abbf-9dfeb7062b3d",
   "metadata": {},
   "outputs": [],
   "source": []
  }
 ],
 "metadata": {
  "kernelspec": {
   "display_name": "Python [conda env:base] *",
   "language": "python",
   "name": "conda-base-py"
  },
  "language_info": {
   "codemirror_mode": {
    "name": "ipython",
    "version": 3
   },
   "file_extension": ".py",
   "mimetype": "text/x-python",
   "name": "python",
   "nbconvert_exporter": "python",
   "pygments_lexer": "ipython3",
   "version": "3.12.7"
  }
 },
 "nbformat": 4,
 "nbformat_minor": 5
}
