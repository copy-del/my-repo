{
 "cells": [
  {
   "cell_type": "markdown",
   "id": "59f40478-ece0-4731-aaab-218c88ba6999",
   "metadata": {},
   "source": [
    "문제 1\n",
    "1. a\n",
    "2. f\n",
    "3. g\n",
    "4. h"
   ]
  },
  {
   "cell_type": "markdown",
   "id": "44dfba01-1bde-4182-97b6-352293d3c0f7",
   "metadata": {},
   "source": [
    "문제 2\n",
    "크롤링의 개념\n",
    "- 웹페이지의 데이터를 끌어다가 추출하는 작업\n",
    "\n",
    "크롤링의 필요성\n",
    "- 사람의 힘으로 가져오기 어려운 수준의 많은 데이터를 한번에 가져올 수 있어, 데이터 수집에 용이하다."
   ]
  },
  {
   "cell_type": "markdown",
   "id": "309e1f8d-3a21-44bb-844b-dad13f03b89f",
   "metadata": {},
   "source": [
    "문제 3\n",
    "BeautifulSoup의 개념\n",
    "- 파이썬에서 사용하는 웹데이터 크롤링 라이브러리"
   ]
  },
  {
   "cell_type": "markdown",
   "id": "e769fb85-f0cd-41a5-a67b-ffeb3239f62d",
   "metadata": {},
   "source": [
    "문제 4\n",
    "find_element\n",
    "- 페이지의 첫번째 요소를 가져옴\n",
    "- 요소가 발견되지 않을 경우 에러 발생\n",
    "find_elements\n",
    "- 페이지의 모든 요소를 가져옴.\n",
    "- 요소가 발견되지 않을 경우 빈 리스트 반환"
   ]
  },
  {
   "cell_type": "markdown",
   "id": "3986f81a-6bee-4613-a669-f2cb54bc6098",
   "metadata": {},
   "source": [
    "문제 5"
   ]
  },
  {
   "cell_type": "code",
   "execution_count": null,
   "id": "d08e8bd9-9ad8-4e1b-94d9-66ad849114f1",
   "metadata": {},
   "outputs": [],
   "source": [
    "CSS_SELECTOR,\"p.span > #this_span\""
   ]
  },
  {
   "cell_type": "markdown",
   "id": "4450d021-ca23-4d4d-98b6-9040fcd4fdbf",
   "metadata": {},
   "source": [
    "문제 6"
   ]
  },
  {
   "cell_type": "code",
   "execution_count": 28,
   "id": "8b6aaea4-a8f5-4fd5-9aec-0d5a9e94000e",
   "metadata": {},
   "outputs": [],
   "source": [
    "from selenium import webdriver as wb\n",
    "from selenium.webdriver.common.by import By\n",
    "from selenium.webdriver.common.keys import Keys"
   ]
  },
  {
   "cell_type": "code",
   "execution_count": 32,
   "id": "e3004aaa-1a01-431f-9746-d28d2571ab42",
   "metadata": {},
   "outputs": [],
   "source": [
    "driver = wb.Chrome()\n",
    "driver.get(\"https://www.naver.com\")\n",
    "search = driver.find_element(By.ID,\"query\")\n",
    "search.send_keys(\"크롤링\")\n",
    "search.send_keys(Keys.ENTER)"
   ]
  },
  {
   "cell_type": "markdown",
   "id": "10120044-1e52-4d87-bb63-1ea172334557",
   "metadata": {},
   "source": [
    "문제 7"
   ]
  },
  {
   "cell_type": "code",
   "execution_count": 46,
   "id": "7c990bd6-1cfb-4d15-9a47-549141ba042b",
   "metadata": {
    "collapsed": true,
    "jupyter": {
     "outputs_hidden": true
    }
   },
   "outputs": [
    {
     "ename": "NoSuchElementException",
     "evalue": "Message: no such element: Unable to locate element: {\"method\":\"css selector\",\"selector\":\"#layBodyWrap > div > div.s_product.s_product_detail.fixed > div.l_product_cont_wrap > div > div.l_product_buy_wrap.fixed_sm > div.l_product_buy_list.scroll > div > ul.option_bottom.ui_optSelWrapper.b_product_buy_selected > li > div > strong\"}\n  (Session info: chrome=136.0.7103.93); For documentation on this error, please visit: https://www.selenium.dev/documentation/webdriver/troubleshooting/errors#no-such-element-exception\nStacktrace:\n\tGetHandleVerifier [0x00007FF7490ECF25+75717]\n\tGetHandleVerifier [0x00007FF7490ECF80+75808]\n\t(No symbol) [0x00007FF748EB8F9A]\n\t(No symbol) [0x00007FF748F0F4C6]\n\t(No symbol) [0x00007FF748F0F77C]\n\t(No symbol) [0x00007FF748F62577]\n\t(No symbol) [0x00007FF748F373BF]\n\t(No symbol) [0x00007FF748F5F39C]\n\t(No symbol) [0x00007FF748F37153]\n\t(No symbol) [0x00007FF748F00421]\n\t(No symbol) [0x00007FF748F011B3]\n\tGetHandleVerifier [0x00007FF7493ED6FD+3223453]\n\tGetHandleVerifier [0x00007FF7493E7CA2+3200322]\n\tGetHandleVerifier [0x00007FF749405AD3+3322739]\n\tGetHandleVerifier [0x00007FF7491069FA+180890]\n\tGetHandleVerifier [0x00007FF74910E0FF+211359]\n\tGetHandleVerifier [0x00007FF7490F5274+109332]\n\tGetHandleVerifier [0x00007FF7490F5422+109762]\n\tGetHandleVerifier [0x00007FF7490DBA39+4825]\n\tBaseThreadInitThunk [0x00007FFD0F69E8D7+23]\n\tRtlUserThreadStart [0x00007FFD10AB14FC+44]\n",
     "output_type": "error",
     "traceback": [
      "\u001b[1;31m---------------------------------------------------------------------------\u001b[0m",
      "\u001b[1;31mNoSuchElementException\u001b[0m                    Traceback (most recent call last)",
      "Cell \u001b[1;32mIn[46], line 5\u001b[0m\n\u001b[0;32m      3\u001b[0m pro \u001b[38;5;241m=\u001b[39m driver\u001b[38;5;241m.\u001b[39mfind_elements(By\u001b[38;5;241m.\u001b[39mCSS_SELECTOR, \u001b[38;5;124m\"\u001b[39m\u001b[38;5;124m.viewtype.catal_ty > .cfix > li > div > a\u001b[39m\u001b[38;5;124m\"\u001b[39m)\n\u001b[0;32m      4\u001b[0m pro[\u001b[38;5;241m0\u001b[39m]\u001b[38;5;241m.\u001b[39mclick()\n\u001b[1;32m----> 5\u001b[0m title \u001b[38;5;241m=\u001b[39m driver\u001b[38;5;241m.\u001b[39mfind_element(By\u001b[38;5;241m.\u001b[39mCSS_SELECTOR, \u001b[38;5;124m\"\u001b[39m\u001b[38;5;124m#layBodyWrap > div > div.s_product.s_product_detail.fixed > div.l_product_cont_wrap > div > div.l_product_buy_wrap.fixed_sm > div.l_product_buy_list.scroll > div > ul.option_bottom.ui_optSelWrapper.b_product_buy_selected > li > div > strong\u001b[39m\u001b[38;5;124m\"\u001b[39m)\n\u001b[0;32m      6\u001b[0m price \u001b[38;5;241m=\u001b[39m driver\u001b[38;5;241m.\u001b[39mfind_element(By\u001b[38;5;241m.\u001b[39mCSS_SELECTOR, \u001b[38;5;124m\"\u001b[39m\u001b[38;5;124m#finalDscPrcArea > dd > strong\u001b[39m\u001b[38;5;124m\"\u001b[39m)\n\u001b[0;32m      7\u001b[0m review \u001b[38;5;241m=\u001b[39m driver\u001b[38;5;241m.\u001b[39mfind_element(By\u001b[38;5;241m.\u001b[39mCSS_SELECTOR, \u001b[38;5;124m\"\u001b[39m\u001b[38;5;124m#tabMenuDetail2 > i\u001b[39m\u001b[38;5;124m\"\u001b[39m)\n",
      "File \u001b[1;32m~\\anaconda3\\Lib\\site-packages\\selenium\\webdriver\\remote\\webdriver.py:898\u001b[0m, in \u001b[0;36mWebDriver.find_element\u001b[1;34m(self, by, value)\u001b[0m\n\u001b[0;32m    895\u001b[0m         \u001b[38;5;28;01mraise\u001b[39;00m NoSuchElementException(\u001b[38;5;124mf\u001b[39m\u001b[38;5;124m\"\u001b[39m\u001b[38;5;124mCannot locate relative element with: \u001b[39m\u001b[38;5;132;01m{\u001b[39;00mby\u001b[38;5;241m.\u001b[39mroot\u001b[38;5;132;01m}\u001b[39;00m\u001b[38;5;124m\"\u001b[39m)\n\u001b[0;32m    896\u001b[0m     \u001b[38;5;28;01mreturn\u001b[39;00m elements[\u001b[38;5;241m0\u001b[39m]\n\u001b[1;32m--> 898\u001b[0m \u001b[38;5;28;01mreturn\u001b[39;00m \u001b[38;5;28mself\u001b[39m\u001b[38;5;241m.\u001b[39mexecute(Command\u001b[38;5;241m.\u001b[39mFIND_ELEMENT, {\u001b[38;5;124m\"\u001b[39m\u001b[38;5;124musing\u001b[39m\u001b[38;5;124m\"\u001b[39m: by, \u001b[38;5;124m\"\u001b[39m\u001b[38;5;124mvalue\u001b[39m\u001b[38;5;124m\"\u001b[39m: value})[\u001b[38;5;124m\"\u001b[39m\u001b[38;5;124mvalue\u001b[39m\u001b[38;5;124m\"\u001b[39m]\n",
      "File \u001b[1;32m~\\anaconda3\\Lib\\site-packages\\selenium\\webdriver\\remote\\webdriver.py:429\u001b[0m, in \u001b[0;36mWebDriver.execute\u001b[1;34m(self, driver_command, params)\u001b[0m\n\u001b[0;32m    427\u001b[0m response \u001b[38;5;241m=\u001b[39m \u001b[38;5;28mself\u001b[39m\u001b[38;5;241m.\u001b[39mcommand_executor\u001b[38;5;241m.\u001b[39mexecute(driver_command, params)\n\u001b[0;32m    428\u001b[0m \u001b[38;5;28;01mif\u001b[39;00m response:\n\u001b[1;32m--> 429\u001b[0m     \u001b[38;5;28mself\u001b[39m\u001b[38;5;241m.\u001b[39merror_handler\u001b[38;5;241m.\u001b[39mcheck_response(response)\n\u001b[0;32m    430\u001b[0m     response[\u001b[38;5;124m\"\u001b[39m\u001b[38;5;124mvalue\u001b[39m\u001b[38;5;124m\"\u001b[39m] \u001b[38;5;241m=\u001b[39m \u001b[38;5;28mself\u001b[39m\u001b[38;5;241m.\u001b[39m_unwrap_value(response\u001b[38;5;241m.\u001b[39mget(\u001b[38;5;124m\"\u001b[39m\u001b[38;5;124mvalue\u001b[39m\u001b[38;5;124m\"\u001b[39m, \u001b[38;5;28;01mNone\u001b[39;00m))\n\u001b[0;32m    431\u001b[0m     \u001b[38;5;28;01mreturn\u001b[39;00m response\n",
      "File \u001b[1;32m~\\anaconda3\\Lib\\site-packages\\selenium\\webdriver\\remote\\errorhandler.py:232\u001b[0m, in \u001b[0;36mErrorHandler.check_response\u001b[1;34m(self, response)\u001b[0m\n\u001b[0;32m    230\u001b[0m         alert_text \u001b[38;5;241m=\u001b[39m value[\u001b[38;5;124m\"\u001b[39m\u001b[38;5;124malert\u001b[39m\u001b[38;5;124m\"\u001b[39m]\u001b[38;5;241m.\u001b[39mget(\u001b[38;5;124m\"\u001b[39m\u001b[38;5;124mtext\u001b[39m\u001b[38;5;124m\"\u001b[39m)\n\u001b[0;32m    231\u001b[0m     \u001b[38;5;28;01mraise\u001b[39;00m exception_class(message, screen, stacktrace, alert_text)  \u001b[38;5;66;03m# type: ignore[call-arg]  # mypy is not smart enough here\u001b[39;00m\n\u001b[1;32m--> 232\u001b[0m \u001b[38;5;28;01mraise\u001b[39;00m exception_class(message, screen, stacktrace)\n",
      "\u001b[1;31mNoSuchElementException\u001b[0m: Message: no such element: Unable to locate element: {\"method\":\"css selector\",\"selector\":\"#layBodyWrap > div > div.s_product.s_product_detail.fixed > div.l_product_cont_wrap > div > div.l_product_buy_wrap.fixed_sm > div.l_product_buy_list.scroll > div > ul.option_bottom.ui_optSelWrapper.b_product_buy_selected > li > div > strong\"}\n  (Session info: chrome=136.0.7103.93); For documentation on this error, please visit: https://www.selenium.dev/documentation/webdriver/troubleshooting/errors#no-such-element-exception\nStacktrace:\n\tGetHandleVerifier [0x00007FF7490ECF25+75717]\n\tGetHandleVerifier [0x00007FF7490ECF80+75808]\n\t(No symbol) [0x00007FF748EB8F9A]\n\t(No symbol) [0x00007FF748F0F4C6]\n\t(No symbol) [0x00007FF748F0F77C]\n\t(No symbol) [0x00007FF748F62577]\n\t(No symbol) [0x00007FF748F373BF]\n\t(No symbol) [0x00007FF748F5F39C]\n\t(No symbol) [0x00007FF748F37153]\n\t(No symbol) [0x00007FF748F00421]\n\t(No symbol) [0x00007FF748F011B3]\n\tGetHandleVerifier [0x00007FF7493ED6FD+3223453]\n\tGetHandleVerifier [0x00007FF7493E7CA2+3200322]\n\tGetHandleVerifier [0x00007FF749405AD3+3322739]\n\tGetHandleVerifier [0x00007FF7491069FA+180890]\n\tGetHandleVerifier [0x00007FF74910E0FF+211359]\n\tGetHandleVerifier [0x00007FF7490F5274+109332]\n\tGetHandleVerifier [0x00007FF7490F5422+109762]\n\tGetHandleVerifier [0x00007FF7490DBA39+4825]\n\tBaseThreadInitThunk [0x00007FFD0F69E8D7+23]\n\tRtlUserThreadStart [0x00007FFD10AB14FC+44]\n"
     ]
    }
   ],
   "source": [
    "driver = wb.Chrome()\n",
    "driver.get(\"https://www.11st.co.kr/browsing/BestSeller.tmall?method=getBestSellerMain&xfrom=main^gnb\")\n",
    "pro = driver.find_elements(By.CSS_SELECTOR, \".viewtype.catal_ty > .cfix > li > div > a\")\n",
    "pro[0].click()\n",
    "title = driver.find_element(By.CSS_SELECTOR, \"#layBodyWrap > div > div.s_product.s_product_detail.fixed > div.l_product_cont_wrap > div > div.l_product_buy_wrap.fixed_sm > div.l_product_buy_list.scroll > div > ul.option_bottom.ui_optSelWrapper.b_product_buy_selected > li > div > strong\")\n",
    "price = driver.find_element(By.CSS_SELECTOR, \"#finalDscPrcArea > dd > strong\")\n",
    "review = driver.find_element(By.CSS_SELECTOR, \"#tabMenuDetail2 > i\")\n",
    "print(title.text)\n",
    "print(price.text)\n",
    "print(review.text)"
   ]
  },
  {
   "cell_type": "markdown",
   "id": "6ca3d873-3b23-4aa0-9208-3a58689b6de5",
   "metadata": {},
   "source": [
    "문제 8"
   ]
  },
  {
   "cell_type": "code",
   "execution_count": 74,
   "id": "689f2592-cc07-4f94-903b-2d27d8942cea",
   "metadata": {},
   "outputs": [],
   "source": [
    "driver = wb.Chrome()\n",
    "driver.get(\"https://www.melon.com/chart/index.htm\")\n",
    "ranks = driver.find_elements(By.CSS_SELECTOR, \"#lst50 > td:nth-child(2) > div > span.rank\")\n",
    "titles = driver.find_elements(By.CSS_SELECTOR, \"#lst50 > td:nth-child(6) > div > div > div.ellipsis.rank01 > span > a\")\n",
    "singers = driver.find_elements(By.CSS_SELECTOR, \"#lst50 > td:nth-child(6) > div > div > div.ellipsis.rank02 > a\")\n",
    "likes = driver.find_elements(By.CSS_SELECTOR, \"#lst50 > td:nth-child(8) > div > button > span.cnt\")\n",
    "\n"
   ]
  },
  {
   "cell_type": "code",
   "execution_count": null,
   "id": "281f3205-ef9c-4ec9-8260-24899c0e665d",
   "metadata": {},
   "outputs": [],
   "source": [
    "rank_list = []\n",
    "title_list = []\n",
    "singer_list = []\n",
    "like_list = []\n",
    "for i in range(100):\n",
    "    rank_list.append(rank[i].text)\n",
    "    title_list.append(title[i].text)\n",
    "    singer_list.append(singer[i].text)\n",
    "    like_list.append(like[i].text)"
   ]
  },
  {
   "cell_type": "code",
   "execution_count": 54,
   "id": "29636096-3d5b-43a7-a1f5-bdb8a73e403a",
   "metadata": {},
   "outputs": [],
   "source": [
    "import pandas as pd"
   ]
  },
  {
   "cell_type": "code",
   "execution_count": null,
   "id": "1fd0edd5-7c50-4ca8-92b1-b85bedc9d592",
   "metadata": {},
   "outputs": [],
   "source": [
    "dic = {\"순위\" : rank_list, \"곡명\" : title_list,\"가수\" : singer_list, \"좋아요\" : like_list}\n",
    "melon = pd.DataFrame(dic)\n",
    "melon.to_excel(\"멜론차트.xlsx\")"
   ]
  }
 ],
 "metadata": {
  "kernelspec": {
   "display_name": "Python [conda env:base] *",
   "language": "python",
   "name": "conda-base-py"
  },
  "language_info": {
   "codemirror_mode": {
    "name": "ipython",
    "version": 3
   },
   "file_extension": ".py",
   "mimetype": "text/x-python",
   "name": "python",
   "nbconvert_exporter": "python",
   "pygments_lexer": "ipython3",
   "version": "3.12.7"
  }
 },
 "nbformat": 4,
 "nbformat_minor": 5
}
