{
 "cells": [
  {
   "cell_type": "code",
   "execution_count": 17,
   "id": "754574d5-f515-4c8e-bf93-a32fbb3b9e15",
   "metadata": {},
   "outputs": [],
   "source": [
    "# 필요한 라이브러리 import\n",
    "from selenium import webdriver as wb\n",
    "from selenium.webdriver.common.keys import Keys\n",
    "from selenium.webdriver.common.by import By\n",
    "import time"
   ]
  },
  {
   "cell_type": "code",
   "execution_count": 3,
   "id": "e90c978c-9a50-43b3-8c99-abe50d12df56",
   "metadata": {},
   "outputs": [],
   "source": [
    "# 크롬 브라우저 실행\n",
    "driver = wb.Chrome()"
   ]
  },
  {
   "cell_type": "code",
   "execution_count": 5,
   "id": "25ae89bd-79b3-4c47-9f23-bb095bf26497",
   "metadata": {},
   "outputs": [],
   "source": [
    "# \"네이버 메인페이지\" 주소를 주고 이동하라고 지시\n",
    "driver.get(\"https://www.naver.com/\")"
   ]
  },
  {
   "cell_type": "code",
   "execution_count": 7,
   "id": "7947d1f0-48ce-4d86-9092-6c7bc802d16f",
   "metadata": {},
   "outputs": [],
   "source": [
    "# 검색창 요소를 찾기, 검색창에 \"롯데월드\" 단어 보내기\n",
    "search = driver.find_element(By.ID,\"query\")\n",
    "search.send_keys(\"롯데월드\")"
   ]
  },
  {
   "cell_type": "code",
   "execution_count": 9,
   "id": "db1bf628-9f5b-4aad-80df-ce84bb00d56e",
   "metadata": {},
   "outputs": [],
   "source": [
    "# 검색창 대상으로 \"엔터\"\n",
    "search.send_keys(Keys.ENTER)"
   ]
  },
  {
   "cell_type": "code",
   "execution_count": 13,
   "id": "417a4176-e1f3-4e40-a6ef-ac57fe931b2b",
   "metadata": {},
   "outputs": [],
   "source": [
    "# 뉴스 탭 클릭해보기\n",
    "# 특정 요소를 선택할 때, 개발자 도구에서 태그 우클릭 > [copy] > [copy selector] 요소의 고유 선택자 가져오기\n",
    "# 복사한 전체를 사용해양 할 지, 뒷부분만 사용해도 될지 판단해보기.\n",
    "tab = driver.find_element(By.CSS_SELECTOR,\"#lnb > div.lnb_group > div > div.lnb_nav_area._nav_area_root > div > div.api_flicking_wrap._conveyer_root > div:nth-child(8) > a\")\n",
    "tab.click()"
   ]
  },
  {
   "cell_type": "code",
   "execution_count": 27,
   "id": "b67b0cd0-d802-47dc-a654-03acd74e919e",
   "metadata": {},
   "outputs": [],
   "source": [
    "body = driver.find_element(By.TAG_NAME,\"body\")\n",
    "for i in range(5) :\n",
    "    body.send_keys(Keys.END)\n",
    "    time.sleep(1)"
   ]
  },
  {
   "cell_type": "code",
   "execution_count": 34,
   "id": "46d4e035-823a-4f21-83af-cee18dbc3720",
   "metadata": {
    "collapsed": true,
    "jupyter": {
     "outputs_hidden": true
    }
   },
   "outputs": [
    {
     "data": {
      "text/plain": [
       "[<selenium.webdriver.remote.webelement.WebElement (session=\"0fe582626fdb77e15e73b8a3b53fc6a2\", element=\"f.910A6505ABA4A9B05C01792F566778C1.d.301E71EFA4037D84786E68751D929A27.e.16043\")>,\n",
       " <selenium.webdriver.remote.webelement.WebElement (session=\"0fe582626fdb77e15e73b8a3b53fc6a2\", element=\"f.910A6505ABA4A9B05C01792F566778C1.d.301E71EFA4037D84786E68751D929A27.e.16096\")>,\n",
       " <selenium.webdriver.remote.webelement.WebElement (session=\"0fe582626fdb77e15e73b8a3b53fc6a2\", element=\"f.910A6505ABA4A9B05C01792F566778C1.d.301E71EFA4037D84786E68751D929A27.e.16153\")>,\n",
       " <selenium.webdriver.remote.webelement.WebElement (session=\"0fe582626fdb77e15e73b8a3b53fc6a2\", element=\"f.910A6505ABA4A9B05C01792F566778C1.d.301E71EFA4037D84786E68751D929A27.e.16189\")>,\n",
       " <selenium.webdriver.remote.webelement.WebElement (session=\"0fe582626fdb77e15e73b8a3b53fc6a2\", element=\"f.910A6505ABA4A9B05C01792F566778C1.d.301E71EFA4037D84786E68751D929A27.e.16247\")>,\n",
       " <selenium.webdriver.remote.webelement.WebElement (session=\"0fe582626fdb77e15e73b8a3b53fc6a2\", element=\"f.910A6505ABA4A9B05C01792F566778C1.d.301E71EFA4037D84786E68751D929A27.e.16302\")>,\n",
       " <selenium.webdriver.remote.webelement.WebElement (session=\"0fe582626fdb77e15e73b8a3b53fc6a2\", element=\"f.910A6505ABA4A9B05C01792F566778C1.d.301E71EFA4037D84786E68751D929A27.e.16335\")>,\n",
       " <selenium.webdriver.remote.webelement.WebElement (session=\"0fe582626fdb77e15e73b8a3b53fc6a2\", element=\"f.910A6505ABA4A9B05C01792F566778C1.d.301E71EFA4037D84786E68751D929A27.e.16369\")>,\n",
       " <selenium.webdriver.remote.webelement.WebElement (session=\"0fe582626fdb77e15e73b8a3b53fc6a2\", element=\"f.910A6505ABA4A9B05C01792F566778C1.d.301E71EFA4037D84786E68751D929A27.e.16422\")>,\n",
       " <selenium.webdriver.remote.webelement.WebElement (session=\"0fe582626fdb77e15e73b8a3b53fc6a2\", element=\"f.910A6505ABA4A9B05C01792F566778C1.d.301E71EFA4037D84786E68751D929A27.e.16469\")>,\n",
       " <selenium.webdriver.remote.webelement.WebElement (session=\"0fe582626fdb77e15e73b8a3b53fc6a2\", element=\"f.910A6505ABA4A9B05C01792F566778C1.d.301E71EFA4037D84786E68751D929A27.e.18893\")>,\n",
       " <selenium.webdriver.remote.webelement.WebElement (session=\"0fe582626fdb77e15e73b8a3b53fc6a2\", element=\"f.910A6505ABA4A9B05C01792F566778C1.d.301E71EFA4037D84786E68751D929A27.e.18918\")>,\n",
       " <selenium.webdriver.remote.webelement.WebElement (session=\"0fe582626fdb77e15e73b8a3b53fc6a2\", element=\"f.910A6505ABA4A9B05C01792F566778C1.d.301E71EFA4037D84786E68751D929A27.e.18976\")>,\n",
       " <selenium.webdriver.remote.webelement.WebElement (session=\"0fe582626fdb77e15e73b8a3b53fc6a2\", element=\"f.910A6505ABA4A9B05C01792F566778C1.d.301E71EFA4037D84786E68751D929A27.e.19003\")>,\n",
       " <selenium.webdriver.remote.webelement.WebElement (session=\"0fe582626fdb77e15e73b8a3b53fc6a2\", element=\"f.910A6505ABA4A9B05C01792F566778C1.d.301E71EFA4037D84786E68751D929A27.e.19029\")>,\n",
       " <selenium.webdriver.remote.webelement.WebElement (session=\"0fe582626fdb77e15e73b8a3b53fc6a2\", element=\"f.910A6505ABA4A9B05C01792F566778C1.d.301E71EFA4037D84786E68751D929A27.e.19086\")>,\n",
       " <selenium.webdriver.remote.webelement.WebElement (session=\"0fe582626fdb77e15e73b8a3b53fc6a2\", element=\"f.910A6505ABA4A9B05C01792F566778C1.d.301E71EFA4037D84786E68751D929A27.e.19113\")>,\n",
       " <selenium.webdriver.remote.webelement.WebElement (session=\"0fe582626fdb77e15e73b8a3b53fc6a2\", element=\"f.910A6505ABA4A9B05C01792F566778C1.d.301E71EFA4037D84786E68751D929A27.e.19170\")>,\n",
       " <selenium.webdriver.remote.webelement.WebElement (session=\"0fe582626fdb77e15e73b8a3b53fc6a2\", element=\"f.910A6505ABA4A9B05C01792F566778C1.d.301E71EFA4037D84786E68751D929A27.e.19195\")>,\n",
       " <selenium.webdriver.remote.webelement.WebElement (session=\"0fe582626fdb77e15e73b8a3b53fc6a2\", element=\"f.910A6505ABA4A9B05C01792F566778C1.d.301E71EFA4037D84786E68751D929A27.e.19217\")>,\n",
       " <selenium.webdriver.remote.webelement.WebElement (session=\"0fe582626fdb77e15e73b8a3b53fc6a2\", element=\"f.910A6505ABA4A9B05C01792F566778C1.d.301E71EFA4037D84786E68751D929A27.e.19586\")>,\n",
       " <selenium.webdriver.remote.webelement.WebElement (session=\"0fe582626fdb77e15e73b8a3b53fc6a2\", element=\"f.910A6505ABA4A9B05C01792F566778C1.d.301E71EFA4037D84786E68751D929A27.e.19644\")>,\n",
       " <selenium.webdriver.remote.webelement.WebElement (session=\"0fe582626fdb77e15e73b8a3b53fc6a2\", element=\"f.910A6505ABA4A9B05C01792F566778C1.d.301E71EFA4037D84786E68751D929A27.e.19669\")>,\n",
       " <selenium.webdriver.remote.webelement.WebElement (session=\"0fe582626fdb77e15e73b8a3b53fc6a2\", element=\"f.910A6505ABA4A9B05C01792F566778C1.d.301E71EFA4037D84786E68751D929A27.e.19694\")>,\n",
       " <selenium.webdriver.remote.webelement.WebElement (session=\"0fe582626fdb77e15e73b8a3b53fc6a2\", element=\"f.910A6505ABA4A9B05C01792F566778C1.d.301E71EFA4037D84786E68751D929A27.e.19732\")>,\n",
       " <selenium.webdriver.remote.webelement.WebElement (session=\"0fe582626fdb77e15e73b8a3b53fc6a2\", element=\"f.910A6505ABA4A9B05C01792F566778C1.d.301E71EFA4037D84786E68751D929A27.e.19759\")>,\n",
       " <selenium.webdriver.remote.webelement.WebElement (session=\"0fe582626fdb77e15e73b8a3b53fc6a2\", element=\"f.910A6505ABA4A9B05C01792F566778C1.d.301E71EFA4037D84786E68751D929A27.e.19783\")>,\n",
       " <selenium.webdriver.remote.webelement.WebElement (session=\"0fe582626fdb77e15e73b8a3b53fc6a2\", element=\"f.910A6505ABA4A9B05C01792F566778C1.d.301E71EFA4037D84786E68751D929A27.e.19809\")>,\n",
       " <selenium.webdriver.remote.webelement.WebElement (session=\"0fe582626fdb77e15e73b8a3b53fc6a2\", element=\"f.910A6505ABA4A9B05C01792F566778C1.d.301E71EFA4037D84786E68751D929A27.e.19833\")>,\n",
       " <selenium.webdriver.remote.webelement.WebElement (session=\"0fe582626fdb77e15e73b8a3b53fc6a2\", element=\"f.910A6505ABA4A9B05C01792F566778C1.d.301E71EFA4037D84786E68751D929A27.e.19858\")>,\n",
       " <selenium.webdriver.remote.webelement.WebElement (session=\"0fe582626fdb77e15e73b8a3b53fc6a2\", element=\"f.910A6505ABA4A9B05C01792F566778C1.d.301E71EFA4037D84786E68751D929A27.e.20227\")>,\n",
       " <selenium.webdriver.remote.webelement.WebElement (session=\"0fe582626fdb77e15e73b8a3b53fc6a2\", element=\"f.910A6505ABA4A9B05C01792F566778C1.d.301E71EFA4037D84786E68751D929A27.e.20260\")>,\n",
       " <selenium.webdriver.remote.webelement.WebElement (session=\"0fe582626fdb77e15e73b8a3b53fc6a2\", element=\"f.910A6505ABA4A9B05C01792F566778C1.d.301E71EFA4037D84786E68751D929A27.e.20285\")>,\n",
       " <selenium.webdriver.remote.webelement.WebElement (session=\"0fe582626fdb77e15e73b8a3b53fc6a2\", element=\"f.910A6505ABA4A9B05C01792F566778C1.d.301E71EFA4037D84786E68751D929A27.e.20311\")>,\n",
       " <selenium.webdriver.remote.webelement.WebElement (session=\"0fe582626fdb77e15e73b8a3b53fc6a2\", element=\"f.910A6505ABA4A9B05C01792F566778C1.d.301E71EFA4037D84786E68751D929A27.e.20336\")>,\n",
       " <selenium.webdriver.remote.webelement.WebElement (session=\"0fe582626fdb77e15e73b8a3b53fc6a2\", element=\"f.910A6505ABA4A9B05C01792F566778C1.d.301E71EFA4037D84786E68751D929A27.e.20360\")>,\n",
       " <selenium.webdriver.remote.webelement.WebElement (session=\"0fe582626fdb77e15e73b8a3b53fc6a2\", element=\"f.910A6505ABA4A9B05C01792F566778C1.d.301E71EFA4037D84786E68751D929A27.e.20385\")>,\n",
       " <selenium.webdriver.remote.webelement.WebElement (session=\"0fe582626fdb77e15e73b8a3b53fc6a2\", element=\"f.910A6505ABA4A9B05C01792F566778C1.d.301E71EFA4037D84786E68751D929A27.e.20411\")>,\n",
       " <selenium.webdriver.remote.webelement.WebElement (session=\"0fe582626fdb77e15e73b8a3b53fc6a2\", element=\"f.910A6505ABA4A9B05C01792F566778C1.d.301E71EFA4037D84786E68751D929A27.e.20437\")>,\n",
       " <selenium.webdriver.remote.webelement.WebElement (session=\"0fe582626fdb77e15e73b8a3b53fc6a2\", element=\"f.910A6505ABA4A9B05C01792F566778C1.d.301E71EFA4037D84786E68751D929A27.e.20464\")>,\n",
       " <selenium.webdriver.remote.webelement.WebElement (session=\"0fe582626fdb77e15e73b8a3b53fc6a2\", element=\"f.910A6505ABA4A9B05C01792F566778C1.d.301E71EFA4037D84786E68751D929A27.e.20727\")>,\n",
       " <selenium.webdriver.remote.webelement.WebElement (session=\"0fe582626fdb77e15e73b8a3b53fc6a2\", element=\"f.910A6505ABA4A9B05C01792F566778C1.d.301E71EFA4037D84786E68751D929A27.e.20761\")>,\n",
       " <selenium.webdriver.remote.webelement.WebElement (session=\"0fe582626fdb77e15e73b8a3b53fc6a2\", element=\"f.910A6505ABA4A9B05C01792F566778C1.d.301E71EFA4037D84786E68751D929A27.e.20785\")>,\n",
       " <selenium.webdriver.remote.webelement.WebElement (session=\"0fe582626fdb77e15e73b8a3b53fc6a2\", element=\"f.910A6505ABA4A9B05C01792F566778C1.d.301E71EFA4037D84786E68751D929A27.e.20814\")>,\n",
       " <selenium.webdriver.remote.webelement.WebElement (session=\"0fe582626fdb77e15e73b8a3b53fc6a2\", element=\"f.910A6505ABA4A9B05C01792F566778C1.d.301E71EFA4037D84786E68751D929A27.e.20851\")>,\n",
       " <selenium.webdriver.remote.webelement.WebElement (session=\"0fe582626fdb77e15e73b8a3b53fc6a2\", element=\"f.910A6505ABA4A9B05C01792F566778C1.d.301E71EFA4037D84786E68751D929A27.e.20876\")>,\n",
       " <selenium.webdriver.remote.webelement.WebElement (session=\"0fe582626fdb77e15e73b8a3b53fc6a2\", element=\"f.910A6505ABA4A9B05C01792F566778C1.d.301E71EFA4037D84786E68751D929A27.e.20903\")>,\n",
       " <selenium.webdriver.remote.webelement.WebElement (session=\"0fe582626fdb77e15e73b8a3b53fc6a2\", element=\"f.910A6505ABA4A9B05C01792F566778C1.d.301E71EFA4037D84786E68751D929A27.e.20928\")>,\n",
       " <selenium.webdriver.remote.webelement.WebElement (session=\"0fe582626fdb77e15e73b8a3b53fc6a2\", element=\"f.910A6505ABA4A9B05C01792F566778C1.d.301E71EFA4037D84786E68751D929A27.e.20953\")>,\n",
       " <selenium.webdriver.remote.webelement.WebElement (session=\"0fe582626fdb77e15e73b8a3b53fc6a2\", element=\"f.910A6505ABA4A9B05C01792F566778C1.d.301E71EFA4037D84786E68751D929A27.e.20977\")>,\n",
       " <selenium.webdriver.remote.webelement.WebElement (session=\"0fe582626fdb77e15e73b8a3b53fc6a2\", element=\"f.910A6505ABA4A9B05C01792F566778C1.d.301E71EFA4037D84786E68751D929A27.e.21254\")>,\n",
       " <selenium.webdriver.remote.webelement.WebElement (session=\"0fe582626fdb77e15e73b8a3b53fc6a2\", element=\"f.910A6505ABA4A9B05C01792F566778C1.d.301E71EFA4037D84786E68751D929A27.e.21278\")>,\n",
       " <selenium.webdriver.remote.webelement.WebElement (session=\"0fe582626fdb77e15e73b8a3b53fc6a2\", element=\"f.910A6505ABA4A9B05C01792F566778C1.d.301E71EFA4037D84786E68751D929A27.e.21304\")>,\n",
       " <selenium.webdriver.remote.webelement.WebElement (session=\"0fe582626fdb77e15e73b8a3b53fc6a2\", element=\"f.910A6505ABA4A9B05C01792F566778C1.d.301E71EFA4037D84786E68751D929A27.e.21329\")>,\n",
       " <selenium.webdriver.remote.webelement.WebElement (session=\"0fe582626fdb77e15e73b8a3b53fc6a2\", element=\"f.910A6505ABA4A9B05C01792F566778C1.d.301E71EFA4037D84786E68751D929A27.e.21355\")>,\n",
       " <selenium.webdriver.remote.webelement.WebElement (session=\"0fe582626fdb77e15e73b8a3b53fc6a2\", element=\"f.910A6505ABA4A9B05C01792F566778C1.d.301E71EFA4037D84786E68751D929A27.e.21380\")>,\n",
       " <selenium.webdriver.remote.webelement.WebElement (session=\"0fe582626fdb77e15e73b8a3b53fc6a2\", element=\"f.910A6505ABA4A9B05C01792F566778C1.d.301E71EFA4037D84786E68751D929A27.e.21406\")>,\n",
       " <selenium.webdriver.remote.webelement.WebElement (session=\"0fe582626fdb77e15e73b8a3b53fc6a2\", element=\"f.910A6505ABA4A9B05C01792F566778C1.d.301E71EFA4037D84786E68751D929A27.e.21431\")>,\n",
       " <selenium.webdriver.remote.webelement.WebElement (session=\"0fe582626fdb77e15e73b8a3b53fc6a2\", element=\"f.910A6505ABA4A9B05C01792F566778C1.d.301E71EFA4037D84786E68751D929A27.e.21458\")>,\n",
       " <selenium.webdriver.remote.webelement.WebElement (session=\"0fe582626fdb77e15e73b8a3b53fc6a2\", element=\"f.910A6505ABA4A9B05C01792F566778C1.d.301E71EFA4037D84786E68751D929A27.e.21483\")>]"
      ]
     },
     "execution_count": 34,
     "metadata": {},
     "output_type": "execute_result"
    }
   ],
   "source": [
    "# 뉴스 타이틀 수집\n",
    "news = driver.find_elements(By.CSS_SELECTOR,\"a.news_tit\")\n",
    "news"
   ]
  },
  {
   "cell_type": "code",
   "execution_count": 38,
   "id": "868d6f2b-8cdf-473a-809a-50d454c7eaa8",
   "metadata": {},
   "outputs": [],
   "source": [
    "news_list = []\n",
    "for i in news :\n",
    "    news_list.append(i.text)"
   ]
  },
  {
   "cell_type": "code",
   "execution_count": 40,
   "id": "db3de57d-641b-46b6-b187-9befc8f5f990",
   "metadata": {
    "collapsed": true,
    "jupyter": {
     "outputs_hidden": true
    }
   },
   "outputs": [
    {
     "data": {
      "text/plain": [
       "['롯데월드에서 만나는 bhc 콜팝의 이야기…산호세점 정식 오픈',\n",
       " \"롯데월드 아쿠아리움, '보노보노 친구들과 아쿠아리움 나들이' 진행\",\n",
       " '“아들아 좋아? 아빠도 좋아”...초대박 행진에 발 디딜 틈 없다는 롯데...',\n",
       " '롯데월드, ‘포켓몬’ 효과에 3월 매출 10% 늘어',\n",
       " '\"롯데월드타워 정상까지 도전\"… 롯데, \\'패밀리 스카이런\\' 개최',\n",
       " \"bhc, 롯데월드에 '콜팝' 테마 체험형 매장 오픈... 브랜드 공간 혁신 시...\",\n",
       " 'SL&C, 롯데월드몰·현대百 판교점에 ‘이타마에 스시’ 동시 오픈',\n",
       " '\"귀여움 폭발\"…보노보노, 롯데월드 아쿠아리움에 떴다',\n",
       " '이타마에 스시, 롯데월드몰·현대백화점 판교점 오픈',\n",
       " '\"아기 해달, 잠실에 뜬다\" 롯데월드 아쿠아리움x보노보노',\n",
       " '롯데월드타워 4배 높이…사우디, 2㎞ 마천루 건설 계획',\n",
       " '롯데월드 샤롯데 봉사단 나무 심기 봉사',\n",
       " '‘찰떡 컬래버’ 롯데월드 아쿠아리움에서 만나는 보노보노 세상',\n",
       " '“롯데월드타워 123층 오르기 도전”',\n",
       " \"롯데그룹 노사 함께 '롯데월드타워' 오른다\",\n",
       " \"'1천만 러너의 성지' 롯데 잠실월드몰에 '디스턴스' 팝업\",\n",
       " '롯데월드 어드벤처와 즐기는 벚꽃놀이',\n",
       " '화순군청소년수련관, 롯데월드 문화체험',\n",
       " \"bhc, 콜팝 담은 브랜드 매장 'bhc pop' 롯데월드서 첫 선\",\n",
       " \"롯데월드 아쿠아리움, '보노보노 친구들과 아쿠아리움 나들이' 진행\",\n",
       " \"롯데월드타워, 석촌호수 벚꽃축제 속 '스프링 인 잠실' 펼친다\",\n",
       " \"롯데월드, 베트남 하노이에 실내 놀이공원 연다…'K-레저 직진출'\",\n",
       " '천정명, 이세령 아나운서와 롯데월드 데이트(이젠 사랑할 수 있을까)',\n",
       " '롯데월드 석촌호수 나무심기 ‘도심 숲 조성’ 캠페인',\n",
       " '롯데월드 “도심 속 숲 조성해요”… 나무 심으며 탄소중립 실천',\n",
       " '롯데월드, 롯데자이언츠 팬 대상 5개 사업장 할인 프로모션',\n",
       " 'bhc, 롯데월드산호세점 리뉴얼…콜팝 전용 매장 들어선다',\n",
       " '영산대, 외국인 유학생 롯데월드서 봄맞이 네트워킹 행사',\n",
       " '영산대, 외국인 유학생 롯데월드서 봄맞이 네트워킹 행사',\n",
       " '롯데월드타워, 봄꽃 정원에 포토존 조성…밤에는 벚꽂 산책로',\n",
       " \"[게시판] 코오롱모터스, 13일까지 롯데월드몰서 'BMW 아이코닉 라운지'\",\n",
       " '[영상] 롯데월드몰 등장한 NCT 마크, 직접 조리에 맛보기',\n",
       " '[Daily New유통] 놀유니버스, 롯데월드타워, 오뚜기함태호재단 外',\n",
       " '\"벚꽃 보러 롯데월드타워 어떠세요?\"',\n",
       " '사르투, 4월 18일부터 롯데월드몰 잠실점 팝업스토어 운영',\n",
       " '\"잠실롯데월드 123층 정상까지 달린다\"...19일 \\'롯데 패밀리 스카이런\\'',\n",
       " '네파키즈, 롯데월드와 함께한 콜라보 상품 공개',\n",
       " '티니핑으로 물든 롯데월드 부산, 봄 축제 팡파르',\n",
       " '\"탄소중립 실천\"…롯데월드, 식목일 맞이 \\'도심 숲 조성\\' 캠페인 진행',\n",
       " '\"핑크빛으로 물든 잠실\"...롯데월드타워, \\'2025 스프링 인 잠실\\' 행사 진...',\n",
       " '롯데월드타워, 22일 밤 60분간 불 끈다',\n",
       " '에버랜드·롯데월드도 ‘야구팬덤 마케팅’',\n",
       " \"롯데월드, 탄소중립 실천 동참… 식목일 맞이 '도심 숲 조성' 캠페인 진...\",\n",
       " '오늘 밤 잠실 롯데월드타워 60분간 불 꺼진다',\n",
       " '서울 랜드마크 롯데월드타워, 오늘 밤 60분 동안 불 꺼진다는데',\n",
       " '[카드] 롯데월드타워 ‘2025 스프링 인 잠실’ 진행',\n",
       " \"코오롱모터스, 잠실 롯데월드몰서 'BMW 아이코닉 라운지' 운영\",\n",
       " '롯데자이언츠 팬 주목… 롯데월드, 5개 사업장 할인 프로모션 실시',\n",
       " '네파키즈, 롯데월드와 함께한 콜라보 상품 공개',\n",
       " '[브리프]현대백화점 롯데마트 우아한형제들 CJ온스타일 롯데월드 外',\n",
       " '롯데월드, 롯데자이언츠 팬 대상 특별 프로모션 실시',\n",
       " \"임직원 2200명, 월드타워 정상 오른다...'2025 롯데 패밀리 스카이런' 개...\",\n",
       " '\"낮엔 봄꽃정원 밤엔 벚꽃산책로\" 롯데월드타워 \\'스프링 인 잠실\\'',\n",
       " '롯데자이언츠, 롯데월드 ‘모여라 자이언츠! 외치자 롯데!’ 프로모션',\n",
       " '네파키즈, 롯데월드와 함께한 콜라보레이션 상품 공개',\n",
       " '네파키즈, 롯데월드와 함께한 콜라보레이션 상품 공개',\n",
       " '[르포] 낮에는 봄꽃 정원, 밤에는 핑크빛 벚꽃길...롯데월드 ‘스프링 ...',\n",
       " \"콘텐츠로 韓日 '원롯데'…롯데월드 아쿠아리움에 '보노보노' 온다\",\n",
       " '롯데월드타워, 22일 밤 60분간 불 끈다…어스아워 동참',\n",
       " '롯데팬 모여라, 4월간 롯데월드 최대 32~54% 할인…‘모여라 자이언츠! ...']"
      ]
     },
     "execution_count": 40,
     "metadata": {},
     "output_type": "execute_result"
    }
   ],
   "source": [
    "news_list"
   ]
  },
  {
   "cell_type": "code",
   "execution_count": null,
   "id": "f23d1e7f-2724-41a6-992c-3494997b3192",
   "metadata": {},
   "outputs": [],
   "source": []
  },
  {
   "cell_type": "code",
   "execution_count": null,
   "id": "3a51f82f-c9e5-4d4c-906d-ecdae5172a90",
   "metadata": {},
   "outputs": [],
   "source": []
  },
  {
   "cell_type": "code",
   "execution_count": null,
   "id": "b02edcf1-7c9a-4d24-ad19-ea9b2df42e17",
   "metadata": {},
   "outputs": [],
   "source": []
  },
  {
   "cell_type": "code",
   "execution_count": null,
   "id": "1aa48d90-3bf8-40f3-bbca-3f24ebe73867",
   "metadata": {},
   "outputs": [],
   "source": []
  },
  {
   "cell_type": "code",
   "execution_count": null,
   "id": "67c62686-221b-4bb3-ab8f-4e356959c39e",
   "metadata": {},
   "outputs": [],
   "source": []
  },
  {
   "cell_type": "code",
   "execution_count": null,
   "id": "53212120-abb4-42f9-ad7c-847d842b7b0b",
   "metadata": {},
   "outputs": [],
   "source": []
  },
  {
   "cell_type": "code",
   "execution_count": null,
   "id": "6846bf24-d161-4801-9c5f-9d1012676f8d",
   "metadata": {},
   "outputs": [],
   "source": []
  },
  {
   "cell_type": "code",
   "execution_count": null,
   "id": "d657db0a-805e-4eb8-b0e5-f18c944f4e89",
   "metadata": {},
   "outputs": [],
   "source": []
  },
  {
   "cell_type": "code",
   "execution_count": null,
   "id": "d7a4334e-54cc-4cf4-8de6-3edc72e4efbe",
   "metadata": {},
   "outputs": [],
   "source": []
  },
  {
   "cell_type": "code",
   "execution_count": null,
   "id": "808f3be6-a433-4f06-b4da-1811657867a7",
   "metadata": {},
   "outputs": [],
   "source": []
  },
  {
   "cell_type": "code",
   "execution_count": null,
   "id": "bba4bbec-b9e5-4a56-82bc-d200a8cc6da7",
   "metadata": {},
   "outputs": [],
   "source": []
  }
 ],
 "metadata": {
  "kernelspec": {
   "display_name": "Python [conda env:base] *",
   "language": "python",
   "name": "conda-base-py"
  },
  "language_info": {
   "codemirror_mode": {
    "name": "ipython",
    "version": 3
   },
   "file_extension": ".py",
   "mimetype": "text/x-python",
   "name": "python",
   "nbconvert_exporter": "python",
   "pygments_lexer": "ipython3",
   "version": "3.12.7"
  }
 },
 "nbformat": 4,
 "nbformat_minor": 5
}
