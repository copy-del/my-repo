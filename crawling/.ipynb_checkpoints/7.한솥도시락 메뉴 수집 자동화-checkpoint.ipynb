{
 "cells": [
  {
   "cell_type": "code",
   "execution_count": 1,
   "id": "f4617790-2fb3-4812-b2c0-6fcb859b3417",
   "metadata": {},
   "outputs": [],
   "source": [
    "from selenium import webdriver as wb\n",
    "from selenium.webdriver.common.keys import Keys\n",
    "from selenium.webdriver.common.by import By\n",
    "import pandas as pd\n",
    "import time"
   ]
  },
  {
   "cell_type": "code",
   "execution_count": 121,
   "id": "89f047d3-2918-4c60-b063-918c528b2fc4",
   "metadata": {},
   "outputs": [],
   "source": [
    "driver = wb.Chrome()"
   ]
  },
  {
   "cell_type": "code",
   "execution_count": 123,
   "id": "5421272e-26dc-4a39-a25c-6b5cc479385d",
   "metadata": {},
   "outputs": [],
   "source": [
    "driver.get(\"https://www.hsd.co.kr/menu/menu_list\")"
   ]
  },
  {
   "cell_type": "code",
   "execution_count": 141,
   "id": "89813859-5365-494e-96c5-7d58841c694a",
   "metadata": {},
   "outputs": [],
   "source": [
    "btn = driver.find_element(By.CSS_SELECTOR,\"#btn_more > span > a\")\n",
    "for i in range(5):\n",
    "    btn.click()\n",
    "    time.sleep(1)"
   ]
  },
  {
   "cell_type": "code",
   "execution_count": 157,
   "id": "178ca9a3-fa62-48f0-bbc1-3fb6b21fb1e1",
   "metadata": {},
   "outputs": [
    {
     "data": {
      "text/plain": [
       "90"
      ]
     },
     "execution_count": 157,
     "metadata": {},
     "output_type": "execute_result"
    }
   ],
   "source": [
    "menu = driver.find_elements(By.CSS_SELECTOR,\".h.fz_03\")\n",
    "price = driver.find_elements(By.CSS_SELECTOR,\"div.item-price > strong\")\n",
    "len(price)"
   ]
  },
  {
   "cell_type": "code",
   "execution_count": 159,
   "id": "ca290079-82a1-4af5-b27a-587be78813cc",
   "metadata": {},
   "outputs": [],
   "source": [
    "menu_list = []\n",
    "price_list = []\n",
    "for i in range(len(menu)):\n",
    "    menu_list.append(menu[i].text)\n",
    "    price_list.append(price[i].text)"
   ]
  },
  {
   "cell_type": "code",
   "execution_count": 173,
   "id": "715c89d6-8838-48c7-96f5-d44b8a31a71b",
   "metadata": {},
   "outputs": [],
   "source": [
    "dic = {\"메뉴\" : menu_list,\n",
    "       \"가격\" : price_list\n",
    "}\n",
    "hansot = pd.DataFrame(dic)\n",
    "hansot.to_csv(\"한솥도시락.csv\",encoding=\"UTF-8\")"
   ]
  },
  {
   "cell_type": "code",
   "execution_count": null,
   "id": "3046aded-44d8-4fd4-9a75-1618494819ea",
   "metadata": {},
   "outputs": [],
   "source": []
  },
  {
   "cell_type": "code",
   "execution_count": null,
   "id": "e8148af8-8b9e-40c4-9ac2-8067057a47c9",
   "metadata": {},
   "outputs": [],
   "source": []
  },
  {
   "cell_type": "code",
   "execution_count": null,
   "id": "792ae74e-7a60-4b94-9b81-a6b8d86860dd",
   "metadata": {},
   "outputs": [],
   "source": []
  },
  {
   "cell_type": "code",
   "execution_count": null,
   "id": "72e5449c-34c1-407e-903f-15aefd2fe4d4",
   "metadata": {},
   "outputs": [],
   "source": []
  },
  {
   "cell_type": "code",
   "execution_count": null,
   "id": "e853b00f-8439-41b6-9fd6-ff40cd82e751",
   "metadata": {},
   "outputs": [],
   "source": []
  },
  {
   "cell_type": "code",
   "execution_count": null,
   "id": "ebec72c7-7fc5-402e-97a9-3cd9e2f32c13",
   "metadata": {},
   "outputs": [],
   "source": []
  },
  {
   "cell_type": "code",
   "execution_count": null,
   "id": "d5d89ba3-16e4-4bb2-9f34-24c8047d19be",
   "metadata": {},
   "outputs": [],
   "source": []
  },
  {
   "cell_type": "code",
   "execution_count": null,
   "id": "90add55c-69b9-421f-bf2b-6cee40741478",
   "metadata": {},
   "outputs": [],
   "source": []
  },
  {
   "cell_type": "code",
   "execution_count": null,
   "id": "71889542-4c51-4f22-af89-8626c6a17fbf",
   "metadata": {},
   "outputs": [],
   "source": []
  },
  {
   "cell_type": "code",
   "execution_count": null,
   "id": "a1234409-fbbb-4823-9984-ac35f49375b2",
   "metadata": {},
   "outputs": [],
   "source": []
  },
  {
   "cell_type": "code",
   "execution_count": null,
   "id": "03189869-291b-450a-83ac-a9002a5449ee",
   "metadata": {},
   "outputs": [],
   "source": []
  },
  {
   "cell_type": "code",
   "execution_count": null,
   "id": "9e88f422-fbb1-4e74-9772-40f53dd4f2b0",
   "metadata": {},
   "outputs": [],
   "source": []
  }
 ],
 "metadata": {
  "kernelspec": {
   "display_name": "Python [conda env:base] *",
   "language": "python",
   "name": "conda-base-py"
  },
  "language_info": {
   "codemirror_mode": {
    "name": "ipython",
    "version": 3
   },
   "file_extension": ".py",
   "mimetype": "text/x-python",
   "name": "python",
   "nbconvert_exporter": "python",
   "pygments_lexer": "ipython3",
   "version": "3.12.7"
  }
 },
 "nbformat": 4,
 "nbformat_minor": 5
}
