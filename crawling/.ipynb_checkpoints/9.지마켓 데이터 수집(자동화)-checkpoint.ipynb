{
 "cells": [
  {
   "cell_type": "code",
   "execution_count": 1,
   "id": "7513a75e-c8be-4da2-9011-9ba25a601c90",
   "metadata": {
    "collapsed": true,
    "jupyter": {
     "outputs_hidden": true
    }
   },
   "outputs": [
    {
     "name": "stdout",
     "output_type": "stream",
     "text": [
      "Requirement already satisfied: undetected-chromedriver in c:\\users\\b\\anaconda3\\lib\\site-packages (3.5.5)\n",
      "Requirement already satisfied: selenium>=4.9.0 in c:\\users\\b\\anaconda3\\lib\\site-packages (from undetected-chromedriver) (4.31.0)\n",
      "Requirement already satisfied: requests in c:\\users\\b\\anaconda3\\lib\\site-packages (from undetected-chromedriver) (2.32.3)\n",
      "Requirement already satisfied: websockets in c:\\users\\b\\anaconda3\\lib\\site-packages (from undetected-chromedriver) (15.0.1)\n",
      "Requirement already satisfied: urllib3<3,>=1.26 in c:\\users\\b\\anaconda3\\lib\\site-packages (from urllib3[socks]<3,>=1.26->selenium>=4.9.0->undetected-chromedriver) (2.2.3)\n",
      "Requirement already satisfied: trio~=0.17 in c:\\users\\b\\anaconda3\\lib\\site-packages (from selenium>=4.9.0->undetected-chromedriver) (0.29.0)\n",
      "Requirement already satisfied: trio-websocket~=0.9 in c:\\users\\b\\anaconda3\\lib\\site-packages (from selenium>=4.9.0->undetected-chromedriver) (0.12.2)\n",
      "Requirement already satisfied: certifi>=2021.10.8 in c:\\users\\b\\anaconda3\\lib\\site-packages (from selenium>=4.9.0->undetected-chromedriver) (2024.8.30)\n",
      "Requirement already satisfied: typing_extensions~=4.9 in c:\\users\\b\\anaconda3\\lib\\site-packages (from selenium>=4.9.0->undetected-chromedriver) (4.11.0)\n",
      "Requirement already satisfied: websocket-client~=1.8 in c:\\users\\b\\anaconda3\\lib\\site-packages (from selenium>=4.9.0->undetected-chromedriver) (1.8.0)\n",
      "Requirement already satisfied: charset-normalizer<4,>=2 in c:\\users\\b\\anaconda3\\lib\\site-packages (from requests->undetected-chromedriver) (3.3.2)\n",
      "Requirement already satisfied: idna<4,>=2.5 in c:\\users\\b\\anaconda3\\lib\\site-packages (from requests->undetected-chromedriver) (3.7)\n",
      "Requirement already satisfied: attrs>=23.2.0 in c:\\users\\b\\anaconda3\\lib\\site-packages (from trio~=0.17->selenium>=4.9.0->undetected-chromedriver) (25.3.0)\n",
      "Requirement already satisfied: sortedcontainers in c:\\users\\b\\anaconda3\\lib\\site-packages (from trio~=0.17->selenium>=4.9.0->undetected-chromedriver) (2.4.0)\n",
      "Requirement already satisfied: outcome in c:\\users\\b\\anaconda3\\lib\\site-packages (from trio~=0.17->selenium>=4.9.0->undetected-chromedriver) (1.3.0.post0)\n",
      "Requirement already satisfied: sniffio>=1.3.0 in c:\\users\\b\\anaconda3\\lib\\site-packages (from trio~=0.17->selenium>=4.9.0->undetected-chromedriver) (1.3.0)\n",
      "Requirement already satisfied: cffi>=1.14 in c:\\users\\b\\anaconda3\\lib\\site-packages (from trio~=0.17->selenium>=4.9.0->undetected-chromedriver) (1.17.1)\n",
      "Requirement already satisfied: wsproto>=0.14 in c:\\users\\b\\anaconda3\\lib\\site-packages (from trio-websocket~=0.9->selenium>=4.9.0->undetected-chromedriver) (1.2.0)\n",
      "Requirement already satisfied: pysocks!=1.5.7,<2.0,>=1.5.6 in c:\\users\\b\\anaconda3\\lib\\site-packages (from urllib3[socks]<3,>=1.26->selenium>=4.9.0->undetected-chromedriver) (1.7.1)\n",
      "Requirement already satisfied: pycparser in c:\\users\\b\\anaconda3\\lib\\site-packages (from cffi>=1.14->trio~=0.17->selenium>=4.9.0->undetected-chromedriver) (2.21)\n",
      "Requirement already satisfied: h11<1,>=0.9.0 in c:\\users\\b\\anaconda3\\lib\\site-packages (from wsproto>=0.14->trio-websocket~=0.9->selenium>=4.9.0->undetected-chromedriver) (0.14.0)\n",
      "Note: you may need to restart the kernel to use updated packages.\n"
     ]
    }
   ],
   "source": [
    "pip install undetected-chromedriver"
   ]
  },
  {
   "cell_type": "code",
   "execution_count": 2,
   "id": "bc52f719-9ced-4f69-b3e7-f5f70117887a",
   "metadata": {},
   "outputs": [],
   "source": [
    "from selenium import webdriver as wb\n",
    "from selenium.webdriver.common.by import By\n",
    "import time"
   ]
  },
  {
   "cell_type": "code",
   "execution_count": 7,
   "id": "3ce4f252-5aa6-4671-9b73-20e9b9beab41",
   "metadata": {
    "scrolled": true
   },
   "outputs": [],
   "source": [
    "driver = wb.Chrome()\n",
    "driver.get(\"https://www.11st.co.kr/browsing/BestSeller.tmall?method=getBestSellerMain&xfrom=main^gnb\")"
   ]
  },
  {
   "cell_type": "code",
   "execution_count": 15,
   "id": "f1525db8-9d7d-4cda-85ae-77e589eb1ecd",
   "metadata": {},
   "outputs": [],
   "source": [
    "# 첫번째 상품을 클릭해서 들어가야 함\n",
    "pro = driver.find_elements(By.CSS_SELECTOR, \".viewtype.catal_ty > .cfix > li > div > a\")\n",
    "pro[1].click()"
   ]
  },
  {
   "cell_type": "code",
   "execution_count": 12,
   "id": "edadf48b-342f-4238-969b-2f9510f518f3",
   "metadata": {},
   "outputs": [
    {
     "name": "stdout",
     "output_type": "stream",
     "text": [
      "[쉐이크쉑][매장POS에서만 주문가능/키오스크불가] Shack 베스트 세트 (쉑버거2개+프렌치프라이+콜라2개)\n",
      "17,100\n"
     ]
    }
   ],
   "source": [
    "# 상품명, 상품 가격 수집\n",
    "title = driver.find_element(By.CSS_SELECTOR, \"h1.title\")\n",
    "price = driver.find_element(By.CSS_SELECTOR, \"#finalDscPrcArea > dd.price > strong > span.value\")\n",
    "print(title.text)\n",
    "print(price.text)"
   ]
  },
  {
   "cell_type": "code",
   "execution_count": null,
   "id": "1c0f9a26-446c-4598-86c1-8be93d76539d",
   "metadata": {},
   "outputs": [],
   "source": [
    "# 페이지 뒤로가기\n",
    "driver.back()"
   ]
  },
  {
   "cell_type": "code",
   "execution_count": null,
   "id": "4aba5969-039d-4777-bf0e-1e442644f9c6",
   "metadata": {},
   "outputs": [],
   "source": [
    "# 풀버전으로 한 셀에 작성\n",
    "# 11번가 상품목록 페이지에서\n",
    "# 1위 클릭 - 상품명/가격 수집(리스트에 각각 저장) - 뒤로가기\n",
    "# 2위 클릭 - ... - \n",
    "# --> for문 사용해서 반복. *중간중간 쉬는 시간 주기\n",
    "# 첫번째 상품을 클릭해서 들어가야 함"
   ]
  },
  {
   "cell_type": "code",
   "execution_count": 31,
   "id": "3c6f4842-9291-4b59-9c96-10b37451aba6",
   "metadata": {},
   "outputs": [],
   "source": [
    "driver = wb.Chrome()\n",
    "driver.get(\"https://www.11st.co.kr/browsing/BestSeller.tmall?method=getBestSellerMain&xfrom=main^gnb\")\n",
    "\n",
    "title_list = []\n",
    "price_list = []\n",
    "\n",
    "for i in range(15) : \n",
    "    \n",
    "    # 상품 클릭\n",
    "    pro = driver.find_elements(By.CSS_SELECTOR, \".viewtype.catal_ty > .cfix > li > div > a\")\n",
    "    pro[i].click()\n",
    "    time.sleep(2)\n",
    "\n",
    "    # 상품명, 상품 가격 수집\n",
    "    title = driver.find_element(By.CSS_SELECTOR, \"h1.title\")\n",
    "    price = driver.find_element(By.CSS_SELECTOR, \"#finalDscPrcArea > dd.price > strong > span.value\")\n",
    "\n",
    "    title_list.append(title.text)\n",
    "    price_list.append(price.get_attribute(\"textContent\"))\n",
    "    \n",
    "    time.sleep(2)\n",
    "    # 페이지 뒤로가기\n",
    "    driver.back()"
   ]
  },
  {
   "cell_type": "code",
   "execution_count": 32,
   "id": "50342fa4-ea95-4715-8aa3-511729d8cbb4",
   "metadata": {},
   "outputs": [],
   "source": [
    "import pandas as pd\n",
    "dic = {\"상품\" : title_list, \"가격\" : price_list}\n",
    "store = pd.DataFrame(dic)"
   ]
  },
  {
   "cell_type": "code",
   "execution_count": 33,
   "id": "87d1484e-4157-4686-a0b1-b2bdcc9fa0f0",
   "metadata": {},
   "outputs": [
    {
     "data": {
      "text/html": [
       "<div>\n",
       "<style scoped>\n",
       "    .dataframe tbody tr th:only-of-type {\n",
       "        vertical-align: middle;\n",
       "    }\n",
       "\n",
       "    .dataframe tbody tr th {\n",
       "        vertical-align: top;\n",
       "    }\n",
       "\n",
       "    .dataframe thead th {\n",
       "        text-align: right;\n",
       "    }\n",
       "</style>\n",
       "<table border=\"1\" class=\"dataframe\">\n",
       "  <thead>\n",
       "    <tr style=\"text-align: right;\">\n",
       "      <th></th>\n",
       "      <th>상품</th>\n",
       "      <th>가격</th>\n",
       "    </tr>\n",
       "  </thead>\n",
       "  <tbody>\n",
       "    <tr>\n",
       "      <th>0</th>\n",
       "      <td>[쉐이크쉑][매장POS에서만 주문가능/키오스크불가] Shack 베스트 세트 (쉑버거...</td>\n",
       "      <td>17,100</td>\n",
       "    </tr>\n",
       "    <tr>\n",
       "      <th>1</th>\n",
       "      <td>[폴햄키즈 외] 봄&amp;여름 아이템 20%즉할 티셔츠/니트/셔츠/바지 외 100종</td>\n",
       "      <td>7,920</td>\n",
       "    </tr>\n",
       "    <tr>\n",
       "      <th>2</th>\n",
       "      <td>성주참외 못난이 랜덤과 1kg 꿀참외 당일수확</td>\n",
       "      <td>8,280</td>\n",
       "    </tr>\n",
       "    <tr>\n",
       "      <th>3</th>\n",
       "      <td>[5%페이] 내셔널지오그래픽 봄&amp;여름 BEST 모음전 운동화/캐주얼가방/모자</td>\n",
       "      <td>23,400</td>\n",
       "    </tr>\n",
       "    <tr>\n",
       "      <th>4</th>\n",
       "      <td>BHC 뿌링클+콜라1.25L</td>\n",
       "      <td>19,200</td>\n",
       "    </tr>\n",
       "    <tr>\n",
       "      <th>5</th>\n",
       "      <td>[품질보장] 100년기업 세콰이어 네이블 오렌지 (중과 3kg내외)</td>\n",
       "      <td>14,270</td>\n",
       "    </tr>\n",
       "    <tr>\n",
       "      <th>6</th>\n",
       "      <td>[품질보장] 달콤트리 찰토마토 5KG(사이즈 선택:소과,중과,대과)</td>\n",
       "      <td>14,730</td>\n",
       "    </tr>\n",
       "    <tr>\n",
       "      <th>7</th>\n",
       "      <td>[더미식] 당진쌀로 만든 당진 백미밥 200g 24개</td>\n",
       "      <td>23,500</td>\n",
       "    </tr>\n",
       "    <tr>\n",
       "      <th>8</th>\n",
       "      <td>마니커에프앤지 바사삭치킨 고추순살 300g(3봉)</td>\n",
       "      <td>17,370</td>\n",
       "    </tr>\n",
       "    <tr>\n",
       "      <th>9</th>\n",
       "      <td>홍대쭈꾸미 300g 4팩 한국인 입맛 맞춤 수제양념 쭈꾸미볶음</td>\n",
       "      <td>22,010</td>\n",
       "    </tr>\n",
       "    <tr>\n",
       "      <th>10</th>\n",
       "      <td>[품질보장] 100년기업 세콰이어 네이블 오렌지 (중소과 3.5kg내외)</td>\n",
       "      <td>13,290</td>\n",
       "    </tr>\n",
       "    <tr>\n",
       "      <th>11</th>\n",
       "      <td>[내일도착]24년산 전라북도쌀 20kg(혼합, 상등급)</td>\n",
       "      <td>47,900</td>\n",
       "    </tr>\n",
       "    <tr>\n",
       "      <th>12</th>\n",
       "      <td>[베리메이] *대방출* 클리어런스/봄/여름/반팔/반바지/봄마감가/상하복/원피스/티셔...</td>\n",
       "      <td>7,830</td>\n",
       "    </tr>\n",
       "    <tr>\n",
       "      <th>13</th>\n",
       "      <td>[3개] 리르 리얼 타투 펜 아이라이너 / 룩스 리퀴드 아이라이너</td>\n",
       "      <td>9,810</td>\n",
       "    </tr>\n",
       "    <tr>\n",
       "      <th>14</th>\n",
       "      <td>[11번가 단독] 베베숲 고평량 프리미엄 물티슈 프레쉬 70매 캡 20팩</td>\n",
       "      <td>24,900</td>\n",
       "    </tr>\n",
       "  </tbody>\n",
       "</table>\n",
       "</div>"
      ],
      "text/plain": [
       "                                                   상품      가격\n",
       "0   [쉐이크쉑][매장POS에서만 주문가능/키오스크불가] Shack 베스트 세트 (쉑버거...  17,100\n",
       "1         [폴햄키즈 외] 봄&여름 아이템 20%즉할 티셔츠/니트/셔츠/바지 외 100종   7,920\n",
       "2                           성주참외 못난이 랜덤과 1kg 꿀참외 당일수확   8,280\n",
       "3          [5%페이] 내셔널지오그래픽 봄&여름 BEST 모음전 운동화/캐주얼가방/모자  23,400\n",
       "4                                     BHC 뿌링클+콜라1.25L  19,200\n",
       "5               [품질보장] 100년기업 세콰이어 네이블 오렌지 (중과 3kg내외)  14,270\n",
       "6               [품질보장] 달콤트리 찰토마토 5KG(사이즈 선택:소과,중과,대과)  14,730\n",
       "7                       [더미식] 당진쌀로 만든 당진 백미밥 200g 24개  23,500\n",
       "8                         마니커에프앤지 바사삭치킨 고추순살 300g(3봉)  17,370\n",
       "9                  홍대쭈꾸미 300g 4팩 한국인 입맛 맞춤 수제양념 쭈꾸미볶음  22,010\n",
       "10           [품질보장] 100년기업 세콰이어 네이블 오렌지 (중소과 3.5kg내외)  13,290\n",
       "11                     [내일도착]24년산 전라북도쌀 20kg(혼합, 상등급)  47,900\n",
       "12  [베리메이] *대방출* 클리어런스/봄/여름/반팔/반바지/봄마감가/상하복/원피스/티셔...   7,830\n",
       "13               [3개] 리르 리얼 타투 펜 아이라이너 / 룩스 리퀴드 아이라이너   9,810\n",
       "14           [11번가 단독] 베베숲 고평량 프리미엄 물티슈 프레쉬 70매 캡 20팩  24,900"
      ]
     },
     "execution_count": 33,
     "metadata": {},
     "output_type": "execute_result"
    }
   ],
   "source": [
    "store"
   ]
  },
  {
   "cell_type": "code",
   "execution_count": 30,
   "id": "e7fdd521-7403-4508-bf9e-68aab8910523",
   "metadata": {},
   "outputs": [
    {
     "name": "stdout",
     "output_type": "stream",
     "text": [
      "[3개] 리르 리얼 타투 펜 아이라이너 / 룩스 리퀴드 아이라이너 9,810\n"
     ]
    }
   ],
   "source": [
    "driver = wb.Chrome()\n",
    "# 아이라이너 페이지 접속\n",
    "driver.get(\"https://www.11st.co.kr/products/7881929712?inpu=&trTypeCd=22&trCtgrNo=895019\")\n",
    "time.sleep(1)\n",
    "\n",
    "title = driver.find_element(By.CSS_SELECTOR, \"h1.title\")\n",
    "price = driver.find_element(By.CSS_SELECTOR, \"#finalDscPrcArea > dd.price > strong > span.value\")\n",
    "\n",
    "real_price = price.get_attribute(\"textContent\")\n",
    "\n",
    "print(title.text, real_price)"
   ]
  },
  {
   "cell_type": "code",
   "execution_count": null,
   "id": "c1846456-a23f-4d83-bce2-230423b446e6",
   "metadata": {},
   "outputs": [],
   "source": []
  }
 ],
 "metadata": {
  "kernelspec": {
   "display_name": "Python 3 (ipykernel)",
   "language": "python",
   "name": "python3"
  },
  "language_info": {
   "codemirror_mode": {
    "name": "ipython",
    "version": 3
   },
   "file_extension": ".py",
   "mimetype": "text/x-python",
   "name": "python",
   "nbconvert_exporter": "python",
   "pygments_lexer": "ipython3",
   "version": "3.12.7"
  }
 },
 "nbformat": 4,
 "nbformat_minor": 5
}
