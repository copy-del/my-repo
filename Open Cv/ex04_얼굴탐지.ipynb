{
 "cells": [
  {
   "cell_type": "code",
   "execution_count": 1,
   "id": "b13c6c73-a8cd-4380-98e7-66547e6c4574",
   "metadata": {
    "collapsed": true,
    "jupyter": {
     "outputs_hidden": true
    },
    "scrolled": true
   },
   "outputs": [
    {
     "name": "stdout",
     "output_type": "stream",
     "text": [
      "Collecting cvlib\n",
      "  Downloading cvlib-0.2.7.tar.gz (13.1 MB)\n",
      "     ---------------------------------------- 0.0/13.1 MB ? eta -:--:--\n",
      "     ---- ----------------------------------- 1.3/13.1 MB 7.5 MB/s eta 0:00:02\n",
      "     --------- ------------------------------ 3.1/13.1 MB 8.4 MB/s eta 0:00:02\n",
      "     --------------- ------------------------ 5.0/13.1 MB 8.4 MB/s eta 0:00:01\n",
      "     -------------------- ------------------- 6.8/13.1 MB 8.6 MB/s eta 0:00:01\n",
      "     -------------------------- ------------- 8.7/13.1 MB 8.5 MB/s eta 0:00:01\n",
      "     --------------------------------- ------ 11.0/13.1 MB 8.8 MB/s eta 0:00:01\n",
      "     -------------------------------------- - 12.6/13.1 MB 8.9 MB/s eta 0:00:01\n",
      "     ---------------------------------------- 13.1/13.1 MB 8.6 MB/s eta 0:00:00\n",
      "  Preparing metadata (setup.py): started\n",
      "  Preparing metadata (setup.py): finished with status 'done'\n",
      "Requirement already satisfied: numpy in c:\\users\\a\\anaconda3\\lib\\site-packages (from cvlib) (1.26.4)\n",
      "Collecting progressbar (from cvlib)\n",
      "  Downloading progressbar-2.5.tar.gz (10 kB)\n",
      "  Preparing metadata (setup.py): started\n",
      "  Preparing metadata (setup.py): finished with status 'done'\n",
      "Requirement already satisfied: requests in c:\\users\\a\\anaconda3\\lib\\site-packages (from cvlib) (2.32.3)\n",
      "Requirement already satisfied: pillow in c:\\users\\a\\anaconda3\\lib\\site-packages (from cvlib) (10.4.0)\n",
      "Requirement already satisfied: imageio in c:\\users\\a\\anaconda3\\lib\\site-packages (from cvlib) (2.33.1)\n",
      "Collecting imutils (from cvlib)\n",
      "  Downloading imutils-0.5.4.tar.gz (17 kB)\n",
      "  Preparing metadata (setup.py): started\n",
      "  Preparing metadata (setup.py): finished with status 'done'\n",
      "Requirement already satisfied: charset-normalizer<4,>=2 in c:\\users\\a\\anaconda3\\lib\\site-packages (from requests->cvlib) (3.3.2)\n",
      "Requirement already satisfied: idna<4,>=2.5 in c:\\users\\a\\anaconda3\\lib\\site-packages (from requests->cvlib) (3.7)\n",
      "Requirement already satisfied: urllib3<3,>=1.21.1 in c:\\users\\a\\anaconda3\\lib\\site-packages (from requests->cvlib) (2.2.3)\n",
      "Requirement already satisfied: certifi>=2017.4.17 in c:\\users\\a\\anaconda3\\lib\\site-packages (from requests->cvlib) (2025.1.31)\n",
      "Building wheels for collected packages: cvlib, imutils, progressbar\n",
      "  Building wheel for cvlib (setup.py): started\n",
      "  Building wheel for cvlib (setup.py): finished with status 'done'\n",
      "  Created wheel for cvlib: filename=cvlib-0.2.7-py3-none-any.whl size=10046379 sha256=e546d825ff9fbd9144e1fe67fa241e91c7ce0836e748a06cf7d350dd6287b31e\n",
      "  Stored in directory: c:\\users\\a\\appdata\\local\\pip\\cache\\wheels\\83\\07\\aa\\65f82dedaf511cdd3ff55778ddb8867161334ac786e52651e0\n",
      "  Building wheel for imutils (setup.py): started\n",
      "  Building wheel for imutils (setup.py): finished with status 'done'\n",
      "  Created wheel for imutils: filename=imutils-0.5.4-py3-none-any.whl size=25857 sha256=9eb6d6c027b8f25a38dbfcfc2dad26e9a4d930012c6b4d22318be2bb732a6be1\n",
      "  Stored in directory: c:\\users\\a\\appdata\\local\\pip\\cache\\wheels\\5b\\76\\96\\ad0c321506837bef578cf3008df3916c23018435a355d9f6b1\n",
      "  Building wheel for progressbar (setup.py): started\n",
      "  Building wheel for progressbar (setup.py): finished with status 'done'\n",
      "  Created wheel for progressbar: filename=progressbar-2.5-py3-none-any.whl size=12083 sha256=df41f86b22efaeb4d5f0d9759e8eac510e81e4f4cda0b11378b15403c10b0d97\n",
      "  Stored in directory: c:\\users\\a\\appdata\\local\\pip\\cache\\wheels\\a5\\4d\\c7\\f3cf0f75c746c219090060131fe00f1523cc2c5484991f4030\n",
      "Successfully built cvlib imutils progressbar\n",
      "Installing collected packages: progressbar, imutils, cvlib\n",
      "Successfully installed cvlib-0.2.7 imutils-0.5.4 progressbar-2.5\n"
     ]
    }
   ],
   "source": [
    "!pip install cvlib"
   ]
  },
  {
   "cell_type": "code",
   "execution_count": 5,
   "id": "5bc7cef3-cef8-475a-ba50-e0cd95989803",
   "metadata": {
    "collapsed": true,
    "jupyter": {
     "outputs_hidden": true
    }
   },
   "outputs": [
    {
     "name": "stdout",
     "output_type": "stream",
     "text": [
      "Collecting tensorflow==2.16.2\n",
      "  Using cached tensorflow-2.16.2-cp312-cp312-win_amd64.whl.metadata (3.3 kB)\n",
      "Requirement already satisfied: tensorflow-intel==2.16.2 in c:\\users\\a\\anaconda3\\lib\\site-packages (from tensorflow==2.16.2) (2.16.2)\n",
      "Requirement already satisfied: absl-py>=1.0.0 in c:\\users\\a\\anaconda3\\lib\\site-packages (from tensorflow-intel==2.16.2->tensorflow==2.16.2) (2.3.0)\n",
      "Requirement already satisfied: astunparse>=1.6.0 in c:\\users\\a\\anaconda3\\lib\\site-packages (from tensorflow-intel==2.16.2->tensorflow==2.16.2) (1.6.3)\n",
      "Requirement already satisfied: flatbuffers>=23.5.26 in c:\\users\\a\\anaconda3\\lib\\site-packages (from tensorflow-intel==2.16.2->tensorflow==2.16.2) (25.2.10)\n",
      "Requirement already satisfied: gast!=0.5.0,!=0.5.1,!=0.5.2,>=0.2.1 in c:\\users\\a\\anaconda3\\lib\\site-packages (from tensorflow-intel==2.16.2->tensorflow==2.16.2) (0.6.0)\n",
      "Requirement already satisfied: google-pasta>=0.1.1 in c:\\users\\a\\anaconda3\\lib\\site-packages (from tensorflow-intel==2.16.2->tensorflow==2.16.2) (0.2.0)\n",
      "Requirement already satisfied: h5py>=3.10.0 in c:\\users\\a\\anaconda3\\lib\\site-packages (from tensorflow-intel==2.16.2->tensorflow==2.16.2) (3.11.0)\n",
      "Requirement already satisfied: libclang>=13.0.0 in c:\\users\\a\\anaconda3\\lib\\site-packages (from tensorflow-intel==2.16.2->tensorflow==2.16.2) (18.1.1)\n",
      "Requirement already satisfied: ml-dtypes~=0.3.1 in c:\\users\\a\\anaconda3\\lib\\site-packages (from tensorflow-intel==2.16.2->tensorflow==2.16.2) (0.3.2)\n",
      "Requirement already satisfied: opt-einsum>=2.3.2 in c:\\users\\a\\anaconda3\\lib\\site-packages (from tensorflow-intel==2.16.2->tensorflow==2.16.2) (3.4.0)\n",
      "Requirement already satisfied: packaging in c:\\users\\a\\anaconda3\\lib\\site-packages (from tensorflow-intel==2.16.2->tensorflow==2.16.2) (24.1)\n",
      "Requirement already satisfied: protobuf!=4.21.0,!=4.21.1,!=4.21.2,!=4.21.3,!=4.21.4,!=4.21.5,<5.0.0dev,>=3.20.3 in c:\\users\\a\\anaconda3\\lib\\site-packages (from tensorflow-intel==2.16.2->tensorflow==2.16.2) (4.25.3)\n",
      "Requirement already satisfied: requests<3,>=2.21.0 in c:\\users\\a\\anaconda3\\lib\\site-packages (from tensorflow-intel==2.16.2->tensorflow==2.16.2) (2.32.3)\n",
      "Requirement already satisfied: setuptools in c:\\users\\a\\anaconda3\\lib\\site-packages (from tensorflow-intel==2.16.2->tensorflow==2.16.2) (75.1.0)\n",
      "Requirement already satisfied: six>=1.12.0 in c:\\users\\a\\anaconda3\\lib\\site-packages (from tensorflow-intel==2.16.2->tensorflow==2.16.2) (1.16.0)\n",
      "Requirement already satisfied: termcolor>=1.1.0 in c:\\users\\a\\anaconda3\\lib\\site-packages (from tensorflow-intel==2.16.2->tensorflow==2.16.2) (3.1.0)\n",
      "Requirement already satisfied: typing-extensions>=3.6.6 in c:\\users\\a\\anaconda3\\lib\\site-packages (from tensorflow-intel==2.16.2->tensorflow==2.16.2) (4.11.0)\n",
      "Requirement already satisfied: wrapt>=1.11.0 in c:\\users\\a\\anaconda3\\lib\\site-packages (from tensorflow-intel==2.16.2->tensorflow==2.16.2) (1.14.1)\n",
      "Requirement already satisfied: grpcio<2.0,>=1.24.3 in c:\\users\\a\\anaconda3\\lib\\site-packages (from tensorflow-intel==2.16.2->tensorflow==2.16.2) (1.72.1)\n",
      "Requirement already satisfied: tensorboard<2.17,>=2.16 in c:\\users\\a\\anaconda3\\lib\\site-packages (from tensorflow-intel==2.16.2->tensorflow==2.16.2) (2.16.2)\n",
      "Requirement already satisfied: keras>=3.0.0 in c:\\users\\a\\anaconda3\\lib\\site-packages (from tensorflow-intel==2.16.2->tensorflow==2.16.2) (3.10.0)\n",
      "Requirement already satisfied: numpy<2.0.0,>=1.26.0 in c:\\users\\a\\anaconda3\\lib\\site-packages (from tensorflow-intel==2.16.2->tensorflow==2.16.2) (1.26.4)\n",
      "Requirement already satisfied: wheel<1.0,>=0.23.0 in c:\\users\\a\\anaconda3\\lib\\site-packages (from astunparse>=1.6.0->tensorflow-intel==2.16.2->tensorflow==2.16.2) (0.44.0)\n",
      "Requirement already satisfied: rich in c:\\users\\a\\anaconda3\\lib\\site-packages (from keras>=3.0.0->tensorflow-intel==2.16.2->tensorflow==2.16.2) (13.7.1)\n",
      "Requirement already satisfied: namex in c:\\users\\a\\anaconda3\\lib\\site-packages (from keras>=3.0.0->tensorflow-intel==2.16.2->tensorflow==2.16.2) (0.1.0)\n",
      "Requirement already satisfied: optree in c:\\users\\a\\anaconda3\\lib\\site-packages (from keras>=3.0.0->tensorflow-intel==2.16.2->tensorflow==2.16.2) (0.16.0)\n",
      "Requirement already satisfied: charset-normalizer<4,>=2 in c:\\users\\a\\anaconda3\\lib\\site-packages (from requests<3,>=2.21.0->tensorflow-intel==2.16.2->tensorflow==2.16.2) (3.3.2)\n",
      "Requirement already satisfied: idna<4,>=2.5 in c:\\users\\a\\anaconda3\\lib\\site-packages (from requests<3,>=2.21.0->tensorflow-intel==2.16.2->tensorflow==2.16.2) (3.7)\n",
      "Requirement already satisfied: urllib3<3,>=1.21.1 in c:\\users\\a\\anaconda3\\lib\\site-packages (from requests<3,>=2.21.0->tensorflow-intel==2.16.2->tensorflow==2.16.2) (2.2.3)\n",
      "Requirement already satisfied: certifi>=2017.4.17 in c:\\users\\a\\anaconda3\\lib\\site-packages (from requests<3,>=2.21.0->tensorflow-intel==2.16.2->tensorflow==2.16.2) (2025.1.31)\n",
      "Requirement already satisfied: markdown>=2.6.8 in c:\\users\\a\\anaconda3\\lib\\site-packages (from tensorboard<2.17,>=2.16->tensorflow-intel==2.16.2->tensorflow==2.16.2) (3.4.1)\n",
      "Requirement already satisfied: tensorboard-data-server<0.8.0,>=0.7.0 in c:\\users\\a\\anaconda3\\lib\\site-packages (from tensorboard<2.17,>=2.16->tensorflow-intel==2.16.2->tensorflow==2.16.2) (0.7.2)\n",
      "Requirement already satisfied: werkzeug>=1.0.1 in c:\\users\\a\\anaconda3\\lib\\site-packages (from tensorboard<2.17,>=2.16->tensorflow-intel==2.16.2->tensorflow==2.16.2) (3.0.3)\n",
      "Requirement already satisfied: MarkupSafe>=2.1.1 in c:\\users\\a\\anaconda3\\lib\\site-packages (from werkzeug>=1.0.1->tensorboard<2.17,>=2.16->tensorflow-intel==2.16.2->tensorflow==2.16.2) (2.1.3)\n",
      "Requirement already satisfied: markdown-it-py>=2.2.0 in c:\\users\\a\\anaconda3\\lib\\site-packages (from rich->keras>=3.0.0->tensorflow-intel==2.16.2->tensorflow==2.16.2) (2.2.0)\n",
      "Requirement already satisfied: pygments<3.0.0,>=2.13.0 in c:\\users\\a\\anaconda3\\lib\\site-packages (from rich->keras>=3.0.0->tensorflow-intel==2.16.2->tensorflow==2.16.2) (2.15.1)\n",
      "Requirement already satisfied: mdurl~=0.1 in c:\\users\\a\\anaconda3\\lib\\site-packages (from markdown-it-py>=2.2.0->rich->keras>=3.0.0->tensorflow-intel==2.16.2->tensorflow==2.16.2) (0.1.0)\n",
      "Using cached tensorflow-2.16.2-cp312-cp312-win_amd64.whl (2.1 kB)\n",
      "Installing collected packages: tensorflow\n",
      "Successfully installed tensorflow-2.16.2\n"
     ]
    }
   ],
   "source": [
    "!pip install tensorflow==2.16.2"
   ]
  },
  {
   "cell_type": "code",
   "execution_count": 60,
   "id": "8e4f6c7a-e666-40ec-80ab-be3fc36e4930",
   "metadata": {},
   "outputs": [],
   "source": [
    "import cvlib as cv # 얼굴 탐지 도구\n",
    "import cv2\n",
    "import matplotlib.pyplot as plt"
   ]
  },
  {
   "cell_type": "markdown",
   "id": "5fa522ac-4047-4ec1-90b5-cd1c034ed5d6",
   "metadata": {},
   "source": [
    "### 이미지에서 얼굴 탐지"
   ]
  },
  {
   "cell_type": "code",
   "execution_count": 18,
   "id": "d7280cfc-c986-44e4-87d5-6c4603c4cf0f",
   "metadata": {},
   "outputs": [
    {
     "name": "stdout",
     "output_type": "stream",
     "text": [
      "[[22, 191, 123, 317], [238, 103, 329, 207], [464, 65, 557, 170]]\n",
      "[0.9990305, 0.9981894, 0.97535056]\n"
     ]
    }
   ],
   "source": [
    "img = cv2.imread('./data/pic.png')\n",
    "faces, conf = cv.detect_face(img)\n",
    "print(faces) # 얼굴이 있는 좌상단, 우하단 좌표 표기\n",
    "print(conf) # 얼굴의 신뢰도\n",
    "\n",
    "cv2.imshow('pic', img)\n",
    "cv2.waitKey(0)\n",
    "cv2.destroyAllWindows()"
   ]
  },
  {
   "cell_type": "code",
   "execution_count": 20,
   "id": "c456001f-dcde-4f9a-bded-bfebb5d1701c",
   "metadata": {},
   "outputs": [],
   "source": [
    "# 이미지에 사각형 도형 출력하기\n",
    "import numpy as np\n",
    "img_bg = np.zeros((480, 640, 3))\n",
    "line_color = [0, 255, 0] # 사각형 색깔\n",
    "line_thick = 4 # 사각형 선의 두깨\n",
    "\n",
    "#cv2.rectangle(이미지, 좌상단, 우하단, 색상, 두깨)\n",
    "cv2.rectangle(img_bg, (0,240), (240,480), line_color, line_thick)\n",
    "cv2.imshow('img_bg1', img_bg)\n",
    "cv2.waitKey(0)\n",
    "cv2.destroyAllWindows()"
   ]
  },
  {
   "cell_type": "code",
   "execution_count": 24,
   "id": "b174265d-64ad-4527-8fd3-80c582b32844",
   "metadata": {},
   "outputs": [
    {
     "data": {
      "text/plain": [
       "[22, 191, 123, 317]"
      ]
     },
     "execution_count": 24,
     "metadata": {},
     "output_type": "execute_result"
    }
   ],
   "source": [
    "# 첫번째 사람의 얼굴 좌표\n",
    "faces[0]\n",
    "# 첫번째 얼굴의 얼굴 정확도\n",
    "con"
   ]
  },
  {
   "cell_type": "code",
   "execution_count": 58,
   "id": "c3023c36-bab6-4a7e-9629-d9ac636288ae",
   "metadata": {},
   "outputs": [],
   "source": [
    "img = cv2.imread('./data/pic.png')\n",
    "faces, conf = cv.detect_face(img)\n",
    "color = [0, 255, 255]\n",
    "line_th = 3\n",
    "\n",
    "# 여러명의 얼굴에 사각형\n",
    "'''\n",
    "for i in range(len(faces)):\n",
    "    # i 0, 1, 2\n",
    "    # putText(이미지, 텍스트, 위치, 글꼴, 글씨크기,\n",
    "    cv2.putText(img, f'{conf[i]}', (faces[i][0],faces[i][1]-10), cv2.FONT_HERSHEY_PLAIN, 2, color, 2)\n",
    "    cv2.rectangle(img, (faces[i][0],faces[i][1]), (faces[i][2],faces[i][3]), color, line_th)\n",
    "'''\n",
    "\n",
    "# 감지된 얼굴에 사각형을 씌워주고, 정확도를 출력하는 코드\n",
    "for (x,y,x2,y2), c in zip(faces, conf):\n",
    "    cv2.putText(img, f'{c:.2f}', (x,y-10), cv2.FONT_HERSHEY_PLAIN, 2, color, 2)\n",
    "    cv2.rectangle(img, (x,y), (x2,y2), color, line_th)\n",
    "\n",
    "cv2.imshow('pic', img)\n",
    "cv2.waitKey(0)\n",
    "cv2.destroyAllWindows()"
   ]
  },
  {
   "cell_type": "code",
   "execution_count": 48,
   "id": "60a57484-efea-4eec-b6dd-a9cfef22118e",
   "metadata": {},
   "outputs": [
    {
     "data": {
      "text/plain": [
       "0.9990305"
      ]
     },
     "execution_count": 48,
     "metadata": {},
     "output_type": "execute_result"
    }
   ],
   "source": [
    "(x,y,x2,y2), c = list(zip(faces, conf))[0]\n",
    "x\n",
    "y\n",
    "c"
   ]
  },
  {
   "cell_type": "code",
   "execution_count": 64,
   "id": "982c3fc8-4395-492c-9afa-e92d3b544ae2",
   "metadata": {},
   "outputs": [
    {
     "name": "stdout",
     "output_type": "stream",
     "text": [
      "./data/screenshot1.png 사진저장\n",
      "./data/screenshot2.png 사진저장\n",
      "./data/screenshot3.png 사진저장\n",
      "사용자에 의해서 영상이 종료\n"
     ]
    }
   ],
   "source": [
    "cap = cv2.VideoCapture(0)\n",
    "color = [0, 255, 255]\n",
    "line_th = 3\n",
    "cnt = 0\n",
    "\n",
    "while True:\n",
    "    try:\n",
    "        ch, frame = cap.read() # ch : 성공여부, frame : 이미지\n",
    "\n",
    "        # cv2.flip(대상이미지, 1) : 좌우 반전\n",
    "        flip_frame = cv2.flip(frame, 1)\n",
    "        \n",
    "        # 실패할 경우 while문 멈추기\n",
    "        if not ch: # ch가 false일 경우\n",
    "            print('동영상 재생 끝')\n",
    "            break\n",
    "\n",
    "        # 얼굴 탐지\n",
    "        faces, conf = cv.detect_face(flip_frame)\n",
    "        # faces : 각 얼굴의 좌표\n",
    "        # conf : 얼굴의 정확도\n",
    "\n",
    "        # cv2.putText(이미지, 텍스트, 위치, 글꼴)\n",
    "        for (x,y,x2,y2), c in zip(faces, conf):\n",
    "            cv2.putText(flip_frame, f'{c:.2f}', (x,y-10), cv2.FONT_HERSHEY_PLAIN, 2, color, 2)\n",
    "            cv2.rectangle(flip_frame, (x,y), (x2,y2), color, line_th)\n",
    "        cv2.imshow('video', flip_frame)\n",
    "        key = cv2.waitKey(10)\n",
    "        if key == ord('q'):\n",
    "            print('사용자에 의해서 영상이 종료')\n",
    "            break\n",
    "\n",
    "        # 사진찍기. 프레임 저장\n",
    "        if key == ord('w'):\n",
    "            cnt += 1\n",
    "            print(f'./data/screenshot{cnt}.png 사진저장')\n",
    "            cv2.imwrite(f'./data/screenshot{cnt}.png', flip_frame, params = [cv2.IMWRITE_PNG_COMPRESSION, 0])\n",
    "\n",
    "    except:\n",
    "        print('카메라 읽기 싪패 or 영상 끝')\n",
    "        cap.release() # 카메라 연결 해제\n",
    "        cv2.destroyAllWindows()\n",
    "        # try문 안에 있는 while문에서 break로 나갔을 경우\n",
    "cap.release()\n",
    "cv2.destroyAllWindows()"
   ]
  },
  {
   "cell_type": "code",
   "execution_count": 62,
   "id": "42a52d41-2e13-460d-ad11-e117ea608220",
   "metadata": {},
   "outputs": [
    {
     "name": "stdout",
     "output_type": "stream",
     "text": [
      "선언되지 않은 변수\n"
     ]
    }
   ],
   "source": [
    "# 얼굴 인식이 안됐을때, 에러가 발생하는 경우가 존재.\n",
    "# 카메라가 읽도록 재실행 연결\n",
    "# 인식이 안될 경우 카메라가 꺼지도록 설정\n",
    "# try-except : 예외처리\n",
    "try:\n",
    "    print(wefasdf)\n",
    "except:\n",
    "    print('선언되지 않은 변수')"
   ]
  },
  {
   "cell_type": "code",
   "execution_count": null,
   "id": "72cd3b3b-a862-4a52-ad48-ceac59731443",
   "metadata": {},
   "outputs": [],
   "source": []
  },
  {
   "cell_type": "code",
   "execution_count": null,
   "id": "3f80edb9-e2bf-46c0-972e-57c841279469",
   "metadata": {},
   "outputs": [],
   "source": []
  },
  {
   "cell_type": "code",
   "execution_count": null,
   "id": "2e0df6ec-00ae-466e-8e37-3a755fd91744",
   "metadata": {},
   "outputs": [],
   "source": []
  },
  {
   "cell_type": "code",
   "execution_count": null,
   "id": "f1e784f2-5ce7-49a6-a869-3155b6ffb416",
   "metadata": {},
   "outputs": [],
   "source": []
  }
 ],
 "metadata": {
  "kernelspec": {
   "display_name": "Python [conda env:base] *",
   "language": "python",
   "name": "conda-base-py"
  },
  "language_info": {
   "codemirror_mode": {
    "name": "ipython",
    "version": 3
   },
   "file_extension": ".py",
   "mimetype": "text/x-python",
   "name": "python",
   "nbconvert_exporter": "python",
   "pygments_lexer": "ipython3",
   "version": "3.12.7"
  }
 },
 "nbformat": 4,
 "nbformat_minor": 5
}
